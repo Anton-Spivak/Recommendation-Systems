{
  "cells": [
    {
      "cell_type": "markdown",
      "id": "75c79da8",
      "metadata": {
        "id": "75c79da8"
      },
      "source": [
        "# Book Recommendation\n",
        "\n",
        "---------------\n",
        "## **Context**\n",
        "---------------\n",
        "\n",
        "Over 3.5 billion people use the internet for a variety of reasons. Online retail sales are expected to grow steadily in the coming years. One of the most important requirements of E-commerce portals is a book recommendation for ease of reading and referencing. A book recommendation system is a type of recommendation system in which the reader is recommended similar books based on his or her interests.\n",
        "\n",
        "Book Recommendation Systems are used by the vast majority of E-commerce businesses such as Amazon, Barnes and Noble, Flipkart, Goodreads, and other online retailers to recommend books that customers may be tempted to buy based on their preferences. This feature can assist in increasing shopping value while reducing shopping time. Logical recommendations not only assist customers in making purchases but also increase total sales value.\n",
        "\n",
        "-----------------\n",
        "## **Objective**\n",
        "-----------------\n",
        "\n",
        "Build recommendation system for the platform.\n",
        "\n",
        "-----------------\n",
        "## **Datasets**\n",
        "-----------------\n",
        "\n",
        "The **ratings** dataset contains the following attributes: \n",
        "- user-Id: Unique ID for each user\n",
        "- ISBN: International Standard Book Number. Books are identified by their respective ISBN\n",
        "- Book-rating: Rating for each book expressed on a scale from 1-10\n",
        "\n",
        "The **books** dataset contains the following attributes:\n",
        "- ISBN: International Standard Book Number\n",
        "- Book-title: Title of the book\n",
        "- Book-author: Name of the author\n",
        "- Year-of-Publication: Publication Year\n",
        "- Publisher: Name of the publisher of the book\n",
        "- Image-Url-S: Small image of the book (Amazon link)\n",
        "- Image-Url-M: Medium size image of the book (Amazon link)\n",
        "- Image-Url-L: Large size image of the book (Amazon link)\n",
        "\n",
        "The **users** dataset has following attributes:\n",
        "- User_ID: Unique ID for each user\n",
        "- Location: the location of the user\n",
        "- Age: age of the user"
      ]
    },
    {
      "cell_type": "code",
      "execution_count": 1,
      "id": "INp4A0ot6kMr",
      "metadata": {
        "id": "INp4A0ot6kMr",
        "colab": {
          "base_uri": "https://localhost:8080/"
        },
        "outputId": "c609ecba-0d68-4466-f2e8-923be62b5d55"
      },
      "outputs": [
        {
          "output_type": "stream",
          "name": "stdout",
          "text": [
            "Drive already mounted at /content/drive; to attempt to forcibly remount, call drive.mount(\"/content/drive\", force_remount=True).\n"
          ]
        }
      ],
      "source": [
        "from google.colab import drive\n",
        "drive.mount('/content/drive')"
      ]
    },
    {
      "cell_type": "code",
      "source": [
        "# Let's install surprise library\n",
        "!pip install surprise"
      ],
      "metadata": {
        "colab": {
          "base_uri": "https://localhost:8080/"
        },
        "id": "2hJc-4Q9IgNT",
        "outputId": "556f6f8b-a630-42d2-d084-135f9212b226"
      },
      "id": "2hJc-4Q9IgNT",
      "execution_count": 2,
      "outputs": [
        {
          "output_type": "stream",
          "name": "stdout",
          "text": [
            "Looking in indexes: https://pypi.org/simple, https://us-python.pkg.dev/colab-wheels/public/simple/\n",
            "Requirement already satisfied: surprise in /usr/local/lib/python3.10/dist-packages (0.1)\n",
            "Requirement already satisfied: scikit-surprise in /usr/local/lib/python3.10/dist-packages (from surprise) (1.1.3)\n",
            "Requirement already satisfied: joblib>=1.0.0 in /usr/local/lib/python3.10/dist-packages (from scikit-surprise->surprise) (1.2.0)\n",
            "Requirement already satisfied: numpy>=1.17.3 in /usr/local/lib/python3.10/dist-packages (from scikit-surprise->surprise) (1.22.4)\n",
            "Requirement already satisfied: scipy>=1.3.2 in /usr/local/lib/python3.10/dist-packages (from scikit-surprise->surprise) (1.10.1)\n"
          ]
        }
      ]
    },
    {
      "cell_type": "code",
      "execution_count": 3,
      "id": "bcb8bac5",
      "metadata": {
        "id": "bcb8bac5"
      },
      "outputs": [],
      "source": [
        "# Basic python libraries\n",
        "import numpy as np\n",
        "import pandas as pd\n",
        "\n",
        "# Python libraries for data visualization\n",
        "import matplotlib.pyplot as plt\n",
        "import seaborn as sns\n",
        "%config InlineBackend.figure_formats = ['svg']\n",
        "\n",
        "# For implementing matrix factorization based recommendation system\n",
        "from surprise.prediction_algorithms.matrix_factorization import SVD\n",
        "from collections import defaultdict\n",
        "\n",
        "# For implementing cross validation\n",
        "from surprise.model_selection import KFold\n",
        "\n",
        "import warnings\n",
        "warnings.filterwarnings('ignore')"
      ]
    },
    {
      "cell_type": "markdown",
      "id": "462e60ca",
      "metadata": {
        "id": "462e60ca"
      },
      "source": [
        "## **Loading the data**"
      ]
    },
    {
      "cell_type": "code",
      "execution_count": 4,
      "id": "fd91dbb8",
      "metadata": {
        "id": "fd91dbb8"
      },
      "outputs": [],
      "source": [
        "# Reading the datasets\n",
        "book = pd.read_csv('/content/drive/MyDrive/Colab Notebooks/Book Recommendation System/Books.csv')\n",
        "rating = pd.read_csv('/content/drive/MyDrive/Colab Notebooks/Book Recommendation System/Ratings.csv')\n",
        "user = pd.read_csv('/content/drive/MyDrive/Colab Notebooks/Book Recommendation System/Users.csv')"
      ]
    },
    {
      "cell_type": "markdown",
      "id": "BLKe_h--SHJV",
      "metadata": {
        "id": "BLKe_h--SHJV"
      },
      "source": [
        "## **Exploring the ratings data**"
      ]
    },
    {
      "cell_type": "code",
      "execution_count": 5,
      "id": "4EgS5SlCRhpZ",
      "metadata": {
        "id": "4EgS5SlCRhpZ",
        "colab": {
          "base_uri": "https://localhost:8080/",
          "height": 206
        },
        "outputId": "e4d0251e-906a-4844-b6d2-e3be7691dd02"
      },
      "outputs": [
        {
          "output_type": "execute_result",
          "data": {
            "text/plain": [
              "   User-ID        ISBN  Book-Rating\n",
              "0   276725  034545104X            0\n",
              "1   276726  0155061224            5\n",
              "2   276727  0446520802            0\n",
              "3   276729  052165615X            3\n",
              "4   276729  0521795028            6"
            ],
            "text/html": [
              "\n",
              "  <div id=\"df-c1962690-a5a8-41ae-b2f2-f8c12f8708ca\">\n",
              "    <div class=\"colab-df-container\">\n",
              "      <div>\n",
              "<style scoped>\n",
              "    .dataframe tbody tr th:only-of-type {\n",
              "        vertical-align: middle;\n",
              "    }\n",
              "\n",
              "    .dataframe tbody tr th {\n",
              "        vertical-align: top;\n",
              "    }\n",
              "\n",
              "    .dataframe thead th {\n",
              "        text-align: right;\n",
              "    }\n",
              "</style>\n",
              "<table border=\"1\" class=\"dataframe\">\n",
              "  <thead>\n",
              "    <tr style=\"text-align: right;\">\n",
              "      <th></th>\n",
              "      <th>User-ID</th>\n",
              "      <th>ISBN</th>\n",
              "      <th>Book-Rating</th>\n",
              "    </tr>\n",
              "  </thead>\n",
              "  <tbody>\n",
              "    <tr>\n",
              "      <th>0</th>\n",
              "      <td>276725</td>\n",
              "      <td>034545104X</td>\n",
              "      <td>0</td>\n",
              "    </tr>\n",
              "    <tr>\n",
              "      <th>1</th>\n",
              "      <td>276726</td>\n",
              "      <td>0155061224</td>\n",
              "      <td>5</td>\n",
              "    </tr>\n",
              "    <tr>\n",
              "      <th>2</th>\n",
              "      <td>276727</td>\n",
              "      <td>0446520802</td>\n",
              "      <td>0</td>\n",
              "    </tr>\n",
              "    <tr>\n",
              "      <th>3</th>\n",
              "      <td>276729</td>\n",
              "      <td>052165615X</td>\n",
              "      <td>3</td>\n",
              "    </tr>\n",
              "    <tr>\n",
              "      <th>4</th>\n",
              "      <td>276729</td>\n",
              "      <td>0521795028</td>\n",
              "      <td>6</td>\n",
              "    </tr>\n",
              "  </tbody>\n",
              "</table>\n",
              "</div>\n",
              "      <button class=\"colab-df-convert\" onclick=\"convertToInteractive('df-c1962690-a5a8-41ae-b2f2-f8c12f8708ca')\"\n",
              "              title=\"Convert this dataframe to an interactive table.\"\n",
              "              style=\"display:none;\">\n",
              "        \n",
              "  <svg xmlns=\"http://www.w3.org/2000/svg\" height=\"24px\"viewBox=\"0 0 24 24\"\n",
              "       width=\"24px\">\n",
              "    <path d=\"M0 0h24v24H0V0z\" fill=\"none\"/>\n",
              "    <path d=\"M18.56 5.44l.94 2.06.94-2.06 2.06-.94-2.06-.94-.94-2.06-.94 2.06-2.06.94zm-11 1L8.5 8.5l.94-2.06 2.06-.94-2.06-.94L8.5 2.5l-.94 2.06-2.06.94zm10 10l.94 2.06.94-2.06 2.06-.94-2.06-.94-.94-2.06-.94 2.06-2.06.94z\"/><path d=\"M17.41 7.96l-1.37-1.37c-.4-.4-.92-.59-1.43-.59-.52 0-1.04.2-1.43.59L10.3 9.45l-7.72 7.72c-.78.78-.78 2.05 0 2.83L4 21.41c.39.39.9.59 1.41.59.51 0 1.02-.2 1.41-.59l7.78-7.78 2.81-2.81c.8-.78.8-2.07 0-2.86zM5.41 20L4 18.59l7.72-7.72 1.47 1.35L5.41 20z\"/>\n",
              "  </svg>\n",
              "      </button>\n",
              "      \n",
              "  <style>\n",
              "    .colab-df-container {\n",
              "      display:flex;\n",
              "      flex-wrap:wrap;\n",
              "      gap: 12px;\n",
              "    }\n",
              "\n",
              "    .colab-df-convert {\n",
              "      background-color: #E8F0FE;\n",
              "      border: none;\n",
              "      border-radius: 50%;\n",
              "      cursor: pointer;\n",
              "      display: none;\n",
              "      fill: #1967D2;\n",
              "      height: 32px;\n",
              "      padding: 0 0 0 0;\n",
              "      width: 32px;\n",
              "    }\n",
              "\n",
              "    .colab-df-convert:hover {\n",
              "      background-color: #E2EBFA;\n",
              "      box-shadow: 0px 1px 2px rgba(60, 64, 67, 0.3), 0px 1px 3px 1px rgba(60, 64, 67, 0.15);\n",
              "      fill: #174EA6;\n",
              "    }\n",
              "\n",
              "    [theme=dark] .colab-df-convert {\n",
              "      background-color: #3B4455;\n",
              "      fill: #D2E3FC;\n",
              "    }\n",
              "\n",
              "    [theme=dark] .colab-df-convert:hover {\n",
              "      background-color: #434B5C;\n",
              "      box-shadow: 0px 1px 3px 1px rgba(0, 0, 0, 0.15);\n",
              "      filter: drop-shadow(0px 1px 2px rgba(0, 0, 0, 0.3));\n",
              "      fill: #FFFFFF;\n",
              "    }\n",
              "  </style>\n",
              "\n",
              "      <script>\n",
              "        const buttonEl =\n",
              "          document.querySelector('#df-c1962690-a5a8-41ae-b2f2-f8c12f8708ca button.colab-df-convert');\n",
              "        buttonEl.style.display =\n",
              "          google.colab.kernel.accessAllowed ? 'block' : 'none';\n",
              "\n",
              "        async function convertToInteractive(key) {\n",
              "          const element = document.querySelector('#df-c1962690-a5a8-41ae-b2f2-f8c12f8708ca');\n",
              "          const dataTable =\n",
              "            await google.colab.kernel.invokeFunction('convertToInteractive',\n",
              "                                                     [key], {});\n",
              "          if (!dataTable) return;\n",
              "\n",
              "          const docLinkHtml = 'Like what you see? Visit the ' +\n",
              "            '<a target=\"_blank\" href=https://colab.research.google.com/notebooks/data_table.ipynb>data table notebook</a>'\n",
              "            + ' to learn more about interactive tables.';\n",
              "          element.innerHTML = '';\n",
              "          dataTable['output_type'] = 'display_data';\n",
              "          await google.colab.output.renderOutput(dataTable, element);\n",
              "          const docLink = document.createElement('div');\n",
              "          docLink.innerHTML = docLinkHtml;\n",
              "          element.appendChild(docLink);\n",
              "        }\n",
              "      </script>\n",
              "    </div>\n",
              "  </div>\n",
              "  "
            ]
          },
          "metadata": {},
          "execution_count": 5
        }
      ],
      "source": [
        "rating.head()"
      ]
    },
    {
      "cell_type": "code",
      "execution_count": 6,
      "id": "7df27e54",
      "metadata": {
        "colab": {
          "base_uri": "https://localhost:8080/",
          "height": 478
        },
        "id": "7df27e54",
        "outputId": "6730529f-5011-41e7-f955-fef452f13a14"
      },
      "outputs": [
        {
          "output_type": "execute_result",
          "data": {
            "text/plain": [
              "         ISBN                                         Book-Title  \\\n",
              "0  0195153448                                Classical Mythology   \n",
              "1  0002005018                                       Clara Callan   \n",
              "2  0060973129                               Decision in Normandy   \n",
              "3  0374157065  Flu: The Story of the Great Influenza Pandemic...   \n",
              "4  0393045218                             The Mummies of Urumchi   \n",
              "\n",
              "            Book-Author Year-Of-Publication                   Publisher  \\\n",
              "0    Mark P. O. Morford                2002     Oxford University Press   \n",
              "1  Richard Bruce Wright                2001       HarperFlamingo Canada   \n",
              "2          Carlo D'Este                1991             HarperPerennial   \n",
              "3      Gina Bari Kolata                1999        Farrar Straus Giroux   \n",
              "4       E. J. W. Barber                1999  W. W. Norton &amp; Company   \n",
              "\n",
              "                                         Image-URL-S  \\\n",
              "0  http://images.amazon.com/images/P/0195153448.0...   \n",
              "1  http://images.amazon.com/images/P/0002005018.0...   \n",
              "2  http://images.amazon.com/images/P/0060973129.0...   \n",
              "3  http://images.amazon.com/images/P/0374157065.0...   \n",
              "4  http://images.amazon.com/images/P/0393045218.0...   \n",
              "\n",
              "                                         Image-URL-M  \\\n",
              "0  http://images.amazon.com/images/P/0195153448.0...   \n",
              "1  http://images.amazon.com/images/P/0002005018.0...   \n",
              "2  http://images.amazon.com/images/P/0060973129.0...   \n",
              "3  http://images.amazon.com/images/P/0374157065.0...   \n",
              "4  http://images.amazon.com/images/P/0393045218.0...   \n",
              "\n",
              "                                         Image-URL-L  \n",
              "0  http://images.amazon.com/images/P/0195153448.0...  \n",
              "1  http://images.amazon.com/images/P/0002005018.0...  \n",
              "2  http://images.amazon.com/images/P/0060973129.0...  \n",
              "3  http://images.amazon.com/images/P/0374157065.0...  \n",
              "4  http://images.amazon.com/images/P/0393045218.0...  "
            ],
            "text/html": [
              "\n",
              "  <div id=\"df-501661e8-0ae3-42c8-9892-813dd9a5e59b\">\n",
              "    <div class=\"colab-df-container\">\n",
              "      <div>\n",
              "<style scoped>\n",
              "    .dataframe tbody tr th:only-of-type {\n",
              "        vertical-align: middle;\n",
              "    }\n",
              "\n",
              "    .dataframe tbody tr th {\n",
              "        vertical-align: top;\n",
              "    }\n",
              "\n",
              "    .dataframe thead th {\n",
              "        text-align: right;\n",
              "    }\n",
              "</style>\n",
              "<table border=\"1\" class=\"dataframe\">\n",
              "  <thead>\n",
              "    <tr style=\"text-align: right;\">\n",
              "      <th></th>\n",
              "      <th>ISBN</th>\n",
              "      <th>Book-Title</th>\n",
              "      <th>Book-Author</th>\n",
              "      <th>Year-Of-Publication</th>\n",
              "      <th>Publisher</th>\n",
              "      <th>Image-URL-S</th>\n",
              "      <th>Image-URL-M</th>\n",
              "      <th>Image-URL-L</th>\n",
              "    </tr>\n",
              "  </thead>\n",
              "  <tbody>\n",
              "    <tr>\n",
              "      <th>0</th>\n",
              "      <td>0195153448</td>\n",
              "      <td>Classical Mythology</td>\n",
              "      <td>Mark P. O. Morford</td>\n",
              "      <td>2002</td>\n",
              "      <td>Oxford University Press</td>\n",
              "      <td>http://images.amazon.com/images/P/0195153448.0...</td>\n",
              "      <td>http://images.amazon.com/images/P/0195153448.0...</td>\n",
              "      <td>http://images.amazon.com/images/P/0195153448.0...</td>\n",
              "    </tr>\n",
              "    <tr>\n",
              "      <th>1</th>\n",
              "      <td>0002005018</td>\n",
              "      <td>Clara Callan</td>\n",
              "      <td>Richard Bruce Wright</td>\n",
              "      <td>2001</td>\n",
              "      <td>HarperFlamingo Canada</td>\n",
              "      <td>http://images.amazon.com/images/P/0002005018.0...</td>\n",
              "      <td>http://images.amazon.com/images/P/0002005018.0...</td>\n",
              "      <td>http://images.amazon.com/images/P/0002005018.0...</td>\n",
              "    </tr>\n",
              "    <tr>\n",
              "      <th>2</th>\n",
              "      <td>0060973129</td>\n",
              "      <td>Decision in Normandy</td>\n",
              "      <td>Carlo D'Este</td>\n",
              "      <td>1991</td>\n",
              "      <td>HarperPerennial</td>\n",
              "      <td>http://images.amazon.com/images/P/0060973129.0...</td>\n",
              "      <td>http://images.amazon.com/images/P/0060973129.0...</td>\n",
              "      <td>http://images.amazon.com/images/P/0060973129.0...</td>\n",
              "    </tr>\n",
              "    <tr>\n",
              "      <th>3</th>\n",
              "      <td>0374157065</td>\n",
              "      <td>Flu: The Story of the Great Influenza Pandemic...</td>\n",
              "      <td>Gina Bari Kolata</td>\n",
              "      <td>1999</td>\n",
              "      <td>Farrar Straus Giroux</td>\n",
              "      <td>http://images.amazon.com/images/P/0374157065.0...</td>\n",
              "      <td>http://images.amazon.com/images/P/0374157065.0...</td>\n",
              "      <td>http://images.amazon.com/images/P/0374157065.0...</td>\n",
              "    </tr>\n",
              "    <tr>\n",
              "      <th>4</th>\n",
              "      <td>0393045218</td>\n",
              "      <td>The Mummies of Urumchi</td>\n",
              "      <td>E. J. W. Barber</td>\n",
              "      <td>1999</td>\n",
              "      <td>W. W. Norton &amp;amp; Company</td>\n",
              "      <td>http://images.amazon.com/images/P/0393045218.0...</td>\n",
              "      <td>http://images.amazon.com/images/P/0393045218.0...</td>\n",
              "      <td>http://images.amazon.com/images/P/0393045218.0...</td>\n",
              "    </tr>\n",
              "  </tbody>\n",
              "</table>\n",
              "</div>\n",
              "      <button class=\"colab-df-convert\" onclick=\"convertToInteractive('df-501661e8-0ae3-42c8-9892-813dd9a5e59b')\"\n",
              "              title=\"Convert this dataframe to an interactive table.\"\n",
              "              style=\"display:none;\">\n",
              "        \n",
              "  <svg xmlns=\"http://www.w3.org/2000/svg\" height=\"24px\"viewBox=\"0 0 24 24\"\n",
              "       width=\"24px\">\n",
              "    <path d=\"M0 0h24v24H0V0z\" fill=\"none\"/>\n",
              "    <path d=\"M18.56 5.44l.94 2.06.94-2.06 2.06-.94-2.06-.94-.94-2.06-.94 2.06-2.06.94zm-11 1L8.5 8.5l.94-2.06 2.06-.94-2.06-.94L8.5 2.5l-.94 2.06-2.06.94zm10 10l.94 2.06.94-2.06 2.06-.94-2.06-.94-.94-2.06-.94 2.06-2.06.94z\"/><path d=\"M17.41 7.96l-1.37-1.37c-.4-.4-.92-.59-1.43-.59-.52 0-1.04.2-1.43.59L10.3 9.45l-7.72 7.72c-.78.78-.78 2.05 0 2.83L4 21.41c.39.39.9.59 1.41.59.51 0 1.02-.2 1.41-.59l7.78-7.78 2.81-2.81c.8-.78.8-2.07 0-2.86zM5.41 20L4 18.59l7.72-7.72 1.47 1.35L5.41 20z\"/>\n",
              "  </svg>\n",
              "      </button>\n",
              "      \n",
              "  <style>\n",
              "    .colab-df-container {\n",
              "      display:flex;\n",
              "      flex-wrap:wrap;\n",
              "      gap: 12px;\n",
              "    }\n",
              "\n",
              "    .colab-df-convert {\n",
              "      background-color: #E8F0FE;\n",
              "      border: none;\n",
              "      border-radius: 50%;\n",
              "      cursor: pointer;\n",
              "      display: none;\n",
              "      fill: #1967D2;\n",
              "      height: 32px;\n",
              "      padding: 0 0 0 0;\n",
              "      width: 32px;\n",
              "    }\n",
              "\n",
              "    .colab-df-convert:hover {\n",
              "      background-color: #E2EBFA;\n",
              "      box-shadow: 0px 1px 2px rgba(60, 64, 67, 0.3), 0px 1px 3px 1px rgba(60, 64, 67, 0.15);\n",
              "      fill: #174EA6;\n",
              "    }\n",
              "\n",
              "    [theme=dark] .colab-df-convert {\n",
              "      background-color: #3B4455;\n",
              "      fill: #D2E3FC;\n",
              "    }\n",
              "\n",
              "    [theme=dark] .colab-df-convert:hover {\n",
              "      background-color: #434B5C;\n",
              "      box-shadow: 0px 1px 3px 1px rgba(0, 0, 0, 0.15);\n",
              "      filter: drop-shadow(0px 1px 2px rgba(0, 0, 0, 0.3));\n",
              "      fill: #FFFFFF;\n",
              "    }\n",
              "  </style>\n",
              "\n",
              "      <script>\n",
              "        const buttonEl =\n",
              "          document.querySelector('#df-501661e8-0ae3-42c8-9892-813dd9a5e59b button.colab-df-convert');\n",
              "        buttonEl.style.display =\n",
              "          google.colab.kernel.accessAllowed ? 'block' : 'none';\n",
              "\n",
              "        async function convertToInteractive(key) {\n",
              "          const element = document.querySelector('#df-501661e8-0ae3-42c8-9892-813dd9a5e59b');\n",
              "          const dataTable =\n",
              "            await google.colab.kernel.invokeFunction('convertToInteractive',\n",
              "                                                     [key], {});\n",
              "          if (!dataTable) return;\n",
              "\n",
              "          const docLinkHtml = 'Like what you see? Visit the ' +\n",
              "            '<a target=\"_blank\" href=https://colab.research.google.com/notebooks/data_table.ipynb>data table notebook</a>'\n",
              "            + ' to learn more about interactive tables.';\n",
              "          element.innerHTML = '';\n",
              "          dataTable['output_type'] = 'display_data';\n",
              "          await google.colab.output.renderOutput(dataTable, element);\n",
              "          const docLink = document.createElement('div');\n",
              "          docLink.innerHTML = docLinkHtml;\n",
              "          element.appendChild(docLink);\n",
              "        }\n",
              "      </script>\n",
              "    </div>\n",
              "  </div>\n",
              "  "
            ]
          },
          "metadata": {},
          "execution_count": 6
        }
      ],
      "source": [
        "book.head()"
      ]
    },
    {
      "cell_type": "code",
      "source": [
        "user.head()"
      ],
      "metadata": {
        "colab": {
          "base_uri": "https://localhost:8080/",
          "height": 206
        },
        "id": "FLzodl_bSaEc",
        "outputId": "9566d389-d511-494a-deb4-320595cb5816"
      },
      "id": "FLzodl_bSaEc",
      "execution_count": 7,
      "outputs": [
        {
          "output_type": "execute_result",
          "data": {
            "text/plain": [
              "   User-ID                            Location   Age\n",
              "0        1                  nyc, new york, usa   NaN\n",
              "1        2           stockton, california, usa  18.0\n",
              "2        3     moscow, yukon territory, russia   NaN\n",
              "3        4           porto, v.n.gaia, portugal  17.0\n",
              "4        5  farnborough, hants, united kingdom   NaN"
            ],
            "text/html": [
              "\n",
              "  <div id=\"df-3b1e4c48-b3d1-4fbe-b4ab-4341b360bbed\">\n",
              "    <div class=\"colab-df-container\">\n",
              "      <div>\n",
              "<style scoped>\n",
              "    .dataframe tbody tr th:only-of-type {\n",
              "        vertical-align: middle;\n",
              "    }\n",
              "\n",
              "    .dataframe tbody tr th {\n",
              "        vertical-align: top;\n",
              "    }\n",
              "\n",
              "    .dataframe thead th {\n",
              "        text-align: right;\n",
              "    }\n",
              "</style>\n",
              "<table border=\"1\" class=\"dataframe\">\n",
              "  <thead>\n",
              "    <tr style=\"text-align: right;\">\n",
              "      <th></th>\n",
              "      <th>User-ID</th>\n",
              "      <th>Location</th>\n",
              "      <th>Age</th>\n",
              "    </tr>\n",
              "  </thead>\n",
              "  <tbody>\n",
              "    <tr>\n",
              "      <th>0</th>\n",
              "      <td>1</td>\n",
              "      <td>nyc, new york, usa</td>\n",
              "      <td>NaN</td>\n",
              "    </tr>\n",
              "    <tr>\n",
              "      <th>1</th>\n",
              "      <td>2</td>\n",
              "      <td>stockton, california, usa</td>\n",
              "      <td>18.0</td>\n",
              "    </tr>\n",
              "    <tr>\n",
              "      <th>2</th>\n",
              "      <td>3</td>\n",
              "      <td>moscow, yukon territory, russia</td>\n",
              "      <td>NaN</td>\n",
              "    </tr>\n",
              "    <tr>\n",
              "      <th>3</th>\n",
              "      <td>4</td>\n",
              "      <td>porto, v.n.gaia, portugal</td>\n",
              "      <td>17.0</td>\n",
              "    </tr>\n",
              "    <tr>\n",
              "      <th>4</th>\n",
              "      <td>5</td>\n",
              "      <td>farnborough, hants, united kingdom</td>\n",
              "      <td>NaN</td>\n",
              "    </tr>\n",
              "  </tbody>\n",
              "</table>\n",
              "</div>\n",
              "      <button class=\"colab-df-convert\" onclick=\"convertToInteractive('df-3b1e4c48-b3d1-4fbe-b4ab-4341b360bbed')\"\n",
              "              title=\"Convert this dataframe to an interactive table.\"\n",
              "              style=\"display:none;\">\n",
              "        \n",
              "  <svg xmlns=\"http://www.w3.org/2000/svg\" height=\"24px\"viewBox=\"0 0 24 24\"\n",
              "       width=\"24px\">\n",
              "    <path d=\"M0 0h24v24H0V0z\" fill=\"none\"/>\n",
              "    <path d=\"M18.56 5.44l.94 2.06.94-2.06 2.06-.94-2.06-.94-.94-2.06-.94 2.06-2.06.94zm-11 1L8.5 8.5l.94-2.06 2.06-.94-2.06-.94L8.5 2.5l-.94 2.06-2.06.94zm10 10l.94 2.06.94-2.06 2.06-.94-2.06-.94-.94-2.06-.94 2.06-2.06.94z\"/><path d=\"M17.41 7.96l-1.37-1.37c-.4-.4-.92-.59-1.43-.59-.52 0-1.04.2-1.43.59L10.3 9.45l-7.72 7.72c-.78.78-.78 2.05 0 2.83L4 21.41c.39.39.9.59 1.41.59.51 0 1.02-.2 1.41-.59l7.78-7.78 2.81-2.81c.8-.78.8-2.07 0-2.86zM5.41 20L4 18.59l7.72-7.72 1.47 1.35L5.41 20z\"/>\n",
              "  </svg>\n",
              "      </button>\n",
              "      \n",
              "  <style>\n",
              "    .colab-df-container {\n",
              "      display:flex;\n",
              "      flex-wrap:wrap;\n",
              "      gap: 12px;\n",
              "    }\n",
              "\n",
              "    .colab-df-convert {\n",
              "      background-color: #E8F0FE;\n",
              "      border: none;\n",
              "      border-radius: 50%;\n",
              "      cursor: pointer;\n",
              "      display: none;\n",
              "      fill: #1967D2;\n",
              "      height: 32px;\n",
              "      padding: 0 0 0 0;\n",
              "      width: 32px;\n",
              "    }\n",
              "\n",
              "    .colab-df-convert:hover {\n",
              "      background-color: #E2EBFA;\n",
              "      box-shadow: 0px 1px 2px rgba(60, 64, 67, 0.3), 0px 1px 3px 1px rgba(60, 64, 67, 0.15);\n",
              "      fill: #174EA6;\n",
              "    }\n",
              "\n",
              "    [theme=dark] .colab-df-convert {\n",
              "      background-color: #3B4455;\n",
              "      fill: #D2E3FC;\n",
              "    }\n",
              "\n",
              "    [theme=dark] .colab-df-convert:hover {\n",
              "      background-color: #434B5C;\n",
              "      box-shadow: 0px 1px 3px 1px rgba(0, 0, 0, 0.15);\n",
              "      filter: drop-shadow(0px 1px 2px rgba(0, 0, 0, 0.3));\n",
              "      fill: #FFFFFF;\n",
              "    }\n",
              "  </style>\n",
              "\n",
              "      <script>\n",
              "        const buttonEl =\n",
              "          document.querySelector('#df-3b1e4c48-b3d1-4fbe-b4ab-4341b360bbed button.colab-df-convert');\n",
              "        buttonEl.style.display =\n",
              "          google.colab.kernel.accessAllowed ? 'block' : 'none';\n",
              "\n",
              "        async function convertToInteractive(key) {\n",
              "          const element = document.querySelector('#df-3b1e4c48-b3d1-4fbe-b4ab-4341b360bbed');\n",
              "          const dataTable =\n",
              "            await google.colab.kernel.invokeFunction('convertToInteractive',\n",
              "                                                     [key], {});\n",
              "          if (!dataTable) return;\n",
              "\n",
              "          const docLinkHtml = 'Like what you see? Visit the ' +\n",
              "            '<a target=\"_blank\" href=https://colab.research.google.com/notebooks/data_table.ipynb>data table notebook</a>'\n",
              "            + ' to learn more about interactive tables.';\n",
              "          element.innerHTML = '';\n",
              "          dataTable['output_type'] = 'display_data';\n",
              "          await google.colab.output.renderOutput(dataTable, element);\n",
              "          const docLink = document.createElement('div');\n",
              "          docLink.innerHTML = docLinkHtml;\n",
              "          element.appendChild(docLink);\n",
              "        }\n",
              "      </script>\n",
              "    </div>\n",
              "  </div>\n",
              "  "
            ]
          },
          "metadata": {},
          "execution_count": 7
        }
      ]
    },
    {
      "cell_type": "markdown",
      "id": "7c557756",
      "metadata": {
        "id": "7c557756"
      },
      "source": [
        "**Let's merge the 'rating' and 'book' datasets and then we can choose only the columns relevant to our task.**"
      ]
    },
    {
      "cell_type": "code",
      "execution_count": 8,
      "id": "4o9nVcMFenLD",
      "metadata": {
        "id": "4o9nVcMFenLD",
        "colab": {
          "base_uri": "https://localhost:8080/",
          "height": 206
        },
        "outputId": "13b8deb2-d214-4a9d-95e3-10b7118c7479"
      },
      "outputs": [
        {
          "output_type": "execute_result",
          "data": {
            "text/plain": [
              "   user_id     book_id  rating  \\\n",
              "0   276725  034545104X       0   \n",
              "1   276726  0155061224       5   \n",
              "2   276727  0446520802       0   \n",
              "3   276729  052165615X       3   \n",
              "4   276729  0521795028       6   \n",
              "\n",
              "                                          Book-Title      Book-Author  \\\n",
              "0                               Flesh Tones: A Novel       M. J. Rose   \n",
              "1                                   Rites of Passage       Judith Rae   \n",
              "2                                       The Notebook  Nicholas Sparks   \n",
              "3                                     Help!: Level 1    Philip Prowse   \n",
              "4  The Amsterdam Connection : Level 4 (Cambridge ...      Sue Leather   \n",
              "\n",
              "  Year-Of-Publication                   Publisher  \n",
              "0                2002            Ballantine Books  \n",
              "1                2001                      Heinle  \n",
              "2                1996                Warner Books  \n",
              "3                1999  Cambridge University Press  \n",
              "4                2001  Cambridge University Press  "
            ],
            "text/html": [
              "\n",
              "  <div id=\"df-41b48604-b9e7-42eb-859c-b5a2bd86d04e\">\n",
              "    <div class=\"colab-df-container\">\n",
              "      <div>\n",
              "<style scoped>\n",
              "    .dataframe tbody tr th:only-of-type {\n",
              "        vertical-align: middle;\n",
              "    }\n",
              "\n",
              "    .dataframe tbody tr th {\n",
              "        vertical-align: top;\n",
              "    }\n",
              "\n",
              "    .dataframe thead th {\n",
              "        text-align: right;\n",
              "    }\n",
              "</style>\n",
              "<table border=\"1\" class=\"dataframe\">\n",
              "  <thead>\n",
              "    <tr style=\"text-align: right;\">\n",
              "      <th></th>\n",
              "      <th>user_id</th>\n",
              "      <th>book_id</th>\n",
              "      <th>rating</th>\n",
              "      <th>Book-Title</th>\n",
              "      <th>Book-Author</th>\n",
              "      <th>Year-Of-Publication</th>\n",
              "      <th>Publisher</th>\n",
              "    </tr>\n",
              "  </thead>\n",
              "  <tbody>\n",
              "    <tr>\n",
              "      <th>0</th>\n",
              "      <td>276725</td>\n",
              "      <td>034545104X</td>\n",
              "      <td>0</td>\n",
              "      <td>Flesh Tones: A Novel</td>\n",
              "      <td>M. J. Rose</td>\n",
              "      <td>2002</td>\n",
              "      <td>Ballantine Books</td>\n",
              "    </tr>\n",
              "    <tr>\n",
              "      <th>1</th>\n",
              "      <td>276726</td>\n",
              "      <td>0155061224</td>\n",
              "      <td>5</td>\n",
              "      <td>Rites of Passage</td>\n",
              "      <td>Judith Rae</td>\n",
              "      <td>2001</td>\n",
              "      <td>Heinle</td>\n",
              "    </tr>\n",
              "    <tr>\n",
              "      <th>2</th>\n",
              "      <td>276727</td>\n",
              "      <td>0446520802</td>\n",
              "      <td>0</td>\n",
              "      <td>The Notebook</td>\n",
              "      <td>Nicholas Sparks</td>\n",
              "      <td>1996</td>\n",
              "      <td>Warner Books</td>\n",
              "    </tr>\n",
              "    <tr>\n",
              "      <th>3</th>\n",
              "      <td>276729</td>\n",
              "      <td>052165615X</td>\n",
              "      <td>3</td>\n",
              "      <td>Help!: Level 1</td>\n",
              "      <td>Philip Prowse</td>\n",
              "      <td>1999</td>\n",
              "      <td>Cambridge University Press</td>\n",
              "    </tr>\n",
              "    <tr>\n",
              "      <th>4</th>\n",
              "      <td>276729</td>\n",
              "      <td>0521795028</td>\n",
              "      <td>6</td>\n",
              "      <td>The Amsterdam Connection : Level 4 (Cambridge ...</td>\n",
              "      <td>Sue Leather</td>\n",
              "      <td>2001</td>\n",
              "      <td>Cambridge University Press</td>\n",
              "    </tr>\n",
              "  </tbody>\n",
              "</table>\n",
              "</div>\n",
              "      <button class=\"colab-df-convert\" onclick=\"convertToInteractive('df-41b48604-b9e7-42eb-859c-b5a2bd86d04e')\"\n",
              "              title=\"Convert this dataframe to an interactive table.\"\n",
              "              style=\"display:none;\">\n",
              "        \n",
              "  <svg xmlns=\"http://www.w3.org/2000/svg\" height=\"24px\"viewBox=\"0 0 24 24\"\n",
              "       width=\"24px\">\n",
              "    <path d=\"M0 0h24v24H0V0z\" fill=\"none\"/>\n",
              "    <path d=\"M18.56 5.44l.94 2.06.94-2.06 2.06-.94-2.06-.94-.94-2.06-.94 2.06-2.06.94zm-11 1L8.5 8.5l.94-2.06 2.06-.94-2.06-.94L8.5 2.5l-.94 2.06-2.06.94zm10 10l.94 2.06.94-2.06 2.06-.94-2.06-.94-.94-2.06-.94 2.06-2.06.94z\"/><path d=\"M17.41 7.96l-1.37-1.37c-.4-.4-.92-.59-1.43-.59-.52 0-1.04.2-1.43.59L10.3 9.45l-7.72 7.72c-.78.78-.78 2.05 0 2.83L4 21.41c.39.39.9.59 1.41.59.51 0 1.02-.2 1.41-.59l7.78-7.78 2.81-2.81c.8-.78.8-2.07 0-2.86zM5.41 20L4 18.59l7.72-7.72 1.47 1.35L5.41 20z\"/>\n",
              "  </svg>\n",
              "      </button>\n",
              "      \n",
              "  <style>\n",
              "    .colab-df-container {\n",
              "      display:flex;\n",
              "      flex-wrap:wrap;\n",
              "      gap: 12px;\n",
              "    }\n",
              "\n",
              "    .colab-df-convert {\n",
              "      background-color: #E8F0FE;\n",
              "      border: none;\n",
              "      border-radius: 50%;\n",
              "      cursor: pointer;\n",
              "      display: none;\n",
              "      fill: #1967D2;\n",
              "      height: 32px;\n",
              "      padding: 0 0 0 0;\n",
              "      width: 32px;\n",
              "    }\n",
              "\n",
              "    .colab-df-convert:hover {\n",
              "      background-color: #E2EBFA;\n",
              "      box-shadow: 0px 1px 2px rgba(60, 64, 67, 0.3), 0px 1px 3px 1px rgba(60, 64, 67, 0.15);\n",
              "      fill: #174EA6;\n",
              "    }\n",
              "\n",
              "    [theme=dark] .colab-df-convert {\n",
              "      background-color: #3B4455;\n",
              "      fill: #D2E3FC;\n",
              "    }\n",
              "\n",
              "    [theme=dark] .colab-df-convert:hover {\n",
              "      background-color: #434B5C;\n",
              "      box-shadow: 0px 1px 3px 1px rgba(0, 0, 0, 0.15);\n",
              "      filter: drop-shadow(0px 1px 2px rgba(0, 0, 0, 0.3));\n",
              "      fill: #FFFFFF;\n",
              "    }\n",
              "  </style>\n",
              "\n",
              "      <script>\n",
              "        const buttonEl =\n",
              "          document.querySelector('#df-41b48604-b9e7-42eb-859c-b5a2bd86d04e button.colab-df-convert');\n",
              "        buttonEl.style.display =\n",
              "          google.colab.kernel.accessAllowed ? 'block' : 'none';\n",
              "\n",
              "        async function convertToInteractive(key) {\n",
              "          const element = document.querySelector('#df-41b48604-b9e7-42eb-859c-b5a2bd86d04e');\n",
              "          const dataTable =\n",
              "            await google.colab.kernel.invokeFunction('convertToInteractive',\n",
              "                                                     [key], {});\n",
              "          if (!dataTable) return;\n",
              "\n",
              "          const docLinkHtml = 'Like what you see? Visit the ' +\n",
              "            '<a target=\"_blank\" href=https://colab.research.google.com/notebooks/data_table.ipynb>data table notebook</a>'\n",
              "            + ' to learn more about interactive tables.';\n",
              "          element.innerHTML = '';\n",
              "          dataTable['output_type'] = 'display_data';\n",
              "          await google.colab.output.renderOutput(dataTable, element);\n",
              "          const docLink = document.createElement('div');\n",
              "          docLink.innerHTML = docLinkHtml;\n",
              "          element.appendChild(docLink);\n",
              "        }\n",
              "      </script>\n",
              "    </div>\n",
              "  </div>\n",
              "  "
            ]
          },
          "metadata": {},
          "execution_count": 8
        }
      ],
      "source": [
        "df = pd.merge(rating, book.drop_duplicates(['ISBN']), on=\"ISBN\", how=\"left\")\n",
        "df.drop(['Image-URL-S','Image-URL-M','Image-URL-L'], axis =1, inplace = True)\n",
        "\n",
        "df.rename(columns = {'User-ID':'user_id', 'ISBN':'book_id', \"Book-Rating\":\"rating\"}, inplace = True)\n",
        "df.head()"
      ]
    },
    {
      "cell_type": "code",
      "execution_count": 9,
      "id": "WKFfGqRkSNnR",
      "metadata": {
        "id": "WKFfGqRkSNnR",
        "colab": {
          "base_uri": "https://localhost:8080/"
        },
        "outputId": "92292604-779a-4c75-9785-e75748cedbd4"
      },
      "outputs": [
        {
          "output_type": "stream",
          "name": "stdout",
          "text": [
            "<class 'pandas.core.frame.DataFrame'>\n",
            "Int64Index: 1149780 entries, 0 to 1149779\n",
            "Data columns (total 7 columns):\n",
            " #   Column               Non-Null Count    Dtype \n",
            "---  ------               --------------    ----- \n",
            " 0   user_id              1149780 non-null  int64 \n",
            " 1   book_id              1149780 non-null  object\n",
            " 2   rating               1149780 non-null  int64 \n",
            " 3   Book-Title           1031136 non-null  object\n",
            " 4   Book-Author          1031135 non-null  object\n",
            " 5   Year-Of-Publication  1031136 non-null  object\n",
            " 6   Publisher            1031134 non-null  object\n",
            "dtypes: int64(2), object(5)\n",
            "memory usage: 70.2+ MB\n"
          ]
        }
      ],
      "source": [
        "# Let's check the info on resulting data\n",
        "df.info()"
      ]
    },
    {
      "cell_type": "markdown",
      "id": "w3rdN_PPWaRL",
      "metadata": {
        "id": "w3rdN_PPWaRL"
      },
      "source": [
        "**Observations:**\n",
        "\n",
        "- We have 7 columns with 1 149 780 entries. \n",
        "- Most of the columns are of object type, user_id and rating are int64. \n",
        "- Book title, Book_Author, Year-Of-Publication and Publisher columns have some missing values in them.  "
      ]
    },
    {
      "cell_type": "code",
      "execution_count": 10,
      "id": "kFzVA9sLeDiN",
      "metadata": {
        "id": "kFzVA9sLeDiN"
      },
      "outputs": [],
      "source": [
        "# Many book_id contains combination of letters & digits. \n",
        "# So let's convert the column to type 'string'\n",
        "df['book_id']= df['book_id'].astype(str)"
      ]
    },
    {
      "cell_type": "markdown",
      "id": "osSmweRhkpuI",
      "metadata": {
        "id": "osSmweRhkpuI"
      },
      "source": [
        "### **Checking the distribution of ratings**"
      ]
    },
    {
      "cell_type": "code",
      "execution_count": 11,
      "id": "WquoXO0FSMxw",
      "metadata": {
        "id": "WquoXO0FSMxw",
        "colab": {
          "base_uri": "https://localhost:8080/",
          "height": 395
        },
        "outputId": "74bcf2f6-86e4-494b-a1a8-6a84957d7b56"
      },
      "outputs": [
        {
          "output_type": "display_data",
          "data": {
            "text/plain": [
              "<Figure size 1200x400 with 1 Axes>"
            ],
            "image/svg+xml": "<?xml version=\"1.0\" encoding=\"utf-8\" standalone=\"no\"?>\n<!DOCTYPE svg PUBLIC \"-//W3C//DTD SVG 1.1//EN\"\n  \"http://www.w3.org/Graphics/SVG/1.1/DTD/svg11.dtd\">\n<svg xmlns:xlink=\"http://www.w3.org/1999/xlink\" width=\"742.853125pt\" height=\"280.114688pt\" viewBox=\"0 0 742.853125 280.114688\" xmlns=\"http://www.w3.org/2000/svg\" version=\"1.1\">\n <metadata>\n  <rdf:RDF xmlns:dc=\"http://purl.org/dc/elements/1.1/\" xmlns:cc=\"http://creativecommons.org/ns#\" xmlns:rdf=\"http://www.w3.org/1999/02/22-rdf-syntax-ns#\">\n   <cc:Work>\n    <dc:type rdf:resource=\"http://purl.org/dc/dcmitype/StillImage\"/>\n    <dc:date>2023-05-05T09:00:50.687770</dc:date>\n    <dc:format>image/svg+xml</dc:format>\n    <dc:creator>\n     <cc:Agent>\n      <dc:title>Matplotlib v3.7.1, https://matplotlib.org/</dc:title>\n     </cc:Agent>\n    </dc:creator>\n   </cc:Work>\n  </rdf:RDF>\n </metadata>\n <defs>\n  <style type=\"text/css\">*{stroke-linejoin: round; stroke-linecap: butt}</style>\n </defs>\n <g id=\"figure_1\">\n  <g id=\"patch_1\">\n   <path d=\"M 0 280.114688 \nL 742.853125 280.114688 \nL 742.853125 0 \nL 0 0 \nz\n\" style=\"fill: #ffffff\"/>\n  </g>\n  <g id=\"axes_1\">\n   <g id=\"patch_2\">\n    <path d=\"M 66.053125 242.558437 \nL 735.653125 242.558437 \nL 735.653125 20.798437 \nL 66.053125 20.798437 \nz\n\" style=\"fill: #ffffff\"/>\n   </g>\n   <g id=\"patch_3\">\n    <path d=\"M 72.140398 242.558437 \nL 120.83858 242.558437 \nL 120.83858 31.358437 \nL 72.140398 31.358437 \nz\n\" clip-path=\"url(#pf688fe883b)\" style=\"fill: #ea96a3\"/>\n   </g>\n   <g id=\"patch_4\">\n    <path d=\"M 133.013125 242.558437 \nL 181.711307 242.558437 \nL 181.711307 242.036416 \nL 133.013125 242.036416 \nz\n\" clip-path=\"url(#pf688fe883b)\" style=\"fill: #dc924e\"/>\n   </g>\n   <g id=\"patch_5\">\n    <path d=\"M 193.885852 242.558437 \nL 242.584034 242.558437 \nL 242.584034 241.744733 \nL 193.885852 241.744733 \nz\n\" clip-path=\"url(#pf688fe883b)\" style=\"fill: #b39d48\"/>\n   </g>\n   <g id=\"patch_6\">\n    <path d=\"M 254.75858 242.558437 \nL 303.456761 242.558437 \nL 303.456761 240.790054 \nL 254.75858 240.790054 \nz\n\" clip-path=\"url(#pf688fe883b)\" style=\"fill: #8ea546\"/>\n   </g>\n   <g id=\"patch_7\">\n    <path d=\"M 315.631307 242.558437 \nL 364.329489 242.558437 \nL 364.329489 239.932406 \nL 315.631307 239.932406 \nz\n\" clip-path=\"url(#pf688fe883b)\" style=\"fill: #48b067\"/>\n   </g>\n   <g id=\"patch_8\">\n    <path d=\"M 376.504034 242.558437 \nL 425.202216 242.558437 \nL 425.202216 227.52482 \nL 376.504034 227.52482 \nz\n\" clip-path=\"url(#pf688fe883b)\" style=\"fill: #4aac98\"/>\n   </g>\n   <g id=\"patch_9\">\n    <path d=\"M 437.376761 242.558437 \nL 486.074943 242.558437 \nL 486.074943 231.668547 \nL 437.376761 231.668547 \nz\n\" clip-path=\"url(#pf688fe883b)\" style=\"fill: #4dabb0\"/>\n   </g>\n   <g id=\"patch_10\">\n    <path d=\"M 498.249489 242.558437 \nL 546.94767 242.558437 \nL 546.94767 220.009191 \nL 498.249489 220.009191 \nz\n\" clip-path=\"url(#pf688fe883b)\" style=\"fill: #54acd3\"/>\n   </g>\n   <g id=\"patch_11\">\n    <path d=\"M 559.122216 242.558437 \nL 607.820398 242.558437 \nL 607.820398 211.963873 \nL 559.122216 211.963873 \nz\n\" clip-path=\"url(#pf688fe883b)\" style=\"fill: #a9aceb\"/>\n   </g>\n   <g id=\"patch_12\">\n    <path d=\"M 619.994943 242.558437 \nL 668.693125 242.558437 \nL 668.693125 222.638762 \nL 619.994943 222.638762 \nz\n\" clip-path=\"url(#pf688fe883b)\" style=\"fill: #d795e8\"/>\n   </g>\n   <g id=\"patch_13\">\n    <path d=\"M 680.86767 242.558437 \nL 729.565852 242.558437 \nL 729.565852 219.374213 \nL 680.86767 219.374213 \nz\n\" clip-path=\"url(#pf688fe883b)\" style=\"fill: #e88fc9\"/>\n   </g>\n   <g id=\"matplotlib.axis_1\">\n    <g id=\"xtick_1\">\n     <g id=\"line2d_1\">\n      <defs>\n       <path id=\"m8b962dd94c\" d=\"M 0 0 \nL 0 3.5 \n\" style=\"stroke: #000000; stroke-width: 0.8\"/>\n      </defs>\n      <g>\n       <use xlink:href=\"#m8b962dd94c\" x=\"96.489489\" y=\"242.558437\" style=\"stroke: #000000; stroke-width: 0.8\"/>\n      </g>\n     </g>\n     <g id=\"text_1\">\n      <!-- 0 -->\n      <g transform=\"translate(93.308239 257.156875) scale(0.1 -0.1)\">\n       <defs>\n        <path id=\"DejaVuSans-30\" d=\"M 2034 4250 \nQ 1547 4250 1301 3770 \nQ 1056 3291 1056 2328 \nQ 1056 1369 1301 889 \nQ 1547 409 2034 409 \nQ 2525 409 2770 889 \nQ 3016 1369 3016 2328 \nQ 3016 3291 2770 3770 \nQ 2525 4250 2034 4250 \nz\nM 2034 4750 \nQ 2819 4750 3233 4129 \nQ 3647 3509 3647 2328 \nQ 3647 1150 3233 529 \nQ 2819 -91 2034 -91 \nQ 1250 -91 836 529 \nQ 422 1150 422 2328 \nQ 422 3509 836 4129 \nQ 1250 4750 2034 4750 \nz\n\" transform=\"scale(0.015625)\"/>\n       </defs>\n       <use xlink:href=\"#DejaVuSans-30\"/>\n      </g>\n     </g>\n    </g>\n    <g id=\"xtick_2\">\n     <g id=\"line2d_2\">\n      <g>\n       <use xlink:href=\"#m8b962dd94c\" x=\"157.362216\" y=\"242.558437\" style=\"stroke: #000000; stroke-width: 0.8\"/>\n      </g>\n     </g>\n     <g id=\"text_2\">\n      <!-- 1 -->\n      <g transform=\"translate(154.180966 257.156875) scale(0.1 -0.1)\">\n       <defs>\n        <path id=\"DejaVuSans-31\" d=\"M 794 531 \nL 1825 531 \nL 1825 4091 \nL 703 3866 \nL 703 4441 \nL 1819 4666 \nL 2450 4666 \nL 2450 531 \nL 3481 531 \nL 3481 0 \nL 794 0 \nL 794 531 \nz\n\" transform=\"scale(0.015625)\"/>\n       </defs>\n       <use xlink:href=\"#DejaVuSans-31\"/>\n      </g>\n     </g>\n    </g>\n    <g id=\"xtick_3\">\n     <g id=\"line2d_3\">\n      <g>\n       <use xlink:href=\"#m8b962dd94c\" x=\"218.234943\" y=\"242.558437\" style=\"stroke: #000000; stroke-width: 0.8\"/>\n      </g>\n     </g>\n     <g id=\"text_3\">\n      <!-- 2 -->\n      <g transform=\"translate(215.053693 257.156875) scale(0.1 -0.1)\">\n       <defs>\n        <path id=\"DejaVuSans-32\" d=\"M 1228 531 \nL 3431 531 \nL 3431 0 \nL 469 0 \nL 469 531 \nQ 828 903 1448 1529 \nQ 2069 2156 2228 2338 \nQ 2531 2678 2651 2914 \nQ 2772 3150 2772 3378 \nQ 2772 3750 2511 3984 \nQ 2250 4219 1831 4219 \nQ 1534 4219 1204 4116 \nQ 875 4013 500 3803 \nL 500 4441 \nQ 881 4594 1212 4672 \nQ 1544 4750 1819 4750 \nQ 2544 4750 2975 4387 \nQ 3406 4025 3406 3419 \nQ 3406 3131 3298 2873 \nQ 3191 2616 2906 2266 \nQ 2828 2175 2409 1742 \nQ 1991 1309 1228 531 \nz\n\" transform=\"scale(0.015625)\"/>\n       </defs>\n       <use xlink:href=\"#DejaVuSans-32\"/>\n      </g>\n     </g>\n    </g>\n    <g id=\"xtick_4\">\n     <g id=\"line2d_4\">\n      <g>\n       <use xlink:href=\"#m8b962dd94c\" x=\"279.10767\" y=\"242.558437\" style=\"stroke: #000000; stroke-width: 0.8\"/>\n      </g>\n     </g>\n     <g id=\"text_4\">\n      <!-- 3 -->\n      <g transform=\"translate(275.92642 257.156875) scale(0.1 -0.1)\">\n       <defs>\n        <path id=\"DejaVuSans-33\" d=\"M 2597 2516 \nQ 3050 2419 3304 2112 \nQ 3559 1806 3559 1356 \nQ 3559 666 3084 287 \nQ 2609 -91 1734 -91 \nQ 1441 -91 1130 -33 \nQ 819 25 488 141 \nL 488 750 \nQ 750 597 1062 519 \nQ 1375 441 1716 441 \nQ 2309 441 2620 675 \nQ 2931 909 2931 1356 \nQ 2931 1769 2642 2001 \nQ 2353 2234 1838 2234 \nL 1294 2234 \nL 1294 2753 \nL 1863 2753 \nQ 2328 2753 2575 2939 \nQ 2822 3125 2822 3475 \nQ 2822 3834 2567 4026 \nQ 2313 4219 1838 4219 \nQ 1578 4219 1281 4162 \nQ 984 4106 628 3988 \nL 628 4550 \nQ 988 4650 1302 4700 \nQ 1616 4750 1894 4750 \nQ 2613 4750 3031 4423 \nQ 3450 4097 3450 3541 \nQ 3450 3153 3228 2886 \nQ 3006 2619 2597 2516 \nz\n\" transform=\"scale(0.015625)\"/>\n       </defs>\n       <use xlink:href=\"#DejaVuSans-33\"/>\n      </g>\n     </g>\n    </g>\n    <g id=\"xtick_5\">\n     <g id=\"line2d_5\">\n      <g>\n       <use xlink:href=\"#m8b962dd94c\" x=\"339.980398\" y=\"242.558437\" style=\"stroke: #000000; stroke-width: 0.8\"/>\n      </g>\n     </g>\n     <g id=\"text_5\">\n      <!-- 4 -->\n      <g transform=\"translate(336.799148 257.156875) scale(0.1 -0.1)\">\n       <defs>\n        <path id=\"DejaVuSans-34\" d=\"M 2419 4116 \nL 825 1625 \nL 2419 1625 \nL 2419 4116 \nz\nM 2253 4666 \nL 3047 4666 \nL 3047 1625 \nL 3713 1625 \nL 3713 1100 \nL 3047 1100 \nL 3047 0 \nL 2419 0 \nL 2419 1100 \nL 313 1100 \nL 313 1709 \nL 2253 4666 \nz\n\" transform=\"scale(0.015625)\"/>\n       </defs>\n       <use xlink:href=\"#DejaVuSans-34\"/>\n      </g>\n     </g>\n    </g>\n    <g id=\"xtick_6\">\n     <g id=\"line2d_6\">\n      <g>\n       <use xlink:href=\"#m8b962dd94c\" x=\"400.853125\" y=\"242.558437\" style=\"stroke: #000000; stroke-width: 0.8\"/>\n      </g>\n     </g>\n     <g id=\"text_6\">\n      <!-- 5 -->\n      <g transform=\"translate(397.671875 257.156875) scale(0.1 -0.1)\">\n       <defs>\n        <path id=\"DejaVuSans-35\" d=\"M 691 4666 \nL 3169 4666 \nL 3169 4134 \nL 1269 4134 \nL 1269 2991 \nQ 1406 3038 1543 3061 \nQ 1681 3084 1819 3084 \nQ 2600 3084 3056 2656 \nQ 3513 2228 3513 1497 \nQ 3513 744 3044 326 \nQ 2575 -91 1722 -91 \nQ 1428 -91 1123 -41 \nQ 819 9 494 109 \nL 494 744 \nQ 775 591 1075 516 \nQ 1375 441 1709 441 \nQ 2250 441 2565 725 \nQ 2881 1009 2881 1497 \nQ 2881 1984 2565 2268 \nQ 2250 2553 1709 2553 \nQ 1456 2553 1204 2497 \nQ 953 2441 691 2322 \nL 691 4666 \nz\n\" transform=\"scale(0.015625)\"/>\n       </defs>\n       <use xlink:href=\"#DejaVuSans-35\"/>\n      </g>\n     </g>\n    </g>\n    <g id=\"xtick_7\">\n     <g id=\"line2d_7\">\n      <g>\n       <use xlink:href=\"#m8b962dd94c\" x=\"461.725852\" y=\"242.558437\" style=\"stroke: #000000; stroke-width: 0.8\"/>\n      </g>\n     </g>\n     <g id=\"text_7\">\n      <!-- 6 -->\n      <g transform=\"translate(458.544602 257.156875) scale(0.1 -0.1)\">\n       <defs>\n        <path id=\"DejaVuSans-36\" d=\"M 2113 2584 \nQ 1688 2584 1439 2293 \nQ 1191 2003 1191 1497 \nQ 1191 994 1439 701 \nQ 1688 409 2113 409 \nQ 2538 409 2786 701 \nQ 3034 994 3034 1497 \nQ 3034 2003 2786 2293 \nQ 2538 2584 2113 2584 \nz\nM 3366 4563 \nL 3366 3988 \nQ 3128 4100 2886 4159 \nQ 2644 4219 2406 4219 \nQ 1781 4219 1451 3797 \nQ 1122 3375 1075 2522 \nQ 1259 2794 1537 2939 \nQ 1816 3084 2150 3084 \nQ 2853 3084 3261 2657 \nQ 3669 2231 3669 1497 \nQ 3669 778 3244 343 \nQ 2819 -91 2113 -91 \nQ 1303 -91 875 529 \nQ 447 1150 447 2328 \nQ 447 3434 972 4092 \nQ 1497 4750 2381 4750 \nQ 2619 4750 2861 4703 \nQ 3103 4656 3366 4563 \nz\n\" transform=\"scale(0.015625)\"/>\n       </defs>\n       <use xlink:href=\"#DejaVuSans-36\"/>\n      </g>\n     </g>\n    </g>\n    <g id=\"xtick_8\">\n     <g id=\"line2d_8\">\n      <g>\n       <use xlink:href=\"#m8b962dd94c\" x=\"522.59858\" y=\"242.558437\" style=\"stroke: #000000; stroke-width: 0.8\"/>\n      </g>\n     </g>\n     <g id=\"text_8\">\n      <!-- 7 -->\n      <g transform=\"translate(519.41733 257.156875) scale(0.1 -0.1)\">\n       <defs>\n        <path id=\"DejaVuSans-37\" d=\"M 525 4666 \nL 3525 4666 \nL 3525 4397 \nL 1831 0 \nL 1172 0 \nL 2766 4134 \nL 525 4134 \nL 525 4666 \nz\n\" transform=\"scale(0.015625)\"/>\n       </defs>\n       <use xlink:href=\"#DejaVuSans-37\"/>\n      </g>\n     </g>\n    </g>\n    <g id=\"xtick_9\">\n     <g id=\"line2d_9\">\n      <g>\n       <use xlink:href=\"#m8b962dd94c\" x=\"583.471307\" y=\"242.558437\" style=\"stroke: #000000; stroke-width: 0.8\"/>\n      </g>\n     </g>\n     <g id=\"text_9\">\n      <!-- 8 -->\n      <g transform=\"translate(580.290057 257.156875) scale(0.1 -0.1)\">\n       <defs>\n        <path id=\"DejaVuSans-38\" d=\"M 2034 2216 \nQ 1584 2216 1326 1975 \nQ 1069 1734 1069 1313 \nQ 1069 891 1326 650 \nQ 1584 409 2034 409 \nQ 2484 409 2743 651 \nQ 3003 894 3003 1313 \nQ 3003 1734 2745 1975 \nQ 2488 2216 2034 2216 \nz\nM 1403 2484 \nQ 997 2584 770 2862 \nQ 544 3141 544 3541 \nQ 544 4100 942 4425 \nQ 1341 4750 2034 4750 \nQ 2731 4750 3128 4425 \nQ 3525 4100 3525 3541 \nQ 3525 3141 3298 2862 \nQ 3072 2584 2669 2484 \nQ 3125 2378 3379 2068 \nQ 3634 1759 3634 1313 \nQ 3634 634 3220 271 \nQ 2806 -91 2034 -91 \nQ 1263 -91 848 271 \nQ 434 634 434 1313 \nQ 434 1759 690 2068 \nQ 947 2378 1403 2484 \nz\nM 1172 3481 \nQ 1172 3119 1398 2916 \nQ 1625 2713 2034 2713 \nQ 2441 2713 2670 2916 \nQ 2900 3119 2900 3481 \nQ 2900 3844 2670 4047 \nQ 2441 4250 2034 4250 \nQ 1625 4250 1398 4047 \nQ 1172 3844 1172 3481 \nz\n\" transform=\"scale(0.015625)\"/>\n       </defs>\n       <use xlink:href=\"#DejaVuSans-38\"/>\n      </g>\n     </g>\n    </g>\n    <g id=\"xtick_10\">\n     <g id=\"line2d_10\">\n      <g>\n       <use xlink:href=\"#m8b962dd94c\" x=\"644.344034\" y=\"242.558437\" style=\"stroke: #000000; stroke-width: 0.8\"/>\n      </g>\n     </g>\n     <g id=\"text_10\">\n      <!-- 9 -->\n      <g transform=\"translate(641.162784 257.156875) scale(0.1 -0.1)\">\n       <defs>\n        <path id=\"DejaVuSans-39\" d=\"M 703 97 \nL 703 672 \nQ 941 559 1184 500 \nQ 1428 441 1663 441 \nQ 2288 441 2617 861 \nQ 2947 1281 2994 2138 \nQ 2813 1869 2534 1725 \nQ 2256 1581 1919 1581 \nQ 1219 1581 811 2004 \nQ 403 2428 403 3163 \nQ 403 3881 828 4315 \nQ 1253 4750 1959 4750 \nQ 2769 4750 3195 4129 \nQ 3622 3509 3622 2328 \nQ 3622 1225 3098 567 \nQ 2575 -91 1691 -91 \nQ 1453 -91 1209 -44 \nQ 966 3 703 97 \nz\nM 1959 2075 \nQ 2384 2075 2632 2365 \nQ 2881 2656 2881 3163 \nQ 2881 3666 2632 3958 \nQ 2384 4250 1959 4250 \nQ 1534 4250 1286 3958 \nQ 1038 3666 1038 3163 \nQ 1038 2656 1286 2365 \nQ 1534 2075 1959 2075 \nz\n\" transform=\"scale(0.015625)\"/>\n       </defs>\n       <use xlink:href=\"#DejaVuSans-39\"/>\n      </g>\n     </g>\n    </g>\n    <g id=\"xtick_11\">\n     <g id=\"line2d_11\">\n      <g>\n       <use xlink:href=\"#m8b962dd94c\" x=\"705.216761\" y=\"242.558437\" style=\"stroke: #000000; stroke-width: 0.8\"/>\n      </g>\n     </g>\n     <g id=\"text_11\">\n      <!-- 10 -->\n      <g transform=\"translate(698.854261 257.156875) scale(0.1 -0.1)\">\n       <use xlink:href=\"#DejaVuSans-31\"/>\n       <use xlink:href=\"#DejaVuSans-30\" x=\"63.623047\"/>\n      </g>\n     </g>\n    </g>\n    <g id=\"text_12\">\n     <!-- Ratings -->\n     <g transform=\"translate(382.130469 270.835) scale(0.1 -0.1)\">\n      <defs>\n       <path id=\"DejaVuSans-52\" d=\"M 2841 2188 \nQ 3044 2119 3236 1894 \nQ 3428 1669 3622 1275 \nL 4263 0 \nL 3584 0 \nL 2988 1197 \nQ 2756 1666 2539 1819 \nQ 2322 1972 1947 1972 \nL 1259 1972 \nL 1259 0 \nL 628 0 \nL 628 4666 \nL 2053 4666 \nQ 2853 4666 3247 4331 \nQ 3641 3997 3641 3322 \nQ 3641 2881 3436 2590 \nQ 3231 2300 2841 2188 \nz\nM 1259 4147 \nL 1259 2491 \nL 2053 2491 \nQ 2509 2491 2742 2702 \nQ 2975 2913 2975 3322 \nQ 2975 3731 2742 3939 \nQ 2509 4147 2053 4147 \nL 1259 4147 \nz\n\" transform=\"scale(0.015625)\"/>\n       <path id=\"DejaVuSans-61\" d=\"M 2194 1759 \nQ 1497 1759 1228 1600 \nQ 959 1441 959 1056 \nQ 959 750 1161 570 \nQ 1363 391 1709 391 \nQ 2188 391 2477 730 \nQ 2766 1069 2766 1631 \nL 2766 1759 \nL 2194 1759 \nz\nM 3341 1997 \nL 3341 0 \nL 2766 0 \nL 2766 531 \nQ 2569 213 2275 61 \nQ 1981 -91 1556 -91 \nQ 1019 -91 701 211 \nQ 384 513 384 1019 \nQ 384 1609 779 1909 \nQ 1175 2209 1959 2209 \nL 2766 2209 \nL 2766 2266 \nQ 2766 2663 2505 2880 \nQ 2244 3097 1772 3097 \nQ 1472 3097 1187 3025 \nQ 903 2953 641 2809 \nL 641 3341 \nQ 956 3463 1253 3523 \nQ 1550 3584 1831 3584 \nQ 2591 3584 2966 3190 \nQ 3341 2797 3341 1997 \nz\n\" transform=\"scale(0.015625)\"/>\n       <path id=\"DejaVuSans-74\" d=\"M 1172 4494 \nL 1172 3500 \nL 2356 3500 \nL 2356 3053 \nL 1172 3053 \nL 1172 1153 \nQ 1172 725 1289 603 \nQ 1406 481 1766 481 \nL 2356 481 \nL 2356 0 \nL 1766 0 \nQ 1100 0 847 248 \nQ 594 497 594 1153 \nL 594 3053 \nL 172 3053 \nL 172 3500 \nL 594 3500 \nL 594 4494 \nL 1172 4494 \nz\n\" transform=\"scale(0.015625)\"/>\n       <path id=\"DejaVuSans-69\" d=\"M 603 3500 \nL 1178 3500 \nL 1178 0 \nL 603 0 \nL 603 3500 \nz\nM 603 4863 \nL 1178 4863 \nL 1178 4134 \nL 603 4134 \nL 603 4863 \nz\n\" transform=\"scale(0.015625)\"/>\n       <path id=\"DejaVuSans-6e\" d=\"M 3513 2113 \nL 3513 0 \nL 2938 0 \nL 2938 2094 \nQ 2938 2591 2744 2837 \nQ 2550 3084 2163 3084 \nQ 1697 3084 1428 2787 \nQ 1159 2491 1159 1978 \nL 1159 0 \nL 581 0 \nL 581 3500 \nL 1159 3500 \nL 1159 2956 \nQ 1366 3272 1645 3428 \nQ 1925 3584 2291 3584 \nQ 2894 3584 3203 3211 \nQ 3513 2838 3513 2113 \nz\n\" transform=\"scale(0.015625)\"/>\n       <path id=\"DejaVuSans-67\" d=\"M 2906 1791 \nQ 2906 2416 2648 2759 \nQ 2391 3103 1925 3103 \nQ 1463 3103 1205 2759 \nQ 947 2416 947 1791 \nQ 947 1169 1205 825 \nQ 1463 481 1925 481 \nQ 2391 481 2648 825 \nQ 2906 1169 2906 1791 \nz\nM 3481 434 \nQ 3481 -459 3084 -895 \nQ 2688 -1331 1869 -1331 \nQ 1566 -1331 1297 -1286 \nQ 1028 -1241 775 -1147 \nL 775 -588 \nQ 1028 -725 1275 -790 \nQ 1522 -856 1778 -856 \nQ 2344 -856 2625 -561 \nQ 2906 -266 2906 331 \nL 2906 616 \nQ 2728 306 2450 153 \nQ 2172 0 1784 0 \nQ 1141 0 747 490 \nQ 353 981 353 1791 \nQ 353 2603 747 3093 \nQ 1141 3584 1784 3584 \nQ 2172 3584 2450 3431 \nQ 2728 3278 2906 2969 \nL 2906 3500 \nL 3481 3500 \nL 3481 434 \nz\n\" transform=\"scale(0.015625)\"/>\n       <path id=\"DejaVuSans-73\" d=\"M 2834 3397 \nL 2834 2853 \nQ 2591 2978 2328 3040 \nQ 2066 3103 1784 3103 \nQ 1356 3103 1142 2972 \nQ 928 2841 928 2578 \nQ 928 2378 1081 2264 \nQ 1234 2150 1697 2047 \nL 1894 2003 \nQ 2506 1872 2764 1633 \nQ 3022 1394 3022 966 \nQ 3022 478 2636 193 \nQ 2250 -91 1575 -91 \nQ 1294 -91 989 -36 \nQ 684 19 347 128 \nL 347 722 \nQ 666 556 975 473 \nQ 1284 391 1588 391 \nQ 1994 391 2212 530 \nQ 2431 669 2431 922 \nQ 2431 1156 2273 1281 \nQ 2116 1406 1581 1522 \nL 1381 1569 \nQ 847 1681 609 1914 \nQ 372 2147 372 2553 \nQ 372 3047 722 3315 \nQ 1072 3584 1716 3584 \nQ 2034 3584 2315 3537 \nQ 2597 3491 2834 3397 \nz\n\" transform=\"scale(0.015625)\"/>\n      </defs>\n      <use xlink:href=\"#DejaVuSans-52\"/>\n      <use xlink:href=\"#DejaVuSans-61\" x=\"67.232422\"/>\n      <use xlink:href=\"#DejaVuSans-74\" x=\"128.511719\"/>\n      <use xlink:href=\"#DejaVuSans-69\" x=\"167.720703\"/>\n      <use xlink:href=\"#DejaVuSans-6e\" x=\"195.503906\"/>\n      <use xlink:href=\"#DejaVuSans-67\" x=\"258.882812\"/>\n      <use xlink:href=\"#DejaVuSans-73\" x=\"322.359375\"/>\n     </g>\n    </g>\n   </g>\n   <g id=\"matplotlib.axis_2\">\n    <g id=\"ytick_1\">\n     <g id=\"line2d_12\">\n      <defs>\n       <path id=\"m4cdb4d5b9d\" d=\"M 0 0 \nL -3.5 0 \n\" style=\"stroke: #000000; stroke-width: 0.8\"/>\n      </defs>\n      <g>\n       <use xlink:href=\"#m4cdb4d5b9d\" x=\"66.053125\" y=\"242.558437\" style=\"stroke: #000000; stroke-width: 0.8\"/>\n      </g>\n     </g>\n     <g id=\"text_13\">\n      <!-- 0 -->\n      <g transform=\"translate(52.690625 246.357656) scale(0.1 -0.1)\">\n       <use xlink:href=\"#DejaVuSans-30\"/>\n      </g>\n     </g>\n    </g>\n    <g id=\"ytick_2\">\n     <g id=\"line2d_13\">\n      <g>\n       <use xlink:href=\"#m4cdb4d5b9d\" x=\"66.053125\" y=\"213.065721\" style=\"stroke: #000000; stroke-width: 0.8\"/>\n      </g>\n     </g>\n     <g id=\"text_14\">\n      <!-- 100000 -->\n      <g transform=\"translate(20.878125 216.864939) scale(0.1 -0.1)\">\n       <use xlink:href=\"#DejaVuSans-31\"/>\n       <use xlink:href=\"#DejaVuSans-30\" x=\"63.623047\"/>\n       <use xlink:href=\"#DejaVuSans-30\" x=\"127.246094\"/>\n       <use xlink:href=\"#DejaVuSans-30\" x=\"190.869141\"/>\n       <use xlink:href=\"#DejaVuSans-30\" x=\"254.492188\"/>\n       <use xlink:href=\"#DejaVuSans-30\" x=\"318.115234\"/>\n      </g>\n     </g>\n    </g>\n    <g id=\"ytick_3\">\n     <g id=\"line2d_14\">\n      <g>\n       <use xlink:href=\"#m4cdb4d5b9d\" x=\"66.053125\" y=\"183.573004\" style=\"stroke: #000000; stroke-width: 0.8\"/>\n      </g>\n     </g>\n     <g id=\"text_15\">\n      <!-- 200000 -->\n      <g transform=\"translate(20.878125 187.372222) scale(0.1 -0.1)\">\n       <use xlink:href=\"#DejaVuSans-32\"/>\n       <use xlink:href=\"#DejaVuSans-30\" x=\"63.623047\"/>\n       <use xlink:href=\"#DejaVuSans-30\" x=\"127.246094\"/>\n       <use xlink:href=\"#DejaVuSans-30\" x=\"190.869141\"/>\n       <use xlink:href=\"#DejaVuSans-30\" x=\"254.492188\"/>\n       <use xlink:href=\"#DejaVuSans-30\" x=\"318.115234\"/>\n      </g>\n     </g>\n    </g>\n    <g id=\"ytick_4\">\n     <g id=\"line2d_15\">\n      <g>\n       <use xlink:href=\"#m4cdb4d5b9d\" x=\"66.053125\" y=\"154.080287\" style=\"stroke: #000000; stroke-width: 0.8\"/>\n      </g>\n     </g>\n     <g id=\"text_16\">\n      <!-- 300000 -->\n      <g transform=\"translate(20.878125 157.879506) scale(0.1 -0.1)\">\n       <use xlink:href=\"#DejaVuSans-33\"/>\n       <use xlink:href=\"#DejaVuSans-30\" x=\"63.623047\"/>\n       <use xlink:href=\"#DejaVuSans-30\" x=\"127.246094\"/>\n       <use xlink:href=\"#DejaVuSans-30\" x=\"190.869141\"/>\n       <use xlink:href=\"#DejaVuSans-30\" x=\"254.492188\"/>\n       <use xlink:href=\"#DejaVuSans-30\" x=\"318.115234\"/>\n      </g>\n     </g>\n    </g>\n    <g id=\"ytick_5\">\n     <g id=\"line2d_16\">\n      <g>\n       <use xlink:href=\"#m4cdb4d5b9d\" x=\"66.053125\" y=\"124.58757\" style=\"stroke: #000000; stroke-width: 0.8\"/>\n      </g>\n     </g>\n     <g id=\"text_17\">\n      <!-- 400000 -->\n      <g transform=\"translate(20.878125 128.386789) scale(0.1 -0.1)\">\n       <use xlink:href=\"#DejaVuSans-34\"/>\n       <use xlink:href=\"#DejaVuSans-30\" x=\"63.623047\"/>\n       <use xlink:href=\"#DejaVuSans-30\" x=\"127.246094\"/>\n       <use xlink:href=\"#DejaVuSans-30\" x=\"190.869141\"/>\n       <use xlink:href=\"#DejaVuSans-30\" x=\"254.492188\"/>\n       <use xlink:href=\"#DejaVuSans-30\" x=\"318.115234\"/>\n      </g>\n     </g>\n    </g>\n    <g id=\"ytick_6\">\n     <g id=\"line2d_17\">\n      <g>\n       <use xlink:href=\"#m4cdb4d5b9d\" x=\"66.053125\" y=\"95.094853\" style=\"stroke: #000000; stroke-width: 0.8\"/>\n      </g>\n     </g>\n     <g id=\"text_18\">\n      <!-- 500000 -->\n      <g transform=\"translate(20.878125 98.894072) scale(0.1 -0.1)\">\n       <use xlink:href=\"#DejaVuSans-35\"/>\n       <use xlink:href=\"#DejaVuSans-30\" x=\"63.623047\"/>\n       <use xlink:href=\"#DejaVuSans-30\" x=\"127.246094\"/>\n       <use xlink:href=\"#DejaVuSans-30\" x=\"190.869141\"/>\n       <use xlink:href=\"#DejaVuSans-30\" x=\"254.492188\"/>\n       <use xlink:href=\"#DejaVuSans-30\" x=\"318.115234\"/>\n      </g>\n     </g>\n    </g>\n    <g id=\"ytick_7\">\n     <g id=\"line2d_18\">\n      <g>\n       <use xlink:href=\"#m4cdb4d5b9d\" x=\"66.053125\" y=\"65.602136\" style=\"stroke: #000000; stroke-width: 0.8\"/>\n      </g>\n     </g>\n     <g id=\"text_19\">\n      <!-- 600000 -->\n      <g transform=\"translate(20.878125 69.401355) scale(0.1 -0.1)\">\n       <use xlink:href=\"#DejaVuSans-36\"/>\n       <use xlink:href=\"#DejaVuSans-30\" x=\"63.623047\"/>\n       <use xlink:href=\"#DejaVuSans-30\" x=\"127.246094\"/>\n       <use xlink:href=\"#DejaVuSans-30\" x=\"190.869141\"/>\n       <use xlink:href=\"#DejaVuSans-30\" x=\"254.492188\"/>\n       <use xlink:href=\"#DejaVuSans-30\" x=\"318.115234\"/>\n      </g>\n     </g>\n    </g>\n    <g id=\"ytick_8\">\n     <g id=\"line2d_19\">\n      <g>\n       <use xlink:href=\"#m4cdb4d5b9d\" x=\"66.053125\" y=\"36.109419\" style=\"stroke: #000000; stroke-width: 0.8\"/>\n      </g>\n     </g>\n     <g id=\"text_20\">\n      <!-- 700000 -->\n      <g transform=\"translate(20.878125 39.908638) scale(0.1 -0.1)\">\n       <use xlink:href=\"#DejaVuSans-37\"/>\n       <use xlink:href=\"#DejaVuSans-30\" x=\"63.623047\"/>\n       <use xlink:href=\"#DejaVuSans-30\" x=\"127.246094\"/>\n       <use xlink:href=\"#DejaVuSans-30\" x=\"190.869141\"/>\n       <use xlink:href=\"#DejaVuSans-30\" x=\"254.492188\"/>\n       <use xlink:href=\"#DejaVuSans-30\" x=\"318.115234\"/>\n      </g>\n     </g>\n    </g>\n    <g id=\"text_21\">\n     <!-- Number of Ratings -->\n     <g transform=\"translate(14.798438 178.484687) rotate(-90) scale(0.1 -0.1)\">\n      <defs>\n       <path id=\"DejaVuSans-4e\" d=\"M 628 4666 \nL 1478 4666 \nL 3547 763 \nL 3547 4666 \nL 4159 4666 \nL 4159 0 \nL 3309 0 \nL 1241 3903 \nL 1241 0 \nL 628 0 \nL 628 4666 \nz\n\" transform=\"scale(0.015625)\"/>\n       <path id=\"DejaVuSans-75\" d=\"M 544 1381 \nL 544 3500 \nL 1119 3500 \nL 1119 1403 \nQ 1119 906 1312 657 \nQ 1506 409 1894 409 \nQ 2359 409 2629 706 \nQ 2900 1003 2900 1516 \nL 2900 3500 \nL 3475 3500 \nL 3475 0 \nL 2900 0 \nL 2900 538 \nQ 2691 219 2414 64 \nQ 2138 -91 1772 -91 \nQ 1169 -91 856 284 \nQ 544 659 544 1381 \nz\nM 1991 3584 \nL 1991 3584 \nz\n\" transform=\"scale(0.015625)\"/>\n       <path id=\"DejaVuSans-6d\" d=\"M 3328 2828 \nQ 3544 3216 3844 3400 \nQ 4144 3584 4550 3584 \nQ 5097 3584 5394 3201 \nQ 5691 2819 5691 2113 \nL 5691 0 \nL 5113 0 \nL 5113 2094 \nQ 5113 2597 4934 2840 \nQ 4756 3084 4391 3084 \nQ 3944 3084 3684 2787 \nQ 3425 2491 3425 1978 \nL 3425 0 \nL 2847 0 \nL 2847 2094 \nQ 2847 2600 2669 2842 \nQ 2491 3084 2119 3084 \nQ 1678 3084 1418 2786 \nQ 1159 2488 1159 1978 \nL 1159 0 \nL 581 0 \nL 581 3500 \nL 1159 3500 \nL 1159 2956 \nQ 1356 3278 1631 3431 \nQ 1906 3584 2284 3584 \nQ 2666 3584 2933 3390 \nQ 3200 3197 3328 2828 \nz\n\" transform=\"scale(0.015625)\"/>\n       <path id=\"DejaVuSans-62\" d=\"M 3116 1747 \nQ 3116 2381 2855 2742 \nQ 2594 3103 2138 3103 \nQ 1681 3103 1420 2742 \nQ 1159 2381 1159 1747 \nQ 1159 1113 1420 752 \nQ 1681 391 2138 391 \nQ 2594 391 2855 752 \nQ 3116 1113 3116 1747 \nz\nM 1159 2969 \nQ 1341 3281 1617 3432 \nQ 1894 3584 2278 3584 \nQ 2916 3584 3314 3078 \nQ 3713 2572 3713 1747 \nQ 3713 922 3314 415 \nQ 2916 -91 2278 -91 \nQ 1894 -91 1617 61 \nQ 1341 213 1159 525 \nL 1159 0 \nL 581 0 \nL 581 4863 \nL 1159 4863 \nL 1159 2969 \nz\n\" transform=\"scale(0.015625)\"/>\n       <path id=\"DejaVuSans-65\" d=\"M 3597 1894 \nL 3597 1613 \nL 953 1613 \nQ 991 1019 1311 708 \nQ 1631 397 2203 397 \nQ 2534 397 2845 478 \nQ 3156 559 3463 722 \nL 3463 178 \nQ 3153 47 2828 -22 \nQ 2503 -91 2169 -91 \nQ 1331 -91 842 396 \nQ 353 884 353 1716 \nQ 353 2575 817 3079 \nQ 1281 3584 2069 3584 \nQ 2775 3584 3186 3129 \nQ 3597 2675 3597 1894 \nz\nM 3022 2063 \nQ 3016 2534 2758 2815 \nQ 2500 3097 2075 3097 \nQ 1594 3097 1305 2825 \nQ 1016 2553 972 2059 \nL 3022 2063 \nz\n\" transform=\"scale(0.015625)\"/>\n       <path id=\"DejaVuSans-72\" d=\"M 2631 2963 \nQ 2534 3019 2420 3045 \nQ 2306 3072 2169 3072 \nQ 1681 3072 1420 2755 \nQ 1159 2438 1159 1844 \nL 1159 0 \nL 581 0 \nL 581 3500 \nL 1159 3500 \nL 1159 2956 \nQ 1341 3275 1631 3429 \nQ 1922 3584 2338 3584 \nQ 2397 3584 2469 3576 \nQ 2541 3569 2628 3553 \nL 2631 2963 \nz\n\" transform=\"scale(0.015625)\"/>\n       <path id=\"DejaVuSans-20\" transform=\"scale(0.015625)\"/>\n       <path id=\"DejaVuSans-6f\" d=\"M 1959 3097 \nQ 1497 3097 1228 2736 \nQ 959 2375 959 1747 \nQ 959 1119 1226 758 \nQ 1494 397 1959 397 \nQ 2419 397 2687 759 \nQ 2956 1122 2956 1747 \nQ 2956 2369 2687 2733 \nQ 2419 3097 1959 3097 \nz\nM 1959 3584 \nQ 2709 3584 3137 3096 \nQ 3566 2609 3566 1747 \nQ 3566 888 3137 398 \nQ 2709 -91 1959 -91 \nQ 1206 -91 779 398 \nQ 353 888 353 1747 \nQ 353 2609 779 3096 \nQ 1206 3584 1959 3584 \nz\n\" transform=\"scale(0.015625)\"/>\n       <path id=\"DejaVuSans-66\" d=\"M 2375 4863 \nL 2375 4384 \nL 1825 4384 \nQ 1516 4384 1395 4259 \nQ 1275 4134 1275 3809 \nL 1275 3500 \nL 2222 3500 \nL 2222 3053 \nL 1275 3053 \nL 1275 0 \nL 697 0 \nL 697 3053 \nL 147 3053 \nL 147 3500 \nL 697 3500 \nL 697 3744 \nQ 697 4328 969 4595 \nQ 1241 4863 1831 4863 \nL 2375 4863 \nz\n\" transform=\"scale(0.015625)\"/>\n      </defs>\n      <use xlink:href=\"#DejaVuSans-4e\"/>\n      <use xlink:href=\"#DejaVuSans-75\" x=\"74.804688\"/>\n      <use xlink:href=\"#DejaVuSans-6d\" x=\"138.183594\"/>\n      <use xlink:href=\"#DejaVuSans-62\" x=\"235.595703\"/>\n      <use xlink:href=\"#DejaVuSans-65\" x=\"299.072266\"/>\n      <use xlink:href=\"#DejaVuSans-72\" x=\"360.595703\"/>\n      <use xlink:href=\"#DejaVuSans-20\" x=\"401.708984\"/>\n      <use xlink:href=\"#DejaVuSans-6f\" x=\"433.496094\"/>\n      <use xlink:href=\"#DejaVuSans-66\" x=\"494.677734\"/>\n      <use xlink:href=\"#DejaVuSans-20\" x=\"529.882812\"/>\n      <use xlink:href=\"#DejaVuSans-52\" x=\"561.669922\"/>\n      <use xlink:href=\"#DejaVuSans-61\" x=\"628.902344\"/>\n      <use xlink:href=\"#DejaVuSans-74\" x=\"690.181641\"/>\n      <use xlink:href=\"#DejaVuSans-69\" x=\"729.390625\"/>\n      <use xlink:href=\"#DejaVuSans-6e\" x=\"757.173828\"/>\n      <use xlink:href=\"#DejaVuSans-67\" x=\"820.552734\"/>\n      <use xlink:href=\"#DejaVuSans-73\" x=\"884.029297\"/>\n     </g>\n    </g>\n   </g>\n   <g id=\"patch_14\">\n    <path d=\"M 66.053125 242.558437 \nL 66.053125 20.798437 \n\" style=\"fill: none; stroke: #000000; stroke-width: 0.8; stroke-linejoin: miter; stroke-linecap: square\"/>\n   </g>\n   <g id=\"patch_15\">\n    <path d=\"M 735.653125 242.558437 \nL 735.653125 20.798437 \n\" style=\"fill: none; stroke: #000000; stroke-width: 0.8; stroke-linejoin: miter; stroke-linecap: square\"/>\n   </g>\n   <g id=\"patch_16\">\n    <path d=\"M 66.053125 242.558437 \nL 735.653125 242.558437 \n\" style=\"fill: none; stroke: #000000; stroke-width: 0.8; stroke-linejoin: miter; stroke-linecap: square\"/>\n   </g>\n   <g id=\"patch_17\">\n    <path d=\"M 66.053125 20.798437 \nL 735.653125 20.798437 \n\" style=\"fill: none; stroke: #000000; stroke-width: 0.8; stroke-linejoin: miter; stroke-linecap: square\"/>\n   </g>\n   <g id=\"text_22\">\n    <!-- Distribution of Ratings  -->\n    <g transform=\"translate(343.375 14.798437) scale(0.1 -0.1)\">\n     <defs>\n      <path id=\"DejaVuSans-44\" d=\"M 1259 4147 \nL 1259 519 \nL 2022 519 \nQ 2988 519 3436 956 \nQ 3884 1394 3884 2338 \nQ 3884 3275 3436 3711 \nQ 2988 4147 2022 4147 \nL 1259 4147 \nz\nM 628 4666 \nL 1925 4666 \nQ 3281 4666 3915 4102 \nQ 4550 3538 4550 2338 \nQ 4550 1131 3912 565 \nQ 3275 0 1925 0 \nL 628 0 \nL 628 4666 \nz\n\" transform=\"scale(0.015625)\"/>\n     </defs>\n     <use xlink:href=\"#DejaVuSans-44\"/>\n     <use xlink:href=\"#DejaVuSans-69\" x=\"77.001953\"/>\n     <use xlink:href=\"#DejaVuSans-73\" x=\"104.785156\"/>\n     <use xlink:href=\"#DejaVuSans-74\" x=\"156.884766\"/>\n     <use xlink:href=\"#DejaVuSans-72\" x=\"196.09375\"/>\n     <use xlink:href=\"#DejaVuSans-69\" x=\"237.207031\"/>\n     <use xlink:href=\"#DejaVuSans-62\" x=\"264.990234\"/>\n     <use xlink:href=\"#DejaVuSans-75\" x=\"328.466797\"/>\n     <use xlink:href=\"#DejaVuSans-74\" x=\"391.845703\"/>\n     <use xlink:href=\"#DejaVuSans-69\" x=\"431.054688\"/>\n     <use xlink:href=\"#DejaVuSans-6f\" x=\"458.837891\"/>\n     <use xlink:href=\"#DejaVuSans-6e\" x=\"520.019531\"/>\n     <use xlink:href=\"#DejaVuSans-20\" x=\"583.398438\"/>\n     <use xlink:href=\"#DejaVuSans-6f\" x=\"615.185547\"/>\n     <use xlink:href=\"#DejaVuSans-66\" x=\"676.367188\"/>\n     <use xlink:href=\"#DejaVuSans-20\" x=\"711.572266\"/>\n     <use xlink:href=\"#DejaVuSans-52\" x=\"743.359375\"/>\n     <use xlink:href=\"#DejaVuSans-61\" x=\"810.591797\"/>\n     <use xlink:href=\"#DejaVuSans-74\" x=\"871.871094\"/>\n     <use xlink:href=\"#DejaVuSans-69\" x=\"911.080078\"/>\n     <use xlink:href=\"#DejaVuSans-6e\" x=\"938.863281\"/>\n     <use xlink:href=\"#DejaVuSans-67\" x=\"1002.242188\"/>\n     <use xlink:href=\"#DejaVuSans-73\" x=\"1065.71875\"/>\n     <use xlink:href=\"#DejaVuSans-20\" x=\"1117.818359\"/>\n    </g>\n   </g>\n  </g>\n </g>\n <defs>\n  <clipPath id=\"pf688fe883b\">\n   <rect x=\"66.053125\" y=\"20.798437\" width=\"669.6\" height=\"221.76\"/>\n  </clipPath>\n </defs>\n</svg>\n"
          },
          "metadata": {}
        }
      ],
      "source": [
        "# Distribution of ratings\n",
        "plt.figure(figsize = (12, 4))\n",
        "sns.countplot(data=df, x='rating')\n",
        "\n",
        "plt.tick_params(labelsize = 10)\n",
        "plt.title(\"Distribution of Ratings \", fontsize = 10)\n",
        "plt.xlabel(\"Ratings\", fontsize = 10)\n",
        "plt.ylabel(\"Number of Ratings\", fontsize = 10)\n",
        "plt.show()"
      ]
    },
    {
      "cell_type": "markdown",
      "id": "R7qE93BxXOq8",
      "metadata": {
        "id": "R7qE93BxXOq8"
      },
      "source": [
        "**Observations:**\n",
        "\n",
        "- Most of the books have 0 rating, since according to the dataset description the ratings range from 1 to 10, we will consider these values as missing. \n",
        "\n",
        "So let's deal with 0 ratings first.  "
      ]
    },
    {
      "cell_type": "code",
      "execution_count": 12,
      "id": "uJrvV0iP_Zc2",
      "metadata": {
        "id": "uJrvV0iP_Zc2"
      },
      "outputs": [],
      "source": [
        "# Let's drop rows with ratings equal to 0\n",
        "df.drop(df.index[df['rating'] == 0], inplace = True)"
      ]
    },
    {
      "cell_type": "code",
      "execution_count": 13,
      "id": "eqri9zcemvEO",
      "metadata": {
        "id": "eqri9zcemvEO",
        "colab": {
          "base_uri": "https://localhost:8080/"
        },
        "outputId": "c75e4918-259f-4b29-cf00-0d96381bfb3c"
      },
      "outputs": [
        {
          "output_type": "stream",
          "name": "stdout",
          "text": [
            "<class 'pandas.core.frame.DataFrame'>\n",
            "Int64Index: 433671 entries, 1 to 1149779\n",
            "Data columns (total 7 columns):\n",
            " #   Column               Non-Null Count   Dtype \n",
            "---  ------               --------------   ----- \n",
            " 0   user_id              433671 non-null  int64 \n",
            " 1   book_id              433671 non-null  object\n",
            " 2   rating               433671 non-null  int64 \n",
            " 3   Book-Title           383842 non-null  object\n",
            " 4   Book-Author          383841 non-null  object\n",
            " 5   Year-Of-Publication  383842 non-null  object\n",
            " 6   Publisher            383840 non-null  object\n",
            "dtypes: int64(2), object(5)\n",
            "memory usage: 26.5+ MB\n"
          ]
        }
      ],
      "source": [
        "# Let's check the info of the data after removing entries with rating = 0 \n",
        "df.info()"
      ]
    },
    {
      "cell_type": "markdown",
      "id": "sf0zvqwe5ur7",
      "metadata": {
        "id": "sf0zvqwe5ur7"
      },
      "source": [
        "**Observations:**\n",
        "\n",
        "- The size of the dataset is 433 671 entries now. "
      ]
    },
    {
      "cell_type": "markdown",
      "id": "cbbb105a",
      "metadata": {
        "id": "cbbb105a"
      },
      "source": [
        "Let's check the distribution of ratings again."
      ]
    },
    {
      "cell_type": "markdown",
      "id": "VPM4ngailQmX",
      "metadata": {
        "id": "VPM4ngailQmX"
      },
      "source": [
        "### **Checking updated distribution of ratings**"
      ]
    },
    {
      "cell_type": "code",
      "execution_count": 14,
      "id": "kb66wryT9qVF",
      "metadata": {
        "id": "kb66wryT9qVF",
        "colab": {
          "base_uri": "https://localhost:8080/",
          "height": 395
        },
        "outputId": "815616f6-2af1-4092-8823-b406a6f73a08"
      },
      "outputs": [
        {
          "output_type": "display_data",
          "data": {
            "text/plain": [
              "<Figure size 1200x400 with 1 Axes>"
            ],
            "image/svg+xml": "<?xml version=\"1.0\" encoding=\"utf-8\" standalone=\"no\"?>\n<!DOCTYPE svg PUBLIC \"-//W3C//DTD SVG 1.1//EN\"\n  \"http://www.w3.org/Graphics/SVG/1.1/DTD/svg11.dtd\">\n<svg xmlns:xlink=\"http://www.w3.org/1999/xlink\" width=\"742.853125pt\" height=\"280.114688pt\" viewBox=\"0 0 742.853125 280.114688\" xmlns=\"http://www.w3.org/2000/svg\" version=\"1.1\">\n <metadata>\n  <rdf:RDF xmlns:dc=\"http://purl.org/dc/elements/1.1/\" xmlns:cc=\"http://creativecommons.org/ns#\" xmlns:rdf=\"http://www.w3.org/1999/02/22-rdf-syntax-ns#\">\n   <cc:Work>\n    <dc:type rdf:resource=\"http://purl.org/dc/dcmitype/StillImage\"/>\n    <dc:date>2023-05-05T09:00:51.644100</dc:date>\n    <dc:format>image/svg+xml</dc:format>\n    <dc:creator>\n     <cc:Agent>\n      <dc:title>Matplotlib v3.7.1, https://matplotlib.org/</dc:title>\n     </cc:Agent>\n    </dc:creator>\n   </cc:Work>\n  </rdf:RDF>\n </metadata>\n <defs>\n  <style type=\"text/css\">*{stroke-linejoin: round; stroke-linecap: butt}</style>\n </defs>\n <g id=\"figure_1\">\n  <g id=\"patch_1\">\n   <path d=\"M 0 280.114688 \nL 742.853125 280.114688 \nL 742.853125 0 \nL 0 0 \nz\n\" style=\"fill: #ffffff\"/>\n  </g>\n  <g id=\"axes_1\">\n   <g id=\"patch_2\">\n    <path d=\"M 66.053125 242.558437 \nL 735.653125 242.558437 \nL 735.653125 20.798437 \nL 66.053125 20.798437 \nz\n\" style=\"fill: #ffffff\"/>\n   </g>\n   <g id=\"patch_3\">\n    <path d=\"M 72.749125 242.558437 \nL 126.317125 242.558437 \nL 126.317125 238.954828 \nL 72.749125 238.954828 \nz\n\" clip-path=\"url(#pe138eb6600)\" style=\"fill: #3274a1\"/>\n   </g>\n   <g id=\"patch_4\">\n    <path d=\"M 139.709125 242.558437 \nL 193.277125 242.558437 \nL 193.277125 236.941286 \nL 139.709125 236.941286 \nz\n\" clip-path=\"url(#pe138eb6600)\" style=\"fill: #e1812c\"/>\n   </g>\n   <g id=\"patch_5\">\n    <path d=\"M 206.669125 242.558437 \nL 260.237125 242.558437 \nL 260.237125 230.350957 \nL 206.669125 230.350957 \nz\n\" clip-path=\"url(#pe138eb6600)\" style=\"fill: #3a923a\"/>\n   </g>\n   <g id=\"patch_6\">\n    <path d=\"M 273.629125 242.558437 \nL 327.197125 242.558437 \nL 327.197125 224.430451 \nL 273.629125 224.430451 \nz\n\" clip-path=\"url(#pe138eb6600)\" style=\"fill: #c03d3e\"/>\n   </g>\n   <g id=\"patch_7\">\n    <path d=\"M 340.589125 242.558437 \nL 394.157125 242.558437 \nL 394.157125 138.778566 \nL 340.589125 138.778566 \nz\n\" clip-path=\"url(#pe138eb6600)\" style=\"fill: #9372b2\"/>\n   </g>\n   <g id=\"patch_8\">\n    <path d=\"M 407.549125 242.558437 \nL 461.117125 242.558437 \nL 461.117125 167.383486 \nL 407.549125 167.383486 \nz\n\" clip-path=\"url(#pe138eb6600)\" style=\"fill: #845b53\"/>\n   </g>\n   <g id=\"patch_9\">\n    <path d=\"M 474.509125 242.558437 \nL 528.077125 242.558437 \nL 528.077125 86.896773 \nL 474.509125 86.896773 \nz\n\" clip-path=\"url(#pe138eb6600)\" style=\"fill: #d684bd\"/>\n   </g>\n   <g id=\"patch_10\">\n    <path d=\"M 541.469125 242.558437 \nL 595.037125 242.558437 \nL 595.037125 31.358437 \nL 541.469125 31.358437 \nz\n\" clip-path=\"url(#pe138eb6600)\" style=\"fill: #7f7f7f\"/>\n   </g>\n   <g id=\"patch_11\">\n    <path d=\"M 608.429125 242.558437 \nL 661.997125 242.558437 \nL 661.997125 105.049191 \nL 608.429125 105.049191 \nz\n\" clip-path=\"url(#pe138eb6600)\" style=\"fill: #a9aa35\"/>\n   </g>\n   <g id=\"patch_12\">\n    <path d=\"M 675.389125 242.558437 \nL 728.957125 242.558437 \nL 728.957125 82.5134 \nL 675.389125 82.5134 \nz\n\" clip-path=\"url(#pe138eb6600)\" style=\"fill: #2eabb8\"/>\n   </g>\n   <g id=\"matplotlib.axis_1\">\n    <g id=\"xtick_1\">\n     <g id=\"line2d_1\">\n      <defs>\n       <path id=\"ma0602fbf3c\" d=\"M 0 0 \nL 0 3.5 \n\" style=\"stroke: #000000; stroke-width: 0.8\"/>\n      </defs>\n      <g>\n       <use xlink:href=\"#ma0602fbf3c\" x=\"99.533125\" y=\"242.558437\" style=\"stroke: #000000; stroke-width: 0.8\"/>\n      </g>\n     </g>\n     <g id=\"text_1\">\n      <!-- 1 -->\n      <g transform=\"translate(96.351875 257.156875) scale(0.1 -0.1)\">\n       <defs>\n        <path id=\"DejaVuSans-31\" d=\"M 794 531 \nL 1825 531 \nL 1825 4091 \nL 703 3866 \nL 703 4441 \nL 1819 4666 \nL 2450 4666 \nL 2450 531 \nL 3481 531 \nL 3481 0 \nL 794 0 \nL 794 531 \nz\n\" transform=\"scale(0.015625)\"/>\n       </defs>\n       <use xlink:href=\"#DejaVuSans-31\"/>\n      </g>\n     </g>\n    </g>\n    <g id=\"xtick_2\">\n     <g id=\"line2d_2\">\n      <g>\n       <use xlink:href=\"#ma0602fbf3c\" x=\"166.493125\" y=\"242.558437\" style=\"stroke: #000000; stroke-width: 0.8\"/>\n      </g>\n     </g>\n     <g id=\"text_2\">\n      <!-- 2 -->\n      <g transform=\"translate(163.311875 257.156875) scale(0.1 -0.1)\">\n       <defs>\n        <path id=\"DejaVuSans-32\" d=\"M 1228 531 \nL 3431 531 \nL 3431 0 \nL 469 0 \nL 469 531 \nQ 828 903 1448 1529 \nQ 2069 2156 2228 2338 \nQ 2531 2678 2651 2914 \nQ 2772 3150 2772 3378 \nQ 2772 3750 2511 3984 \nQ 2250 4219 1831 4219 \nQ 1534 4219 1204 4116 \nQ 875 4013 500 3803 \nL 500 4441 \nQ 881 4594 1212 4672 \nQ 1544 4750 1819 4750 \nQ 2544 4750 2975 4387 \nQ 3406 4025 3406 3419 \nQ 3406 3131 3298 2873 \nQ 3191 2616 2906 2266 \nQ 2828 2175 2409 1742 \nQ 1991 1309 1228 531 \nz\n\" transform=\"scale(0.015625)\"/>\n       </defs>\n       <use xlink:href=\"#DejaVuSans-32\"/>\n      </g>\n     </g>\n    </g>\n    <g id=\"xtick_3\">\n     <g id=\"line2d_3\">\n      <g>\n       <use xlink:href=\"#ma0602fbf3c\" x=\"233.453125\" y=\"242.558437\" style=\"stroke: #000000; stroke-width: 0.8\"/>\n      </g>\n     </g>\n     <g id=\"text_3\">\n      <!-- 3 -->\n      <g transform=\"translate(230.271875 257.156875) scale(0.1 -0.1)\">\n       <defs>\n        <path id=\"DejaVuSans-33\" d=\"M 2597 2516 \nQ 3050 2419 3304 2112 \nQ 3559 1806 3559 1356 \nQ 3559 666 3084 287 \nQ 2609 -91 1734 -91 \nQ 1441 -91 1130 -33 \nQ 819 25 488 141 \nL 488 750 \nQ 750 597 1062 519 \nQ 1375 441 1716 441 \nQ 2309 441 2620 675 \nQ 2931 909 2931 1356 \nQ 2931 1769 2642 2001 \nQ 2353 2234 1838 2234 \nL 1294 2234 \nL 1294 2753 \nL 1863 2753 \nQ 2328 2753 2575 2939 \nQ 2822 3125 2822 3475 \nQ 2822 3834 2567 4026 \nQ 2313 4219 1838 4219 \nQ 1578 4219 1281 4162 \nQ 984 4106 628 3988 \nL 628 4550 \nQ 988 4650 1302 4700 \nQ 1616 4750 1894 4750 \nQ 2613 4750 3031 4423 \nQ 3450 4097 3450 3541 \nQ 3450 3153 3228 2886 \nQ 3006 2619 2597 2516 \nz\n\" transform=\"scale(0.015625)\"/>\n       </defs>\n       <use xlink:href=\"#DejaVuSans-33\"/>\n      </g>\n     </g>\n    </g>\n    <g id=\"xtick_4\">\n     <g id=\"line2d_4\">\n      <g>\n       <use xlink:href=\"#ma0602fbf3c\" x=\"300.413125\" y=\"242.558437\" style=\"stroke: #000000; stroke-width: 0.8\"/>\n      </g>\n     </g>\n     <g id=\"text_4\">\n      <!-- 4 -->\n      <g transform=\"translate(297.231875 257.156875) scale(0.1 -0.1)\">\n       <defs>\n        <path id=\"DejaVuSans-34\" d=\"M 2419 4116 \nL 825 1625 \nL 2419 1625 \nL 2419 4116 \nz\nM 2253 4666 \nL 3047 4666 \nL 3047 1625 \nL 3713 1625 \nL 3713 1100 \nL 3047 1100 \nL 3047 0 \nL 2419 0 \nL 2419 1100 \nL 313 1100 \nL 313 1709 \nL 2253 4666 \nz\n\" transform=\"scale(0.015625)\"/>\n       </defs>\n       <use xlink:href=\"#DejaVuSans-34\"/>\n      </g>\n     </g>\n    </g>\n    <g id=\"xtick_5\">\n     <g id=\"line2d_5\">\n      <g>\n       <use xlink:href=\"#ma0602fbf3c\" x=\"367.373125\" y=\"242.558437\" style=\"stroke: #000000; stroke-width: 0.8\"/>\n      </g>\n     </g>\n     <g id=\"text_5\">\n      <!-- 5 -->\n      <g transform=\"translate(364.191875 257.156875) scale(0.1 -0.1)\">\n       <defs>\n        <path id=\"DejaVuSans-35\" d=\"M 691 4666 \nL 3169 4666 \nL 3169 4134 \nL 1269 4134 \nL 1269 2991 \nQ 1406 3038 1543 3061 \nQ 1681 3084 1819 3084 \nQ 2600 3084 3056 2656 \nQ 3513 2228 3513 1497 \nQ 3513 744 3044 326 \nQ 2575 -91 1722 -91 \nQ 1428 -91 1123 -41 \nQ 819 9 494 109 \nL 494 744 \nQ 775 591 1075 516 \nQ 1375 441 1709 441 \nQ 2250 441 2565 725 \nQ 2881 1009 2881 1497 \nQ 2881 1984 2565 2268 \nQ 2250 2553 1709 2553 \nQ 1456 2553 1204 2497 \nQ 953 2441 691 2322 \nL 691 4666 \nz\n\" transform=\"scale(0.015625)\"/>\n       </defs>\n       <use xlink:href=\"#DejaVuSans-35\"/>\n      </g>\n     </g>\n    </g>\n    <g id=\"xtick_6\">\n     <g id=\"line2d_6\">\n      <g>\n       <use xlink:href=\"#ma0602fbf3c\" x=\"434.333125\" y=\"242.558437\" style=\"stroke: #000000; stroke-width: 0.8\"/>\n      </g>\n     </g>\n     <g id=\"text_6\">\n      <!-- 6 -->\n      <g transform=\"translate(431.151875 257.156875) scale(0.1 -0.1)\">\n       <defs>\n        <path id=\"DejaVuSans-36\" d=\"M 2113 2584 \nQ 1688 2584 1439 2293 \nQ 1191 2003 1191 1497 \nQ 1191 994 1439 701 \nQ 1688 409 2113 409 \nQ 2538 409 2786 701 \nQ 3034 994 3034 1497 \nQ 3034 2003 2786 2293 \nQ 2538 2584 2113 2584 \nz\nM 3366 4563 \nL 3366 3988 \nQ 3128 4100 2886 4159 \nQ 2644 4219 2406 4219 \nQ 1781 4219 1451 3797 \nQ 1122 3375 1075 2522 \nQ 1259 2794 1537 2939 \nQ 1816 3084 2150 3084 \nQ 2853 3084 3261 2657 \nQ 3669 2231 3669 1497 \nQ 3669 778 3244 343 \nQ 2819 -91 2113 -91 \nQ 1303 -91 875 529 \nQ 447 1150 447 2328 \nQ 447 3434 972 4092 \nQ 1497 4750 2381 4750 \nQ 2619 4750 2861 4703 \nQ 3103 4656 3366 4563 \nz\n\" transform=\"scale(0.015625)\"/>\n       </defs>\n       <use xlink:href=\"#DejaVuSans-36\"/>\n      </g>\n     </g>\n    </g>\n    <g id=\"xtick_7\">\n     <g id=\"line2d_7\">\n      <g>\n       <use xlink:href=\"#ma0602fbf3c\" x=\"501.293125\" y=\"242.558437\" style=\"stroke: #000000; stroke-width: 0.8\"/>\n      </g>\n     </g>\n     <g id=\"text_7\">\n      <!-- 7 -->\n      <g transform=\"translate(498.111875 257.156875) scale(0.1 -0.1)\">\n       <defs>\n        <path id=\"DejaVuSans-37\" d=\"M 525 4666 \nL 3525 4666 \nL 3525 4397 \nL 1831 0 \nL 1172 0 \nL 2766 4134 \nL 525 4134 \nL 525 4666 \nz\n\" transform=\"scale(0.015625)\"/>\n       </defs>\n       <use xlink:href=\"#DejaVuSans-37\"/>\n      </g>\n     </g>\n    </g>\n    <g id=\"xtick_8\">\n     <g id=\"line2d_8\">\n      <g>\n       <use xlink:href=\"#ma0602fbf3c\" x=\"568.253125\" y=\"242.558437\" style=\"stroke: #000000; stroke-width: 0.8\"/>\n      </g>\n     </g>\n     <g id=\"text_8\">\n      <!-- 8 -->\n      <g transform=\"translate(565.071875 257.156875) scale(0.1 -0.1)\">\n       <defs>\n        <path id=\"DejaVuSans-38\" d=\"M 2034 2216 \nQ 1584 2216 1326 1975 \nQ 1069 1734 1069 1313 \nQ 1069 891 1326 650 \nQ 1584 409 2034 409 \nQ 2484 409 2743 651 \nQ 3003 894 3003 1313 \nQ 3003 1734 2745 1975 \nQ 2488 2216 2034 2216 \nz\nM 1403 2484 \nQ 997 2584 770 2862 \nQ 544 3141 544 3541 \nQ 544 4100 942 4425 \nQ 1341 4750 2034 4750 \nQ 2731 4750 3128 4425 \nQ 3525 4100 3525 3541 \nQ 3525 3141 3298 2862 \nQ 3072 2584 2669 2484 \nQ 3125 2378 3379 2068 \nQ 3634 1759 3634 1313 \nQ 3634 634 3220 271 \nQ 2806 -91 2034 -91 \nQ 1263 -91 848 271 \nQ 434 634 434 1313 \nQ 434 1759 690 2068 \nQ 947 2378 1403 2484 \nz\nM 1172 3481 \nQ 1172 3119 1398 2916 \nQ 1625 2713 2034 2713 \nQ 2441 2713 2670 2916 \nQ 2900 3119 2900 3481 \nQ 2900 3844 2670 4047 \nQ 2441 4250 2034 4250 \nQ 1625 4250 1398 4047 \nQ 1172 3844 1172 3481 \nz\n\" transform=\"scale(0.015625)\"/>\n       </defs>\n       <use xlink:href=\"#DejaVuSans-38\"/>\n      </g>\n     </g>\n    </g>\n    <g id=\"xtick_9\">\n     <g id=\"line2d_9\">\n      <g>\n       <use xlink:href=\"#ma0602fbf3c\" x=\"635.213125\" y=\"242.558437\" style=\"stroke: #000000; stroke-width: 0.8\"/>\n      </g>\n     </g>\n     <g id=\"text_9\">\n      <!-- 9 -->\n      <g transform=\"translate(632.031875 257.156875) scale(0.1 -0.1)\">\n       <defs>\n        <path id=\"DejaVuSans-39\" d=\"M 703 97 \nL 703 672 \nQ 941 559 1184 500 \nQ 1428 441 1663 441 \nQ 2288 441 2617 861 \nQ 2947 1281 2994 2138 \nQ 2813 1869 2534 1725 \nQ 2256 1581 1919 1581 \nQ 1219 1581 811 2004 \nQ 403 2428 403 3163 \nQ 403 3881 828 4315 \nQ 1253 4750 1959 4750 \nQ 2769 4750 3195 4129 \nQ 3622 3509 3622 2328 \nQ 3622 1225 3098 567 \nQ 2575 -91 1691 -91 \nQ 1453 -91 1209 -44 \nQ 966 3 703 97 \nz\nM 1959 2075 \nQ 2384 2075 2632 2365 \nQ 2881 2656 2881 3163 \nQ 2881 3666 2632 3958 \nQ 2384 4250 1959 4250 \nQ 1534 4250 1286 3958 \nQ 1038 3666 1038 3163 \nQ 1038 2656 1286 2365 \nQ 1534 2075 1959 2075 \nz\n\" transform=\"scale(0.015625)\"/>\n       </defs>\n       <use xlink:href=\"#DejaVuSans-39\"/>\n      </g>\n     </g>\n    </g>\n    <g id=\"xtick_10\">\n     <g id=\"line2d_10\">\n      <g>\n       <use xlink:href=\"#ma0602fbf3c\" x=\"702.173125\" y=\"242.558437\" style=\"stroke: #000000; stroke-width: 0.8\"/>\n      </g>\n     </g>\n     <g id=\"text_10\">\n      <!-- 10 -->\n      <g transform=\"translate(695.810625 257.156875) scale(0.1 -0.1)\">\n       <defs>\n        <path id=\"DejaVuSans-30\" d=\"M 2034 4250 \nQ 1547 4250 1301 3770 \nQ 1056 3291 1056 2328 \nQ 1056 1369 1301 889 \nQ 1547 409 2034 409 \nQ 2525 409 2770 889 \nQ 3016 1369 3016 2328 \nQ 3016 3291 2770 3770 \nQ 2525 4250 2034 4250 \nz\nM 2034 4750 \nQ 2819 4750 3233 4129 \nQ 3647 3509 3647 2328 \nQ 3647 1150 3233 529 \nQ 2819 -91 2034 -91 \nQ 1250 -91 836 529 \nQ 422 1150 422 2328 \nQ 422 3509 836 4129 \nQ 1250 4750 2034 4750 \nz\n\" transform=\"scale(0.015625)\"/>\n       </defs>\n       <use xlink:href=\"#DejaVuSans-31\"/>\n       <use xlink:href=\"#DejaVuSans-30\" x=\"63.623047\"/>\n      </g>\n     </g>\n    </g>\n    <g id=\"text_11\">\n     <!-- Ratings -->\n     <g transform=\"translate(382.130469 270.835) scale(0.1 -0.1)\">\n      <defs>\n       <path id=\"DejaVuSans-52\" d=\"M 2841 2188 \nQ 3044 2119 3236 1894 \nQ 3428 1669 3622 1275 \nL 4263 0 \nL 3584 0 \nL 2988 1197 \nQ 2756 1666 2539 1819 \nQ 2322 1972 1947 1972 \nL 1259 1972 \nL 1259 0 \nL 628 0 \nL 628 4666 \nL 2053 4666 \nQ 2853 4666 3247 4331 \nQ 3641 3997 3641 3322 \nQ 3641 2881 3436 2590 \nQ 3231 2300 2841 2188 \nz\nM 1259 4147 \nL 1259 2491 \nL 2053 2491 \nQ 2509 2491 2742 2702 \nQ 2975 2913 2975 3322 \nQ 2975 3731 2742 3939 \nQ 2509 4147 2053 4147 \nL 1259 4147 \nz\n\" transform=\"scale(0.015625)\"/>\n       <path id=\"DejaVuSans-61\" d=\"M 2194 1759 \nQ 1497 1759 1228 1600 \nQ 959 1441 959 1056 \nQ 959 750 1161 570 \nQ 1363 391 1709 391 \nQ 2188 391 2477 730 \nQ 2766 1069 2766 1631 \nL 2766 1759 \nL 2194 1759 \nz\nM 3341 1997 \nL 3341 0 \nL 2766 0 \nL 2766 531 \nQ 2569 213 2275 61 \nQ 1981 -91 1556 -91 \nQ 1019 -91 701 211 \nQ 384 513 384 1019 \nQ 384 1609 779 1909 \nQ 1175 2209 1959 2209 \nL 2766 2209 \nL 2766 2266 \nQ 2766 2663 2505 2880 \nQ 2244 3097 1772 3097 \nQ 1472 3097 1187 3025 \nQ 903 2953 641 2809 \nL 641 3341 \nQ 956 3463 1253 3523 \nQ 1550 3584 1831 3584 \nQ 2591 3584 2966 3190 \nQ 3341 2797 3341 1997 \nz\n\" transform=\"scale(0.015625)\"/>\n       <path id=\"DejaVuSans-74\" d=\"M 1172 4494 \nL 1172 3500 \nL 2356 3500 \nL 2356 3053 \nL 1172 3053 \nL 1172 1153 \nQ 1172 725 1289 603 \nQ 1406 481 1766 481 \nL 2356 481 \nL 2356 0 \nL 1766 0 \nQ 1100 0 847 248 \nQ 594 497 594 1153 \nL 594 3053 \nL 172 3053 \nL 172 3500 \nL 594 3500 \nL 594 4494 \nL 1172 4494 \nz\n\" transform=\"scale(0.015625)\"/>\n       <path id=\"DejaVuSans-69\" d=\"M 603 3500 \nL 1178 3500 \nL 1178 0 \nL 603 0 \nL 603 3500 \nz\nM 603 4863 \nL 1178 4863 \nL 1178 4134 \nL 603 4134 \nL 603 4863 \nz\n\" transform=\"scale(0.015625)\"/>\n       <path id=\"DejaVuSans-6e\" d=\"M 3513 2113 \nL 3513 0 \nL 2938 0 \nL 2938 2094 \nQ 2938 2591 2744 2837 \nQ 2550 3084 2163 3084 \nQ 1697 3084 1428 2787 \nQ 1159 2491 1159 1978 \nL 1159 0 \nL 581 0 \nL 581 3500 \nL 1159 3500 \nL 1159 2956 \nQ 1366 3272 1645 3428 \nQ 1925 3584 2291 3584 \nQ 2894 3584 3203 3211 \nQ 3513 2838 3513 2113 \nz\n\" transform=\"scale(0.015625)\"/>\n       <path id=\"DejaVuSans-67\" d=\"M 2906 1791 \nQ 2906 2416 2648 2759 \nQ 2391 3103 1925 3103 \nQ 1463 3103 1205 2759 \nQ 947 2416 947 1791 \nQ 947 1169 1205 825 \nQ 1463 481 1925 481 \nQ 2391 481 2648 825 \nQ 2906 1169 2906 1791 \nz\nM 3481 434 \nQ 3481 -459 3084 -895 \nQ 2688 -1331 1869 -1331 \nQ 1566 -1331 1297 -1286 \nQ 1028 -1241 775 -1147 \nL 775 -588 \nQ 1028 -725 1275 -790 \nQ 1522 -856 1778 -856 \nQ 2344 -856 2625 -561 \nQ 2906 -266 2906 331 \nL 2906 616 \nQ 2728 306 2450 153 \nQ 2172 0 1784 0 \nQ 1141 0 747 490 \nQ 353 981 353 1791 \nQ 353 2603 747 3093 \nQ 1141 3584 1784 3584 \nQ 2172 3584 2450 3431 \nQ 2728 3278 2906 2969 \nL 2906 3500 \nL 3481 3500 \nL 3481 434 \nz\n\" transform=\"scale(0.015625)\"/>\n       <path id=\"DejaVuSans-73\" d=\"M 2834 3397 \nL 2834 2853 \nQ 2591 2978 2328 3040 \nQ 2066 3103 1784 3103 \nQ 1356 3103 1142 2972 \nQ 928 2841 928 2578 \nQ 928 2378 1081 2264 \nQ 1234 2150 1697 2047 \nL 1894 2003 \nQ 2506 1872 2764 1633 \nQ 3022 1394 3022 966 \nQ 3022 478 2636 193 \nQ 2250 -91 1575 -91 \nQ 1294 -91 989 -36 \nQ 684 19 347 128 \nL 347 722 \nQ 666 556 975 473 \nQ 1284 391 1588 391 \nQ 1994 391 2212 530 \nQ 2431 669 2431 922 \nQ 2431 1156 2273 1281 \nQ 2116 1406 1581 1522 \nL 1381 1569 \nQ 847 1681 609 1914 \nQ 372 2147 372 2553 \nQ 372 3047 722 3315 \nQ 1072 3584 1716 3584 \nQ 2034 3584 2315 3537 \nQ 2597 3491 2834 3397 \nz\n\" transform=\"scale(0.015625)\"/>\n      </defs>\n      <use xlink:href=\"#DejaVuSans-52\"/>\n      <use xlink:href=\"#DejaVuSans-61\" x=\"67.232422\"/>\n      <use xlink:href=\"#DejaVuSans-74\" x=\"128.511719\"/>\n      <use xlink:href=\"#DejaVuSans-69\" x=\"167.720703\"/>\n      <use xlink:href=\"#DejaVuSans-6e\" x=\"195.503906\"/>\n      <use xlink:href=\"#DejaVuSans-67\" x=\"258.882812\"/>\n      <use xlink:href=\"#DejaVuSans-73\" x=\"322.359375\"/>\n     </g>\n    </g>\n   </g>\n   <g id=\"matplotlib.axis_2\">\n    <g id=\"ytick_1\">\n     <g id=\"line2d_11\">\n      <defs>\n       <path id=\"m964bb81259\" d=\"M 0 0 \nL -3.5 0 \n\" style=\"stroke: #000000; stroke-width: 0.8\"/>\n      </defs>\n      <g>\n       <use xlink:href=\"#m964bb81259\" x=\"66.053125\" y=\"242.558437\" style=\"stroke: #000000; stroke-width: 0.8\"/>\n      </g>\n     </g>\n     <g id=\"text_12\">\n      <!-- 0 -->\n      <g transform=\"translate(52.690625 246.357656) scale(0.1 -0.1)\">\n       <use xlink:href=\"#DejaVuSans-30\"/>\n      </g>\n     </g>\n    </g>\n    <g id=\"ytick_2\">\n     <g id=\"line2d_12\">\n      <g>\n       <use xlink:href=\"#m964bb81259\" x=\"66.053125\" y=\"201.83969\" style=\"stroke: #000000; stroke-width: 0.8\"/>\n      </g>\n     </g>\n     <g id=\"text_13\">\n      <!-- 20000 -->\n      <g transform=\"translate(27.240625 205.638909) scale(0.1 -0.1)\">\n       <use xlink:href=\"#DejaVuSans-32\"/>\n       <use xlink:href=\"#DejaVuSans-30\" x=\"63.623047\"/>\n       <use xlink:href=\"#DejaVuSans-30\" x=\"127.246094\"/>\n       <use xlink:href=\"#DejaVuSans-30\" x=\"190.869141\"/>\n       <use xlink:href=\"#DejaVuSans-30\" x=\"254.492188\"/>\n      </g>\n     </g>\n    </g>\n    <g id=\"ytick_3\">\n     <g id=\"line2d_13\">\n      <g>\n       <use xlink:href=\"#m964bb81259\" x=\"66.053125\" y=\"161.120942\" style=\"stroke: #000000; stroke-width: 0.8\"/>\n      </g>\n     </g>\n     <g id=\"text_14\">\n      <!-- 40000 -->\n      <g transform=\"translate(27.240625 164.920161) scale(0.1 -0.1)\">\n       <use xlink:href=\"#DejaVuSans-34\"/>\n       <use xlink:href=\"#DejaVuSans-30\" x=\"63.623047\"/>\n       <use xlink:href=\"#DejaVuSans-30\" x=\"127.246094\"/>\n       <use xlink:href=\"#DejaVuSans-30\" x=\"190.869141\"/>\n       <use xlink:href=\"#DejaVuSans-30\" x=\"254.492188\"/>\n      </g>\n     </g>\n    </g>\n    <g id=\"ytick_4\">\n     <g id=\"line2d_14\">\n      <g>\n       <use xlink:href=\"#m964bb81259\" x=\"66.053125\" y=\"120.402195\" style=\"stroke: #000000; stroke-width: 0.8\"/>\n      </g>\n     </g>\n     <g id=\"text_15\">\n      <!-- 60000 -->\n      <g transform=\"translate(27.240625 124.201413) scale(0.1 -0.1)\">\n       <use xlink:href=\"#DejaVuSans-36\"/>\n       <use xlink:href=\"#DejaVuSans-30\" x=\"63.623047\"/>\n       <use xlink:href=\"#DejaVuSans-30\" x=\"127.246094\"/>\n       <use xlink:href=\"#DejaVuSans-30\" x=\"190.869141\"/>\n       <use xlink:href=\"#DejaVuSans-30\" x=\"254.492188\"/>\n      </g>\n     </g>\n    </g>\n    <g id=\"ytick_5\">\n     <g id=\"line2d_15\">\n      <g>\n       <use xlink:href=\"#m964bb81259\" x=\"66.053125\" y=\"79.683447\" style=\"stroke: #000000; stroke-width: 0.8\"/>\n      </g>\n     </g>\n     <g id=\"text_16\">\n      <!-- 80000 -->\n      <g transform=\"translate(27.240625 83.482666) scale(0.1 -0.1)\">\n       <use xlink:href=\"#DejaVuSans-38\"/>\n       <use xlink:href=\"#DejaVuSans-30\" x=\"63.623047\"/>\n       <use xlink:href=\"#DejaVuSans-30\" x=\"127.246094\"/>\n       <use xlink:href=\"#DejaVuSans-30\" x=\"190.869141\"/>\n       <use xlink:href=\"#DejaVuSans-30\" x=\"254.492188\"/>\n      </g>\n     </g>\n    </g>\n    <g id=\"ytick_6\">\n     <g id=\"line2d_16\">\n      <g>\n       <use xlink:href=\"#m964bb81259\" x=\"66.053125\" y=\"38.9647\" style=\"stroke: #000000; stroke-width: 0.8\"/>\n      </g>\n     </g>\n     <g id=\"text_17\">\n      <!-- 100000 -->\n      <g transform=\"translate(20.878125 42.763918) scale(0.1 -0.1)\">\n       <use xlink:href=\"#DejaVuSans-31\"/>\n       <use xlink:href=\"#DejaVuSans-30\" x=\"63.623047\"/>\n       <use xlink:href=\"#DejaVuSans-30\" x=\"127.246094\"/>\n       <use xlink:href=\"#DejaVuSans-30\" x=\"190.869141\"/>\n       <use xlink:href=\"#DejaVuSans-30\" x=\"254.492188\"/>\n       <use xlink:href=\"#DejaVuSans-30\" x=\"318.115234\"/>\n      </g>\n     </g>\n    </g>\n    <g id=\"text_18\">\n     <!-- Number of Ratings -->\n     <g transform=\"translate(14.798438 178.484687) rotate(-90) scale(0.1 -0.1)\">\n      <defs>\n       <path id=\"DejaVuSans-4e\" d=\"M 628 4666 \nL 1478 4666 \nL 3547 763 \nL 3547 4666 \nL 4159 4666 \nL 4159 0 \nL 3309 0 \nL 1241 3903 \nL 1241 0 \nL 628 0 \nL 628 4666 \nz\n\" transform=\"scale(0.015625)\"/>\n       <path id=\"DejaVuSans-75\" d=\"M 544 1381 \nL 544 3500 \nL 1119 3500 \nL 1119 1403 \nQ 1119 906 1312 657 \nQ 1506 409 1894 409 \nQ 2359 409 2629 706 \nQ 2900 1003 2900 1516 \nL 2900 3500 \nL 3475 3500 \nL 3475 0 \nL 2900 0 \nL 2900 538 \nQ 2691 219 2414 64 \nQ 2138 -91 1772 -91 \nQ 1169 -91 856 284 \nQ 544 659 544 1381 \nz\nM 1991 3584 \nL 1991 3584 \nz\n\" transform=\"scale(0.015625)\"/>\n       <path id=\"DejaVuSans-6d\" d=\"M 3328 2828 \nQ 3544 3216 3844 3400 \nQ 4144 3584 4550 3584 \nQ 5097 3584 5394 3201 \nQ 5691 2819 5691 2113 \nL 5691 0 \nL 5113 0 \nL 5113 2094 \nQ 5113 2597 4934 2840 \nQ 4756 3084 4391 3084 \nQ 3944 3084 3684 2787 \nQ 3425 2491 3425 1978 \nL 3425 0 \nL 2847 0 \nL 2847 2094 \nQ 2847 2600 2669 2842 \nQ 2491 3084 2119 3084 \nQ 1678 3084 1418 2786 \nQ 1159 2488 1159 1978 \nL 1159 0 \nL 581 0 \nL 581 3500 \nL 1159 3500 \nL 1159 2956 \nQ 1356 3278 1631 3431 \nQ 1906 3584 2284 3584 \nQ 2666 3584 2933 3390 \nQ 3200 3197 3328 2828 \nz\n\" transform=\"scale(0.015625)\"/>\n       <path id=\"DejaVuSans-62\" d=\"M 3116 1747 \nQ 3116 2381 2855 2742 \nQ 2594 3103 2138 3103 \nQ 1681 3103 1420 2742 \nQ 1159 2381 1159 1747 \nQ 1159 1113 1420 752 \nQ 1681 391 2138 391 \nQ 2594 391 2855 752 \nQ 3116 1113 3116 1747 \nz\nM 1159 2969 \nQ 1341 3281 1617 3432 \nQ 1894 3584 2278 3584 \nQ 2916 3584 3314 3078 \nQ 3713 2572 3713 1747 \nQ 3713 922 3314 415 \nQ 2916 -91 2278 -91 \nQ 1894 -91 1617 61 \nQ 1341 213 1159 525 \nL 1159 0 \nL 581 0 \nL 581 4863 \nL 1159 4863 \nL 1159 2969 \nz\n\" transform=\"scale(0.015625)\"/>\n       <path id=\"DejaVuSans-65\" d=\"M 3597 1894 \nL 3597 1613 \nL 953 1613 \nQ 991 1019 1311 708 \nQ 1631 397 2203 397 \nQ 2534 397 2845 478 \nQ 3156 559 3463 722 \nL 3463 178 \nQ 3153 47 2828 -22 \nQ 2503 -91 2169 -91 \nQ 1331 -91 842 396 \nQ 353 884 353 1716 \nQ 353 2575 817 3079 \nQ 1281 3584 2069 3584 \nQ 2775 3584 3186 3129 \nQ 3597 2675 3597 1894 \nz\nM 3022 2063 \nQ 3016 2534 2758 2815 \nQ 2500 3097 2075 3097 \nQ 1594 3097 1305 2825 \nQ 1016 2553 972 2059 \nL 3022 2063 \nz\n\" transform=\"scale(0.015625)\"/>\n       <path id=\"DejaVuSans-72\" d=\"M 2631 2963 \nQ 2534 3019 2420 3045 \nQ 2306 3072 2169 3072 \nQ 1681 3072 1420 2755 \nQ 1159 2438 1159 1844 \nL 1159 0 \nL 581 0 \nL 581 3500 \nL 1159 3500 \nL 1159 2956 \nQ 1341 3275 1631 3429 \nQ 1922 3584 2338 3584 \nQ 2397 3584 2469 3576 \nQ 2541 3569 2628 3553 \nL 2631 2963 \nz\n\" transform=\"scale(0.015625)\"/>\n       <path id=\"DejaVuSans-20\" transform=\"scale(0.015625)\"/>\n       <path id=\"DejaVuSans-6f\" d=\"M 1959 3097 \nQ 1497 3097 1228 2736 \nQ 959 2375 959 1747 \nQ 959 1119 1226 758 \nQ 1494 397 1959 397 \nQ 2419 397 2687 759 \nQ 2956 1122 2956 1747 \nQ 2956 2369 2687 2733 \nQ 2419 3097 1959 3097 \nz\nM 1959 3584 \nQ 2709 3584 3137 3096 \nQ 3566 2609 3566 1747 \nQ 3566 888 3137 398 \nQ 2709 -91 1959 -91 \nQ 1206 -91 779 398 \nQ 353 888 353 1747 \nQ 353 2609 779 3096 \nQ 1206 3584 1959 3584 \nz\n\" transform=\"scale(0.015625)\"/>\n       <path id=\"DejaVuSans-66\" d=\"M 2375 4863 \nL 2375 4384 \nL 1825 4384 \nQ 1516 4384 1395 4259 \nQ 1275 4134 1275 3809 \nL 1275 3500 \nL 2222 3500 \nL 2222 3053 \nL 1275 3053 \nL 1275 0 \nL 697 0 \nL 697 3053 \nL 147 3053 \nL 147 3500 \nL 697 3500 \nL 697 3744 \nQ 697 4328 969 4595 \nQ 1241 4863 1831 4863 \nL 2375 4863 \nz\n\" transform=\"scale(0.015625)\"/>\n      </defs>\n      <use xlink:href=\"#DejaVuSans-4e\"/>\n      <use xlink:href=\"#DejaVuSans-75\" x=\"74.804688\"/>\n      <use xlink:href=\"#DejaVuSans-6d\" x=\"138.183594\"/>\n      <use xlink:href=\"#DejaVuSans-62\" x=\"235.595703\"/>\n      <use xlink:href=\"#DejaVuSans-65\" x=\"299.072266\"/>\n      <use xlink:href=\"#DejaVuSans-72\" x=\"360.595703\"/>\n      <use xlink:href=\"#DejaVuSans-20\" x=\"401.708984\"/>\n      <use xlink:href=\"#DejaVuSans-6f\" x=\"433.496094\"/>\n      <use xlink:href=\"#DejaVuSans-66\" x=\"494.677734\"/>\n      <use xlink:href=\"#DejaVuSans-20\" x=\"529.882812\"/>\n      <use xlink:href=\"#DejaVuSans-52\" x=\"561.669922\"/>\n      <use xlink:href=\"#DejaVuSans-61\" x=\"628.902344\"/>\n      <use xlink:href=\"#DejaVuSans-74\" x=\"690.181641\"/>\n      <use xlink:href=\"#DejaVuSans-69\" x=\"729.390625\"/>\n      <use xlink:href=\"#DejaVuSans-6e\" x=\"757.173828\"/>\n      <use xlink:href=\"#DejaVuSans-67\" x=\"820.552734\"/>\n      <use xlink:href=\"#DejaVuSans-73\" x=\"884.029297\"/>\n     </g>\n    </g>\n   </g>\n   <g id=\"patch_13\">\n    <path d=\"M 66.053125 242.558437 \nL 66.053125 20.798437 \n\" style=\"fill: none; stroke: #000000; stroke-width: 0.8; stroke-linejoin: miter; stroke-linecap: square\"/>\n   </g>\n   <g id=\"patch_14\">\n    <path d=\"M 735.653125 242.558437 \nL 735.653125 20.798437 \n\" style=\"fill: none; stroke: #000000; stroke-width: 0.8; stroke-linejoin: miter; stroke-linecap: square\"/>\n   </g>\n   <g id=\"patch_15\">\n    <path d=\"M 66.053125 242.558437 \nL 735.653125 242.558437 \n\" style=\"fill: none; stroke: #000000; stroke-width: 0.8; stroke-linejoin: miter; stroke-linecap: square\"/>\n   </g>\n   <g id=\"patch_16\">\n    <path d=\"M 66.053125 20.798437 \nL 735.653125 20.798437 \n\" style=\"fill: none; stroke: #000000; stroke-width: 0.8; stroke-linejoin: miter; stroke-linecap: square\"/>\n   </g>\n   <g id=\"text_19\">\n    <!-- Distribution of Ratings  -->\n    <g transform=\"translate(343.375 14.798437) scale(0.1 -0.1)\">\n     <defs>\n      <path id=\"DejaVuSans-44\" d=\"M 1259 4147 \nL 1259 519 \nL 2022 519 \nQ 2988 519 3436 956 \nQ 3884 1394 3884 2338 \nQ 3884 3275 3436 3711 \nQ 2988 4147 2022 4147 \nL 1259 4147 \nz\nM 628 4666 \nL 1925 4666 \nQ 3281 4666 3915 4102 \nQ 4550 3538 4550 2338 \nQ 4550 1131 3912 565 \nQ 3275 0 1925 0 \nL 628 0 \nL 628 4666 \nz\n\" transform=\"scale(0.015625)\"/>\n     </defs>\n     <use xlink:href=\"#DejaVuSans-44\"/>\n     <use xlink:href=\"#DejaVuSans-69\" x=\"77.001953\"/>\n     <use xlink:href=\"#DejaVuSans-73\" x=\"104.785156\"/>\n     <use xlink:href=\"#DejaVuSans-74\" x=\"156.884766\"/>\n     <use xlink:href=\"#DejaVuSans-72\" x=\"196.09375\"/>\n     <use xlink:href=\"#DejaVuSans-69\" x=\"237.207031\"/>\n     <use xlink:href=\"#DejaVuSans-62\" x=\"264.990234\"/>\n     <use xlink:href=\"#DejaVuSans-75\" x=\"328.466797\"/>\n     <use xlink:href=\"#DejaVuSans-74\" x=\"391.845703\"/>\n     <use xlink:href=\"#DejaVuSans-69\" x=\"431.054688\"/>\n     <use xlink:href=\"#DejaVuSans-6f\" x=\"458.837891\"/>\n     <use xlink:href=\"#DejaVuSans-6e\" x=\"520.019531\"/>\n     <use xlink:href=\"#DejaVuSans-20\" x=\"583.398438\"/>\n     <use xlink:href=\"#DejaVuSans-6f\" x=\"615.185547\"/>\n     <use xlink:href=\"#DejaVuSans-66\" x=\"676.367188\"/>\n     <use xlink:href=\"#DejaVuSans-20\" x=\"711.572266\"/>\n     <use xlink:href=\"#DejaVuSans-52\" x=\"743.359375\"/>\n     <use xlink:href=\"#DejaVuSans-61\" x=\"810.591797\"/>\n     <use xlink:href=\"#DejaVuSans-74\" x=\"871.871094\"/>\n     <use xlink:href=\"#DejaVuSans-69\" x=\"911.080078\"/>\n     <use xlink:href=\"#DejaVuSans-6e\" x=\"938.863281\"/>\n     <use xlink:href=\"#DejaVuSans-67\" x=\"1002.242188\"/>\n     <use xlink:href=\"#DejaVuSans-73\" x=\"1065.71875\"/>\n     <use xlink:href=\"#DejaVuSans-20\" x=\"1117.818359\"/>\n    </g>\n   </g>\n  </g>\n </g>\n <defs>\n  <clipPath id=\"pe138eb6600\">\n   <rect x=\"66.053125\" y=\"20.798437\" width=\"669.6\" height=\"221.76\"/>\n  </clipPath>\n </defs>\n</svg>\n"
          },
          "metadata": {}
        }
      ],
      "source": [
        "# Distribution of ratings\n",
        "plt.figure(figsize = (12, 4))\n",
        "sns.countplot(data=df, x='rating')\n",
        "\n",
        "plt.tick_params(labelsize = 10)\n",
        "plt.title(\"Distribution of Ratings \", fontsize = 10)\n",
        "plt.xlabel(\"Ratings\", fontsize = 10)\n",
        "plt.ylabel(\"Number of Ratings\", fontsize = 10)\n",
        "plt.show()"
      ]
    },
    {
      "cell_type": "markdown",
      "id": "-57mhIwdksgr",
      "metadata": {
        "id": "-57mhIwdksgr"
      },
      "source": [
        "**Observations:**\n",
        "\n",
        "- The ratings from 1 to 4 contribute to only small part of all the ratings. \n",
        "- The most popular rating is 8 followed by 10, 7 and 9 ratings."
      ]
    },
    {
      "cell_type": "code",
      "execution_count": 15,
      "id": "id6eLatCSM4N",
      "metadata": {
        "id": "id6eLatCSM4N",
        "colab": {
          "base_uri": "https://localhost:8080/"
        },
        "outputId": "97729dbb-7847-4df9-c899-2a3af8a42527"
      },
      "outputs": [
        {
          "output_type": "execute_result",
          "data": {
            "text/plain": [
              "77805"
            ]
          },
          "metadata": {},
          "execution_count": 15
        }
      ],
      "source": [
        "# Let's check the number of unique users\n",
        "df['user_id'].unique().shape[0]"
      ]
    },
    {
      "cell_type": "code",
      "execution_count": 16,
      "id": "8a951080",
      "metadata": {
        "id": "8a951080",
        "colab": {
          "base_uri": "https://localhost:8080/"
        },
        "outputId": "62d0432b-7486-45c6-8296-a0946019402b"
      },
      "outputs": [
        {
          "output_type": "execute_result",
          "data": {
            "text/plain": [
              "185973"
            ]
          },
          "metadata": {},
          "execution_count": 16
        }
      ],
      "source": [
        "# Let's check the number of unique books\n",
        "df['book_id'].unique().shape[0]"
      ]
    },
    {
      "cell_type": "markdown",
      "id": "Br8_JTxlXkor",
      "metadata": {
        "id": "Br8_JTxlXkor"
      },
      "source": [
        "**Observations:**\n",
        "\n",
        "- There are 77805 unique users and 185973 books in the dataset, so the total number of potential interactions is 77805 x 185973 ~ 14.5B.\n",
        "- We have only 433671 of observed interactions which is ~ 0.003% from total. \n",
        "This is a very sparse data. \n",
        "- Our task is predict all possible interactions which were not observed. "
      ]
    },
    {
      "cell_type": "markdown",
      "source": [
        "**Let's check if the all observed interactions between an user and a book are unique.**"
      ],
      "metadata": {
        "id": "RF-mAjuTZrgn"
      },
      "id": "RF-mAjuTZrgn"
    },
    {
      "cell_type": "code",
      "execution_count": 17,
      "id": "MmKRLghiXOGU",
      "metadata": {
        "id": "MmKRLghiXOGU",
        "colab": {
          "base_uri": "https://localhost:8080/",
          "height": 455
        },
        "outputId": "aa07c322-fc31-4102-dcb7-872b74e421d6"
      },
      "outputs": [
        {
          "output_type": "execute_result",
          "data": {
            "text/plain": [
              "                    rating  Book-Title  Book-Author  Year-Of-Publication  \\\n",
              "user_id book_id                                                            \n",
              "8       0002005018       1           1            1                    1   \n",
              "        074322678X       1           1            1                    1   \n",
              "        0887841740       1           1            1                    1   \n",
              "        1552041778       1           1            1                    1   \n",
              "        1567407781       1           1            1                    1   \n",
              "...                    ...         ...          ...                  ...   \n",
              "278854  0375703063       1           1            1                    1   \n",
              "        042516098X       1           1            1                    1   \n",
              "        0425163393       1           1            1                    1   \n",
              "        0553275739       1           1            1                    1   \n",
              "        0553579606       1           1            1                    1   \n",
              "\n",
              "                    Publisher  \n",
              "user_id book_id                \n",
              "8       0002005018          1  \n",
              "        074322678X          1  \n",
              "        0887841740          1  \n",
              "        1552041778          1  \n",
              "        1567407781          1  \n",
              "...                       ...  \n",
              "278854  0375703063          1  \n",
              "        042516098X          1  \n",
              "        0425163393          1  \n",
              "        0553275739          1  \n",
              "        0553579606          1  \n",
              "\n",
              "[433671 rows x 5 columns]"
            ],
            "text/html": [
              "\n",
              "  <div id=\"df-170ee1c8-3e20-4b26-b903-9a58866d060b\">\n",
              "    <div class=\"colab-df-container\">\n",
              "      <div>\n",
              "<style scoped>\n",
              "    .dataframe tbody tr th:only-of-type {\n",
              "        vertical-align: middle;\n",
              "    }\n",
              "\n",
              "    .dataframe tbody tr th {\n",
              "        vertical-align: top;\n",
              "    }\n",
              "\n",
              "    .dataframe thead th {\n",
              "        text-align: right;\n",
              "    }\n",
              "</style>\n",
              "<table border=\"1\" class=\"dataframe\">\n",
              "  <thead>\n",
              "    <tr style=\"text-align: right;\">\n",
              "      <th></th>\n",
              "      <th></th>\n",
              "      <th>rating</th>\n",
              "      <th>Book-Title</th>\n",
              "      <th>Book-Author</th>\n",
              "      <th>Year-Of-Publication</th>\n",
              "      <th>Publisher</th>\n",
              "    </tr>\n",
              "    <tr>\n",
              "      <th>user_id</th>\n",
              "      <th>book_id</th>\n",
              "      <th></th>\n",
              "      <th></th>\n",
              "      <th></th>\n",
              "      <th></th>\n",
              "      <th></th>\n",
              "    </tr>\n",
              "  </thead>\n",
              "  <tbody>\n",
              "    <tr>\n",
              "      <th rowspan=\"5\" valign=\"top\">8</th>\n",
              "      <th>0002005018</th>\n",
              "      <td>1</td>\n",
              "      <td>1</td>\n",
              "      <td>1</td>\n",
              "      <td>1</td>\n",
              "      <td>1</td>\n",
              "    </tr>\n",
              "    <tr>\n",
              "      <th>074322678X</th>\n",
              "      <td>1</td>\n",
              "      <td>1</td>\n",
              "      <td>1</td>\n",
              "      <td>1</td>\n",
              "      <td>1</td>\n",
              "    </tr>\n",
              "    <tr>\n",
              "      <th>0887841740</th>\n",
              "      <td>1</td>\n",
              "      <td>1</td>\n",
              "      <td>1</td>\n",
              "      <td>1</td>\n",
              "      <td>1</td>\n",
              "    </tr>\n",
              "    <tr>\n",
              "      <th>1552041778</th>\n",
              "      <td>1</td>\n",
              "      <td>1</td>\n",
              "      <td>1</td>\n",
              "      <td>1</td>\n",
              "      <td>1</td>\n",
              "    </tr>\n",
              "    <tr>\n",
              "      <th>1567407781</th>\n",
              "      <td>1</td>\n",
              "      <td>1</td>\n",
              "      <td>1</td>\n",
              "      <td>1</td>\n",
              "      <td>1</td>\n",
              "    </tr>\n",
              "    <tr>\n",
              "      <th>...</th>\n",
              "      <th>...</th>\n",
              "      <td>...</td>\n",
              "      <td>...</td>\n",
              "      <td>...</td>\n",
              "      <td>...</td>\n",
              "      <td>...</td>\n",
              "    </tr>\n",
              "    <tr>\n",
              "      <th rowspan=\"5\" valign=\"top\">278854</th>\n",
              "      <th>0375703063</th>\n",
              "      <td>1</td>\n",
              "      <td>1</td>\n",
              "      <td>1</td>\n",
              "      <td>1</td>\n",
              "      <td>1</td>\n",
              "    </tr>\n",
              "    <tr>\n",
              "      <th>042516098X</th>\n",
              "      <td>1</td>\n",
              "      <td>1</td>\n",
              "      <td>1</td>\n",
              "      <td>1</td>\n",
              "      <td>1</td>\n",
              "    </tr>\n",
              "    <tr>\n",
              "      <th>0425163393</th>\n",
              "      <td>1</td>\n",
              "      <td>1</td>\n",
              "      <td>1</td>\n",
              "      <td>1</td>\n",
              "      <td>1</td>\n",
              "    </tr>\n",
              "    <tr>\n",
              "      <th>0553275739</th>\n",
              "      <td>1</td>\n",
              "      <td>1</td>\n",
              "      <td>1</td>\n",
              "      <td>1</td>\n",
              "      <td>1</td>\n",
              "    </tr>\n",
              "    <tr>\n",
              "      <th>0553579606</th>\n",
              "      <td>1</td>\n",
              "      <td>1</td>\n",
              "      <td>1</td>\n",
              "      <td>1</td>\n",
              "      <td>1</td>\n",
              "    </tr>\n",
              "  </tbody>\n",
              "</table>\n",
              "<p>433671 rows × 5 columns</p>\n",
              "</div>\n",
              "      <button class=\"colab-df-convert\" onclick=\"convertToInteractive('df-170ee1c8-3e20-4b26-b903-9a58866d060b')\"\n",
              "              title=\"Convert this dataframe to an interactive table.\"\n",
              "              style=\"display:none;\">\n",
              "        \n",
              "  <svg xmlns=\"http://www.w3.org/2000/svg\" height=\"24px\"viewBox=\"0 0 24 24\"\n",
              "       width=\"24px\">\n",
              "    <path d=\"M0 0h24v24H0V0z\" fill=\"none\"/>\n",
              "    <path d=\"M18.56 5.44l.94 2.06.94-2.06 2.06-.94-2.06-.94-.94-2.06-.94 2.06-2.06.94zm-11 1L8.5 8.5l.94-2.06 2.06-.94-2.06-.94L8.5 2.5l-.94 2.06-2.06.94zm10 10l.94 2.06.94-2.06 2.06-.94-2.06-.94-.94-2.06-.94 2.06-2.06.94z\"/><path d=\"M17.41 7.96l-1.37-1.37c-.4-.4-.92-.59-1.43-.59-.52 0-1.04.2-1.43.59L10.3 9.45l-7.72 7.72c-.78.78-.78 2.05 0 2.83L4 21.41c.39.39.9.59 1.41.59.51 0 1.02-.2 1.41-.59l7.78-7.78 2.81-2.81c.8-.78.8-2.07 0-2.86zM5.41 20L4 18.59l7.72-7.72 1.47 1.35L5.41 20z\"/>\n",
              "  </svg>\n",
              "      </button>\n",
              "      \n",
              "  <style>\n",
              "    .colab-df-container {\n",
              "      display:flex;\n",
              "      flex-wrap:wrap;\n",
              "      gap: 12px;\n",
              "    }\n",
              "\n",
              "    .colab-df-convert {\n",
              "      background-color: #E8F0FE;\n",
              "      border: none;\n",
              "      border-radius: 50%;\n",
              "      cursor: pointer;\n",
              "      display: none;\n",
              "      fill: #1967D2;\n",
              "      height: 32px;\n",
              "      padding: 0 0 0 0;\n",
              "      width: 32px;\n",
              "    }\n",
              "\n",
              "    .colab-df-convert:hover {\n",
              "      background-color: #E2EBFA;\n",
              "      box-shadow: 0px 1px 2px rgba(60, 64, 67, 0.3), 0px 1px 3px 1px rgba(60, 64, 67, 0.15);\n",
              "      fill: #174EA6;\n",
              "    }\n",
              "\n",
              "    [theme=dark] .colab-df-convert {\n",
              "      background-color: #3B4455;\n",
              "      fill: #D2E3FC;\n",
              "    }\n",
              "\n",
              "    [theme=dark] .colab-df-convert:hover {\n",
              "      background-color: #434B5C;\n",
              "      box-shadow: 0px 1px 3px 1px rgba(0, 0, 0, 0.15);\n",
              "      filter: drop-shadow(0px 1px 2px rgba(0, 0, 0, 0.3));\n",
              "      fill: #FFFFFF;\n",
              "    }\n",
              "  </style>\n",
              "\n",
              "      <script>\n",
              "        const buttonEl =\n",
              "          document.querySelector('#df-170ee1c8-3e20-4b26-b903-9a58866d060b button.colab-df-convert');\n",
              "        buttonEl.style.display =\n",
              "          google.colab.kernel.accessAllowed ? 'block' : 'none';\n",
              "\n",
              "        async function convertToInteractive(key) {\n",
              "          const element = document.querySelector('#df-170ee1c8-3e20-4b26-b903-9a58866d060b');\n",
              "          const dataTable =\n",
              "            await google.colab.kernel.invokeFunction('convertToInteractive',\n",
              "                                                     [key], {});\n",
              "          if (!dataTable) return;\n",
              "\n",
              "          const docLinkHtml = 'Like what you see? Visit the ' +\n",
              "            '<a target=\"_blank\" href=https://colab.research.google.com/notebooks/data_table.ipynb>data table notebook</a>'\n",
              "            + ' to learn more about interactive tables.';\n",
              "          element.innerHTML = '';\n",
              "          dataTable['output_type'] = 'display_data';\n",
              "          await google.colab.output.renderOutput(dataTable, element);\n",
              "          const docLink = document.createElement('div');\n",
              "          docLink.innerHTML = docLinkHtml;\n",
              "          element.appendChild(docLink);\n",
              "        }\n",
              "      </script>\n",
              "    </div>\n",
              "  </div>\n",
              "  "
            ]
          },
          "metadata": {},
          "execution_count": 17
        }
      ],
      "source": [
        "df.groupby(['user_id', 'book_id']).count()"
      ]
    },
    {
      "cell_type": "code",
      "execution_count": 18,
      "id": "5b063OhmXlxr",
      "metadata": {
        "id": "5b063OhmXlxr",
        "colab": {
          "base_uri": "https://localhost:8080/"
        },
        "outputId": "6e79ed37-ff37-41b5-9bc9-86eb88e3112e"
      },
      "outputs": [
        {
          "output_type": "execute_result",
          "data": {
            "text/plain": [
              "433671"
            ]
          },
          "metadata": {},
          "execution_count": 18
        }
      ],
      "source": [
        "df.groupby(['user_id', 'book_id']).count()['rating'].sum()"
      ]
    },
    {
      "cell_type": "markdown",
      "id": "1wCzbygSYjyu",
      "metadata": {
        "id": "1wCzbygSYjyu"
      },
      "source": [
        "**Observation:**\n",
        "- The **sum is equal to the total number of observations**, which implies that **there is only one interaction between a book and a user**."
      ]
    },
    {
      "cell_type": "markdown",
      "id": "A0nNz6WBZlDl",
      "metadata": {
        "id": "A0nNz6WBZlDl"
      },
      "source": [
        "#### Which book has the highest number of reviews / ratings in the dataset?"
      ]
    },
    {
      "cell_type": "code",
      "execution_count": 19,
      "id": "ErNU3QI8Xl0T",
      "metadata": {
        "id": "ErNU3QI8Xl0T",
        "colab": {
          "base_uri": "https://localhost:8080/"
        },
        "outputId": "d4fcea68-47c5-4f08-a22f-26a429e14430"
      },
      "outputs": [
        {
          "output_type": "execute_result",
          "data": {
            "text/plain": [
              "The Lovely Bones: A Novel                                  707\n",
              "Wild Animus                                                581\n",
              "The Da Vinci Code                                          494\n",
              "The Secret Life of Bees                                    406\n",
              "The Nanny Diaries: A Novel                                 393\n",
              "                                                          ... \n",
              "Anti-Memoirs/207011                                          1\n",
              "Mad Love (French Modernist Library)                          1\n",
              "Miracle of the Rose                                          1\n",
              "Doctor Sax: Faust Part Three                                 1\n",
              "Perplexing Lateral Thinking Puzzles: Scholastic Edition      1\n",
              "Name: Book-Title, Length: 135567, dtype: int64"
            ]
          },
          "metadata": {},
          "execution_count": 19
        }
      ],
      "source": [
        "df['Book-Title'].value_counts()"
      ]
    },
    {
      "cell_type": "markdown",
      "id": "c7bf7d60",
      "metadata": {
        "id": "c7bf7d60"
      },
      "source": [
        "**Observations:**\n",
        "- The book which has the most of the interactions with users is \"The Lovely Bones: A Novel\". "
      ]
    },
    {
      "cell_type": "code",
      "execution_count": 20,
      "id": "UgoO6MYuXl2g",
      "metadata": {
        "id": "UgoO6MYuXl2g",
        "colab": {
          "base_uri": "https://localhost:8080/",
          "height": 602
        },
        "outputId": "d6cdd701-2608-499d-fd8c-c800d5fa1c68"
      },
      "outputs": [
        {
          "output_type": "display_data",
          "data": {
            "text/plain": [
              "<Figure size 700x700 with 1 Axes>"
            ],
            "image/svg+xml": "<?xml version=\"1.0\" encoding=\"utf-8\" standalone=\"no\"?>\n<!DOCTYPE svg PUBLIC \"-//W3C//DTD SVG 1.1//EN\"\n  \"http://www.w3.org/Graphics/SVG/1.1/DTD/svg11.dtd\">\n<svg xmlns:xlink=\"http://www.w3.org/1999/xlink\" width=\"444.765625pt\" height=\"435.883125pt\" viewBox=\"0 0 444.765625 435.883125\" xmlns=\"http://www.w3.org/2000/svg\" version=\"1.1\">\n <metadata>\n  <rdf:RDF xmlns:dc=\"http://purl.org/dc/elements/1.1/\" xmlns:cc=\"http://creativecommons.org/ns#\" xmlns:rdf=\"http://www.w3.org/1999/02/22-rdf-syntax-ns#\">\n   <cc:Work>\n    <dc:type rdf:resource=\"http://purl.org/dc/dcmitype/StillImage\"/>\n    <dc:date>2023-05-05T09:00:54.208483</dc:date>\n    <dc:format>image/svg+xml</dc:format>\n    <dc:creator>\n     <cc:Agent>\n      <dc:title>Matplotlib v3.7.1, https://matplotlib.org/</dc:title>\n     </cc:Agent>\n    </dc:creator>\n   </cc:Work>\n  </rdf:RDF>\n </metadata>\n <defs>\n  <style type=\"text/css\">*{stroke-linejoin: round; stroke-linecap: butt}</style>\n </defs>\n <g id=\"figure_1\">\n  <g id=\"patch_1\">\n   <path d=\"M 0 435.883125 \nL 444.765625 435.883125 \nL 444.765625 0 \nL 0 0 \nz\n\" style=\"fill: #ffffff\"/>\n  </g>\n  <g id=\"axes_1\">\n   <g id=\"patch_2\">\n    <path d=\"M 46.965625 395.28 \nL 437.565625 395.28 \nL 437.565625 7.2 \nL 46.965625 7.2 \nz\n\" style=\"fill: #ffffff\"/>\n   </g>\n   <g id=\"patch_3\">\n    <path d=\"M 56.730625 395.28 \nL 76.260625 395.28 \nL 76.260625 25.68 \nL 56.730625 25.68 \nz\n\" clip-path=\"url(#p8c80f70a0f)\" style=\"fill: #1f77b4\"/>\n   </g>\n   <g id=\"patch_4\">\n    <path d=\"M 95.790625 395.28 \nL 115.320625 395.28 \nL 115.320625 43.373617 \nL 95.790625 43.373617 \nz\n\" clip-path=\"url(#p8c80f70a0f)\" style=\"fill: #1f77b4\"/>\n   </g>\n   <g id=\"patch_5\">\n    <path d=\"M 134.850625 395.28 \nL 154.380625 395.28 \nL 154.380625 104.318298 \nL 134.850625 104.318298 \nz\n\" clip-path=\"url(#p8c80f70a0f)\" style=\"fill: #1f77b4\"/>\n   </g>\n   <g id=\"patch_6\">\n    <path d=\"M 173.910625 395.28 \nL 193.440625 395.28 \nL 193.440625 169.194894 \nL 173.910625 169.194894 \nz\n\" clip-path=\"url(#p8c80f70a0f)\" style=\"fill: #1f77b4\"/>\n   </g>\n   <g id=\"patch_7\">\n    <path d=\"M 212.970625 395.28 \nL 232.500625 395.28 \nL 232.500625 330.403404 \nL 212.970625 330.403404 \nz\n\" clip-path=\"url(#p8c80f70a0f)\" style=\"fill: #1f77b4\"/>\n   </g>\n   <g id=\"patch_8\">\n    <path d=\"M 252.030625 395.28 \nL 271.560625 395.28 \nL 271.560625 338.267234 \nL 252.030625 338.267234 \nz\n\" clip-path=\"url(#p8c80f70a0f)\" style=\"fill: #1f77b4\"/>\n   </g>\n   <g id=\"patch_9\">\n    <path d=\"M 291.090625 395.28 \nL 310.620625 395.28 \nL 310.620625 381.518298 \nL 291.090625 381.518298 \nz\n\" clip-path=\"url(#p8c80f70a0f)\" style=\"fill: #1f77b4\"/>\n   </g>\n   <g id=\"patch_10\">\n    <path d=\"M 330.150625 395.28 \nL 349.680625 395.28 \nL 349.680625 387.41617 \nL 330.150625 387.41617 \nz\n\" clip-path=\"url(#p8c80f70a0f)\" style=\"fill: #1f77b4\"/>\n   </g>\n   <g id=\"patch_11\">\n    <path d=\"M 369.210625 395.28 \nL 388.740625 395.28 \nL 388.740625 389.382128 \nL 369.210625 389.382128 \nz\n\" clip-path=\"url(#p8c80f70a0f)\" style=\"fill: #1f77b4\"/>\n   </g>\n   <g id=\"patch_12\">\n    <path d=\"M 408.270625 395.28 \nL 427.800625 395.28 \nL 427.800625 393.314043 \nL 408.270625 393.314043 \nz\n\" clip-path=\"url(#p8c80f70a0f)\" style=\"fill: #1f77b4\"/>\n   </g>\n   <g id=\"matplotlib.axis_1\">\n    <g id=\"xtick_1\">\n     <g id=\"line2d_1\">\n      <defs>\n       <path id=\"mc856d2e64e\" d=\"M 0 0 \nL 0 3.5 \n\" style=\"stroke: #000000; stroke-width: 0.8\"/>\n      </defs>\n      <g>\n       <use xlink:href=\"#mc856d2e64e\" x=\"66.495625\" y=\"395.28\" style=\"stroke: #000000; stroke-width: 0.8\"/>\n      </g>\n     </g>\n     <g id=\"text_1\">\n      <!-- 8 -->\n      <g transform=\"translate(69.255 408.6425) rotate(-90) scale(0.1 -0.1)\">\n       <defs>\n        <path id=\"DejaVuSans-38\" d=\"M 2034 2216 \nQ 1584 2216 1326 1975 \nQ 1069 1734 1069 1313 \nQ 1069 891 1326 650 \nQ 1584 409 2034 409 \nQ 2484 409 2743 651 \nQ 3003 894 3003 1313 \nQ 3003 1734 2745 1975 \nQ 2488 2216 2034 2216 \nz\nM 1403 2484 \nQ 997 2584 770 2862 \nQ 544 3141 544 3541 \nQ 544 4100 942 4425 \nQ 1341 4750 2034 4750 \nQ 2731 4750 3128 4425 \nQ 3525 4100 3525 3541 \nQ 3525 3141 3298 2862 \nQ 3072 2584 2669 2484 \nQ 3125 2378 3379 2068 \nQ 3634 1759 3634 1313 \nQ 3634 634 3220 271 \nQ 2806 -91 2034 -91 \nQ 1263 -91 848 271 \nQ 434 634 434 1313 \nQ 434 1759 690 2068 \nQ 947 2378 1403 2484 \nz\nM 1172 3481 \nQ 1172 3119 1398 2916 \nQ 1625 2713 2034 2713 \nQ 2441 2713 2670 2916 \nQ 2900 3119 2900 3481 \nQ 2900 3844 2670 4047 \nQ 2441 4250 2034 4250 \nQ 1625 4250 1398 4047 \nQ 1172 3844 1172 3481 \nz\n\" transform=\"scale(0.015625)\"/>\n       </defs>\n       <use xlink:href=\"#DejaVuSans-38\"/>\n      </g>\n     </g>\n    </g>\n    <g id=\"xtick_2\">\n     <g id=\"line2d_2\">\n      <g>\n       <use xlink:href=\"#mc856d2e64e\" x=\"105.555625\" y=\"395.28\" style=\"stroke: #000000; stroke-width: 0.8\"/>\n      </g>\n     </g>\n     <g id=\"text_2\">\n      <!-- 9 -->\n      <g transform=\"translate(108.315 408.6425) rotate(-90) scale(0.1 -0.1)\">\n       <defs>\n        <path id=\"DejaVuSans-39\" d=\"M 703 97 \nL 703 672 \nQ 941 559 1184 500 \nQ 1428 441 1663 441 \nQ 2288 441 2617 861 \nQ 2947 1281 2994 2138 \nQ 2813 1869 2534 1725 \nQ 2256 1581 1919 1581 \nQ 1219 1581 811 2004 \nQ 403 2428 403 3163 \nQ 403 3881 828 4315 \nQ 1253 4750 1959 4750 \nQ 2769 4750 3195 4129 \nQ 3622 3509 3622 2328 \nQ 3622 1225 3098 567 \nQ 2575 -91 1691 -91 \nQ 1453 -91 1209 -44 \nQ 966 3 703 97 \nz\nM 1959 2075 \nQ 2384 2075 2632 2365 \nQ 2881 2656 2881 3163 \nQ 2881 3666 2632 3958 \nQ 2384 4250 1959 4250 \nQ 1534 4250 1286 3958 \nQ 1038 3666 1038 3163 \nQ 1038 2656 1286 2365 \nQ 1534 2075 1959 2075 \nz\n\" transform=\"scale(0.015625)\"/>\n       </defs>\n       <use xlink:href=\"#DejaVuSans-39\"/>\n      </g>\n     </g>\n    </g>\n    <g id=\"xtick_3\">\n     <g id=\"line2d_3\">\n      <g>\n       <use xlink:href=\"#mc856d2e64e\" x=\"144.615625\" y=\"395.28\" style=\"stroke: #000000; stroke-width: 0.8\"/>\n      </g>\n     </g>\n     <g id=\"text_3\">\n      <!-- 10 -->\n      <g transform=\"translate(147.375 415.005) rotate(-90) scale(0.1 -0.1)\">\n       <defs>\n        <path id=\"DejaVuSans-31\" d=\"M 794 531 \nL 1825 531 \nL 1825 4091 \nL 703 3866 \nL 703 4441 \nL 1819 4666 \nL 2450 4666 \nL 2450 531 \nL 3481 531 \nL 3481 0 \nL 794 0 \nL 794 531 \nz\n\" transform=\"scale(0.015625)\"/>\n        <path id=\"DejaVuSans-30\" d=\"M 2034 4250 \nQ 1547 4250 1301 3770 \nQ 1056 3291 1056 2328 \nQ 1056 1369 1301 889 \nQ 1547 409 2034 409 \nQ 2525 409 2770 889 \nQ 3016 1369 3016 2328 \nQ 3016 3291 2770 3770 \nQ 2525 4250 2034 4250 \nz\nM 2034 4750 \nQ 2819 4750 3233 4129 \nQ 3647 3509 3647 2328 \nQ 3647 1150 3233 529 \nQ 2819 -91 2034 -91 \nQ 1250 -91 836 529 \nQ 422 1150 422 2328 \nQ 422 3509 836 4129 \nQ 1250 4750 2034 4750 \nz\n\" transform=\"scale(0.015625)\"/>\n       </defs>\n       <use xlink:href=\"#DejaVuSans-31\"/>\n       <use xlink:href=\"#DejaVuSans-30\" x=\"63.623047\"/>\n      </g>\n     </g>\n    </g>\n    <g id=\"xtick_4\">\n     <g id=\"line2d_4\">\n      <g>\n       <use xlink:href=\"#mc856d2e64e\" x=\"183.675625\" y=\"395.28\" style=\"stroke: #000000; stroke-width: 0.8\"/>\n      </g>\n     </g>\n     <g id=\"text_4\">\n      <!-- 7 -->\n      <g transform=\"translate(186.435 408.6425) rotate(-90) scale(0.1 -0.1)\">\n       <defs>\n        <path id=\"DejaVuSans-37\" d=\"M 525 4666 \nL 3525 4666 \nL 3525 4397 \nL 1831 0 \nL 1172 0 \nL 2766 4134 \nL 525 4134 \nL 525 4666 \nz\n\" transform=\"scale(0.015625)\"/>\n       </defs>\n       <use xlink:href=\"#DejaVuSans-37\"/>\n      </g>\n     </g>\n    </g>\n    <g id=\"xtick_5\">\n     <g id=\"line2d_5\">\n      <g>\n       <use xlink:href=\"#mc856d2e64e\" x=\"222.735625\" y=\"395.28\" style=\"stroke: #000000; stroke-width: 0.8\"/>\n      </g>\n     </g>\n     <g id=\"text_5\">\n      <!-- 6 -->\n      <g transform=\"translate(225.495 408.6425) rotate(-90) scale(0.1 -0.1)\">\n       <defs>\n        <path id=\"DejaVuSans-36\" d=\"M 2113 2584 \nQ 1688 2584 1439 2293 \nQ 1191 2003 1191 1497 \nQ 1191 994 1439 701 \nQ 1688 409 2113 409 \nQ 2538 409 2786 701 \nQ 3034 994 3034 1497 \nQ 3034 2003 2786 2293 \nQ 2538 2584 2113 2584 \nz\nM 3366 4563 \nL 3366 3988 \nQ 3128 4100 2886 4159 \nQ 2644 4219 2406 4219 \nQ 1781 4219 1451 3797 \nQ 1122 3375 1075 2522 \nQ 1259 2794 1537 2939 \nQ 1816 3084 2150 3084 \nQ 2853 3084 3261 2657 \nQ 3669 2231 3669 1497 \nQ 3669 778 3244 343 \nQ 2819 -91 2113 -91 \nQ 1303 -91 875 529 \nQ 447 1150 447 2328 \nQ 447 3434 972 4092 \nQ 1497 4750 2381 4750 \nQ 2619 4750 2861 4703 \nQ 3103 4656 3366 4563 \nz\n\" transform=\"scale(0.015625)\"/>\n       </defs>\n       <use xlink:href=\"#DejaVuSans-36\"/>\n      </g>\n     </g>\n    </g>\n    <g id=\"xtick_6\">\n     <g id=\"line2d_6\">\n      <g>\n       <use xlink:href=\"#mc856d2e64e\" x=\"261.795625\" y=\"395.28\" style=\"stroke: #000000; stroke-width: 0.8\"/>\n      </g>\n     </g>\n     <g id=\"text_6\">\n      <!-- 5 -->\n      <g transform=\"translate(264.555 408.6425) rotate(-90) scale(0.1 -0.1)\">\n       <defs>\n        <path id=\"DejaVuSans-35\" d=\"M 691 4666 \nL 3169 4666 \nL 3169 4134 \nL 1269 4134 \nL 1269 2991 \nQ 1406 3038 1543 3061 \nQ 1681 3084 1819 3084 \nQ 2600 3084 3056 2656 \nQ 3513 2228 3513 1497 \nQ 3513 744 3044 326 \nQ 2575 -91 1722 -91 \nQ 1428 -91 1123 -41 \nQ 819 9 494 109 \nL 494 744 \nQ 775 591 1075 516 \nQ 1375 441 1709 441 \nQ 2250 441 2565 725 \nQ 2881 1009 2881 1497 \nQ 2881 1984 2565 2268 \nQ 2250 2553 1709 2553 \nQ 1456 2553 1204 2497 \nQ 953 2441 691 2322 \nL 691 4666 \nz\n\" transform=\"scale(0.015625)\"/>\n       </defs>\n       <use xlink:href=\"#DejaVuSans-35\"/>\n      </g>\n     </g>\n    </g>\n    <g id=\"xtick_7\">\n     <g id=\"line2d_7\">\n      <g>\n       <use xlink:href=\"#mc856d2e64e\" x=\"300.855625\" y=\"395.28\" style=\"stroke: #000000; stroke-width: 0.8\"/>\n      </g>\n     </g>\n     <g id=\"text_7\">\n      <!-- 3 -->\n      <g transform=\"translate(303.615 408.6425) rotate(-90) scale(0.1 -0.1)\">\n       <defs>\n        <path id=\"DejaVuSans-33\" d=\"M 2597 2516 \nQ 3050 2419 3304 2112 \nQ 3559 1806 3559 1356 \nQ 3559 666 3084 287 \nQ 2609 -91 1734 -91 \nQ 1441 -91 1130 -33 \nQ 819 25 488 141 \nL 488 750 \nQ 750 597 1062 519 \nQ 1375 441 1716 441 \nQ 2309 441 2620 675 \nQ 2931 909 2931 1356 \nQ 2931 1769 2642 2001 \nQ 2353 2234 1838 2234 \nL 1294 2234 \nL 1294 2753 \nL 1863 2753 \nQ 2328 2753 2575 2939 \nQ 2822 3125 2822 3475 \nQ 2822 3834 2567 4026 \nQ 2313 4219 1838 4219 \nQ 1578 4219 1281 4162 \nQ 984 4106 628 3988 \nL 628 4550 \nQ 988 4650 1302 4700 \nQ 1616 4750 1894 4750 \nQ 2613 4750 3031 4423 \nQ 3450 4097 3450 3541 \nQ 3450 3153 3228 2886 \nQ 3006 2619 2597 2516 \nz\n\" transform=\"scale(0.015625)\"/>\n       </defs>\n       <use xlink:href=\"#DejaVuSans-33\"/>\n      </g>\n     </g>\n    </g>\n    <g id=\"xtick_8\">\n     <g id=\"line2d_8\">\n      <g>\n       <use xlink:href=\"#mc856d2e64e\" x=\"339.915625\" y=\"395.28\" style=\"stroke: #000000; stroke-width: 0.8\"/>\n      </g>\n     </g>\n     <g id=\"text_8\">\n      <!-- 4 -->\n      <g transform=\"translate(342.675 408.6425) rotate(-90) scale(0.1 -0.1)\">\n       <defs>\n        <path id=\"DejaVuSans-34\" d=\"M 2419 4116 \nL 825 1625 \nL 2419 1625 \nL 2419 4116 \nz\nM 2253 4666 \nL 3047 4666 \nL 3047 1625 \nL 3713 1625 \nL 3713 1100 \nL 3047 1100 \nL 3047 0 \nL 2419 0 \nL 2419 1100 \nL 313 1100 \nL 313 1709 \nL 2253 4666 \nz\n\" transform=\"scale(0.015625)\"/>\n       </defs>\n       <use xlink:href=\"#DejaVuSans-34\"/>\n      </g>\n     </g>\n    </g>\n    <g id=\"xtick_9\">\n     <g id=\"line2d_9\">\n      <g>\n       <use xlink:href=\"#mc856d2e64e\" x=\"378.975625\" y=\"395.28\" style=\"stroke: #000000; stroke-width: 0.8\"/>\n      </g>\n     </g>\n     <g id=\"text_9\">\n      <!-- 2 -->\n      <g transform=\"translate(381.735 408.6425) rotate(-90) scale(0.1 -0.1)\">\n       <defs>\n        <path id=\"DejaVuSans-32\" d=\"M 1228 531 \nL 3431 531 \nL 3431 0 \nL 469 0 \nL 469 531 \nQ 828 903 1448 1529 \nQ 2069 2156 2228 2338 \nQ 2531 2678 2651 2914 \nQ 2772 3150 2772 3378 \nQ 2772 3750 2511 3984 \nQ 2250 4219 1831 4219 \nQ 1534 4219 1204 4116 \nQ 875 4013 500 3803 \nL 500 4441 \nQ 881 4594 1212 4672 \nQ 1544 4750 1819 4750 \nQ 2544 4750 2975 4387 \nQ 3406 4025 3406 3419 \nQ 3406 3131 3298 2873 \nQ 3191 2616 2906 2266 \nQ 2828 2175 2409 1742 \nQ 1991 1309 1228 531 \nz\n\" transform=\"scale(0.015625)\"/>\n       </defs>\n       <use xlink:href=\"#DejaVuSans-32\"/>\n      </g>\n     </g>\n    </g>\n    <g id=\"xtick_10\">\n     <g id=\"line2d_10\">\n      <g>\n       <use xlink:href=\"#mc856d2e64e\" x=\"418.035625\" y=\"395.28\" style=\"stroke: #000000; stroke-width: 0.8\"/>\n      </g>\n     </g>\n     <g id=\"text_10\">\n      <!-- 1 -->\n      <g transform=\"translate(420.795 408.6425) rotate(-90) scale(0.1 -0.1)\">\n       <use xlink:href=\"#DejaVuSans-31\"/>\n      </g>\n     </g>\n    </g>\n    <g id=\"text_11\">\n     <!-- Rating -->\n     <g transform=\"translate(226.147656 426.603437) scale(0.1 -0.1)\">\n      <defs>\n       <path id=\"DejaVuSans-52\" d=\"M 2841 2188 \nQ 3044 2119 3236 1894 \nQ 3428 1669 3622 1275 \nL 4263 0 \nL 3584 0 \nL 2988 1197 \nQ 2756 1666 2539 1819 \nQ 2322 1972 1947 1972 \nL 1259 1972 \nL 1259 0 \nL 628 0 \nL 628 4666 \nL 2053 4666 \nQ 2853 4666 3247 4331 \nQ 3641 3997 3641 3322 \nQ 3641 2881 3436 2590 \nQ 3231 2300 2841 2188 \nz\nM 1259 4147 \nL 1259 2491 \nL 2053 2491 \nQ 2509 2491 2742 2702 \nQ 2975 2913 2975 3322 \nQ 2975 3731 2742 3939 \nQ 2509 4147 2053 4147 \nL 1259 4147 \nz\n\" transform=\"scale(0.015625)\"/>\n       <path id=\"DejaVuSans-61\" d=\"M 2194 1759 \nQ 1497 1759 1228 1600 \nQ 959 1441 959 1056 \nQ 959 750 1161 570 \nQ 1363 391 1709 391 \nQ 2188 391 2477 730 \nQ 2766 1069 2766 1631 \nL 2766 1759 \nL 2194 1759 \nz\nM 3341 1997 \nL 3341 0 \nL 2766 0 \nL 2766 531 \nQ 2569 213 2275 61 \nQ 1981 -91 1556 -91 \nQ 1019 -91 701 211 \nQ 384 513 384 1019 \nQ 384 1609 779 1909 \nQ 1175 2209 1959 2209 \nL 2766 2209 \nL 2766 2266 \nQ 2766 2663 2505 2880 \nQ 2244 3097 1772 3097 \nQ 1472 3097 1187 3025 \nQ 903 2953 641 2809 \nL 641 3341 \nQ 956 3463 1253 3523 \nQ 1550 3584 1831 3584 \nQ 2591 3584 2966 3190 \nQ 3341 2797 3341 1997 \nz\n\" transform=\"scale(0.015625)\"/>\n       <path id=\"DejaVuSans-74\" d=\"M 1172 4494 \nL 1172 3500 \nL 2356 3500 \nL 2356 3053 \nL 1172 3053 \nL 1172 1153 \nQ 1172 725 1289 603 \nQ 1406 481 1766 481 \nL 2356 481 \nL 2356 0 \nL 1766 0 \nQ 1100 0 847 248 \nQ 594 497 594 1153 \nL 594 3053 \nL 172 3053 \nL 172 3500 \nL 594 3500 \nL 594 4494 \nL 1172 4494 \nz\n\" transform=\"scale(0.015625)\"/>\n       <path id=\"DejaVuSans-69\" d=\"M 603 3500 \nL 1178 3500 \nL 1178 0 \nL 603 0 \nL 603 3500 \nz\nM 603 4863 \nL 1178 4863 \nL 1178 4134 \nL 603 4134 \nL 603 4863 \nz\n\" transform=\"scale(0.015625)\"/>\n       <path id=\"DejaVuSans-6e\" d=\"M 3513 2113 \nL 3513 0 \nL 2938 0 \nL 2938 2094 \nQ 2938 2591 2744 2837 \nQ 2550 3084 2163 3084 \nQ 1697 3084 1428 2787 \nQ 1159 2491 1159 1978 \nL 1159 0 \nL 581 0 \nL 581 3500 \nL 1159 3500 \nL 1159 2956 \nQ 1366 3272 1645 3428 \nQ 1925 3584 2291 3584 \nQ 2894 3584 3203 3211 \nQ 3513 2838 3513 2113 \nz\n\" transform=\"scale(0.015625)\"/>\n       <path id=\"DejaVuSans-67\" d=\"M 2906 1791 \nQ 2906 2416 2648 2759 \nQ 2391 3103 1925 3103 \nQ 1463 3103 1205 2759 \nQ 947 2416 947 1791 \nQ 947 1169 1205 825 \nQ 1463 481 1925 481 \nQ 2391 481 2648 825 \nQ 2906 1169 2906 1791 \nz\nM 3481 434 \nQ 3481 -459 3084 -895 \nQ 2688 -1331 1869 -1331 \nQ 1566 -1331 1297 -1286 \nQ 1028 -1241 775 -1147 \nL 775 -588 \nQ 1028 -725 1275 -790 \nQ 1522 -856 1778 -856 \nQ 2344 -856 2625 -561 \nQ 2906 -266 2906 331 \nL 2906 616 \nQ 2728 306 2450 153 \nQ 2172 0 1784 0 \nQ 1141 0 747 490 \nQ 353 981 353 1791 \nQ 353 2603 747 3093 \nQ 1141 3584 1784 3584 \nQ 2172 3584 2450 3431 \nQ 2728 3278 2906 2969 \nL 2906 3500 \nL 3481 3500 \nL 3481 434 \nz\n\" transform=\"scale(0.015625)\"/>\n      </defs>\n      <use xlink:href=\"#DejaVuSans-52\"/>\n      <use xlink:href=\"#DejaVuSans-61\" x=\"67.232422\"/>\n      <use xlink:href=\"#DejaVuSans-74\" x=\"128.511719\"/>\n      <use xlink:href=\"#DejaVuSans-69\" x=\"167.720703\"/>\n      <use xlink:href=\"#DejaVuSans-6e\" x=\"195.503906\"/>\n      <use xlink:href=\"#DejaVuSans-67\" x=\"258.882812\"/>\n     </g>\n    </g>\n   </g>\n   <g id=\"matplotlib.axis_2\">\n    <g id=\"ytick_1\">\n     <g id=\"line2d_11\">\n      <defs>\n       <path id=\"m007bb2eed6\" d=\"M 0 0 \nL -3.5 0 \n\" style=\"stroke: #000000; stroke-width: 0.8\"/>\n      </defs>\n      <g>\n       <use xlink:href=\"#m007bb2eed6\" x=\"46.965625\" y=\"395.28\" style=\"stroke: #000000; stroke-width: 0.8\"/>\n      </g>\n     </g>\n     <g id=\"text_12\">\n      <!-- 0 -->\n      <g transform=\"translate(33.603125 399.079219) scale(0.1 -0.1)\">\n       <use xlink:href=\"#DejaVuSans-30\"/>\n      </g>\n     </g>\n    </g>\n    <g id=\"ytick_2\">\n     <g id=\"line2d_12\">\n      <g>\n       <use xlink:href=\"#m007bb2eed6\" x=\"46.965625\" y=\"346.131064\" style=\"stroke: #000000; stroke-width: 0.8\"/>\n      </g>\n     </g>\n     <g id=\"text_13\">\n      <!-- 25 -->\n      <g transform=\"translate(27.240625 349.930283) scale(0.1 -0.1)\">\n       <use xlink:href=\"#DejaVuSans-32\"/>\n       <use xlink:href=\"#DejaVuSans-35\" x=\"63.623047\"/>\n      </g>\n     </g>\n    </g>\n    <g id=\"ytick_3\">\n     <g id=\"line2d_13\">\n      <g>\n       <use xlink:href=\"#m007bb2eed6\" x=\"46.965625\" y=\"296.982128\" style=\"stroke: #000000; stroke-width: 0.8\"/>\n      </g>\n     </g>\n     <g id=\"text_14\">\n      <!-- 50 -->\n      <g transform=\"translate(27.240625 300.781346) scale(0.1 -0.1)\">\n       <use xlink:href=\"#DejaVuSans-35\"/>\n       <use xlink:href=\"#DejaVuSans-30\" x=\"63.623047\"/>\n      </g>\n     </g>\n    </g>\n    <g id=\"ytick_4\">\n     <g id=\"line2d_14\">\n      <g>\n       <use xlink:href=\"#m007bb2eed6\" x=\"46.965625\" y=\"247.833191\" style=\"stroke: #000000; stroke-width: 0.8\"/>\n      </g>\n     </g>\n     <g id=\"text_15\">\n      <!-- 75 -->\n      <g transform=\"translate(27.240625 251.63241) scale(0.1 -0.1)\">\n       <use xlink:href=\"#DejaVuSans-37\"/>\n       <use xlink:href=\"#DejaVuSans-35\" x=\"63.623047\"/>\n      </g>\n     </g>\n    </g>\n    <g id=\"ytick_5\">\n     <g id=\"line2d_15\">\n      <g>\n       <use xlink:href=\"#m007bb2eed6\" x=\"46.965625\" y=\"198.684255\" style=\"stroke: #000000; stroke-width: 0.8\"/>\n      </g>\n     </g>\n     <g id=\"text_16\">\n      <!-- 100 -->\n      <g transform=\"translate(20.878125 202.483474) scale(0.1 -0.1)\">\n       <use xlink:href=\"#DejaVuSans-31\"/>\n       <use xlink:href=\"#DejaVuSans-30\" x=\"63.623047\"/>\n       <use xlink:href=\"#DejaVuSans-30\" x=\"127.246094\"/>\n      </g>\n     </g>\n    </g>\n    <g id=\"ytick_6\">\n     <g id=\"line2d_16\">\n      <g>\n       <use xlink:href=\"#m007bb2eed6\" x=\"46.965625\" y=\"149.535319\" style=\"stroke: #000000; stroke-width: 0.8\"/>\n      </g>\n     </g>\n     <g id=\"text_17\">\n      <!-- 125 -->\n      <g transform=\"translate(20.878125 153.334538) scale(0.1 -0.1)\">\n       <use xlink:href=\"#DejaVuSans-31\"/>\n       <use xlink:href=\"#DejaVuSans-32\" x=\"63.623047\"/>\n       <use xlink:href=\"#DejaVuSans-35\" x=\"127.246094\"/>\n      </g>\n     </g>\n    </g>\n    <g id=\"ytick_7\">\n     <g id=\"line2d_17\">\n      <g>\n       <use xlink:href=\"#m007bb2eed6\" x=\"46.965625\" y=\"100.386383\" style=\"stroke: #000000; stroke-width: 0.8\"/>\n      </g>\n     </g>\n     <g id=\"text_18\">\n      <!-- 150 -->\n      <g transform=\"translate(20.878125 104.185602) scale(0.1 -0.1)\">\n       <use xlink:href=\"#DejaVuSans-31\"/>\n       <use xlink:href=\"#DejaVuSans-35\" x=\"63.623047\"/>\n       <use xlink:href=\"#DejaVuSans-30\" x=\"127.246094\"/>\n      </g>\n     </g>\n    </g>\n    <g id=\"ytick_8\">\n     <g id=\"line2d_18\">\n      <g>\n       <use xlink:href=\"#m007bb2eed6\" x=\"46.965625\" y=\"51.237447\" style=\"stroke: #000000; stroke-width: 0.8\"/>\n      </g>\n     </g>\n     <g id=\"text_19\">\n      <!-- 175 -->\n      <g transform=\"translate(20.878125 55.036666) scale(0.1 -0.1)\">\n       <use xlink:href=\"#DejaVuSans-31\"/>\n       <use xlink:href=\"#DejaVuSans-37\" x=\"63.623047\"/>\n       <use xlink:href=\"#DejaVuSans-35\" x=\"127.246094\"/>\n      </g>\n     </g>\n    </g>\n    <g id=\"text_20\">\n     <!-- Count -->\n     <g transform=\"translate(14.798437 216.088437) rotate(-90) scale(0.1 -0.1)\">\n      <defs>\n       <path id=\"DejaVuSans-43\" d=\"M 4122 4306 \nL 4122 3641 \nQ 3803 3938 3442 4084 \nQ 3081 4231 2675 4231 \nQ 1875 4231 1450 3742 \nQ 1025 3253 1025 2328 \nQ 1025 1406 1450 917 \nQ 1875 428 2675 428 \nQ 3081 428 3442 575 \nQ 3803 722 4122 1019 \nL 4122 359 \nQ 3791 134 3420 21 \nQ 3050 -91 2638 -91 \nQ 1578 -91 968 557 \nQ 359 1206 359 2328 \nQ 359 3453 968 4101 \nQ 1578 4750 2638 4750 \nQ 3056 4750 3426 4639 \nQ 3797 4528 4122 4306 \nz\n\" transform=\"scale(0.015625)\"/>\n       <path id=\"DejaVuSans-6f\" d=\"M 1959 3097 \nQ 1497 3097 1228 2736 \nQ 959 2375 959 1747 \nQ 959 1119 1226 758 \nQ 1494 397 1959 397 \nQ 2419 397 2687 759 \nQ 2956 1122 2956 1747 \nQ 2956 2369 2687 2733 \nQ 2419 3097 1959 3097 \nz\nM 1959 3584 \nQ 2709 3584 3137 3096 \nQ 3566 2609 3566 1747 \nQ 3566 888 3137 398 \nQ 2709 -91 1959 -91 \nQ 1206 -91 779 398 \nQ 353 888 353 1747 \nQ 353 2609 779 3096 \nQ 1206 3584 1959 3584 \nz\n\" transform=\"scale(0.015625)\"/>\n       <path id=\"DejaVuSans-75\" d=\"M 544 1381 \nL 544 3500 \nL 1119 3500 \nL 1119 1403 \nQ 1119 906 1312 657 \nQ 1506 409 1894 409 \nQ 2359 409 2629 706 \nQ 2900 1003 2900 1516 \nL 2900 3500 \nL 3475 3500 \nL 3475 0 \nL 2900 0 \nL 2900 538 \nQ 2691 219 2414 64 \nQ 2138 -91 1772 -91 \nQ 1169 -91 856 284 \nQ 544 659 544 1381 \nz\nM 1991 3584 \nL 1991 3584 \nz\n\" transform=\"scale(0.015625)\"/>\n      </defs>\n      <use xlink:href=\"#DejaVuSans-43\"/>\n      <use xlink:href=\"#DejaVuSans-6f\" x=\"69.824219\"/>\n      <use xlink:href=\"#DejaVuSans-75\" x=\"131.005859\"/>\n      <use xlink:href=\"#DejaVuSans-6e\" x=\"194.384766\"/>\n      <use xlink:href=\"#DejaVuSans-74\" x=\"257.763672\"/>\n     </g>\n    </g>\n   </g>\n   <g id=\"patch_13\">\n    <path d=\"M 46.965625 395.28 \nL 46.965625 7.2 \n\" style=\"fill: none; stroke: #000000; stroke-width: 0.8; stroke-linejoin: miter; stroke-linecap: square\"/>\n   </g>\n   <g id=\"patch_14\">\n    <path d=\"M 437.565625 395.28 \nL 437.565625 7.2 \n\" style=\"fill: none; stroke: #000000; stroke-width: 0.8; stroke-linejoin: miter; stroke-linecap: square\"/>\n   </g>\n   <g id=\"patch_15\">\n    <path d=\"M 46.965625 395.28 \nL 437.565625 395.28 \n\" style=\"fill: none; stroke: #000000; stroke-width: 0.8; stroke-linejoin: miter; stroke-linecap: square\"/>\n   </g>\n   <g id=\"patch_16\">\n    <path d=\"M 46.965625 7.2 \nL 437.565625 7.2 \n\" style=\"fill: none; stroke: #000000; stroke-width: 0.8; stroke-linejoin: miter; stroke-linecap: square\"/>\n   </g>\n  </g>\n </g>\n <defs>\n  <clipPath id=\"p8c80f70a0f\">\n   <rect x=\"46.965625\" y=\"7.2\" width=\"390.6\" height=\"388.08\"/>\n  </clipPath>\n </defs>\n</svg>\n"
          },
          "metadata": {}
        }
      ],
      "source": [
        "# Let's plot distributions of ratings for the most interacted book\n",
        "plt.figure(figsize=(7,7))\n",
        "df[df['Book-Title'] == 'The Lovely Bones: A Novel']['rating'].value_counts().plot(kind='bar') \n",
        "plt.xlabel('Rating')\n",
        "plt.ylabel('Count')\n",
        "plt.show()"
      ]
    },
    {
      "cell_type": "markdown",
      "id": "sIHzQxZWenov",
      "metadata": {
        "id": "sIHzQxZWenov"
      },
      "source": [
        "**Observations:**\n",
        "\n",
        "- It follows quite closely to the observed pattern for all the books ratings. \n",
        "- Overall this book is rated very highly. The most popular rating is 8, followed by 9, 10 and 7. \n",
        "- Ratings below 7 contribute to only small fraction of all the ratings observed.  "
      ]
    },
    {
      "cell_type": "code",
      "execution_count": 21,
      "id": "r-_UHDi4enBb",
      "metadata": {
        "id": "r-_UHDi4enBb",
        "colab": {
          "base_uri": "https://localhost:8080/"
        },
        "outputId": "0a09ba66-f768-416d-a343-2ee647ff971e"
      },
      "outputs": [
        {
          "output_type": "execute_result",
          "data": {
            "text/plain": [
              "11676     8524\n",
              "98391     5802\n",
              "153662    1969\n",
              "189835    1906\n",
              "23902     1395\n",
              "          ... \n",
              "114079       1\n",
              "114081       1\n",
              "114096       1\n",
              "114115       1\n",
              "276723       1\n",
              "Name: user_id, Length: 77805, dtype: int64"
            ]
          },
          "metadata": {},
          "execution_count": 21
        }
      ],
      "source": [
        "# Let's check the user who interacted most\n",
        "df['user_id'].value_counts()"
      ]
    },
    {
      "cell_type": "markdown",
      "id": "oQwICkL2svvj",
      "metadata": {
        "id": "oQwICkL2svvj"
      },
      "source": [
        "**Observations:**\n",
        "\n",
        "- User 11676 interacted 8524 times. \n",
        "- But even for this user there is still lots of possible interactions to predict 185973-8524 = 177449. \n",
        "- So we observed only  ~ 4.6% of all the possible interactions on this user.  "
      ]
    },
    {
      "cell_type": "markdown",
      "id": "95f563b4",
      "metadata": {
        "id": "95f563b4"
      },
      "source": [
        "## **Data Preparation**"
      ]
    },
    {
      "cell_type": "markdown",
      "id": "oyG2AtXiyO1m",
      "metadata": {
        "id": "oyG2AtXiyO1m"
      },
      "source": [
        "As this dataset is still quite large and has 433671 observations, it is not be computationally efficient to build a model using this. Moreover, there are many users who have only rated a few books and also there are also books which are rated by very few users. Hence we can reduce the dataset by considering certain logical assumption.\n",
        "\n",
        "Let's take the users who have given at least 50 rating, as we prefer to have some number of rating of a book and the book which has at least 10 rating, as when we shop online we prefer to have some number of rating of that product."
      ]
    },
    {
      "cell_type": "code",
      "execution_count": 22,
      "id": "0pnCxxsbXOJE",
      "metadata": {
        "id": "0pnCxxsbXOJE"
      },
      "outputs": [],
      "source": [
        "# Let's get the column containing the users\n",
        "users = df.user_id\n",
        "# And create a dictionary from the users to find their number of rated books\n",
        "user_ratings_count = {}\n",
        "for user in users:\n",
        "    # If we already have the user, just add 1 to their rating count\n",
        "    if user in user_ratings_count:\n",
        "        user_ratings_count[user] += 1\n",
        "    # Otherwise, set their rating count to 1\n",
        "    else:\n",
        "        user_ratings_count[user] = 1    "
      ]
    },
    {
      "cell_type": "code",
      "execution_count": 23,
      "id": "kJOHn3Ik02O8",
      "metadata": {
        "id": "kJOHn3Ik02O8"
      },
      "outputs": [],
      "source": [
        "USERS_RATINGS_CUTOFF = 50\n",
        "users_to_remove = [user for user, num_ratings in user_ratings_count.items()\n",
        "                   if num_ratings < USERS_RATINGS_CUTOFF]\n",
        "df = df.loc[~df.user_id.isin(users_to_remove)]"
      ]
    },
    {
      "cell_type": "code",
      "execution_count": 24,
      "id": "LIoNRnSP3cQQ",
      "metadata": {
        "id": "LIoNRnSP3cQQ",
        "colab": {
          "base_uri": "https://localhost:8080/"
        },
        "outputId": "9b889cd8-b30a-4687-93ee-e53ad0cd7007"
      },
      "outputs": [
        {
          "output_type": "execute_result",
          "data": {
            "text/plain": [
              "(175023, 7)"
            ]
          },
          "metadata": {},
          "execution_count": 24
        }
      ],
      "source": [
        "df.shape"
      ]
    },
    {
      "cell_type": "code",
      "execution_count": 25,
      "id": "d8BWjYyO3lLG",
      "metadata": {
        "id": "d8BWjYyO3lLG"
      },
      "outputs": [],
      "source": [
        "# Let's get the column containing the books\n",
        "books = df.book_id\n",
        "# Create a dictionary from books to find their number of users\n",
        "books_ratings_count = dict()\n",
        "for book in books:\n",
        "    # If we already have the book, just add 1 to their rating count\n",
        "    if book in books_ratings_count:\n",
        "        books_ratings_count[book] += 1\n",
        "    # Otherwise, set their rating count to 1\n",
        "    else:\n",
        "        books_ratings_count[book] = 1   "
      ]
    },
    {
      "cell_type": "code",
      "execution_count": 26,
      "id": "QxoiWgKn02a1",
      "metadata": {
        "id": "QxoiWgKn02a1"
      },
      "outputs": [],
      "source": [
        "# We want our book to be interacted by at least 10 users to be considered\n",
        "BOOKS_RATINGS_CUTOFF = 10\n",
        "books_to_remove = [book for book, num_ratings in books_ratings_count.items()\n",
        "                   if num_ratings < BOOKS_RATINGS_CUTOFF]\n",
        "df= df.loc[~df.book_id.isin(books_to_remove)]"
      ]
    },
    {
      "cell_type": "code",
      "execution_count": 27,
      "id": "zoeqZNvf02rB",
      "metadata": {
        "id": "zoeqZNvf02rB",
        "colab": {
          "base_uri": "https://localhost:8080/"
        },
        "outputId": "8c6ca97b-9a65-4719-92c0-986b06b62029"
      },
      "outputs": [
        {
          "output_type": "execute_result",
          "data": {
            "text/plain": [
              "(26698, 7)"
            ]
          },
          "metadata": {},
          "execution_count": 27
        }
      ],
      "source": [
        "df.shape"
      ]
    },
    {
      "cell_type": "markdown",
      "id": "4HD6qgHT4Ivu",
      "metadata": {
        "id": "4HD6qgHT4Ivu"
      },
      "source": [
        "### **Distribution of the user-books interactions in the dataset**"
      ]
    },
    {
      "cell_type": "code",
      "execution_count": 28,
      "id": "_DS9eP874AWJ",
      "metadata": {
        "id": "_DS9eP874AWJ",
        "colab": {
          "base_uri": "https://localhost:8080/"
        },
        "outputId": "d9d5b5ba-18b6-4350-b7bf-fbb288cb8bfb"
      },
      "outputs": [
        {
          "output_type": "execute_result",
          "data": {
            "text/plain": [
              "user_id                1257\n",
              "book_id                1497\n",
              "rating                   10\n",
              "Book-Title             1367\n",
              "Book-Author             587\n",
              "Year-Of-Publication      43\n",
              "Publisher               204\n",
              "dtype: int64"
            ]
          },
          "metadata": {},
          "execution_count": 28
        }
      ],
      "source": [
        "df.nunique()"
      ]
    },
    {
      "cell_type": "code",
      "execution_count": 29,
      "id": "wwGmj5DY4TKO",
      "metadata": {
        "id": "wwGmj5DY4TKO",
        "colab": {
          "base_uri": "https://localhost:8080/"
        },
        "outputId": "f244595d-e800-4113-e6d0-681d16391a46"
      },
      "outputs": [
        {
          "output_type": "execute_result",
          "data": {
            "text/plain": [
              "user_id\n",
              "254       18\n",
              "638       20\n",
              "643        3\n",
              "1025       7\n",
              "1211       3\n",
              "          ..\n",
              "277427    36\n",
              "278026    11\n",
              "278137     8\n",
              "278188     9\n",
              "278418     9\n",
              "Name: book_id, Length: 1257, dtype: int64"
            ]
          },
          "metadata": {},
          "execution_count": 29
        }
      ],
      "source": [
        "# Finding user-books interactions distribution\n",
        "count_interactions = df.groupby('user_id').count()['book_id']\n",
        "count_interactions"
      ]
    },
    {
      "cell_type": "code",
      "execution_count": 30,
      "id": "7ZcsJbzb6BIX",
      "metadata": {
        "id": "7ZcsJbzb6BIX",
        "colab": {
          "base_uri": "https://localhost:8080/",
          "height": 450
        },
        "outputId": "2d8fb25d-cc1d-4298-a9f7-fa77f4d32dc9"
      },
      "outputs": [
        {
          "output_type": "display_data",
          "data": {
            "text/plain": [
              "<Figure size 1500x500 with 1 Axes>"
            ],
            "image/svg+xml": "<?xml version=\"1.0\" encoding=\"utf-8\" standalone=\"no\"?>\n<!DOCTYPE svg PUBLIC \"-//W3C//DTD SVG 1.1//EN\"\n  \"http://www.w3.org/Graphics/SVG/1.1/DTD/svg11.dtd\">\n<svg xmlns:xlink=\"http://www.w3.org/1999/xlink\" width=\"891.165625pt\" height=\"321.95625pt\" viewBox=\"0 0 891.165625 321.95625\" xmlns=\"http://www.w3.org/2000/svg\" version=\"1.1\">\n <metadata>\n  <rdf:RDF xmlns:dc=\"http://purl.org/dc/elements/1.1/\" xmlns:cc=\"http://creativecommons.org/ns#\" xmlns:rdf=\"http://www.w3.org/1999/02/22-rdf-syntax-ns#\">\n   <cc:Work>\n    <dc:type rdf:resource=\"http://purl.org/dc/dcmitype/StillImage\"/>\n    <dc:date>2023-05-05T09:00:55.682424</dc:date>\n    <dc:format>image/svg+xml</dc:format>\n    <dc:creator>\n     <cc:Agent>\n      <dc:title>Matplotlib v3.7.1, https://matplotlib.org/</dc:title>\n     </cc:Agent>\n    </dc:creator>\n   </cc:Work>\n  </rdf:RDF>\n </metadata>\n <defs>\n  <style type=\"text/css\">*{stroke-linejoin: round; stroke-linecap: butt}</style>\n </defs>\n <g id=\"figure_1\">\n  <g id=\"patch_1\">\n   <path d=\"M 0 321.95625 \nL 891.165625 321.95625 \nL 891.165625 0 \nL 0 0 \nz\n\" style=\"fill: #ffffff\"/>\n  </g>\n  <g id=\"axes_1\">\n   <g id=\"patch_2\">\n    <path d=\"M 46.965625 284.4 \nL 883.965625 284.4 \nL 883.965625 7.2 \nL 46.965625 7.2 \nz\n\" style=\"fill: #ffffff\"/>\n   </g>\n   <g id=\"patch_3\">\n    <path d=\"M 85.01108 284.4 \nL 88.834743 284.4 \nL 88.834743 46.045714 \nL 85.01108 46.045714 \nz\n\" clip-path=\"url(#pa408b31a00)\" style=\"fill: #1f77b4; fill-opacity: 0.75; stroke: #000000; stroke-width: 0.382366; stroke-linejoin: miter\"/>\n   </g>\n   <g id=\"patch_4\">\n    <path d=\"M 88.834743 284.4 \nL 92.658407 284.4 \nL 92.658407 29.451429 \nL 88.834743 29.451429 \nz\n\" clip-path=\"url(#pa408b31a00)\" style=\"fill: #1f77b4; fill-opacity: 0.75; stroke: #000000; stroke-width: 0.382366; stroke-linejoin: miter\"/>\n   </g>\n   <g id=\"patch_5\">\n    <path d=\"M 92.658407 284.4 \nL 96.482071 284.4 \nL 96.482071 20.4 \nL 92.658407 20.4 \nz\n\" clip-path=\"url(#pa408b31a00)\" style=\"fill: #1f77b4; fill-opacity: 0.75; stroke: #000000; stroke-width: 0.382366; stroke-linejoin: miter\"/>\n   </g>\n   <g id=\"patch_6\">\n    <path d=\"M 96.482071 284.4 \nL 100.305735 284.4 \nL 100.305735 113.931429 \nL 96.482071 113.931429 \nz\n\" clip-path=\"url(#pa408b31a00)\" style=\"fill: #1f77b4; fill-opacity: 0.75; stroke: #000000; stroke-width: 0.382366; stroke-linejoin: miter\"/>\n   </g>\n   <g id=\"patch_7\">\n    <path d=\"M 100.305735 284.4 \nL 104.129398 284.4 \nL 104.129398 91.302857 \nL 100.305735 91.302857 \nz\n\" clip-path=\"url(#pa408b31a00)\" style=\"fill: #1f77b4; fill-opacity: 0.75; stroke: #000000; stroke-width: 0.382366; stroke-linejoin: miter\"/>\n   </g>\n   <g id=\"patch_8\">\n    <path d=\"M 104.129398 284.4 \nL 107.953062 284.4 \nL 107.953062 124.491429 \nL 104.129398 124.491429 \nz\n\" clip-path=\"url(#pa408b31a00)\" style=\"fill: #1f77b4; fill-opacity: 0.75; stroke: #000000; stroke-width: 0.382366; stroke-linejoin: miter\"/>\n   </g>\n   <g id=\"patch_9\">\n    <path d=\"M 107.953062 284.4 \nL 111.776726 284.4 \nL 111.776726 189.36 \nL 107.953062 189.36 \nz\n\" clip-path=\"url(#pa408b31a00)\" style=\"fill: #1f77b4; fill-opacity: 0.75; stroke: #000000; stroke-width: 0.382366; stroke-linejoin: miter\"/>\n   </g>\n   <g id=\"patch_10\">\n    <path d=\"M 111.776726 284.4 \nL 115.60039 284.4 \nL 115.60039 157.68 \nL 111.776726 157.68 \nz\n\" clip-path=\"url(#pa408b31a00)\" style=\"fill: #1f77b4; fill-opacity: 0.75; stroke: #000000; stroke-width: 0.382366; stroke-linejoin: miter\"/>\n   </g>\n   <g id=\"patch_11\">\n    <path d=\"M 115.60039 284.4 \nL 119.424054 284.4 \nL 119.424054 180.308571 \nL 115.60039 180.308571 \nz\n\" clip-path=\"url(#pa408b31a00)\" style=\"fill: #1f77b4; fill-opacity: 0.75; stroke: #000000; stroke-width: 0.382366; stroke-linejoin: miter\"/>\n   </g>\n   <g id=\"patch_12\">\n    <path d=\"M 119.424054 284.4 \nL 123.247717 284.4 \nL 123.247717 222.548571 \nL 119.424054 222.548571 \nz\n\" clip-path=\"url(#pa408b31a00)\" style=\"fill: #1f77b4; fill-opacity: 0.75; stroke: #000000; stroke-width: 0.382366; stroke-linejoin: miter\"/>\n   </g>\n   <g id=\"patch_13\">\n    <path d=\"M 123.247717 284.4 \nL 127.071381 284.4 \nL 127.071381 243.668571 \nL 123.247717 243.668571 \nz\n\" clip-path=\"url(#pa408b31a00)\" style=\"fill: #1f77b4; fill-opacity: 0.75; stroke: #000000; stroke-width: 0.382366; stroke-linejoin: miter\"/>\n   </g>\n   <g id=\"patch_14\">\n    <path d=\"M 127.071381 284.4 \nL 130.895045 284.4 \nL 130.895045 243.668571 \nL 127.071381 243.668571 \nz\n\" clip-path=\"url(#pa408b31a00)\" style=\"fill: #1f77b4; fill-opacity: 0.75; stroke: #000000; stroke-width: 0.382366; stroke-linejoin: miter\"/>\n   </g>\n   <g id=\"patch_15\">\n    <path d=\"M 130.895045 284.4 \nL 134.718709 284.4 \nL 134.718709 266.297143 \nL 130.895045 266.297143 \nz\n\" clip-path=\"url(#pa408b31a00)\" style=\"fill: #1f77b4; fill-opacity: 0.75; stroke: #000000; stroke-width: 0.382366; stroke-linejoin: miter\"/>\n   </g>\n   <g id=\"patch_16\">\n    <path d=\"M 134.718709 284.4 \nL 138.542372 284.4 \nL 138.542372 260.262857 \nL 134.718709 260.262857 \nz\n\" clip-path=\"url(#pa408b31a00)\" style=\"fill: #1f77b4; fill-opacity: 0.75; stroke: #000000; stroke-width: 0.382366; stroke-linejoin: miter\"/>\n   </g>\n   <g id=\"patch_17\">\n    <path d=\"M 138.542372 284.4 \nL 142.366036 284.4 \nL 142.366036 263.28 \nL 138.542372 263.28 \nz\n\" clip-path=\"url(#pa408b31a00)\" style=\"fill: #1f77b4; fill-opacity: 0.75; stroke: #000000; stroke-width: 0.382366; stroke-linejoin: miter\"/>\n   </g>\n   <g id=\"patch_18\">\n    <path d=\"M 142.366036 284.4 \nL 146.1897 284.4 \nL 146.1897 266.297143 \nL 142.366036 266.297143 \nz\n\" clip-path=\"url(#pa408b31a00)\" style=\"fill: #1f77b4; fill-opacity: 0.75; stroke: #000000; stroke-width: 0.382366; stroke-linejoin: miter\"/>\n   </g>\n   <g id=\"patch_19\">\n    <path d=\"M 146.1897 284.4 \nL 150.013364 284.4 \nL 150.013364 275.348571 \nL 146.1897 275.348571 \nz\n\" clip-path=\"url(#pa408b31a00)\" style=\"fill: #1f77b4; fill-opacity: 0.75; stroke: #000000; stroke-width: 0.382366; stroke-linejoin: miter\"/>\n   </g>\n   <g id=\"patch_20\">\n    <path d=\"M 150.013364 284.4 \nL 153.837027 284.4 \nL 153.837027 273.84 \nL 150.013364 273.84 \nz\n\" clip-path=\"url(#pa408b31a00)\" style=\"fill: #1f77b4; fill-opacity: 0.75; stroke: #000000; stroke-width: 0.382366; stroke-linejoin: miter\"/>\n   </g>\n   <g id=\"patch_21\">\n    <path d=\"M 153.837027 284.4 \nL 157.660691 284.4 \nL 157.660691 279.874286 \nL 153.837027 279.874286 \nz\n\" clip-path=\"url(#pa408b31a00)\" style=\"fill: #1f77b4; fill-opacity: 0.75; stroke: #000000; stroke-width: 0.382366; stroke-linejoin: miter\"/>\n   </g>\n   <g id=\"patch_22\">\n    <path d=\"M 157.660691 284.4 \nL 161.484355 284.4 \nL 161.484355 284.4 \nL 157.660691 284.4 \nz\n\" clip-path=\"url(#pa408b31a00)\" style=\"fill: #1f77b4; fill-opacity: 0.75; stroke: #000000; stroke-width: 0.382366; stroke-linejoin: miter\"/>\n   </g>\n   <g id=\"patch_23\">\n    <path d=\"M 161.484355 284.4 \nL 165.308019 284.4 \nL 165.308019 281.382857 \nL 161.484355 281.382857 \nz\n\" clip-path=\"url(#pa408b31a00)\" style=\"fill: #1f77b4; fill-opacity: 0.75; stroke: #000000; stroke-width: 0.382366; stroke-linejoin: miter\"/>\n   </g>\n   <g id=\"patch_24\">\n    <path d=\"M 165.308019 284.4 \nL 169.131683 284.4 \nL 169.131683 278.365714 \nL 165.308019 278.365714 \nz\n\" clip-path=\"url(#pa408b31a00)\" style=\"fill: #1f77b4; fill-opacity: 0.75; stroke: #000000; stroke-width: 0.382366; stroke-linejoin: miter\"/>\n   </g>\n   <g id=\"patch_25\">\n    <path d=\"M 169.131683 284.4 \nL 172.955346 284.4 \nL 172.955346 281.382857 \nL 169.131683 281.382857 \nz\n\" clip-path=\"url(#pa408b31a00)\" style=\"fill: #1f77b4; fill-opacity: 0.75; stroke: #000000; stroke-width: 0.382366; stroke-linejoin: miter\"/>\n   </g>\n   <g id=\"patch_26\">\n    <path d=\"M 172.955346 284.4 \nL 176.77901 284.4 \nL 176.77901 279.874286 \nL 172.955346 279.874286 \nz\n\" clip-path=\"url(#pa408b31a00)\" style=\"fill: #1f77b4; fill-opacity: 0.75; stroke: #000000; stroke-width: 0.382366; stroke-linejoin: miter\"/>\n   </g>\n   <g id=\"patch_27\">\n    <path d=\"M 176.77901 284.4 \nL 180.602674 284.4 \nL 180.602674 279.874286 \nL 176.77901 279.874286 \nz\n\" clip-path=\"url(#pa408b31a00)\" style=\"fill: #1f77b4; fill-opacity: 0.75; stroke: #000000; stroke-width: 0.382366; stroke-linejoin: miter\"/>\n   </g>\n   <g id=\"patch_28\">\n    <path d=\"M 180.602674 284.4 \nL 184.426338 284.4 \nL 184.426338 284.4 \nL 180.602674 284.4 \nz\n\" clip-path=\"url(#pa408b31a00)\" style=\"fill: #1f77b4; fill-opacity: 0.75; stroke: #000000; stroke-width: 0.382366; stroke-linejoin: miter\"/>\n   </g>\n   <g id=\"patch_29\">\n    <path d=\"M 184.426338 284.4 \nL 188.250001 284.4 \nL 188.250001 282.891429 \nL 184.426338 282.891429 \nz\n\" clip-path=\"url(#pa408b31a00)\" style=\"fill: #1f77b4; fill-opacity: 0.75; stroke: #000000; stroke-width: 0.382366; stroke-linejoin: miter\"/>\n   </g>\n   <g id=\"patch_30\">\n    <path d=\"M 188.250001 284.4 \nL 192.073665 284.4 \nL 192.073665 279.874286 \nL 188.250001 279.874286 \nz\n\" clip-path=\"url(#pa408b31a00)\" style=\"fill: #1f77b4; fill-opacity: 0.75; stroke: #000000; stroke-width: 0.382366; stroke-linejoin: miter\"/>\n   </g>\n   <g id=\"patch_31\">\n    <path d=\"M 192.073665 284.4 \nL 195.897329 284.4 \nL 195.897329 284.4 \nL 192.073665 284.4 \nz\n\" clip-path=\"url(#pa408b31a00)\" style=\"fill: #1f77b4; fill-opacity: 0.75; stroke: #000000; stroke-width: 0.382366; stroke-linejoin: miter\"/>\n   </g>\n   <g id=\"patch_32\">\n    <path d=\"M 195.897329 284.4 \nL 199.720993 284.4 \nL 199.720993 282.891429 \nL 195.897329 282.891429 \nz\n\" clip-path=\"url(#pa408b31a00)\" style=\"fill: #1f77b4; fill-opacity: 0.75; stroke: #000000; stroke-width: 0.382366; stroke-linejoin: miter\"/>\n   </g>\n   <g id=\"patch_33\">\n    <path d=\"M 199.720993 284.4 \nL 203.544657 284.4 \nL 203.544657 284.4 \nL 199.720993 284.4 \nz\n\" clip-path=\"url(#pa408b31a00)\" style=\"fill: #1f77b4; fill-opacity: 0.75; stroke: #000000; stroke-width: 0.382366; stroke-linejoin: miter\"/>\n   </g>\n   <g id=\"patch_34\">\n    <path d=\"M 203.544657 284.4 \nL 207.36832 284.4 \nL 207.36832 282.891429 \nL 203.544657 282.891429 \nz\n\" clip-path=\"url(#pa408b31a00)\" style=\"fill: #1f77b4; fill-opacity: 0.75; stroke: #000000; stroke-width: 0.382366; stroke-linejoin: miter\"/>\n   </g>\n   <g id=\"patch_35\">\n    <path d=\"M 207.36832 284.4 \nL 211.191984 284.4 \nL 211.191984 284.4 \nL 207.36832 284.4 \nz\n\" clip-path=\"url(#pa408b31a00)\" style=\"fill: #1f77b4; fill-opacity: 0.75; stroke: #000000; stroke-width: 0.382366; stroke-linejoin: miter\"/>\n   </g>\n   <g id=\"patch_36\">\n    <path d=\"M 211.191984 284.4 \nL 215.015648 284.4 \nL 215.015648 282.891429 \nL 211.191984 282.891429 \nz\n\" clip-path=\"url(#pa408b31a00)\" style=\"fill: #1f77b4; fill-opacity: 0.75; stroke: #000000; stroke-width: 0.382366; stroke-linejoin: miter\"/>\n   </g>\n   <g id=\"patch_37\">\n    <path d=\"M 215.015648 284.4 \nL 218.839312 284.4 \nL 218.839312 284.4 \nL 215.015648 284.4 \nz\n\" clip-path=\"url(#pa408b31a00)\" style=\"fill: #1f77b4; fill-opacity: 0.75; stroke: #000000; stroke-width: 0.382366; stroke-linejoin: miter\"/>\n   </g>\n   <g id=\"patch_38\">\n    <path d=\"M 218.839312 284.4 \nL 222.662975 284.4 \nL 222.662975 284.4 \nL 218.839312 284.4 \nz\n\" clip-path=\"url(#pa408b31a00)\" style=\"fill: #1f77b4; fill-opacity: 0.75; stroke: #000000; stroke-width: 0.382366; stroke-linejoin: miter\"/>\n   </g>\n   <g id=\"patch_39\">\n    <path d=\"M 222.662975 284.4 \nL 226.486639 284.4 \nL 226.486639 282.891429 \nL 222.662975 282.891429 \nz\n\" clip-path=\"url(#pa408b31a00)\" style=\"fill: #1f77b4; fill-opacity: 0.75; stroke: #000000; stroke-width: 0.382366; stroke-linejoin: miter\"/>\n   </g>\n   <g id=\"patch_40\">\n    <path d=\"M 226.486639 284.4 \nL 230.310303 284.4 \nL 230.310303 284.4 \nL 226.486639 284.4 \nz\n\" clip-path=\"url(#pa408b31a00)\" style=\"fill: #1f77b4; fill-opacity: 0.75; stroke: #000000; stroke-width: 0.382366; stroke-linejoin: miter\"/>\n   </g>\n   <g id=\"patch_41\">\n    <path d=\"M 230.310303 284.4 \nL 234.133967 284.4 \nL 234.133967 284.4 \nL 230.310303 284.4 \nz\n\" clip-path=\"url(#pa408b31a00)\" style=\"fill: #1f77b4; fill-opacity: 0.75; stroke: #000000; stroke-width: 0.382366; stroke-linejoin: miter\"/>\n   </g>\n   <g id=\"patch_42\">\n    <path d=\"M 234.133967 284.4 \nL 237.95763 284.4 \nL 237.95763 284.4 \nL 234.133967 284.4 \nz\n\" clip-path=\"url(#pa408b31a00)\" style=\"fill: #1f77b4; fill-opacity: 0.75; stroke: #000000; stroke-width: 0.382366; stroke-linejoin: miter\"/>\n   </g>\n   <g id=\"patch_43\">\n    <path d=\"M 237.95763 284.4 \nL 241.781294 284.4 \nL 241.781294 282.891429 \nL 237.95763 282.891429 \nz\n\" clip-path=\"url(#pa408b31a00)\" style=\"fill: #1f77b4; fill-opacity: 0.75; stroke: #000000; stroke-width: 0.382366; stroke-linejoin: miter\"/>\n   </g>\n   <g id=\"patch_44\">\n    <path d=\"M 241.781294 284.4 \nL 245.604958 284.4 \nL 245.604958 282.891429 \nL 241.781294 282.891429 \nz\n\" clip-path=\"url(#pa408b31a00)\" style=\"fill: #1f77b4; fill-opacity: 0.75; stroke: #000000; stroke-width: 0.382366; stroke-linejoin: miter\"/>\n   </g>\n   <g id=\"patch_45\">\n    <path d=\"M 245.604958 284.4 \nL 249.428622 284.4 \nL 249.428622 284.4 \nL 245.604958 284.4 \nz\n\" clip-path=\"url(#pa408b31a00)\" style=\"fill: #1f77b4; fill-opacity: 0.75; stroke: #000000; stroke-width: 0.382366; stroke-linejoin: miter\"/>\n   </g>\n   <g id=\"patch_46\">\n    <path d=\"M 249.428622 284.4 \nL 253.252286 284.4 \nL 253.252286 284.4 \nL 249.428622 284.4 \nz\n\" clip-path=\"url(#pa408b31a00)\" style=\"fill: #1f77b4; fill-opacity: 0.75; stroke: #000000; stroke-width: 0.382366; stroke-linejoin: miter\"/>\n   </g>\n   <g id=\"patch_47\">\n    <path d=\"M 253.252286 284.4 \nL 257.075949 284.4 \nL 257.075949 284.4 \nL 253.252286 284.4 \nz\n\" clip-path=\"url(#pa408b31a00)\" style=\"fill: #1f77b4; fill-opacity: 0.75; stroke: #000000; stroke-width: 0.382366; stroke-linejoin: miter\"/>\n   </g>\n   <g id=\"patch_48\">\n    <path d=\"M 257.075949 284.4 \nL 260.899613 284.4 \nL 260.899613 284.4 \nL 257.075949 284.4 \nz\n\" clip-path=\"url(#pa408b31a00)\" style=\"fill: #1f77b4; fill-opacity: 0.75; stroke: #000000; stroke-width: 0.382366; stroke-linejoin: miter\"/>\n   </g>\n   <g id=\"patch_49\">\n    <path d=\"M 260.899613 284.4 \nL 264.723277 284.4 \nL 264.723277 284.4 \nL 260.899613 284.4 \nz\n\" clip-path=\"url(#pa408b31a00)\" style=\"fill: #1f77b4; fill-opacity: 0.75; stroke: #000000; stroke-width: 0.382366; stroke-linejoin: miter\"/>\n   </g>\n   <g id=\"patch_50\">\n    <path d=\"M 264.723277 284.4 \nL 268.546941 284.4 \nL 268.546941 282.891429 \nL 264.723277 282.891429 \nz\n\" clip-path=\"url(#pa408b31a00)\" style=\"fill: #1f77b4; fill-opacity: 0.75; stroke: #000000; stroke-width: 0.382366; stroke-linejoin: miter\"/>\n   </g>\n   <g id=\"patch_51\">\n    <path d=\"M 268.546941 284.4 \nL 272.370604 284.4 \nL 272.370604 284.4 \nL 268.546941 284.4 \nz\n\" clip-path=\"url(#pa408b31a00)\" style=\"fill: #1f77b4; fill-opacity: 0.75; stroke: #000000; stroke-width: 0.382366; stroke-linejoin: miter\"/>\n   </g>\n   <g id=\"patch_52\">\n    <path d=\"M 272.370604 284.4 \nL 276.194268 284.4 \nL 276.194268 284.4 \nL 272.370604 284.4 \nz\n\" clip-path=\"url(#pa408b31a00)\" style=\"fill: #1f77b4; fill-opacity: 0.75; stroke: #000000; stroke-width: 0.382366; stroke-linejoin: miter\"/>\n   </g>\n   <g id=\"patch_53\">\n    <path d=\"M 276.194268 284.4 \nL 280.017932 284.4 \nL 280.017932 284.4 \nL 276.194268 284.4 \nz\n\" clip-path=\"url(#pa408b31a00)\" style=\"fill: #1f77b4; fill-opacity: 0.75; stroke: #000000; stroke-width: 0.382366; stroke-linejoin: miter\"/>\n   </g>\n   <g id=\"patch_54\">\n    <path d=\"M 280.017932 284.4 \nL 283.841596 284.4 \nL 283.841596 284.4 \nL 280.017932 284.4 \nz\n\" clip-path=\"url(#pa408b31a00)\" style=\"fill: #1f77b4; fill-opacity: 0.75; stroke: #000000; stroke-width: 0.382366; stroke-linejoin: miter\"/>\n   </g>\n   <g id=\"patch_55\">\n    <path d=\"M 283.841596 284.4 \nL 287.66526 284.4 \nL 287.66526 284.4 \nL 283.841596 284.4 \nz\n\" clip-path=\"url(#pa408b31a00)\" style=\"fill: #1f77b4; fill-opacity: 0.75; stroke: #000000; stroke-width: 0.382366; stroke-linejoin: miter\"/>\n   </g>\n   <g id=\"patch_56\">\n    <path d=\"M 287.66526 284.4 \nL 291.488923 284.4 \nL 291.488923 284.4 \nL 287.66526 284.4 \nz\n\" clip-path=\"url(#pa408b31a00)\" style=\"fill: #1f77b4; fill-opacity: 0.75; stroke: #000000; stroke-width: 0.382366; stroke-linejoin: miter\"/>\n   </g>\n   <g id=\"patch_57\">\n    <path d=\"M 291.488923 284.4 \nL 295.312587 284.4 \nL 295.312587 284.4 \nL 291.488923 284.4 \nz\n\" clip-path=\"url(#pa408b31a00)\" style=\"fill: #1f77b4; fill-opacity: 0.75; stroke: #000000; stroke-width: 0.382366; stroke-linejoin: miter\"/>\n   </g>\n   <g id=\"patch_58\">\n    <path d=\"M 295.312587 284.4 \nL 299.136251 284.4 \nL 299.136251 282.891429 \nL 295.312587 282.891429 \nz\n\" clip-path=\"url(#pa408b31a00)\" style=\"fill: #1f77b4; fill-opacity: 0.75; stroke: #000000; stroke-width: 0.382366; stroke-linejoin: miter\"/>\n   </g>\n   <g id=\"patch_59\">\n    <path d=\"M 299.136251 284.4 \nL 302.959915 284.4 \nL 302.959915 284.4 \nL 299.136251 284.4 \nz\n\" clip-path=\"url(#pa408b31a00)\" style=\"fill: #1f77b4; fill-opacity: 0.75; stroke: #000000; stroke-width: 0.382366; stroke-linejoin: miter\"/>\n   </g>\n   <g id=\"patch_60\">\n    <path d=\"M 302.959915 284.4 \nL 306.783578 284.4 \nL 306.783578 284.4 \nL 302.959915 284.4 \nz\n\" clip-path=\"url(#pa408b31a00)\" style=\"fill: #1f77b4; fill-opacity: 0.75; stroke: #000000; stroke-width: 0.382366; stroke-linejoin: miter\"/>\n   </g>\n   <g id=\"patch_61\">\n    <path d=\"M 306.783578 284.4 \nL 310.607242 284.4 \nL 310.607242 284.4 \nL 306.783578 284.4 \nz\n\" clip-path=\"url(#pa408b31a00)\" style=\"fill: #1f77b4; fill-opacity: 0.75; stroke: #000000; stroke-width: 0.382366; stroke-linejoin: miter\"/>\n   </g>\n   <g id=\"patch_62\">\n    <path d=\"M 310.607242 284.4 \nL 314.430906 284.4 \nL 314.430906 284.4 \nL 310.607242 284.4 \nz\n\" clip-path=\"url(#pa408b31a00)\" style=\"fill: #1f77b4; fill-opacity: 0.75; stroke: #000000; stroke-width: 0.382366; stroke-linejoin: miter\"/>\n   </g>\n   <g id=\"patch_63\">\n    <path d=\"M 314.430906 284.4 \nL 318.25457 284.4 \nL 318.25457 284.4 \nL 314.430906 284.4 \nz\n\" clip-path=\"url(#pa408b31a00)\" style=\"fill: #1f77b4; fill-opacity: 0.75; stroke: #000000; stroke-width: 0.382366; stroke-linejoin: miter\"/>\n   </g>\n   <g id=\"patch_64\">\n    <path d=\"M 318.25457 284.4 \nL 322.078233 284.4 \nL 322.078233 284.4 \nL 318.25457 284.4 \nz\n\" clip-path=\"url(#pa408b31a00)\" style=\"fill: #1f77b4; fill-opacity: 0.75; stroke: #000000; stroke-width: 0.382366; stroke-linejoin: miter\"/>\n   </g>\n   <g id=\"patch_65\">\n    <path d=\"M 322.078233 284.4 \nL 325.901897 284.4 \nL 325.901897 284.4 \nL 322.078233 284.4 \nz\n\" clip-path=\"url(#pa408b31a00)\" style=\"fill: #1f77b4; fill-opacity: 0.75; stroke: #000000; stroke-width: 0.382366; stroke-linejoin: miter\"/>\n   </g>\n   <g id=\"patch_66\">\n    <path d=\"M 325.901897 284.4 \nL 329.725561 284.4 \nL 329.725561 284.4 \nL 325.901897 284.4 \nz\n\" clip-path=\"url(#pa408b31a00)\" style=\"fill: #1f77b4; fill-opacity: 0.75; stroke: #000000; stroke-width: 0.382366; stroke-linejoin: miter\"/>\n   </g>\n   <g id=\"patch_67\">\n    <path d=\"M 329.725561 284.4 \nL 333.549225 284.4 \nL 333.549225 284.4 \nL 329.725561 284.4 \nz\n\" clip-path=\"url(#pa408b31a00)\" style=\"fill: #1f77b4; fill-opacity: 0.75; stroke: #000000; stroke-width: 0.382366; stroke-linejoin: miter\"/>\n   </g>\n   <g id=\"patch_68\">\n    <path d=\"M 333.549225 284.4 \nL 337.372889 284.4 \nL 337.372889 284.4 \nL 333.549225 284.4 \nz\n\" clip-path=\"url(#pa408b31a00)\" style=\"fill: #1f77b4; fill-opacity: 0.75; stroke: #000000; stroke-width: 0.382366; stroke-linejoin: miter\"/>\n   </g>\n   <g id=\"patch_69\">\n    <path d=\"M 337.372889 284.4 \nL 341.196552 284.4 \nL 341.196552 284.4 \nL 337.372889 284.4 \nz\n\" clip-path=\"url(#pa408b31a00)\" style=\"fill: #1f77b4; fill-opacity: 0.75; stroke: #000000; stroke-width: 0.382366; stroke-linejoin: miter\"/>\n   </g>\n   <g id=\"patch_70\">\n    <path d=\"M 341.196552 284.4 \nL 345.020216 284.4 \nL 345.020216 284.4 \nL 341.196552 284.4 \nz\n\" clip-path=\"url(#pa408b31a00)\" style=\"fill: #1f77b4; fill-opacity: 0.75; stroke: #000000; stroke-width: 0.382366; stroke-linejoin: miter\"/>\n   </g>\n   <g id=\"patch_71\">\n    <path d=\"M 345.020216 284.4 \nL 348.84388 284.4 \nL 348.84388 284.4 \nL 345.020216 284.4 \nz\n\" clip-path=\"url(#pa408b31a00)\" style=\"fill: #1f77b4; fill-opacity: 0.75; stroke: #000000; stroke-width: 0.382366; stroke-linejoin: miter\"/>\n   </g>\n   <g id=\"patch_72\">\n    <path d=\"M 348.84388 284.4 \nL 352.667544 284.4 \nL 352.667544 284.4 \nL 348.84388 284.4 \nz\n\" clip-path=\"url(#pa408b31a00)\" style=\"fill: #1f77b4; fill-opacity: 0.75; stroke: #000000; stroke-width: 0.382366; stroke-linejoin: miter\"/>\n   </g>\n   <g id=\"patch_73\">\n    <path d=\"M 352.667544 284.4 \nL 356.491207 284.4 \nL 356.491207 284.4 \nL 352.667544 284.4 \nz\n\" clip-path=\"url(#pa408b31a00)\" style=\"fill: #1f77b4; fill-opacity: 0.75; stroke: #000000; stroke-width: 0.382366; stroke-linejoin: miter\"/>\n   </g>\n   <g id=\"patch_74\">\n    <path d=\"M 356.491207 284.4 \nL 360.314871 284.4 \nL 360.314871 284.4 \nL 356.491207 284.4 \nz\n\" clip-path=\"url(#pa408b31a00)\" style=\"fill: #1f77b4; fill-opacity: 0.75; stroke: #000000; stroke-width: 0.382366; stroke-linejoin: miter\"/>\n   </g>\n   <g id=\"patch_75\">\n    <path d=\"M 360.314871 284.4 \nL 364.138535 284.4 \nL 364.138535 284.4 \nL 360.314871 284.4 \nz\n\" clip-path=\"url(#pa408b31a00)\" style=\"fill: #1f77b4; fill-opacity: 0.75; stroke: #000000; stroke-width: 0.382366; stroke-linejoin: miter\"/>\n   </g>\n   <g id=\"patch_76\">\n    <path d=\"M 364.138535 284.4 \nL 367.962199 284.4 \nL 367.962199 284.4 \nL 364.138535 284.4 \nz\n\" clip-path=\"url(#pa408b31a00)\" style=\"fill: #1f77b4; fill-opacity: 0.75; stroke: #000000; stroke-width: 0.382366; stroke-linejoin: miter\"/>\n   </g>\n   <g id=\"patch_77\">\n    <path d=\"M 367.962199 284.4 \nL 371.785863 284.4 \nL 371.785863 284.4 \nL 367.962199 284.4 \nz\n\" clip-path=\"url(#pa408b31a00)\" style=\"fill: #1f77b4; fill-opacity: 0.75; stroke: #000000; stroke-width: 0.382366; stroke-linejoin: miter\"/>\n   </g>\n   <g id=\"patch_78\">\n    <path d=\"M 371.785863 284.4 \nL 375.609526 284.4 \nL 375.609526 284.4 \nL 371.785863 284.4 \nz\n\" clip-path=\"url(#pa408b31a00)\" style=\"fill: #1f77b4; fill-opacity: 0.75; stroke: #000000; stroke-width: 0.382366; stroke-linejoin: miter\"/>\n   </g>\n   <g id=\"patch_79\">\n    <path d=\"M 375.609526 284.4 \nL 379.43319 284.4 \nL 379.43319 284.4 \nL 375.609526 284.4 \nz\n\" clip-path=\"url(#pa408b31a00)\" style=\"fill: #1f77b4; fill-opacity: 0.75; stroke: #000000; stroke-width: 0.382366; stroke-linejoin: miter\"/>\n   </g>\n   <g id=\"patch_80\">\n    <path d=\"M 379.43319 284.4 \nL 383.256854 284.4 \nL 383.256854 284.4 \nL 379.43319 284.4 \nz\n\" clip-path=\"url(#pa408b31a00)\" style=\"fill: #1f77b4; fill-opacity: 0.75; stroke: #000000; stroke-width: 0.382366; stroke-linejoin: miter\"/>\n   </g>\n   <g id=\"patch_81\">\n    <path d=\"M 383.256854 284.4 \nL 387.080518 284.4 \nL 387.080518 284.4 \nL 383.256854 284.4 \nz\n\" clip-path=\"url(#pa408b31a00)\" style=\"fill: #1f77b4; fill-opacity: 0.75; stroke: #000000; stroke-width: 0.382366; stroke-linejoin: miter\"/>\n   </g>\n   <g id=\"patch_82\">\n    <path d=\"M 387.080518 284.4 \nL 390.904181 284.4 \nL 390.904181 284.4 \nL 387.080518 284.4 \nz\n\" clip-path=\"url(#pa408b31a00)\" style=\"fill: #1f77b4; fill-opacity: 0.75; stroke: #000000; stroke-width: 0.382366; stroke-linejoin: miter\"/>\n   </g>\n   <g id=\"patch_83\">\n    <path d=\"M 390.904181 284.4 \nL 394.727845 284.4 \nL 394.727845 284.4 \nL 390.904181 284.4 \nz\n\" clip-path=\"url(#pa408b31a00)\" style=\"fill: #1f77b4; fill-opacity: 0.75; stroke: #000000; stroke-width: 0.382366; stroke-linejoin: miter\"/>\n   </g>\n   <g id=\"patch_84\">\n    <path d=\"M 394.727845 284.4 \nL 398.551509 284.4 \nL 398.551509 284.4 \nL 394.727845 284.4 \nz\n\" clip-path=\"url(#pa408b31a00)\" style=\"fill: #1f77b4; fill-opacity: 0.75; stroke: #000000; stroke-width: 0.382366; stroke-linejoin: miter\"/>\n   </g>\n   <g id=\"patch_85\">\n    <path d=\"M 398.551509 284.4 \nL 402.375173 284.4 \nL 402.375173 284.4 \nL 398.551509 284.4 \nz\n\" clip-path=\"url(#pa408b31a00)\" style=\"fill: #1f77b4; fill-opacity: 0.75; stroke: #000000; stroke-width: 0.382366; stroke-linejoin: miter\"/>\n   </g>\n   <g id=\"patch_86\">\n    <path d=\"M 402.375173 284.4 \nL 406.198837 284.4 \nL 406.198837 284.4 \nL 402.375173 284.4 \nz\n\" clip-path=\"url(#pa408b31a00)\" style=\"fill: #1f77b4; fill-opacity: 0.75; stroke: #000000; stroke-width: 0.382366; stroke-linejoin: miter\"/>\n   </g>\n   <g id=\"patch_87\">\n    <path d=\"M 406.198837 284.4 \nL 410.0225 284.4 \nL 410.0225 284.4 \nL 406.198837 284.4 \nz\n\" clip-path=\"url(#pa408b31a00)\" style=\"fill: #1f77b4; fill-opacity: 0.75; stroke: #000000; stroke-width: 0.382366; stroke-linejoin: miter\"/>\n   </g>\n   <g id=\"patch_88\">\n    <path d=\"M 410.0225 284.4 \nL 413.846164 284.4 \nL 413.846164 284.4 \nL 410.0225 284.4 \nz\n\" clip-path=\"url(#pa408b31a00)\" style=\"fill: #1f77b4; fill-opacity: 0.75; stroke: #000000; stroke-width: 0.382366; stroke-linejoin: miter\"/>\n   </g>\n   <g id=\"patch_89\">\n    <path d=\"M 413.846164 284.4 \nL 417.669828 284.4 \nL 417.669828 284.4 \nL 413.846164 284.4 \nz\n\" clip-path=\"url(#pa408b31a00)\" style=\"fill: #1f77b4; fill-opacity: 0.75; stroke: #000000; stroke-width: 0.382366; stroke-linejoin: miter\"/>\n   </g>\n   <g id=\"patch_90\">\n    <path d=\"M 417.669828 284.4 \nL 421.493492 284.4 \nL 421.493492 284.4 \nL 417.669828 284.4 \nz\n\" clip-path=\"url(#pa408b31a00)\" style=\"fill: #1f77b4; fill-opacity: 0.75; stroke: #000000; stroke-width: 0.382366; stroke-linejoin: miter\"/>\n   </g>\n   <g id=\"patch_91\">\n    <path d=\"M 421.493492 284.4 \nL 425.317155 284.4 \nL 425.317155 284.4 \nL 421.493492 284.4 \nz\n\" clip-path=\"url(#pa408b31a00)\" style=\"fill: #1f77b4; fill-opacity: 0.75; stroke: #000000; stroke-width: 0.382366; stroke-linejoin: miter\"/>\n   </g>\n   <g id=\"patch_92\">\n    <path d=\"M 425.317155 284.4 \nL 429.140819 284.4 \nL 429.140819 284.4 \nL 425.317155 284.4 \nz\n\" clip-path=\"url(#pa408b31a00)\" style=\"fill: #1f77b4; fill-opacity: 0.75; stroke: #000000; stroke-width: 0.382366; stroke-linejoin: miter\"/>\n   </g>\n   <g id=\"patch_93\">\n    <path d=\"M 429.140819 284.4 \nL 432.964483 284.4 \nL 432.964483 284.4 \nL 429.140819 284.4 \nz\n\" clip-path=\"url(#pa408b31a00)\" style=\"fill: #1f77b4; fill-opacity: 0.75; stroke: #000000; stroke-width: 0.382366; stroke-linejoin: miter\"/>\n   </g>\n   <g id=\"patch_94\">\n    <path d=\"M 432.964483 284.4 \nL 436.788147 284.4 \nL 436.788147 284.4 \nL 432.964483 284.4 \nz\n\" clip-path=\"url(#pa408b31a00)\" style=\"fill: #1f77b4; fill-opacity: 0.75; stroke: #000000; stroke-width: 0.382366; stroke-linejoin: miter\"/>\n   </g>\n   <g id=\"patch_95\">\n    <path d=\"M 436.788147 284.4 \nL 440.61181 284.4 \nL 440.61181 284.4 \nL 436.788147 284.4 \nz\n\" clip-path=\"url(#pa408b31a00)\" style=\"fill: #1f77b4; fill-opacity: 0.75; stroke: #000000; stroke-width: 0.382366; stroke-linejoin: miter\"/>\n   </g>\n   <g id=\"patch_96\">\n    <path d=\"M 440.61181 284.4 \nL 444.435474 284.4 \nL 444.435474 284.4 \nL 440.61181 284.4 \nz\n\" clip-path=\"url(#pa408b31a00)\" style=\"fill: #1f77b4; fill-opacity: 0.75; stroke: #000000; stroke-width: 0.382366; stroke-linejoin: miter\"/>\n   </g>\n   <g id=\"patch_97\">\n    <path d=\"M 444.435474 284.4 \nL 448.259138 284.4 \nL 448.259138 284.4 \nL 444.435474 284.4 \nz\n\" clip-path=\"url(#pa408b31a00)\" style=\"fill: #1f77b4; fill-opacity: 0.75; stroke: #000000; stroke-width: 0.382366; stroke-linejoin: miter\"/>\n   </g>\n   <g id=\"patch_98\">\n    <path d=\"M 448.259138 284.4 \nL 452.082802 284.4 \nL 452.082802 284.4 \nL 448.259138 284.4 \nz\n\" clip-path=\"url(#pa408b31a00)\" style=\"fill: #1f77b4; fill-opacity: 0.75; stroke: #000000; stroke-width: 0.382366; stroke-linejoin: miter\"/>\n   </g>\n   <g id=\"patch_99\">\n    <path d=\"M 452.082802 284.4 \nL 455.906466 284.4 \nL 455.906466 284.4 \nL 452.082802 284.4 \nz\n\" clip-path=\"url(#pa408b31a00)\" style=\"fill: #1f77b4; fill-opacity: 0.75; stroke: #000000; stroke-width: 0.382366; stroke-linejoin: miter\"/>\n   </g>\n   <g id=\"patch_100\">\n    <path d=\"M 455.906466 284.4 \nL 459.730129 284.4 \nL 459.730129 284.4 \nL 455.906466 284.4 \nz\n\" clip-path=\"url(#pa408b31a00)\" style=\"fill: #1f77b4; fill-opacity: 0.75; stroke: #000000; stroke-width: 0.382366; stroke-linejoin: miter\"/>\n   </g>\n   <g id=\"patch_101\">\n    <path d=\"M 459.730129 284.4 \nL 463.553793 284.4 \nL 463.553793 284.4 \nL 459.730129 284.4 \nz\n\" clip-path=\"url(#pa408b31a00)\" style=\"fill: #1f77b4; fill-opacity: 0.75; stroke: #000000; stroke-width: 0.382366; stroke-linejoin: miter\"/>\n   </g>\n   <g id=\"patch_102\">\n    <path d=\"M 463.553793 284.4 \nL 467.377457 284.4 \nL 467.377457 284.4 \nL 463.553793 284.4 \nz\n\" clip-path=\"url(#pa408b31a00)\" style=\"fill: #1f77b4; fill-opacity: 0.75; stroke: #000000; stroke-width: 0.382366; stroke-linejoin: miter\"/>\n   </g>\n   <g id=\"patch_103\">\n    <path d=\"M 467.377457 284.4 \nL 471.201121 284.4 \nL 471.201121 284.4 \nL 467.377457 284.4 \nz\n\" clip-path=\"url(#pa408b31a00)\" style=\"fill: #1f77b4; fill-opacity: 0.75; stroke: #000000; stroke-width: 0.382366; stroke-linejoin: miter\"/>\n   </g>\n   <g id=\"patch_104\">\n    <path d=\"M 471.201121 284.4 \nL 475.024784 284.4 \nL 475.024784 284.4 \nL 471.201121 284.4 \nz\n\" clip-path=\"url(#pa408b31a00)\" style=\"fill: #1f77b4; fill-opacity: 0.75; stroke: #000000; stroke-width: 0.382366; stroke-linejoin: miter\"/>\n   </g>\n   <g id=\"patch_105\">\n    <path d=\"M 475.024784 284.4 \nL 478.848448 284.4 \nL 478.848448 284.4 \nL 475.024784 284.4 \nz\n\" clip-path=\"url(#pa408b31a00)\" style=\"fill: #1f77b4; fill-opacity: 0.75; stroke: #000000; stroke-width: 0.382366; stroke-linejoin: miter\"/>\n   </g>\n   <g id=\"patch_106\">\n    <path d=\"M 478.848448 284.4 \nL 482.672112 284.4 \nL 482.672112 284.4 \nL 478.848448 284.4 \nz\n\" clip-path=\"url(#pa408b31a00)\" style=\"fill: #1f77b4; fill-opacity: 0.75; stroke: #000000; stroke-width: 0.382366; stroke-linejoin: miter\"/>\n   </g>\n   <g id=\"patch_107\">\n    <path d=\"M 482.672112 284.4 \nL 486.495776 284.4 \nL 486.495776 284.4 \nL 482.672112 284.4 \nz\n\" clip-path=\"url(#pa408b31a00)\" style=\"fill: #1f77b4; fill-opacity: 0.75; stroke: #000000; stroke-width: 0.382366; stroke-linejoin: miter\"/>\n   </g>\n   <g id=\"patch_108\">\n    <path d=\"M 486.495776 284.4 \nL 490.31944 284.4 \nL 490.31944 284.4 \nL 486.495776 284.4 \nz\n\" clip-path=\"url(#pa408b31a00)\" style=\"fill: #1f77b4; fill-opacity: 0.75; stroke: #000000; stroke-width: 0.382366; stroke-linejoin: miter\"/>\n   </g>\n   <g id=\"patch_109\">\n    <path d=\"M 490.31944 284.4 \nL 494.143103 284.4 \nL 494.143103 284.4 \nL 490.31944 284.4 \nz\n\" clip-path=\"url(#pa408b31a00)\" style=\"fill: #1f77b4; fill-opacity: 0.75; stroke: #000000; stroke-width: 0.382366; stroke-linejoin: miter\"/>\n   </g>\n   <g id=\"patch_110\">\n    <path d=\"M 494.143103 284.4 \nL 497.966767 284.4 \nL 497.966767 284.4 \nL 494.143103 284.4 \nz\n\" clip-path=\"url(#pa408b31a00)\" style=\"fill: #1f77b4; fill-opacity: 0.75; stroke: #000000; stroke-width: 0.382366; stroke-linejoin: miter\"/>\n   </g>\n   <g id=\"patch_111\">\n    <path d=\"M 497.966767 284.4 \nL 501.790431 284.4 \nL 501.790431 284.4 \nL 497.966767 284.4 \nz\n\" clip-path=\"url(#pa408b31a00)\" style=\"fill: #1f77b4; fill-opacity: 0.75; stroke: #000000; stroke-width: 0.382366; stroke-linejoin: miter\"/>\n   </g>\n   <g id=\"patch_112\">\n    <path d=\"M 501.790431 284.4 \nL 505.614095 284.4 \nL 505.614095 284.4 \nL 501.790431 284.4 \nz\n\" clip-path=\"url(#pa408b31a00)\" style=\"fill: #1f77b4; fill-opacity: 0.75; stroke: #000000; stroke-width: 0.382366; stroke-linejoin: miter\"/>\n   </g>\n   <g id=\"patch_113\">\n    <path d=\"M 505.614095 284.4 \nL 509.437758 284.4 \nL 509.437758 284.4 \nL 505.614095 284.4 \nz\n\" clip-path=\"url(#pa408b31a00)\" style=\"fill: #1f77b4; fill-opacity: 0.75; stroke: #000000; stroke-width: 0.382366; stroke-linejoin: miter\"/>\n   </g>\n   <g id=\"patch_114\">\n    <path d=\"M 509.437758 284.4 \nL 513.261422 284.4 \nL 513.261422 284.4 \nL 509.437758 284.4 \nz\n\" clip-path=\"url(#pa408b31a00)\" style=\"fill: #1f77b4; fill-opacity: 0.75; stroke: #000000; stroke-width: 0.382366; stroke-linejoin: miter\"/>\n   </g>\n   <g id=\"patch_115\">\n    <path d=\"M 513.261422 284.4 \nL 517.085086 284.4 \nL 517.085086 284.4 \nL 513.261422 284.4 \nz\n\" clip-path=\"url(#pa408b31a00)\" style=\"fill: #1f77b4; fill-opacity: 0.75; stroke: #000000; stroke-width: 0.382366; stroke-linejoin: miter\"/>\n   </g>\n   <g id=\"patch_116\">\n    <path d=\"M 517.085086 284.4 \nL 520.90875 284.4 \nL 520.90875 284.4 \nL 517.085086 284.4 \nz\n\" clip-path=\"url(#pa408b31a00)\" style=\"fill: #1f77b4; fill-opacity: 0.75; stroke: #000000; stroke-width: 0.382366; stroke-linejoin: miter\"/>\n   </g>\n   <g id=\"patch_117\">\n    <path d=\"M 520.90875 284.4 \nL 524.732413 284.4 \nL 524.732413 284.4 \nL 520.90875 284.4 \nz\n\" clip-path=\"url(#pa408b31a00)\" style=\"fill: #1f77b4; fill-opacity: 0.75; stroke: #000000; stroke-width: 0.382366; stroke-linejoin: miter\"/>\n   </g>\n   <g id=\"patch_118\">\n    <path d=\"M 524.732413 284.4 \nL 528.556077 284.4 \nL 528.556077 284.4 \nL 524.732413 284.4 \nz\n\" clip-path=\"url(#pa408b31a00)\" style=\"fill: #1f77b4; fill-opacity: 0.75; stroke: #000000; stroke-width: 0.382366; stroke-linejoin: miter\"/>\n   </g>\n   <g id=\"patch_119\">\n    <path d=\"M 528.556077 284.4 \nL 532.379741 284.4 \nL 532.379741 284.4 \nL 528.556077 284.4 \nz\n\" clip-path=\"url(#pa408b31a00)\" style=\"fill: #1f77b4; fill-opacity: 0.75; stroke: #000000; stroke-width: 0.382366; stroke-linejoin: miter\"/>\n   </g>\n   <g id=\"patch_120\">\n    <path d=\"M 532.379741 284.4 \nL 536.203405 284.4 \nL 536.203405 284.4 \nL 532.379741 284.4 \nz\n\" clip-path=\"url(#pa408b31a00)\" style=\"fill: #1f77b4; fill-opacity: 0.75; stroke: #000000; stroke-width: 0.382366; stroke-linejoin: miter\"/>\n   </g>\n   <g id=\"patch_121\">\n    <path d=\"M 536.203405 284.4 \nL 540.027069 284.4 \nL 540.027069 284.4 \nL 536.203405 284.4 \nz\n\" clip-path=\"url(#pa408b31a00)\" style=\"fill: #1f77b4; fill-opacity: 0.75; stroke: #000000; stroke-width: 0.382366; stroke-linejoin: miter\"/>\n   </g>\n   <g id=\"patch_122\">\n    <path d=\"M 540.027069 284.4 \nL 543.850732 284.4 \nL 543.850732 284.4 \nL 540.027069 284.4 \nz\n\" clip-path=\"url(#pa408b31a00)\" style=\"fill: #1f77b4; fill-opacity: 0.75; stroke: #000000; stroke-width: 0.382366; stroke-linejoin: miter\"/>\n   </g>\n   <g id=\"patch_123\">\n    <path d=\"M 543.850732 284.4 \nL 547.674396 284.4 \nL 547.674396 284.4 \nL 543.850732 284.4 \nz\n\" clip-path=\"url(#pa408b31a00)\" style=\"fill: #1f77b4; fill-opacity: 0.75; stroke: #000000; stroke-width: 0.382366; stroke-linejoin: miter\"/>\n   </g>\n   <g id=\"patch_124\">\n    <path d=\"M 547.674396 284.4 \nL 551.49806 284.4 \nL 551.49806 284.4 \nL 547.674396 284.4 \nz\n\" clip-path=\"url(#pa408b31a00)\" style=\"fill: #1f77b4; fill-opacity: 0.75; stroke: #000000; stroke-width: 0.382366; stroke-linejoin: miter\"/>\n   </g>\n   <g id=\"patch_125\">\n    <path d=\"M 551.49806 284.4 \nL 555.321724 284.4 \nL 555.321724 284.4 \nL 551.49806 284.4 \nz\n\" clip-path=\"url(#pa408b31a00)\" style=\"fill: #1f77b4; fill-opacity: 0.75; stroke: #000000; stroke-width: 0.382366; stroke-linejoin: miter\"/>\n   </g>\n   <g id=\"patch_126\">\n    <path d=\"M 555.321724 284.4 \nL 559.145387 284.4 \nL 559.145387 284.4 \nL 555.321724 284.4 \nz\n\" clip-path=\"url(#pa408b31a00)\" style=\"fill: #1f77b4; fill-opacity: 0.75; stroke: #000000; stroke-width: 0.382366; stroke-linejoin: miter\"/>\n   </g>\n   <g id=\"patch_127\">\n    <path d=\"M 559.145387 284.4 \nL 562.969051 284.4 \nL 562.969051 284.4 \nL 559.145387 284.4 \nz\n\" clip-path=\"url(#pa408b31a00)\" style=\"fill: #1f77b4; fill-opacity: 0.75; stroke: #000000; stroke-width: 0.382366; stroke-linejoin: miter\"/>\n   </g>\n   <g id=\"patch_128\">\n    <path d=\"M 562.969051 284.4 \nL 566.792715 284.4 \nL 566.792715 284.4 \nL 562.969051 284.4 \nz\n\" clip-path=\"url(#pa408b31a00)\" style=\"fill: #1f77b4; fill-opacity: 0.75; stroke: #000000; stroke-width: 0.382366; stroke-linejoin: miter\"/>\n   </g>\n   <g id=\"patch_129\">\n    <path d=\"M 566.792715 284.4 \nL 570.616379 284.4 \nL 570.616379 284.4 \nL 566.792715 284.4 \nz\n\" clip-path=\"url(#pa408b31a00)\" style=\"fill: #1f77b4; fill-opacity: 0.75; stroke: #000000; stroke-width: 0.382366; stroke-linejoin: miter\"/>\n   </g>\n   <g id=\"patch_130\">\n    <path d=\"M 570.616379 284.4 \nL 574.440043 284.4 \nL 574.440043 284.4 \nL 570.616379 284.4 \nz\n\" clip-path=\"url(#pa408b31a00)\" style=\"fill: #1f77b4; fill-opacity: 0.75; stroke: #000000; stroke-width: 0.382366; stroke-linejoin: miter\"/>\n   </g>\n   <g id=\"patch_131\">\n    <path d=\"M 574.440043 284.4 \nL 578.263706 284.4 \nL 578.263706 284.4 \nL 574.440043 284.4 \nz\n\" clip-path=\"url(#pa408b31a00)\" style=\"fill: #1f77b4; fill-opacity: 0.75; stroke: #000000; stroke-width: 0.382366; stroke-linejoin: miter\"/>\n   </g>\n   <g id=\"patch_132\">\n    <path d=\"M 578.263706 284.4 \nL 582.08737 284.4 \nL 582.08737 284.4 \nL 578.263706 284.4 \nz\n\" clip-path=\"url(#pa408b31a00)\" style=\"fill: #1f77b4; fill-opacity: 0.75; stroke: #000000; stroke-width: 0.382366; stroke-linejoin: miter\"/>\n   </g>\n   <g id=\"patch_133\">\n    <path d=\"M 582.08737 284.4 \nL 585.911034 284.4 \nL 585.911034 284.4 \nL 582.08737 284.4 \nz\n\" clip-path=\"url(#pa408b31a00)\" style=\"fill: #1f77b4; fill-opacity: 0.75; stroke: #000000; stroke-width: 0.382366; stroke-linejoin: miter\"/>\n   </g>\n   <g id=\"patch_134\">\n    <path d=\"M 585.911034 284.4 \nL 589.734698 284.4 \nL 589.734698 284.4 \nL 585.911034 284.4 \nz\n\" clip-path=\"url(#pa408b31a00)\" style=\"fill: #1f77b4; fill-opacity: 0.75; stroke: #000000; stroke-width: 0.382366; stroke-linejoin: miter\"/>\n   </g>\n   <g id=\"patch_135\">\n    <path d=\"M 589.734698 284.4 \nL 593.558361 284.4 \nL 593.558361 284.4 \nL 589.734698 284.4 \nz\n\" clip-path=\"url(#pa408b31a00)\" style=\"fill: #1f77b4; fill-opacity: 0.75; stroke: #000000; stroke-width: 0.382366; stroke-linejoin: miter\"/>\n   </g>\n   <g id=\"patch_136\">\n    <path d=\"M 593.558361 284.4 \nL 597.382025 284.4 \nL 597.382025 284.4 \nL 593.558361 284.4 \nz\n\" clip-path=\"url(#pa408b31a00)\" style=\"fill: #1f77b4; fill-opacity: 0.75; stroke: #000000; stroke-width: 0.382366; stroke-linejoin: miter\"/>\n   </g>\n   <g id=\"patch_137\">\n    <path d=\"M 597.382025 284.4 \nL 601.205689 284.4 \nL 601.205689 284.4 \nL 597.382025 284.4 \nz\n\" clip-path=\"url(#pa408b31a00)\" style=\"fill: #1f77b4; fill-opacity: 0.75; stroke: #000000; stroke-width: 0.382366; stroke-linejoin: miter\"/>\n   </g>\n   <g id=\"patch_138\">\n    <path d=\"M 601.205689 284.4 \nL 605.029353 284.4 \nL 605.029353 284.4 \nL 601.205689 284.4 \nz\n\" clip-path=\"url(#pa408b31a00)\" style=\"fill: #1f77b4; fill-opacity: 0.75; stroke: #000000; stroke-width: 0.382366; stroke-linejoin: miter\"/>\n   </g>\n   <g id=\"patch_139\">\n    <path d=\"M 605.029353 284.4 \nL 608.853017 284.4 \nL 608.853017 284.4 \nL 605.029353 284.4 \nz\n\" clip-path=\"url(#pa408b31a00)\" style=\"fill: #1f77b4; fill-opacity: 0.75; stroke: #000000; stroke-width: 0.382366; stroke-linejoin: miter\"/>\n   </g>\n   <g id=\"patch_140\">\n    <path d=\"M 608.853017 284.4 \nL 612.67668 284.4 \nL 612.67668 284.4 \nL 608.853017 284.4 \nz\n\" clip-path=\"url(#pa408b31a00)\" style=\"fill: #1f77b4; fill-opacity: 0.75; stroke: #000000; stroke-width: 0.382366; stroke-linejoin: miter\"/>\n   </g>\n   <g id=\"patch_141\">\n    <path d=\"M 612.67668 284.4 \nL 616.500344 284.4 \nL 616.500344 284.4 \nL 612.67668 284.4 \nz\n\" clip-path=\"url(#pa408b31a00)\" style=\"fill: #1f77b4; fill-opacity: 0.75; stroke: #000000; stroke-width: 0.382366; stroke-linejoin: miter\"/>\n   </g>\n   <g id=\"patch_142\">\n    <path d=\"M 616.500344 284.4 \nL 620.324008 284.4 \nL 620.324008 284.4 \nL 616.500344 284.4 \nz\n\" clip-path=\"url(#pa408b31a00)\" style=\"fill: #1f77b4; fill-opacity: 0.75; stroke: #000000; stroke-width: 0.382366; stroke-linejoin: miter\"/>\n   </g>\n   <g id=\"patch_143\">\n    <path d=\"M 620.324008 284.4 \nL 624.147672 284.4 \nL 624.147672 284.4 \nL 620.324008 284.4 \nz\n\" clip-path=\"url(#pa408b31a00)\" style=\"fill: #1f77b4; fill-opacity: 0.75; stroke: #000000; stroke-width: 0.382366; stroke-linejoin: miter\"/>\n   </g>\n   <g id=\"patch_144\">\n    <path d=\"M 624.147672 284.4 \nL 627.971335 284.4 \nL 627.971335 284.4 \nL 624.147672 284.4 \nz\n\" clip-path=\"url(#pa408b31a00)\" style=\"fill: #1f77b4; fill-opacity: 0.75; stroke: #000000; stroke-width: 0.382366; stroke-linejoin: miter\"/>\n   </g>\n   <g id=\"patch_145\">\n    <path d=\"M 627.971335 284.4 \nL 631.794999 284.4 \nL 631.794999 284.4 \nL 627.971335 284.4 \nz\n\" clip-path=\"url(#pa408b31a00)\" style=\"fill: #1f77b4; fill-opacity: 0.75; stroke: #000000; stroke-width: 0.382366; stroke-linejoin: miter\"/>\n   </g>\n   <g id=\"patch_146\">\n    <path d=\"M 631.794999 284.4 \nL 635.618663 284.4 \nL 635.618663 284.4 \nL 631.794999 284.4 \nz\n\" clip-path=\"url(#pa408b31a00)\" style=\"fill: #1f77b4; fill-opacity: 0.75; stroke: #000000; stroke-width: 0.382366; stroke-linejoin: miter\"/>\n   </g>\n   <g id=\"patch_147\">\n    <path d=\"M 635.618663 284.4 \nL 639.442327 284.4 \nL 639.442327 284.4 \nL 635.618663 284.4 \nz\n\" clip-path=\"url(#pa408b31a00)\" style=\"fill: #1f77b4; fill-opacity: 0.75; stroke: #000000; stroke-width: 0.382366; stroke-linejoin: miter\"/>\n   </g>\n   <g id=\"patch_148\">\n    <path d=\"M 639.442327 284.4 \nL 643.26599 284.4 \nL 643.26599 284.4 \nL 639.442327 284.4 \nz\n\" clip-path=\"url(#pa408b31a00)\" style=\"fill: #1f77b4; fill-opacity: 0.75; stroke: #000000; stroke-width: 0.382366; stroke-linejoin: miter\"/>\n   </g>\n   <g id=\"patch_149\">\n    <path d=\"M 643.26599 284.4 \nL 647.089654 284.4 \nL 647.089654 284.4 \nL 643.26599 284.4 \nz\n\" clip-path=\"url(#pa408b31a00)\" style=\"fill: #1f77b4; fill-opacity: 0.75; stroke: #000000; stroke-width: 0.382366; stroke-linejoin: miter\"/>\n   </g>\n   <g id=\"patch_150\">\n    <path d=\"M 647.089654 284.4 \nL 650.913318 284.4 \nL 650.913318 284.4 \nL 647.089654 284.4 \nz\n\" clip-path=\"url(#pa408b31a00)\" style=\"fill: #1f77b4; fill-opacity: 0.75; stroke: #000000; stroke-width: 0.382366; stroke-linejoin: miter\"/>\n   </g>\n   <g id=\"patch_151\">\n    <path d=\"M 650.913318 284.4 \nL 654.736982 284.4 \nL 654.736982 284.4 \nL 650.913318 284.4 \nz\n\" clip-path=\"url(#pa408b31a00)\" style=\"fill: #1f77b4; fill-opacity: 0.75; stroke: #000000; stroke-width: 0.382366; stroke-linejoin: miter\"/>\n   </g>\n   <g id=\"patch_152\">\n    <path d=\"M 654.736982 284.4 \nL 658.560646 284.4 \nL 658.560646 284.4 \nL 654.736982 284.4 \nz\n\" clip-path=\"url(#pa408b31a00)\" style=\"fill: #1f77b4; fill-opacity: 0.75; stroke: #000000; stroke-width: 0.382366; stroke-linejoin: miter\"/>\n   </g>\n   <g id=\"patch_153\">\n    <path d=\"M 658.560646 284.4 \nL 662.384309 284.4 \nL 662.384309 284.4 \nL 658.560646 284.4 \nz\n\" clip-path=\"url(#pa408b31a00)\" style=\"fill: #1f77b4; fill-opacity: 0.75; stroke: #000000; stroke-width: 0.382366; stroke-linejoin: miter\"/>\n   </g>\n   <g id=\"patch_154\">\n    <path d=\"M 662.384309 284.4 \nL 666.207973 284.4 \nL 666.207973 284.4 \nL 662.384309 284.4 \nz\n\" clip-path=\"url(#pa408b31a00)\" style=\"fill: #1f77b4; fill-opacity: 0.75; stroke: #000000; stroke-width: 0.382366; stroke-linejoin: miter\"/>\n   </g>\n   <g id=\"patch_155\">\n    <path d=\"M 666.207973 284.4 \nL 670.031637 284.4 \nL 670.031637 284.4 \nL 666.207973 284.4 \nz\n\" clip-path=\"url(#pa408b31a00)\" style=\"fill: #1f77b4; fill-opacity: 0.75; stroke: #000000; stroke-width: 0.382366; stroke-linejoin: miter\"/>\n   </g>\n   <g id=\"patch_156\">\n    <path d=\"M 670.031637 284.4 \nL 673.855301 284.4 \nL 673.855301 284.4 \nL 670.031637 284.4 \nz\n\" clip-path=\"url(#pa408b31a00)\" style=\"fill: #1f77b4; fill-opacity: 0.75; stroke: #000000; stroke-width: 0.382366; stroke-linejoin: miter\"/>\n   </g>\n   <g id=\"patch_157\">\n    <path d=\"M 673.855301 284.4 \nL 677.678964 284.4 \nL 677.678964 284.4 \nL 673.855301 284.4 \nz\n\" clip-path=\"url(#pa408b31a00)\" style=\"fill: #1f77b4; fill-opacity: 0.75; stroke: #000000; stroke-width: 0.382366; stroke-linejoin: miter\"/>\n   </g>\n   <g id=\"patch_158\">\n    <path d=\"M 677.678964 284.4 \nL 681.502628 284.4 \nL 681.502628 284.4 \nL 677.678964 284.4 \nz\n\" clip-path=\"url(#pa408b31a00)\" style=\"fill: #1f77b4; fill-opacity: 0.75; stroke: #000000; stroke-width: 0.382366; stroke-linejoin: miter\"/>\n   </g>\n   <g id=\"patch_159\">\n    <path d=\"M 681.502628 284.4 \nL 685.326292 284.4 \nL 685.326292 284.4 \nL 681.502628 284.4 \nz\n\" clip-path=\"url(#pa408b31a00)\" style=\"fill: #1f77b4; fill-opacity: 0.75; stroke: #000000; stroke-width: 0.382366; stroke-linejoin: miter\"/>\n   </g>\n   <g id=\"patch_160\">\n    <path d=\"M 685.326292 284.4 \nL 689.149956 284.4 \nL 689.149956 284.4 \nL 685.326292 284.4 \nz\n\" clip-path=\"url(#pa408b31a00)\" style=\"fill: #1f77b4; fill-opacity: 0.75; stroke: #000000; stroke-width: 0.382366; stroke-linejoin: miter\"/>\n   </g>\n   <g id=\"patch_161\">\n    <path d=\"M 689.149956 284.4 \nL 692.97362 284.4 \nL 692.97362 284.4 \nL 689.149956 284.4 \nz\n\" clip-path=\"url(#pa408b31a00)\" style=\"fill: #1f77b4; fill-opacity: 0.75; stroke: #000000; stroke-width: 0.382366; stroke-linejoin: miter\"/>\n   </g>\n   <g id=\"patch_162\">\n    <path d=\"M 692.97362 284.4 \nL 696.797283 284.4 \nL 696.797283 284.4 \nL 692.97362 284.4 \nz\n\" clip-path=\"url(#pa408b31a00)\" style=\"fill: #1f77b4; fill-opacity: 0.75; stroke: #000000; stroke-width: 0.382366; stroke-linejoin: miter\"/>\n   </g>\n   <g id=\"patch_163\">\n    <path d=\"M 696.797283 284.4 \nL 700.620947 284.4 \nL 700.620947 284.4 \nL 696.797283 284.4 \nz\n\" clip-path=\"url(#pa408b31a00)\" style=\"fill: #1f77b4; fill-opacity: 0.75; stroke: #000000; stroke-width: 0.382366; stroke-linejoin: miter\"/>\n   </g>\n   <g id=\"patch_164\">\n    <path d=\"M 700.620947 284.4 \nL 704.444611 284.4 \nL 704.444611 284.4 \nL 700.620947 284.4 \nz\n\" clip-path=\"url(#pa408b31a00)\" style=\"fill: #1f77b4; fill-opacity: 0.75; stroke: #000000; stroke-width: 0.382366; stroke-linejoin: miter\"/>\n   </g>\n   <g id=\"patch_165\">\n    <path d=\"M 704.444611 284.4 \nL 708.268275 284.4 \nL 708.268275 284.4 \nL 704.444611 284.4 \nz\n\" clip-path=\"url(#pa408b31a00)\" style=\"fill: #1f77b4; fill-opacity: 0.75; stroke: #000000; stroke-width: 0.382366; stroke-linejoin: miter\"/>\n   </g>\n   <g id=\"patch_166\">\n    <path d=\"M 708.268275 284.4 \nL 712.091938 284.4 \nL 712.091938 284.4 \nL 708.268275 284.4 \nz\n\" clip-path=\"url(#pa408b31a00)\" style=\"fill: #1f77b4; fill-opacity: 0.75; stroke: #000000; stroke-width: 0.382366; stroke-linejoin: miter\"/>\n   </g>\n   <g id=\"patch_167\">\n    <path d=\"M 712.091938 284.4 \nL 715.915602 284.4 \nL 715.915602 284.4 \nL 712.091938 284.4 \nz\n\" clip-path=\"url(#pa408b31a00)\" style=\"fill: #1f77b4; fill-opacity: 0.75; stroke: #000000; stroke-width: 0.382366; stroke-linejoin: miter\"/>\n   </g>\n   <g id=\"patch_168\">\n    <path d=\"M 715.915602 284.4 \nL 719.739266 284.4 \nL 719.739266 284.4 \nL 715.915602 284.4 \nz\n\" clip-path=\"url(#pa408b31a00)\" style=\"fill: #1f77b4; fill-opacity: 0.75; stroke: #000000; stroke-width: 0.382366; stroke-linejoin: miter\"/>\n   </g>\n   <g id=\"patch_169\">\n    <path d=\"M 719.739266 284.4 \nL 723.56293 284.4 \nL 723.56293 284.4 \nL 719.739266 284.4 \nz\n\" clip-path=\"url(#pa408b31a00)\" style=\"fill: #1f77b4; fill-opacity: 0.75; stroke: #000000; stroke-width: 0.382366; stroke-linejoin: miter\"/>\n   </g>\n   <g id=\"patch_170\">\n    <path d=\"M 723.56293 284.4 \nL 727.386593 284.4 \nL 727.386593 284.4 \nL 723.56293 284.4 \nz\n\" clip-path=\"url(#pa408b31a00)\" style=\"fill: #1f77b4; fill-opacity: 0.75; stroke: #000000; stroke-width: 0.382366; stroke-linejoin: miter\"/>\n   </g>\n   <g id=\"patch_171\">\n    <path d=\"M 727.386593 284.4 \nL 731.210257 284.4 \nL 731.210257 284.4 \nL 727.386593 284.4 \nz\n\" clip-path=\"url(#pa408b31a00)\" style=\"fill: #1f77b4; fill-opacity: 0.75; stroke: #000000; stroke-width: 0.382366; stroke-linejoin: miter\"/>\n   </g>\n   <g id=\"patch_172\">\n    <path d=\"M 731.210257 284.4 \nL 735.033921 284.4 \nL 735.033921 284.4 \nL 731.210257 284.4 \nz\n\" clip-path=\"url(#pa408b31a00)\" style=\"fill: #1f77b4; fill-opacity: 0.75; stroke: #000000; stroke-width: 0.382366; stroke-linejoin: miter\"/>\n   </g>\n   <g id=\"patch_173\">\n    <path d=\"M 735.033921 284.4 \nL 738.857585 284.4 \nL 738.857585 284.4 \nL 735.033921 284.4 \nz\n\" clip-path=\"url(#pa408b31a00)\" style=\"fill: #1f77b4; fill-opacity: 0.75; stroke: #000000; stroke-width: 0.382366; stroke-linejoin: miter\"/>\n   </g>\n   <g id=\"patch_174\">\n    <path d=\"M 738.857585 284.4 \nL 742.681249 284.4 \nL 742.681249 284.4 \nL 738.857585 284.4 \nz\n\" clip-path=\"url(#pa408b31a00)\" style=\"fill: #1f77b4; fill-opacity: 0.75; stroke: #000000; stroke-width: 0.382366; stroke-linejoin: miter\"/>\n   </g>\n   <g id=\"patch_175\">\n    <path d=\"M 742.681249 284.4 \nL 746.504912 284.4 \nL 746.504912 284.4 \nL 742.681249 284.4 \nz\n\" clip-path=\"url(#pa408b31a00)\" style=\"fill: #1f77b4; fill-opacity: 0.75; stroke: #000000; stroke-width: 0.382366; stroke-linejoin: miter\"/>\n   </g>\n   <g id=\"patch_176\">\n    <path d=\"M 746.504912 284.4 \nL 750.328576 284.4 \nL 750.328576 284.4 \nL 746.504912 284.4 \nz\n\" clip-path=\"url(#pa408b31a00)\" style=\"fill: #1f77b4; fill-opacity: 0.75; stroke: #000000; stroke-width: 0.382366; stroke-linejoin: miter\"/>\n   </g>\n   <g id=\"patch_177\">\n    <path d=\"M 750.328576 284.4 \nL 754.15224 284.4 \nL 754.15224 284.4 \nL 750.328576 284.4 \nz\n\" clip-path=\"url(#pa408b31a00)\" style=\"fill: #1f77b4; fill-opacity: 0.75; stroke: #000000; stroke-width: 0.382366; stroke-linejoin: miter\"/>\n   </g>\n   <g id=\"patch_178\">\n    <path d=\"M 754.15224 284.4 \nL 757.975904 284.4 \nL 757.975904 284.4 \nL 754.15224 284.4 \nz\n\" clip-path=\"url(#pa408b31a00)\" style=\"fill: #1f77b4; fill-opacity: 0.75; stroke: #000000; stroke-width: 0.382366; stroke-linejoin: miter\"/>\n   </g>\n   <g id=\"patch_179\">\n    <path d=\"M 757.975904 284.4 \nL 761.799567 284.4 \nL 761.799567 284.4 \nL 757.975904 284.4 \nz\n\" clip-path=\"url(#pa408b31a00)\" style=\"fill: #1f77b4; fill-opacity: 0.75; stroke: #000000; stroke-width: 0.382366; stroke-linejoin: miter\"/>\n   </g>\n   <g id=\"patch_180\">\n    <path d=\"M 761.799567 284.4 \nL 765.623231 284.4 \nL 765.623231 284.4 \nL 761.799567 284.4 \nz\n\" clip-path=\"url(#pa408b31a00)\" style=\"fill: #1f77b4; fill-opacity: 0.75; stroke: #000000; stroke-width: 0.382366; stroke-linejoin: miter\"/>\n   </g>\n   <g id=\"patch_181\">\n    <path d=\"M 765.623231 284.4 \nL 769.446895 284.4 \nL 769.446895 284.4 \nL 765.623231 284.4 \nz\n\" clip-path=\"url(#pa408b31a00)\" style=\"fill: #1f77b4; fill-opacity: 0.75; stroke: #000000; stroke-width: 0.382366; stroke-linejoin: miter\"/>\n   </g>\n   <g id=\"patch_182\">\n    <path d=\"M 769.446895 284.4 \nL 773.270559 284.4 \nL 773.270559 284.4 \nL 769.446895 284.4 \nz\n\" clip-path=\"url(#pa408b31a00)\" style=\"fill: #1f77b4; fill-opacity: 0.75; stroke: #000000; stroke-width: 0.382366; stroke-linejoin: miter\"/>\n   </g>\n   <g id=\"patch_183\">\n    <path d=\"M 773.270559 284.4 \nL 777.094223 284.4 \nL 777.094223 284.4 \nL 773.270559 284.4 \nz\n\" clip-path=\"url(#pa408b31a00)\" style=\"fill: #1f77b4; fill-opacity: 0.75; stroke: #000000; stroke-width: 0.382366; stroke-linejoin: miter\"/>\n   </g>\n   <g id=\"patch_184\">\n    <path d=\"M 777.094223 284.4 \nL 780.917886 284.4 \nL 780.917886 284.4 \nL 777.094223 284.4 \nz\n\" clip-path=\"url(#pa408b31a00)\" style=\"fill: #1f77b4; fill-opacity: 0.75; stroke: #000000; stroke-width: 0.382366; stroke-linejoin: miter\"/>\n   </g>\n   <g id=\"patch_185\">\n    <path d=\"M 780.917886 284.4 \nL 784.74155 284.4 \nL 784.74155 284.4 \nL 780.917886 284.4 \nz\n\" clip-path=\"url(#pa408b31a00)\" style=\"fill: #1f77b4; fill-opacity: 0.75; stroke: #000000; stroke-width: 0.382366; stroke-linejoin: miter\"/>\n   </g>\n   <g id=\"patch_186\">\n    <path d=\"M 784.74155 284.4 \nL 788.565214 284.4 \nL 788.565214 284.4 \nL 784.74155 284.4 \nz\n\" clip-path=\"url(#pa408b31a00)\" style=\"fill: #1f77b4; fill-opacity: 0.75; stroke: #000000; stroke-width: 0.382366; stroke-linejoin: miter\"/>\n   </g>\n   <g id=\"patch_187\">\n    <path d=\"M 788.565214 284.4 \nL 792.388878 284.4 \nL 792.388878 284.4 \nL 788.565214 284.4 \nz\n\" clip-path=\"url(#pa408b31a00)\" style=\"fill: #1f77b4; fill-opacity: 0.75; stroke: #000000; stroke-width: 0.382366; stroke-linejoin: miter\"/>\n   </g>\n   <g id=\"patch_188\">\n    <path d=\"M 792.388878 284.4 \nL 796.212541 284.4 \nL 796.212541 284.4 \nL 792.388878 284.4 \nz\n\" clip-path=\"url(#pa408b31a00)\" style=\"fill: #1f77b4; fill-opacity: 0.75; stroke: #000000; stroke-width: 0.382366; stroke-linejoin: miter\"/>\n   </g>\n   <g id=\"patch_189\">\n    <path d=\"M 796.212541 284.4 \nL 800.036205 284.4 \nL 800.036205 284.4 \nL 796.212541 284.4 \nz\n\" clip-path=\"url(#pa408b31a00)\" style=\"fill: #1f77b4; fill-opacity: 0.75; stroke: #000000; stroke-width: 0.382366; stroke-linejoin: miter\"/>\n   </g>\n   <g id=\"patch_190\">\n    <path d=\"M 800.036205 284.4 \nL 803.859869 284.4 \nL 803.859869 284.4 \nL 800.036205 284.4 \nz\n\" clip-path=\"url(#pa408b31a00)\" style=\"fill: #1f77b4; fill-opacity: 0.75; stroke: #000000; stroke-width: 0.382366; stroke-linejoin: miter\"/>\n   </g>\n   <g id=\"patch_191\">\n    <path d=\"M 803.859869 284.4 \nL 807.683533 284.4 \nL 807.683533 284.4 \nL 803.859869 284.4 \nz\n\" clip-path=\"url(#pa408b31a00)\" style=\"fill: #1f77b4; fill-opacity: 0.75; stroke: #000000; stroke-width: 0.382366; stroke-linejoin: miter\"/>\n   </g>\n   <g id=\"patch_192\">\n    <path d=\"M 807.683533 284.4 \nL 811.507196 284.4 \nL 811.507196 284.4 \nL 807.683533 284.4 \nz\n\" clip-path=\"url(#pa408b31a00)\" style=\"fill: #1f77b4; fill-opacity: 0.75; stroke: #000000; stroke-width: 0.382366; stroke-linejoin: miter\"/>\n   </g>\n   <g id=\"patch_193\">\n    <path d=\"M 811.507196 284.4 \nL 815.33086 284.4 \nL 815.33086 284.4 \nL 811.507196 284.4 \nz\n\" clip-path=\"url(#pa408b31a00)\" style=\"fill: #1f77b4; fill-opacity: 0.75; stroke: #000000; stroke-width: 0.382366; stroke-linejoin: miter\"/>\n   </g>\n   <g id=\"patch_194\">\n    <path d=\"M 815.33086 284.4 \nL 819.154524 284.4 \nL 819.154524 284.4 \nL 815.33086 284.4 \nz\n\" clip-path=\"url(#pa408b31a00)\" style=\"fill: #1f77b4; fill-opacity: 0.75; stroke: #000000; stroke-width: 0.382366; stroke-linejoin: miter\"/>\n   </g>\n   <g id=\"patch_195\">\n    <path d=\"M 819.154524 284.4 \nL 822.978188 284.4 \nL 822.978188 284.4 \nL 819.154524 284.4 \nz\n\" clip-path=\"url(#pa408b31a00)\" style=\"fill: #1f77b4; fill-opacity: 0.75; stroke: #000000; stroke-width: 0.382366; stroke-linejoin: miter\"/>\n   </g>\n   <g id=\"patch_196\">\n    <path d=\"M 822.978188 284.4 \nL 826.801852 284.4 \nL 826.801852 284.4 \nL 822.978188 284.4 \nz\n\" clip-path=\"url(#pa408b31a00)\" style=\"fill: #1f77b4; fill-opacity: 0.75; stroke: #000000; stroke-width: 0.382366; stroke-linejoin: miter\"/>\n   </g>\n   <g id=\"patch_197\">\n    <path d=\"M 826.801852 284.4 \nL 830.625515 284.4 \nL 830.625515 284.4 \nL 826.801852 284.4 \nz\n\" clip-path=\"url(#pa408b31a00)\" style=\"fill: #1f77b4; fill-opacity: 0.75; stroke: #000000; stroke-width: 0.382366; stroke-linejoin: miter\"/>\n   </g>\n   <g id=\"patch_198\">\n    <path d=\"M 830.625515 284.4 \nL 834.449179 284.4 \nL 834.449179 284.4 \nL 830.625515 284.4 \nz\n\" clip-path=\"url(#pa408b31a00)\" style=\"fill: #1f77b4; fill-opacity: 0.75; stroke: #000000; stroke-width: 0.382366; stroke-linejoin: miter\"/>\n   </g>\n   <g id=\"patch_199\">\n    <path d=\"M 834.449179 284.4 \nL 838.272843 284.4 \nL 838.272843 284.4 \nL 834.449179 284.4 \nz\n\" clip-path=\"url(#pa408b31a00)\" style=\"fill: #1f77b4; fill-opacity: 0.75; stroke: #000000; stroke-width: 0.382366; stroke-linejoin: miter\"/>\n   </g>\n   <g id=\"patch_200\">\n    <path d=\"M 838.272843 284.4 \nL 842.096507 284.4 \nL 842.096507 284.4 \nL 838.272843 284.4 \nz\n\" clip-path=\"url(#pa408b31a00)\" style=\"fill: #1f77b4; fill-opacity: 0.75; stroke: #000000; stroke-width: 0.382366; stroke-linejoin: miter\"/>\n   </g>\n   <g id=\"patch_201\">\n    <path d=\"M 842.096507 284.4 \nL 845.92017 284.4 \nL 845.92017 282.891429 \nL 842.096507 282.891429 \nz\n\" clip-path=\"url(#pa408b31a00)\" style=\"fill: #1f77b4; fill-opacity: 0.75; stroke: #000000; stroke-width: 0.382366; stroke-linejoin: miter\"/>\n   </g>\n   <g id=\"matplotlib.axis_1\">\n    <g id=\"xtick_1\">\n     <g id=\"line2d_1\">\n      <defs>\n       <path id=\"m7718a4980d\" d=\"M 0 0 \nL 0 3.5 \n\" style=\"stroke: #000000; stroke-width: 0.8\"/>\n      </defs>\n      <g>\n       <use xlink:href=\"#m7718a4980d\" x=\"83.974419\" y=\"284.4\" style=\"stroke: #000000; stroke-width: 0.8\"/>\n      </g>\n     </g>\n     <g id=\"text_1\">\n      <!-- 0 -->\n      <g transform=\"translate(80.793169 298.998438) scale(0.1 -0.1)\">\n       <defs>\n        <path id=\"DejaVuSans-30\" d=\"M 2034 4250 \nQ 1547 4250 1301 3770 \nQ 1056 3291 1056 2328 \nQ 1056 1369 1301 889 \nQ 1547 409 2034 409 \nQ 2525 409 2770 889 \nQ 3016 1369 3016 2328 \nQ 3016 3291 2770 3770 \nQ 2525 4250 2034 4250 \nz\nM 2034 4750 \nQ 2819 4750 3233 4129 \nQ 3647 3509 3647 2328 \nQ 3647 1150 3233 529 \nQ 2819 -91 2034 -91 \nQ 1250 -91 836 529 \nQ 422 1150 422 2328 \nQ 422 3509 836 4129 \nQ 1250 4750 2034 4750 \nz\n\" transform=\"scale(0.015625)\"/>\n       </defs>\n       <use xlink:href=\"#DejaVuSans-30\"/>\n      </g>\n     </g>\n    </g>\n    <g id=\"xtick_2\">\n     <g id=\"line2d_2\">\n      <g>\n       <use xlink:href=\"#m7718a4980d\" x=\"187.640507\" y=\"284.4\" style=\"stroke: #000000; stroke-width: 0.8\"/>\n      </g>\n     </g>\n     <g id=\"text_2\">\n      <!-- 100 -->\n      <g transform=\"translate(178.096757 298.998438) scale(0.1 -0.1)\">\n       <defs>\n        <path id=\"DejaVuSans-31\" d=\"M 794 531 \nL 1825 531 \nL 1825 4091 \nL 703 3866 \nL 703 4441 \nL 1819 4666 \nL 2450 4666 \nL 2450 531 \nL 3481 531 \nL 3481 0 \nL 794 0 \nL 794 531 \nz\n\" transform=\"scale(0.015625)\"/>\n       </defs>\n       <use xlink:href=\"#DejaVuSans-31\"/>\n       <use xlink:href=\"#DejaVuSans-30\" x=\"63.623047\"/>\n       <use xlink:href=\"#DejaVuSans-30\" x=\"127.246094\"/>\n      </g>\n     </g>\n    </g>\n    <g id=\"xtick_3\">\n     <g id=\"line2d_3\">\n      <g>\n       <use xlink:href=\"#m7718a4980d\" x=\"291.306596\" y=\"284.4\" style=\"stroke: #000000; stroke-width: 0.8\"/>\n      </g>\n     </g>\n     <g id=\"text_3\">\n      <!-- 200 -->\n      <g transform=\"translate(281.762846 298.998438) scale(0.1 -0.1)\">\n       <defs>\n        <path id=\"DejaVuSans-32\" d=\"M 1228 531 \nL 3431 531 \nL 3431 0 \nL 469 0 \nL 469 531 \nQ 828 903 1448 1529 \nQ 2069 2156 2228 2338 \nQ 2531 2678 2651 2914 \nQ 2772 3150 2772 3378 \nQ 2772 3750 2511 3984 \nQ 2250 4219 1831 4219 \nQ 1534 4219 1204 4116 \nQ 875 4013 500 3803 \nL 500 4441 \nQ 881 4594 1212 4672 \nQ 1544 4750 1819 4750 \nQ 2544 4750 2975 4387 \nQ 3406 4025 3406 3419 \nQ 3406 3131 3298 2873 \nQ 3191 2616 2906 2266 \nQ 2828 2175 2409 1742 \nQ 1991 1309 1228 531 \nz\n\" transform=\"scale(0.015625)\"/>\n       </defs>\n       <use xlink:href=\"#DejaVuSans-32\"/>\n       <use xlink:href=\"#DejaVuSans-30\" x=\"63.623047\"/>\n       <use xlink:href=\"#DejaVuSans-30\" x=\"127.246094\"/>\n      </g>\n     </g>\n    </g>\n    <g id=\"xtick_4\">\n     <g id=\"line2d_4\">\n      <g>\n       <use xlink:href=\"#m7718a4980d\" x=\"394.972685\" y=\"284.4\" style=\"stroke: #000000; stroke-width: 0.8\"/>\n      </g>\n     </g>\n     <g id=\"text_4\">\n      <!-- 300 -->\n      <g transform=\"translate(385.428935 298.998438) scale(0.1 -0.1)\">\n       <defs>\n        <path id=\"DejaVuSans-33\" d=\"M 2597 2516 \nQ 3050 2419 3304 2112 \nQ 3559 1806 3559 1356 \nQ 3559 666 3084 287 \nQ 2609 -91 1734 -91 \nQ 1441 -91 1130 -33 \nQ 819 25 488 141 \nL 488 750 \nQ 750 597 1062 519 \nQ 1375 441 1716 441 \nQ 2309 441 2620 675 \nQ 2931 909 2931 1356 \nQ 2931 1769 2642 2001 \nQ 2353 2234 1838 2234 \nL 1294 2234 \nL 1294 2753 \nL 1863 2753 \nQ 2328 2753 2575 2939 \nQ 2822 3125 2822 3475 \nQ 2822 3834 2567 4026 \nQ 2313 4219 1838 4219 \nQ 1578 4219 1281 4162 \nQ 984 4106 628 3988 \nL 628 4550 \nQ 988 4650 1302 4700 \nQ 1616 4750 1894 4750 \nQ 2613 4750 3031 4423 \nQ 3450 4097 3450 3541 \nQ 3450 3153 3228 2886 \nQ 3006 2619 2597 2516 \nz\n\" transform=\"scale(0.015625)\"/>\n       </defs>\n       <use xlink:href=\"#DejaVuSans-33\"/>\n       <use xlink:href=\"#DejaVuSans-30\" x=\"63.623047\"/>\n       <use xlink:href=\"#DejaVuSans-30\" x=\"127.246094\"/>\n      </g>\n     </g>\n    </g>\n    <g id=\"xtick_5\">\n     <g id=\"line2d_5\">\n      <g>\n       <use xlink:href=\"#m7718a4980d\" x=\"498.638773\" y=\"284.4\" style=\"stroke: #000000; stroke-width: 0.8\"/>\n      </g>\n     </g>\n     <g id=\"text_5\">\n      <!-- 400 -->\n      <g transform=\"translate(489.095023 298.998438) scale(0.1 -0.1)\">\n       <defs>\n        <path id=\"DejaVuSans-34\" d=\"M 2419 4116 \nL 825 1625 \nL 2419 1625 \nL 2419 4116 \nz\nM 2253 4666 \nL 3047 4666 \nL 3047 1625 \nL 3713 1625 \nL 3713 1100 \nL 3047 1100 \nL 3047 0 \nL 2419 0 \nL 2419 1100 \nL 313 1100 \nL 313 1709 \nL 2253 4666 \nz\n\" transform=\"scale(0.015625)\"/>\n       </defs>\n       <use xlink:href=\"#DejaVuSans-34\"/>\n       <use xlink:href=\"#DejaVuSans-30\" x=\"63.623047\"/>\n       <use xlink:href=\"#DejaVuSans-30\" x=\"127.246094\"/>\n      </g>\n     </g>\n    </g>\n    <g id=\"xtick_6\">\n     <g id=\"line2d_6\">\n      <g>\n       <use xlink:href=\"#m7718a4980d\" x=\"602.304862\" y=\"284.4\" style=\"stroke: #000000; stroke-width: 0.8\"/>\n      </g>\n     </g>\n     <g id=\"text_6\">\n      <!-- 500 -->\n      <g transform=\"translate(592.761112 298.998438) scale(0.1 -0.1)\">\n       <defs>\n        <path id=\"DejaVuSans-35\" d=\"M 691 4666 \nL 3169 4666 \nL 3169 4134 \nL 1269 4134 \nL 1269 2991 \nQ 1406 3038 1543 3061 \nQ 1681 3084 1819 3084 \nQ 2600 3084 3056 2656 \nQ 3513 2228 3513 1497 \nQ 3513 744 3044 326 \nQ 2575 -91 1722 -91 \nQ 1428 -91 1123 -41 \nQ 819 9 494 109 \nL 494 744 \nQ 775 591 1075 516 \nQ 1375 441 1709 441 \nQ 2250 441 2565 725 \nQ 2881 1009 2881 1497 \nQ 2881 1984 2565 2268 \nQ 2250 2553 1709 2553 \nQ 1456 2553 1204 2497 \nQ 953 2441 691 2322 \nL 691 4666 \nz\n\" transform=\"scale(0.015625)\"/>\n       </defs>\n       <use xlink:href=\"#DejaVuSans-35\"/>\n       <use xlink:href=\"#DejaVuSans-30\" x=\"63.623047\"/>\n       <use xlink:href=\"#DejaVuSans-30\" x=\"127.246094\"/>\n      </g>\n     </g>\n    </g>\n    <g id=\"xtick_7\">\n     <g id=\"line2d_7\">\n      <g>\n       <use xlink:href=\"#m7718a4980d\" x=\"705.970951\" y=\"284.4\" style=\"stroke: #000000; stroke-width: 0.8\"/>\n      </g>\n     </g>\n     <g id=\"text_7\">\n      <!-- 600 -->\n      <g transform=\"translate(696.427201 298.998438) scale(0.1 -0.1)\">\n       <defs>\n        <path id=\"DejaVuSans-36\" d=\"M 2113 2584 \nQ 1688 2584 1439 2293 \nQ 1191 2003 1191 1497 \nQ 1191 994 1439 701 \nQ 1688 409 2113 409 \nQ 2538 409 2786 701 \nQ 3034 994 3034 1497 \nQ 3034 2003 2786 2293 \nQ 2538 2584 2113 2584 \nz\nM 3366 4563 \nL 3366 3988 \nQ 3128 4100 2886 4159 \nQ 2644 4219 2406 4219 \nQ 1781 4219 1451 3797 \nQ 1122 3375 1075 2522 \nQ 1259 2794 1537 2939 \nQ 1816 3084 2150 3084 \nQ 2853 3084 3261 2657 \nQ 3669 2231 3669 1497 \nQ 3669 778 3244 343 \nQ 2819 -91 2113 -91 \nQ 1303 -91 875 529 \nQ 447 1150 447 2328 \nQ 447 3434 972 4092 \nQ 1497 4750 2381 4750 \nQ 2619 4750 2861 4703 \nQ 3103 4656 3366 4563 \nz\n\" transform=\"scale(0.015625)\"/>\n       </defs>\n       <use xlink:href=\"#DejaVuSans-36\"/>\n       <use xlink:href=\"#DejaVuSans-30\" x=\"63.623047\"/>\n       <use xlink:href=\"#DejaVuSans-30\" x=\"127.246094\"/>\n      </g>\n     </g>\n    </g>\n    <g id=\"xtick_8\">\n     <g id=\"line2d_8\">\n      <g>\n       <use xlink:href=\"#m7718a4980d\" x=\"809.637039\" y=\"284.4\" style=\"stroke: #000000; stroke-width: 0.8\"/>\n      </g>\n     </g>\n     <g id=\"text_8\">\n      <!-- 700 -->\n      <g transform=\"translate(800.093289 298.998438) scale(0.1 -0.1)\">\n       <defs>\n        <path id=\"DejaVuSans-37\" d=\"M 525 4666 \nL 3525 4666 \nL 3525 4397 \nL 1831 0 \nL 1172 0 \nL 2766 4134 \nL 525 4134 \nL 525 4666 \nz\n\" transform=\"scale(0.015625)\"/>\n       </defs>\n       <use xlink:href=\"#DejaVuSans-37\"/>\n       <use xlink:href=\"#DejaVuSans-30\" x=\"63.623047\"/>\n       <use xlink:href=\"#DejaVuSans-30\" x=\"127.246094\"/>\n      </g>\n     </g>\n    </g>\n    <g id=\"text_9\">\n     <!-- Number of Interactions by Users -->\n     <g transform=\"translate(384.338281 312.676562) scale(0.1 -0.1)\">\n      <defs>\n       <path id=\"DejaVuSans-4e\" d=\"M 628 4666 \nL 1478 4666 \nL 3547 763 \nL 3547 4666 \nL 4159 4666 \nL 4159 0 \nL 3309 0 \nL 1241 3903 \nL 1241 0 \nL 628 0 \nL 628 4666 \nz\n\" transform=\"scale(0.015625)\"/>\n       <path id=\"DejaVuSans-75\" d=\"M 544 1381 \nL 544 3500 \nL 1119 3500 \nL 1119 1403 \nQ 1119 906 1312 657 \nQ 1506 409 1894 409 \nQ 2359 409 2629 706 \nQ 2900 1003 2900 1516 \nL 2900 3500 \nL 3475 3500 \nL 3475 0 \nL 2900 0 \nL 2900 538 \nQ 2691 219 2414 64 \nQ 2138 -91 1772 -91 \nQ 1169 -91 856 284 \nQ 544 659 544 1381 \nz\nM 1991 3584 \nL 1991 3584 \nz\n\" transform=\"scale(0.015625)\"/>\n       <path id=\"DejaVuSans-6d\" d=\"M 3328 2828 \nQ 3544 3216 3844 3400 \nQ 4144 3584 4550 3584 \nQ 5097 3584 5394 3201 \nQ 5691 2819 5691 2113 \nL 5691 0 \nL 5113 0 \nL 5113 2094 \nQ 5113 2597 4934 2840 \nQ 4756 3084 4391 3084 \nQ 3944 3084 3684 2787 \nQ 3425 2491 3425 1978 \nL 3425 0 \nL 2847 0 \nL 2847 2094 \nQ 2847 2600 2669 2842 \nQ 2491 3084 2119 3084 \nQ 1678 3084 1418 2786 \nQ 1159 2488 1159 1978 \nL 1159 0 \nL 581 0 \nL 581 3500 \nL 1159 3500 \nL 1159 2956 \nQ 1356 3278 1631 3431 \nQ 1906 3584 2284 3584 \nQ 2666 3584 2933 3390 \nQ 3200 3197 3328 2828 \nz\n\" transform=\"scale(0.015625)\"/>\n       <path id=\"DejaVuSans-62\" d=\"M 3116 1747 \nQ 3116 2381 2855 2742 \nQ 2594 3103 2138 3103 \nQ 1681 3103 1420 2742 \nQ 1159 2381 1159 1747 \nQ 1159 1113 1420 752 \nQ 1681 391 2138 391 \nQ 2594 391 2855 752 \nQ 3116 1113 3116 1747 \nz\nM 1159 2969 \nQ 1341 3281 1617 3432 \nQ 1894 3584 2278 3584 \nQ 2916 3584 3314 3078 \nQ 3713 2572 3713 1747 \nQ 3713 922 3314 415 \nQ 2916 -91 2278 -91 \nQ 1894 -91 1617 61 \nQ 1341 213 1159 525 \nL 1159 0 \nL 581 0 \nL 581 4863 \nL 1159 4863 \nL 1159 2969 \nz\n\" transform=\"scale(0.015625)\"/>\n       <path id=\"DejaVuSans-65\" d=\"M 3597 1894 \nL 3597 1613 \nL 953 1613 \nQ 991 1019 1311 708 \nQ 1631 397 2203 397 \nQ 2534 397 2845 478 \nQ 3156 559 3463 722 \nL 3463 178 \nQ 3153 47 2828 -22 \nQ 2503 -91 2169 -91 \nQ 1331 -91 842 396 \nQ 353 884 353 1716 \nQ 353 2575 817 3079 \nQ 1281 3584 2069 3584 \nQ 2775 3584 3186 3129 \nQ 3597 2675 3597 1894 \nz\nM 3022 2063 \nQ 3016 2534 2758 2815 \nQ 2500 3097 2075 3097 \nQ 1594 3097 1305 2825 \nQ 1016 2553 972 2059 \nL 3022 2063 \nz\n\" transform=\"scale(0.015625)\"/>\n       <path id=\"DejaVuSans-72\" d=\"M 2631 2963 \nQ 2534 3019 2420 3045 \nQ 2306 3072 2169 3072 \nQ 1681 3072 1420 2755 \nQ 1159 2438 1159 1844 \nL 1159 0 \nL 581 0 \nL 581 3500 \nL 1159 3500 \nL 1159 2956 \nQ 1341 3275 1631 3429 \nQ 1922 3584 2338 3584 \nQ 2397 3584 2469 3576 \nQ 2541 3569 2628 3553 \nL 2631 2963 \nz\n\" transform=\"scale(0.015625)\"/>\n       <path id=\"DejaVuSans-20\" transform=\"scale(0.015625)\"/>\n       <path id=\"DejaVuSans-6f\" d=\"M 1959 3097 \nQ 1497 3097 1228 2736 \nQ 959 2375 959 1747 \nQ 959 1119 1226 758 \nQ 1494 397 1959 397 \nQ 2419 397 2687 759 \nQ 2956 1122 2956 1747 \nQ 2956 2369 2687 2733 \nQ 2419 3097 1959 3097 \nz\nM 1959 3584 \nQ 2709 3584 3137 3096 \nQ 3566 2609 3566 1747 \nQ 3566 888 3137 398 \nQ 2709 -91 1959 -91 \nQ 1206 -91 779 398 \nQ 353 888 353 1747 \nQ 353 2609 779 3096 \nQ 1206 3584 1959 3584 \nz\n\" transform=\"scale(0.015625)\"/>\n       <path id=\"DejaVuSans-66\" d=\"M 2375 4863 \nL 2375 4384 \nL 1825 4384 \nQ 1516 4384 1395 4259 \nQ 1275 4134 1275 3809 \nL 1275 3500 \nL 2222 3500 \nL 2222 3053 \nL 1275 3053 \nL 1275 0 \nL 697 0 \nL 697 3053 \nL 147 3053 \nL 147 3500 \nL 697 3500 \nL 697 3744 \nQ 697 4328 969 4595 \nQ 1241 4863 1831 4863 \nL 2375 4863 \nz\n\" transform=\"scale(0.015625)\"/>\n       <path id=\"DejaVuSans-49\" d=\"M 628 4666 \nL 1259 4666 \nL 1259 0 \nL 628 0 \nL 628 4666 \nz\n\" transform=\"scale(0.015625)\"/>\n       <path id=\"DejaVuSans-6e\" d=\"M 3513 2113 \nL 3513 0 \nL 2938 0 \nL 2938 2094 \nQ 2938 2591 2744 2837 \nQ 2550 3084 2163 3084 \nQ 1697 3084 1428 2787 \nQ 1159 2491 1159 1978 \nL 1159 0 \nL 581 0 \nL 581 3500 \nL 1159 3500 \nL 1159 2956 \nQ 1366 3272 1645 3428 \nQ 1925 3584 2291 3584 \nQ 2894 3584 3203 3211 \nQ 3513 2838 3513 2113 \nz\n\" transform=\"scale(0.015625)\"/>\n       <path id=\"DejaVuSans-74\" d=\"M 1172 4494 \nL 1172 3500 \nL 2356 3500 \nL 2356 3053 \nL 1172 3053 \nL 1172 1153 \nQ 1172 725 1289 603 \nQ 1406 481 1766 481 \nL 2356 481 \nL 2356 0 \nL 1766 0 \nQ 1100 0 847 248 \nQ 594 497 594 1153 \nL 594 3053 \nL 172 3053 \nL 172 3500 \nL 594 3500 \nL 594 4494 \nL 1172 4494 \nz\n\" transform=\"scale(0.015625)\"/>\n       <path id=\"DejaVuSans-61\" d=\"M 2194 1759 \nQ 1497 1759 1228 1600 \nQ 959 1441 959 1056 \nQ 959 750 1161 570 \nQ 1363 391 1709 391 \nQ 2188 391 2477 730 \nQ 2766 1069 2766 1631 \nL 2766 1759 \nL 2194 1759 \nz\nM 3341 1997 \nL 3341 0 \nL 2766 0 \nL 2766 531 \nQ 2569 213 2275 61 \nQ 1981 -91 1556 -91 \nQ 1019 -91 701 211 \nQ 384 513 384 1019 \nQ 384 1609 779 1909 \nQ 1175 2209 1959 2209 \nL 2766 2209 \nL 2766 2266 \nQ 2766 2663 2505 2880 \nQ 2244 3097 1772 3097 \nQ 1472 3097 1187 3025 \nQ 903 2953 641 2809 \nL 641 3341 \nQ 956 3463 1253 3523 \nQ 1550 3584 1831 3584 \nQ 2591 3584 2966 3190 \nQ 3341 2797 3341 1997 \nz\n\" transform=\"scale(0.015625)\"/>\n       <path id=\"DejaVuSans-63\" d=\"M 3122 3366 \nL 3122 2828 \nQ 2878 2963 2633 3030 \nQ 2388 3097 2138 3097 \nQ 1578 3097 1268 2742 \nQ 959 2388 959 1747 \nQ 959 1106 1268 751 \nQ 1578 397 2138 397 \nQ 2388 397 2633 464 \nQ 2878 531 3122 666 \nL 3122 134 \nQ 2881 22 2623 -34 \nQ 2366 -91 2075 -91 \nQ 1284 -91 818 406 \nQ 353 903 353 1747 \nQ 353 2603 823 3093 \nQ 1294 3584 2113 3584 \nQ 2378 3584 2631 3529 \nQ 2884 3475 3122 3366 \nz\n\" transform=\"scale(0.015625)\"/>\n       <path id=\"DejaVuSans-69\" d=\"M 603 3500 \nL 1178 3500 \nL 1178 0 \nL 603 0 \nL 603 3500 \nz\nM 603 4863 \nL 1178 4863 \nL 1178 4134 \nL 603 4134 \nL 603 4863 \nz\n\" transform=\"scale(0.015625)\"/>\n       <path id=\"DejaVuSans-73\" d=\"M 2834 3397 \nL 2834 2853 \nQ 2591 2978 2328 3040 \nQ 2066 3103 1784 3103 \nQ 1356 3103 1142 2972 \nQ 928 2841 928 2578 \nQ 928 2378 1081 2264 \nQ 1234 2150 1697 2047 \nL 1894 2003 \nQ 2506 1872 2764 1633 \nQ 3022 1394 3022 966 \nQ 3022 478 2636 193 \nQ 2250 -91 1575 -91 \nQ 1294 -91 989 -36 \nQ 684 19 347 128 \nL 347 722 \nQ 666 556 975 473 \nQ 1284 391 1588 391 \nQ 1994 391 2212 530 \nQ 2431 669 2431 922 \nQ 2431 1156 2273 1281 \nQ 2116 1406 1581 1522 \nL 1381 1569 \nQ 847 1681 609 1914 \nQ 372 2147 372 2553 \nQ 372 3047 722 3315 \nQ 1072 3584 1716 3584 \nQ 2034 3584 2315 3537 \nQ 2597 3491 2834 3397 \nz\n\" transform=\"scale(0.015625)\"/>\n       <path id=\"DejaVuSans-79\" d=\"M 2059 -325 \nQ 1816 -950 1584 -1140 \nQ 1353 -1331 966 -1331 \nL 506 -1331 \nL 506 -850 \nL 844 -850 \nQ 1081 -850 1212 -737 \nQ 1344 -625 1503 -206 \nL 1606 56 \nL 191 3500 \nL 800 3500 \nL 1894 763 \nL 2988 3500 \nL 3597 3500 \nL 2059 -325 \nz\n\" transform=\"scale(0.015625)\"/>\n       <path id=\"DejaVuSans-55\" d=\"M 556 4666 \nL 1191 4666 \nL 1191 1831 \nQ 1191 1081 1462 751 \nQ 1734 422 2344 422 \nQ 2950 422 3222 751 \nQ 3494 1081 3494 1831 \nL 3494 4666 \nL 4128 4666 \nL 4128 1753 \nQ 4128 841 3676 375 \nQ 3225 -91 2344 -91 \nQ 1459 -91 1007 375 \nQ 556 841 556 1753 \nL 556 4666 \nz\n\" transform=\"scale(0.015625)\"/>\n      </defs>\n      <use xlink:href=\"#DejaVuSans-4e\"/>\n      <use xlink:href=\"#DejaVuSans-75\" x=\"74.804688\"/>\n      <use xlink:href=\"#DejaVuSans-6d\" x=\"138.183594\"/>\n      <use xlink:href=\"#DejaVuSans-62\" x=\"235.595703\"/>\n      <use xlink:href=\"#DejaVuSans-65\" x=\"299.072266\"/>\n      <use xlink:href=\"#DejaVuSans-72\" x=\"360.595703\"/>\n      <use xlink:href=\"#DejaVuSans-20\" x=\"401.708984\"/>\n      <use xlink:href=\"#DejaVuSans-6f\" x=\"433.496094\"/>\n      <use xlink:href=\"#DejaVuSans-66\" x=\"494.677734\"/>\n      <use xlink:href=\"#DejaVuSans-20\" x=\"529.882812\"/>\n      <use xlink:href=\"#DejaVuSans-49\" x=\"561.669922\"/>\n      <use xlink:href=\"#DejaVuSans-6e\" x=\"591.162109\"/>\n      <use xlink:href=\"#DejaVuSans-74\" x=\"654.541016\"/>\n      <use xlink:href=\"#DejaVuSans-65\" x=\"693.75\"/>\n      <use xlink:href=\"#DejaVuSans-72\" x=\"755.273438\"/>\n      <use xlink:href=\"#DejaVuSans-61\" x=\"796.386719\"/>\n      <use xlink:href=\"#DejaVuSans-63\" x=\"857.666016\"/>\n      <use xlink:href=\"#DejaVuSans-74\" x=\"912.646484\"/>\n      <use xlink:href=\"#DejaVuSans-69\" x=\"951.855469\"/>\n      <use xlink:href=\"#DejaVuSans-6f\" x=\"979.638672\"/>\n      <use xlink:href=\"#DejaVuSans-6e\" x=\"1040.820312\"/>\n      <use xlink:href=\"#DejaVuSans-73\" x=\"1104.199219\"/>\n      <use xlink:href=\"#DejaVuSans-20\" x=\"1156.298828\"/>\n      <use xlink:href=\"#DejaVuSans-62\" x=\"1188.085938\"/>\n      <use xlink:href=\"#DejaVuSans-79\" x=\"1251.5625\"/>\n      <use xlink:href=\"#DejaVuSans-20\" x=\"1310.742188\"/>\n      <use xlink:href=\"#DejaVuSans-55\" x=\"1342.529297\"/>\n      <use xlink:href=\"#DejaVuSans-73\" x=\"1415.722656\"/>\n      <use xlink:href=\"#DejaVuSans-65\" x=\"1467.822266\"/>\n      <use xlink:href=\"#DejaVuSans-72\" x=\"1529.345703\"/>\n      <use xlink:href=\"#DejaVuSans-73\" x=\"1570.458984\"/>\n     </g>\n    </g>\n   </g>\n   <g id=\"matplotlib.axis_2\">\n    <g id=\"ytick_1\">\n     <g id=\"line2d_9\">\n      <defs>\n       <path id=\"mc3ddcc6df5\" d=\"M 0 0 \nL -3.5 0 \n\" style=\"stroke: #000000; stroke-width: 0.8\"/>\n      </defs>\n      <g>\n       <use xlink:href=\"#mc3ddcc6df5\" x=\"46.965625\" y=\"284.4\" style=\"stroke: #000000; stroke-width: 0.8\"/>\n      </g>\n     </g>\n     <g id=\"text_10\">\n      <!-- 0 -->\n      <g transform=\"translate(33.603125 288.199219) scale(0.1 -0.1)\">\n       <use xlink:href=\"#DejaVuSans-30\"/>\n      </g>\n     </g>\n    </g>\n    <g id=\"ytick_2\">\n     <g id=\"line2d_10\">\n      <g>\n       <use xlink:href=\"#mc3ddcc6df5\" x=\"46.965625\" y=\"246.685714\" style=\"stroke: #000000; stroke-width: 0.8\"/>\n      </g>\n     </g>\n     <g id=\"text_11\">\n      <!-- 25 -->\n      <g transform=\"translate(27.240625 250.484933) scale(0.1 -0.1)\">\n       <use xlink:href=\"#DejaVuSans-32\"/>\n       <use xlink:href=\"#DejaVuSans-35\" x=\"63.623047\"/>\n      </g>\n     </g>\n    </g>\n    <g id=\"ytick_3\">\n     <g id=\"line2d_11\">\n      <g>\n       <use xlink:href=\"#mc3ddcc6df5\" x=\"46.965625\" y=\"208.971429\" style=\"stroke: #000000; stroke-width: 0.8\"/>\n      </g>\n     </g>\n     <g id=\"text_12\">\n      <!-- 50 -->\n      <g transform=\"translate(27.240625 212.770647) scale(0.1 -0.1)\">\n       <use xlink:href=\"#DejaVuSans-35\"/>\n       <use xlink:href=\"#DejaVuSans-30\" x=\"63.623047\"/>\n      </g>\n     </g>\n    </g>\n    <g id=\"ytick_4\">\n     <g id=\"line2d_12\">\n      <g>\n       <use xlink:href=\"#mc3ddcc6df5\" x=\"46.965625\" y=\"171.257143\" style=\"stroke: #000000; stroke-width: 0.8\"/>\n      </g>\n     </g>\n     <g id=\"text_13\">\n      <!-- 75 -->\n      <g transform=\"translate(27.240625 175.056362) scale(0.1 -0.1)\">\n       <use xlink:href=\"#DejaVuSans-37\"/>\n       <use xlink:href=\"#DejaVuSans-35\" x=\"63.623047\"/>\n      </g>\n     </g>\n    </g>\n    <g id=\"ytick_5\">\n     <g id=\"line2d_13\">\n      <g>\n       <use xlink:href=\"#mc3ddcc6df5\" x=\"46.965625\" y=\"133.542857\" style=\"stroke: #000000; stroke-width: 0.8\"/>\n      </g>\n     </g>\n     <g id=\"text_14\">\n      <!-- 100 -->\n      <g transform=\"translate(20.878125 137.342076) scale(0.1 -0.1)\">\n       <use xlink:href=\"#DejaVuSans-31\"/>\n       <use xlink:href=\"#DejaVuSans-30\" x=\"63.623047\"/>\n       <use xlink:href=\"#DejaVuSans-30\" x=\"127.246094\"/>\n      </g>\n     </g>\n    </g>\n    <g id=\"ytick_6\">\n     <g id=\"line2d_14\">\n      <g>\n       <use xlink:href=\"#mc3ddcc6df5\" x=\"46.965625\" y=\"95.828571\" style=\"stroke: #000000; stroke-width: 0.8\"/>\n      </g>\n     </g>\n     <g id=\"text_15\">\n      <!-- 125 -->\n      <g transform=\"translate(20.878125 99.62779) scale(0.1 -0.1)\">\n       <use xlink:href=\"#DejaVuSans-31\"/>\n       <use xlink:href=\"#DejaVuSans-32\" x=\"63.623047\"/>\n       <use xlink:href=\"#DejaVuSans-35\" x=\"127.246094\"/>\n      </g>\n     </g>\n    </g>\n    <g id=\"ytick_7\">\n     <g id=\"line2d_15\">\n      <g>\n       <use xlink:href=\"#mc3ddcc6df5\" x=\"46.965625\" y=\"58.114286\" style=\"stroke: #000000; stroke-width: 0.8\"/>\n      </g>\n     </g>\n     <g id=\"text_16\">\n      <!-- 150 -->\n      <g transform=\"translate(20.878125 61.913504) scale(0.1 -0.1)\">\n       <use xlink:href=\"#DejaVuSans-31\"/>\n       <use xlink:href=\"#DejaVuSans-35\" x=\"63.623047\"/>\n       <use xlink:href=\"#DejaVuSans-30\" x=\"127.246094\"/>\n      </g>\n     </g>\n    </g>\n    <g id=\"ytick_8\">\n     <g id=\"line2d_16\">\n      <g>\n       <use xlink:href=\"#mc3ddcc6df5\" x=\"46.965625\" y=\"20.4\" style=\"stroke: #000000; stroke-width: 0.8\"/>\n      </g>\n     </g>\n     <g id=\"text_17\">\n      <!-- 175 -->\n      <g transform=\"translate(20.878125 24.199219) scale(0.1 -0.1)\">\n       <use xlink:href=\"#DejaVuSans-31\"/>\n       <use xlink:href=\"#DejaVuSans-37\" x=\"63.623047\"/>\n       <use xlink:href=\"#DejaVuSans-35\" x=\"127.246094\"/>\n      </g>\n     </g>\n    </g>\n    <g id=\"text_18\">\n     <!-- Count -->\n     <g transform=\"translate(14.798438 160.648437) rotate(-90) scale(0.1 -0.1)\">\n      <defs>\n       <path id=\"DejaVuSans-43\" d=\"M 4122 4306 \nL 4122 3641 \nQ 3803 3938 3442 4084 \nQ 3081 4231 2675 4231 \nQ 1875 4231 1450 3742 \nQ 1025 3253 1025 2328 \nQ 1025 1406 1450 917 \nQ 1875 428 2675 428 \nQ 3081 428 3442 575 \nQ 3803 722 4122 1019 \nL 4122 359 \nQ 3791 134 3420 21 \nQ 3050 -91 2638 -91 \nQ 1578 -91 968 557 \nQ 359 1206 359 2328 \nQ 359 3453 968 4101 \nQ 1578 4750 2638 4750 \nQ 3056 4750 3426 4639 \nQ 3797 4528 4122 4306 \nz\n\" transform=\"scale(0.015625)\"/>\n      </defs>\n      <use xlink:href=\"#DejaVuSans-43\"/>\n      <use xlink:href=\"#DejaVuSans-6f\" x=\"69.824219\"/>\n      <use xlink:href=\"#DejaVuSans-75\" x=\"131.005859\"/>\n      <use xlink:href=\"#DejaVuSans-6e\" x=\"194.384766\"/>\n      <use xlink:href=\"#DejaVuSans-74\" x=\"257.763672\"/>\n     </g>\n    </g>\n   </g>\n   <g id=\"patch_202\">\n    <path d=\"M 46.965625 284.4 \nL 46.965625 7.2 \n\" style=\"fill: none; stroke: #000000; stroke-width: 0.8; stroke-linejoin: miter; stroke-linecap: square\"/>\n   </g>\n   <g id=\"patch_203\">\n    <path d=\"M 883.965625 284.4 \nL 883.965625 7.2 \n\" style=\"fill: none; stroke: #000000; stroke-width: 0.8; stroke-linejoin: miter; stroke-linecap: square\"/>\n   </g>\n   <g id=\"patch_204\">\n    <path d=\"M 46.965625 284.4 \nL 883.965625 284.4 \n\" style=\"fill: none; stroke: #000000; stroke-width: 0.8; stroke-linejoin: miter; stroke-linecap: square\"/>\n   </g>\n   <g id=\"patch_205\">\n    <path d=\"M 46.965625 7.2 \nL 883.965625 7.2 \n\" style=\"fill: none; stroke: #000000; stroke-width: 0.8; stroke-linejoin: miter; stroke-linecap: square\"/>\n   </g>\n  </g>\n </g>\n <defs>\n  <clipPath id=\"pa408b31a00\">\n   <rect x=\"46.965625\" y=\"7.2\" width=\"837\" height=\"277.2\"/>\n  </clipPath>\n </defs>\n</svg>\n"
          },
          "metadata": {}
        }
      ],
      "source": [
        "# Let's plot user-item interactions distribution\n",
        "plt.figure(figsize=(15,5))\n",
        "sns.histplot(count_interactions)\n",
        "plt.xlabel('Number of Interactions by Users')\n",
        "plt.show()"
      ]
    },
    {
      "cell_type": "markdown",
      "id": "XZ7ISu5rI6zB",
      "metadata": {
        "id": "XZ7ISu5rI6zB"
      },
      "source": [
        "**Observations:**\n",
        "- The distribution is highly skewed to the right. \n",
        "- Most of the obsevations are in the range of 1 - 50 interactions. "
      ]
    },
    {
      "cell_type": "markdown",
      "id": "3SiTfmJzJJW7",
      "metadata": {
        "id": "3SiTfmJzJJW7"
      },
      "source": [
        "**As we have now explored the data, let's start building Recommendation Systems**"
      ]
    },
    {
      "cell_type": "markdown",
      "id": "aISxUcit7hmB",
      "metadata": {
        "id": "aISxUcit7hmB"
      },
      "source": [
        "## **Model 1: Rank-Based Recommendation System**\n",
        "\n",
        "Let's build a simple Rank-Based Recommendation System first. \n",
        "\n",
        "- Rank-based recommendation systems provide recommendations based on the most popular items. This kind of recommendation system is useful when we have cold start problems. Cold start refers to the issue when we get a new user into the system and the machine is not able to recommend book to the new user, as the user did not have any historical interactions in the dataset. In those cases, we can use rank-based recommendation system to recommend book to the new user.\n",
        "\n",
        "- To build the rank-based recommendation system, we take average of all the ratings provided to each book and then rank them based on their average rating."
      ]
    },
    {
      "cell_type": "code",
      "execution_count": 31,
      "id": "FzbxIeuR6HE4",
      "metadata": {
        "id": "FzbxIeuR6HE4"
      },
      "outputs": [],
      "source": [
        "# Let's calculate average ratings for each book_id\n",
        "average_rating = df.groupby('book_id').mean()['rating']\n",
        "\n",
        "# And the count of ratings for each book_id\n",
        "count_rating = df.groupby('book_id').count()['rating']\n",
        "\n",
        "# Let's make a dataframe with the count and average of ratings\n",
        "final_rating = pd.DataFrame({'avg_rating':average_rating, \n",
        "                             'rating_count':count_rating})"
      ]
    },
    {
      "cell_type": "code",
      "execution_count": 32,
      "id": "7r9ua1fl90jv",
      "metadata": {
        "id": "7r9ua1fl90jv",
        "colab": {
          "base_uri": "https://localhost:8080/",
          "height": 237
        },
        "outputId": "2b83f127-7603-42e2-aa2c-1724875fb778"
      },
      "outputs": [
        {
          "output_type": "execute_result",
          "data": {
            "text/plain": [
              "            avg_rating  rating_count\n",
              "book_id                             \n",
              "0020442203    8.727273            11\n",
              "002542730X    7.428571            28\n",
              "0028604199    8.000000            10\n",
              "0060002050    7.800000            10\n",
              "006000438X    7.666667            15"
            ],
            "text/html": [
              "\n",
              "  <div id=\"df-6ed4e101-5b08-4cb7-85c1-74edfa893419\">\n",
              "    <div class=\"colab-df-container\">\n",
              "      <div>\n",
              "<style scoped>\n",
              "    .dataframe tbody tr th:only-of-type {\n",
              "        vertical-align: middle;\n",
              "    }\n",
              "\n",
              "    .dataframe tbody tr th {\n",
              "        vertical-align: top;\n",
              "    }\n",
              "\n",
              "    .dataframe thead th {\n",
              "        text-align: right;\n",
              "    }\n",
              "</style>\n",
              "<table border=\"1\" class=\"dataframe\">\n",
              "  <thead>\n",
              "    <tr style=\"text-align: right;\">\n",
              "      <th></th>\n",
              "      <th>avg_rating</th>\n",
              "      <th>rating_count</th>\n",
              "    </tr>\n",
              "    <tr>\n",
              "      <th>book_id</th>\n",
              "      <th></th>\n",
              "      <th></th>\n",
              "    </tr>\n",
              "  </thead>\n",
              "  <tbody>\n",
              "    <tr>\n",
              "      <th>0020442203</th>\n",
              "      <td>8.727273</td>\n",
              "      <td>11</td>\n",
              "    </tr>\n",
              "    <tr>\n",
              "      <th>002542730X</th>\n",
              "      <td>7.428571</td>\n",
              "      <td>28</td>\n",
              "    </tr>\n",
              "    <tr>\n",
              "      <th>0028604199</th>\n",
              "      <td>8.000000</td>\n",
              "      <td>10</td>\n",
              "    </tr>\n",
              "    <tr>\n",
              "      <th>0060002050</th>\n",
              "      <td>7.800000</td>\n",
              "      <td>10</td>\n",
              "    </tr>\n",
              "    <tr>\n",
              "      <th>006000438X</th>\n",
              "      <td>7.666667</td>\n",
              "      <td>15</td>\n",
              "    </tr>\n",
              "  </tbody>\n",
              "</table>\n",
              "</div>\n",
              "      <button class=\"colab-df-convert\" onclick=\"convertToInteractive('df-6ed4e101-5b08-4cb7-85c1-74edfa893419')\"\n",
              "              title=\"Convert this dataframe to an interactive table.\"\n",
              "              style=\"display:none;\">\n",
              "        \n",
              "  <svg xmlns=\"http://www.w3.org/2000/svg\" height=\"24px\"viewBox=\"0 0 24 24\"\n",
              "       width=\"24px\">\n",
              "    <path d=\"M0 0h24v24H0V0z\" fill=\"none\"/>\n",
              "    <path d=\"M18.56 5.44l.94 2.06.94-2.06 2.06-.94-2.06-.94-.94-2.06-.94 2.06-2.06.94zm-11 1L8.5 8.5l.94-2.06 2.06-.94-2.06-.94L8.5 2.5l-.94 2.06-2.06.94zm10 10l.94 2.06.94-2.06 2.06-.94-2.06-.94-.94-2.06-.94 2.06-2.06.94z\"/><path d=\"M17.41 7.96l-1.37-1.37c-.4-.4-.92-.59-1.43-.59-.52 0-1.04.2-1.43.59L10.3 9.45l-7.72 7.72c-.78.78-.78 2.05 0 2.83L4 21.41c.39.39.9.59 1.41.59.51 0 1.02-.2 1.41-.59l7.78-7.78 2.81-2.81c.8-.78.8-2.07 0-2.86zM5.41 20L4 18.59l7.72-7.72 1.47 1.35L5.41 20z\"/>\n",
              "  </svg>\n",
              "      </button>\n",
              "      \n",
              "  <style>\n",
              "    .colab-df-container {\n",
              "      display:flex;\n",
              "      flex-wrap:wrap;\n",
              "      gap: 12px;\n",
              "    }\n",
              "\n",
              "    .colab-df-convert {\n",
              "      background-color: #E8F0FE;\n",
              "      border: none;\n",
              "      border-radius: 50%;\n",
              "      cursor: pointer;\n",
              "      display: none;\n",
              "      fill: #1967D2;\n",
              "      height: 32px;\n",
              "      padding: 0 0 0 0;\n",
              "      width: 32px;\n",
              "    }\n",
              "\n",
              "    .colab-df-convert:hover {\n",
              "      background-color: #E2EBFA;\n",
              "      box-shadow: 0px 1px 2px rgba(60, 64, 67, 0.3), 0px 1px 3px 1px rgba(60, 64, 67, 0.15);\n",
              "      fill: #174EA6;\n",
              "    }\n",
              "\n",
              "    [theme=dark] .colab-df-convert {\n",
              "      background-color: #3B4455;\n",
              "      fill: #D2E3FC;\n",
              "    }\n",
              "\n",
              "    [theme=dark] .colab-df-convert:hover {\n",
              "      background-color: #434B5C;\n",
              "      box-shadow: 0px 1px 3px 1px rgba(0, 0, 0, 0.15);\n",
              "      filter: drop-shadow(0px 1px 2px rgba(0, 0, 0, 0.3));\n",
              "      fill: #FFFFFF;\n",
              "    }\n",
              "  </style>\n",
              "\n",
              "      <script>\n",
              "        const buttonEl =\n",
              "          document.querySelector('#df-6ed4e101-5b08-4cb7-85c1-74edfa893419 button.colab-df-convert');\n",
              "        buttonEl.style.display =\n",
              "          google.colab.kernel.accessAllowed ? 'block' : 'none';\n",
              "\n",
              "        async function convertToInteractive(key) {\n",
              "          const element = document.querySelector('#df-6ed4e101-5b08-4cb7-85c1-74edfa893419');\n",
              "          const dataTable =\n",
              "            await google.colab.kernel.invokeFunction('convertToInteractive',\n",
              "                                                     [key], {});\n",
              "          if (!dataTable) return;\n",
              "\n",
              "          const docLinkHtml = 'Like what you see? Visit the ' +\n",
              "            '<a target=\"_blank\" href=https://colab.research.google.com/notebooks/data_table.ipynb>data table notebook</a>'\n",
              "            + ' to learn more about interactive tables.';\n",
              "          element.innerHTML = '';\n",
              "          dataTable['output_type'] = 'display_data';\n",
              "          await google.colab.output.renderOutput(dataTable, element);\n",
              "          const docLink = document.createElement('div');\n",
              "          docLink.innerHTML = docLinkHtml;\n",
              "          element.appendChild(docLink);\n",
              "        }\n",
              "      </script>\n",
              "    </div>\n",
              "  </div>\n",
              "  "
            ]
          },
          "metadata": {},
          "execution_count": 32
        }
      ],
      "source": [
        "final_rating.head()"
      ]
    },
    {
      "cell_type": "code",
      "execution_count": 33,
      "id": "s0RCOWp0ANMW",
      "metadata": {
        "id": "s0RCOWp0ANMW",
        "colab": {
          "base_uri": "https://localhost:8080/"
        },
        "outputId": "ae946926-5a15-4c17-c4e7-9e43df89582f"
      },
      "outputs": [
        {
          "output_type": "execute_result",
          "data": {
            "text/plain": [
              "10     237\n",
              "11     196\n",
              "12     161\n",
              "13     114\n",
              "14     104\n",
              "      ... \n",
              "70       1\n",
              "47       1\n",
              "77       1\n",
              "145      1\n",
              "68       1\n",
              "Name: rating_count, Length: 65, dtype: int64"
            ]
          },
          "metadata": {},
          "execution_count": 33
        }
      ],
      "source": [
        "final_rating['rating_count'].value_counts()"
      ]
    },
    {
      "cell_type": "markdown",
      "id": "iKvi8-qKCMck",
      "metadata": {
        "id": "iKvi8-qKCMck"
      },
      "source": [
        "Now, let's create a function to find the **top n books** for a recommendation based on the average ratings of books. We can also add a **threshold for a minimum number of interactions** for a book to be considered for recommendation. "
      ]
    },
    {
      "cell_type": "code",
      "execution_count": 34,
      "id": "zM8EYyhOAX2F",
      "metadata": {
        "id": "zM8EYyhOAX2F"
      },
      "outputs": [],
      "source": [
        "def top_n_books(data, n, min_interactions=100):\n",
        "    \n",
        "    # Finding books with minimum number of interactions\n",
        "    recommendations = data[data['rating_count'] > min_interactions]\n",
        "    \n",
        "    # Sorting values w.r.t. average rating \n",
        "    recommendations = recommendations.sort_values('avg_rating', ascending=False)\n",
        "\n",
        "    return recommendations.index[:n]"
      ]
    },
    {
      "cell_type": "markdown",
      "id": "p9oZBQdNCSO5",
      "metadata": {
        "id": "p9oZBQdNCSO5"
      },
      "source": [
        "We can **use this function with different n's and minimum interactions** to get books to recommend."
      ]
    },
    {
      "cell_type": "markdown",
      "id": "Z-LO36o8CWRN",
      "metadata": {
        "id": "Z-LO36o8CWRN"
      },
      "source": [
        "##### **Recommending top 5 Books with 10 minimum interactions based on popularity**"
      ]
    },
    {
      "cell_type": "code",
      "execution_count": 35,
      "id": "2HZPjSzLCFEF",
      "metadata": {
        "id": "2HZPjSzLCFEF",
        "colab": {
          "base_uri": "https://localhost:8080/"
        },
        "outputId": "3baf4ce0-9c16-4079-be62-3ba82189ba40"
      },
      "outputs": [
        {
          "output_type": "execute_result",
          "data": {
            "text/plain": [
              "['The Two Towers (The Lord of the Rings, Part 2)',\n",
              " 'Harry Potter and the Chamber of Secrets Postcard Book',\n",
              " \"My Sister's Keeper : A Novel (Picoult, Jodi)\",\n",
              " 'The Giving Tree',\n",
              " 'A Tree Grows in Brooklyn']"
            ]
          },
          "metadata": {},
          "execution_count": 35
        }
      ],
      "source": [
        "res = list(top_n_books(final_rating, 5, 10))\n",
        "# Name of the books\n",
        "list_of_books = []\n",
        "for i in res:\n",
        "    list_of_books.append(df[df['book_id'] == str(i)]['Book-Title'].unique()[0])\n",
        "list_of_books"
      ]
    },
    {
      "cell_type": "markdown",
      "id": "766caa66",
      "metadata": {
        "id": "766caa66"
      },
      "source": [
        "##### Recommending top 5 Books with 50 minimum interactions based on popularity"
      ]
    },
    {
      "cell_type": "code",
      "execution_count": 36,
      "id": "jjgYTTigCI39",
      "metadata": {
        "id": "jjgYTTigCI39",
        "colab": {
          "base_uri": "https://localhost:8080/"
        },
        "outputId": "327b508f-34d6-4cae-82d4-29ad96ccee52"
      },
      "outputs": [
        {
          "output_type": "execute_result",
          "data": {
            "text/plain": [
              "['Harry Potter and the Goblet of Fire (Book 4)',\n",
              " 'Harry Potter and the Prisoner of Azkaban (Book 3)',\n",
              " 'To Kill a Mockingbird',\n",
              " \"Harry Potter and the Sorcerer's Stone (Harry Potter (Paperback))\",\n",
              " 'Harry Potter and the Order of the Phoenix (Book 5)']"
            ]
          },
          "metadata": {},
          "execution_count": 36
        }
      ],
      "source": [
        "res2 = list(top_n_books(final_rating,5,50))\n",
        "# Name of the books\n",
        "list_of_books = []\n",
        "for i in res2:\n",
        "    list_of_books.append(df[df['book_id'] == str(i)]['Book-Title'].unique()[0])\n",
        "list_of_books"
      ]
    },
    {
      "cell_type": "markdown",
      "id": "ugkFNZcOwNcO",
      "metadata": {
        "id": "ugkFNZcOwNcO"
      },
      "source": [
        "## **Model 2: Collaborative Filtering Based Recommendation System**\n",
        "\n",
        "Let's build a similarity-based recommendation system using cosine similarity and using KNN to find similar users who are the nearest neighbor to the given user."
      ]
    },
    {
      "cell_type": "code",
      "execution_count": 37,
      "id": "kyputF-CrIBW",
      "metadata": {
        "id": "kyputF-CrIBW"
      },
      "outputs": [],
      "source": [
        "# Let's import necessary libraries\n",
        "\n",
        "# Data preparation\n",
        "from surprise.reader import Reader\n",
        "from surprise.dataset import Dataset\n",
        "from surprise.model_selection import train_test_split\n",
        "\n",
        "# Prediction\n",
        "from surprise.prediction_algorithms.knns import KNNBasic\n",
        "\n",
        "# Hyperparameters fine-tuning\n",
        "from surprise.model_selection import GridSearchCV\n",
        "\n",
        "# Metrics \n",
        "from surprise import accuracy"
      ]
    },
    {
      "cell_type": "markdown",
      "id": "BbEvTLAtr_3b",
      "metadata": {
        "id": "BbEvTLAtr_3b"
      },
      "source": [
        "### **Used terminology description:**\n",
        "\n",
        "**Relevant item** - An item (book in this case) that is actually **rated higher than the threshold rating (here 7)** is relevant, if the **actual rating is below the threshold then it is a non-relevant item**.  \n",
        "\n",
        "**Recommended item** - An item that's **predicted rating is higher than the threshold (here 7) is a recommended item**, if the **predicted rating is below the threshold then that book will not be recommended to the user**.  \n",
        "\n",
        "\n",
        "**Precision@k** - It is the **fraction of recommended items that are relevant in `top k` predictions**. Value of k is the number of recommendations to be provided to the user. One can choose a variable number of recommendations to be given to a unique user.  \n",
        "\n",
        "\n",
        "**Recall@k** - It is the **fraction of relevant items that are recommended to the user in `top k` predictions**.\n",
        "\n",
        "**F1-Score@k** - It is the **harmonic mean of Precision@k and Recall@k**. When **precision@k and recall@k both seem to be important** then it is useful to use this metric because it is representative of both of them. "
      ]
    },
    {
      "cell_type": "markdown",
      "id": "8wtW3BvUsJNT",
      "metadata": {
        "id": "8wtW3BvUsJNT"
      },
      "source": [
        "Let's build a function that takes the **recommendation model** as input and gives the **precision@k and recall@k** for that model."
      ]
    },
    {
      "cell_type": "code",
      "execution_count": 38,
      "id": "P7wO6rPEsNlN",
      "metadata": {
        "id": "P7wO6rPEsNlN"
      },
      "outputs": [],
      "source": [
        "def precision_recall_at_k(model, k=10, threshold=7):\n",
        "\n",
        "    # First map the predictions to each user\n",
        "    user_est_true = defaultdict(list)\n",
        "    \n",
        "    # Making predictions on the test data\n",
        "    predictions=model.test(testset)\n",
        "    \n",
        "    for uid, _, true_r, est, _ in predictions:\n",
        "        user_est_true[uid].append((est, true_r))\n",
        "\n",
        "    precisions = dict()\n",
        "    recalls = dict()\n",
        "    for uid, user_ratings in user_est_true.items():\n",
        "\n",
        "        # Sort user ratings by estimated value\n",
        "        user_ratings.sort(key=lambda x: x[0], reverse=True)\n",
        "\n",
        "        # Number of relevant items\n",
        "        n_rel = sum((true_r >= threshold) for (_, true_r) in user_ratings)\n",
        "\n",
        "        # Number of recommended items in top k\n",
        "        n_rec_k = sum((est >= threshold) for (est, _) in user_ratings[:k])\n",
        "\n",
        "        # Number of relevant and recommended items in top k\n",
        "        n_rel_and_rec_k = sum(((true_r >= threshold) and (est >= threshold))\n",
        "                              for (est, true_r) in user_ratings[:k])\n",
        "\n",
        "        # Precision@K: Proportion of recommended items that are relevant\n",
        "        # When n_rec_k is 0, Precision is undefined. We here set Precision to 0 when n_rec_k is 0.\n",
        "        precisions[uid] = n_rel_and_rec_k / n_rec_k if n_rec_k != 0 else 0\n",
        "\n",
        "        # Recall@K: Proportion of relevant items that are recommended\n",
        "        # When n_rel is 0, Recall is undefined. We here set Recall to 0 when n_rel is 0.\n",
        "        recalls[uid] = n_rel_and_rec_k / n_rel if n_rel != 0 else 0\n",
        "    \n",
        "    # Mean of all the predicted precisions.\n",
        "    precision = round((sum(prec for prec in precisions.values()) / len(precisions)),3)\n",
        "    # Mean of all the predicted recalls.\n",
        "    recall = round((sum(rec for rec in recalls.values()) / len(recalls)),3)\n",
        "    # Root Mean Squared Error\n",
        "    accuracy.rmse(predictions)\n",
        "    print('Precision: ', precision) \n",
        "    print('Recall: ', recall) \n",
        "    print('F_1 score: ', round((2*precision*recall)/(precision+recall),3))"
      ]
    },
    {
      "cell_type": "markdown",
      "id": "aqQwqRbLwsXq",
      "metadata": {
        "id": "aqQwqRbLwsXq"
      },
      "source": [
        "**Let's encode the user_id and book_id for simplicity.**"
      ]
    },
    {
      "cell_type": "code",
      "execution_count": 39,
      "id": "dzAcHitliynT",
      "metadata": {
        "id": "dzAcHitliynT",
        "colab": {
          "base_uri": "https://localhost:8080/",
          "height": 206
        },
        "outputId": "d4556796-d081-4456-8df3-c6bc24bcbb82"
      },
      "outputs": [
        {
          "output_type": "execute_result",
          "data": {
            "text/plain": [
              "      user_id  book_id  rating\n",
              "1211     1251      521       9\n",
              "1213     1251      524       9\n",
              "1214     1251      525       8\n",
              "1456     1252        1      10\n",
              "1474     1252       52       9"
            ],
            "text/html": [
              "\n",
              "  <div id=\"df-d249ce03-0b8f-400e-b7ff-0049fde47883\">\n",
              "    <div class=\"colab-df-container\">\n",
              "      <div>\n",
              "<style scoped>\n",
              "    .dataframe tbody tr th:only-of-type {\n",
              "        vertical-align: middle;\n",
              "    }\n",
              "\n",
              "    .dataframe tbody tr th {\n",
              "        vertical-align: top;\n",
              "    }\n",
              "\n",
              "    .dataframe thead th {\n",
              "        text-align: right;\n",
              "    }\n",
              "</style>\n",
              "<table border=\"1\" class=\"dataframe\">\n",
              "  <thead>\n",
              "    <tr style=\"text-align: right;\">\n",
              "      <th></th>\n",
              "      <th>user_id</th>\n",
              "      <th>book_id</th>\n",
              "      <th>rating</th>\n",
              "    </tr>\n",
              "  </thead>\n",
              "  <tbody>\n",
              "    <tr>\n",
              "      <th>1211</th>\n",
              "      <td>1251</td>\n",
              "      <td>521</td>\n",
              "      <td>9</td>\n",
              "    </tr>\n",
              "    <tr>\n",
              "      <th>1213</th>\n",
              "      <td>1251</td>\n",
              "      <td>524</td>\n",
              "      <td>9</td>\n",
              "    </tr>\n",
              "    <tr>\n",
              "      <th>1214</th>\n",
              "      <td>1251</td>\n",
              "      <td>525</td>\n",
              "      <td>8</td>\n",
              "    </tr>\n",
              "    <tr>\n",
              "      <th>1456</th>\n",
              "      <td>1252</td>\n",
              "      <td>1</td>\n",
              "      <td>10</td>\n",
              "    </tr>\n",
              "    <tr>\n",
              "      <th>1474</th>\n",
              "      <td>1252</td>\n",
              "      <td>52</td>\n",
              "      <td>9</td>\n",
              "    </tr>\n",
              "  </tbody>\n",
              "</table>\n",
              "</div>\n",
              "      <button class=\"colab-df-convert\" onclick=\"convertToInteractive('df-d249ce03-0b8f-400e-b7ff-0049fde47883')\"\n",
              "              title=\"Convert this dataframe to an interactive table.\"\n",
              "              style=\"display:none;\">\n",
              "        \n",
              "  <svg xmlns=\"http://www.w3.org/2000/svg\" height=\"24px\"viewBox=\"0 0 24 24\"\n",
              "       width=\"24px\">\n",
              "    <path d=\"M0 0h24v24H0V0z\" fill=\"none\"/>\n",
              "    <path d=\"M18.56 5.44l.94 2.06.94-2.06 2.06-.94-2.06-.94-.94-2.06-.94 2.06-2.06.94zm-11 1L8.5 8.5l.94-2.06 2.06-.94-2.06-.94L8.5 2.5l-.94 2.06-2.06.94zm10 10l.94 2.06.94-2.06 2.06-.94-2.06-.94-.94-2.06-.94 2.06-2.06.94z\"/><path d=\"M17.41 7.96l-1.37-1.37c-.4-.4-.92-.59-1.43-.59-.52 0-1.04.2-1.43.59L10.3 9.45l-7.72 7.72c-.78.78-.78 2.05 0 2.83L4 21.41c.39.39.9.59 1.41.59.51 0 1.02-.2 1.41-.59l7.78-7.78 2.81-2.81c.8-.78.8-2.07 0-2.86zM5.41 20L4 18.59l7.72-7.72 1.47 1.35L5.41 20z\"/>\n",
              "  </svg>\n",
              "      </button>\n",
              "      \n",
              "  <style>\n",
              "    .colab-df-container {\n",
              "      display:flex;\n",
              "      flex-wrap:wrap;\n",
              "      gap: 12px;\n",
              "    }\n",
              "\n",
              "    .colab-df-convert {\n",
              "      background-color: #E8F0FE;\n",
              "      border: none;\n",
              "      border-radius: 50%;\n",
              "      cursor: pointer;\n",
              "      display: none;\n",
              "      fill: #1967D2;\n",
              "      height: 32px;\n",
              "      padding: 0 0 0 0;\n",
              "      width: 32px;\n",
              "    }\n",
              "\n",
              "    .colab-df-convert:hover {\n",
              "      background-color: #E2EBFA;\n",
              "      box-shadow: 0px 1px 2px rgba(60, 64, 67, 0.3), 0px 1px 3px 1px rgba(60, 64, 67, 0.15);\n",
              "      fill: #174EA6;\n",
              "    }\n",
              "\n",
              "    [theme=dark] .colab-df-convert {\n",
              "      background-color: #3B4455;\n",
              "      fill: #D2E3FC;\n",
              "    }\n",
              "\n",
              "    [theme=dark] .colab-df-convert:hover {\n",
              "      background-color: #434B5C;\n",
              "      box-shadow: 0px 1px 3px 1px rgba(0, 0, 0, 0.15);\n",
              "      filter: drop-shadow(0px 1px 2px rgba(0, 0, 0, 0.3));\n",
              "      fill: #FFFFFF;\n",
              "    }\n",
              "  </style>\n",
              "\n",
              "      <script>\n",
              "        const buttonEl =\n",
              "          document.querySelector('#df-d249ce03-0b8f-400e-b7ff-0049fde47883 button.colab-df-convert');\n",
              "        buttonEl.style.display =\n",
              "          google.colab.kernel.accessAllowed ? 'block' : 'none';\n",
              "\n",
              "        async function convertToInteractive(key) {\n",
              "          const element = document.querySelector('#df-d249ce03-0b8f-400e-b7ff-0049fde47883');\n",
              "          const dataTable =\n",
              "            await google.colab.kernel.invokeFunction('convertToInteractive',\n",
              "                                                     [key], {});\n",
              "          if (!dataTable) return;\n",
              "\n",
              "          const docLinkHtml = 'Like what you see? Visit the ' +\n",
              "            '<a target=\"_blank\" href=https://colab.research.google.com/notebooks/data_table.ipynb>data table notebook</a>'\n",
              "            + ' to learn more about interactive tables.';\n",
              "          element.innerHTML = '';\n",
              "          dataTable['output_type'] = 'display_data';\n",
              "          await google.colab.output.renderOutput(dataTable, element);\n",
              "          const docLink = document.createElement('div');\n",
              "          docLink.innerHTML = docLinkHtml;\n",
              "          element.appendChild(docLink);\n",
              "        }\n",
              "      </script>\n",
              "    </div>\n",
              "  </div>\n",
              "  "
            ]
          },
          "metadata": {},
          "execution_count": 39
        }
      ],
      "source": [
        "from sklearn.preprocessing import LabelEncoder\n",
        "data=df[['user_id','book_id']].apply(LabelEncoder().fit_transform)\n",
        "data['rating']=df['rating']\n",
        "data.head()"
      ]
    },
    {
      "cell_type": "code",
      "execution_count": 40,
      "id": "J5FLjvVRDE3A",
      "metadata": {
        "id": "J5FLjvVRDE3A"
      },
      "outputs": [],
      "source": [
        "# Let's create a copy of the above dataset for further use\n",
        "df_rating = data.copy()"
      ]
    },
    {
      "cell_type": "code",
      "execution_count": 41,
      "id": "BFxRT5a8-9oR",
      "metadata": {
        "id": "BFxRT5a8-9oR",
        "colab": {
          "base_uri": "https://localhost:8080/",
          "height": 237
        },
        "outputId": "125d97a2-b975-4540-eabf-178c64011c0c"
      },
      "outputs": [
        {
          "output_type": "execute_result",
          "data": {
            "text/plain": [
              "         avg_rating  rating_count\n",
              "book_id                          \n",
              "0          8.727273            11\n",
              "1          7.428571            28\n",
              "2          8.000000            10\n",
              "3          7.800000            10\n",
              "4          7.666667            15"
            ],
            "text/html": [
              "\n",
              "  <div id=\"df-edef6dc5-cb6b-4b58-ae62-aa2fe20e0055\">\n",
              "    <div class=\"colab-df-container\">\n",
              "      <div>\n",
              "<style scoped>\n",
              "    .dataframe tbody tr th:only-of-type {\n",
              "        vertical-align: middle;\n",
              "    }\n",
              "\n",
              "    .dataframe tbody tr th {\n",
              "        vertical-align: top;\n",
              "    }\n",
              "\n",
              "    .dataframe thead th {\n",
              "        text-align: right;\n",
              "    }\n",
              "</style>\n",
              "<table border=\"1\" class=\"dataframe\">\n",
              "  <thead>\n",
              "    <tr style=\"text-align: right;\">\n",
              "      <th></th>\n",
              "      <th>avg_rating</th>\n",
              "      <th>rating_count</th>\n",
              "    </tr>\n",
              "    <tr>\n",
              "      <th>book_id</th>\n",
              "      <th></th>\n",
              "      <th></th>\n",
              "    </tr>\n",
              "  </thead>\n",
              "  <tbody>\n",
              "    <tr>\n",
              "      <th>0</th>\n",
              "      <td>8.727273</td>\n",
              "      <td>11</td>\n",
              "    </tr>\n",
              "    <tr>\n",
              "      <th>1</th>\n",
              "      <td>7.428571</td>\n",
              "      <td>28</td>\n",
              "    </tr>\n",
              "    <tr>\n",
              "      <th>2</th>\n",
              "      <td>8.000000</td>\n",
              "      <td>10</td>\n",
              "    </tr>\n",
              "    <tr>\n",
              "      <th>3</th>\n",
              "      <td>7.800000</td>\n",
              "      <td>10</td>\n",
              "    </tr>\n",
              "    <tr>\n",
              "      <th>4</th>\n",
              "      <td>7.666667</td>\n",
              "      <td>15</td>\n",
              "    </tr>\n",
              "  </tbody>\n",
              "</table>\n",
              "</div>\n",
              "      <button class=\"colab-df-convert\" onclick=\"convertToInteractive('df-edef6dc5-cb6b-4b58-ae62-aa2fe20e0055')\"\n",
              "              title=\"Convert this dataframe to an interactive table.\"\n",
              "              style=\"display:none;\">\n",
              "        \n",
              "  <svg xmlns=\"http://www.w3.org/2000/svg\" height=\"24px\"viewBox=\"0 0 24 24\"\n",
              "       width=\"24px\">\n",
              "    <path d=\"M0 0h24v24H0V0z\" fill=\"none\"/>\n",
              "    <path d=\"M18.56 5.44l.94 2.06.94-2.06 2.06-.94-2.06-.94-.94-2.06-.94 2.06-2.06.94zm-11 1L8.5 8.5l.94-2.06 2.06-.94-2.06-.94L8.5 2.5l-.94 2.06-2.06.94zm10 10l.94 2.06.94-2.06 2.06-.94-2.06-.94-.94-2.06-.94 2.06-2.06.94z\"/><path d=\"M17.41 7.96l-1.37-1.37c-.4-.4-.92-.59-1.43-.59-.52 0-1.04.2-1.43.59L10.3 9.45l-7.72 7.72c-.78.78-.78 2.05 0 2.83L4 21.41c.39.39.9.59 1.41.59.51 0 1.02-.2 1.41-.59l7.78-7.78 2.81-2.81c.8-.78.8-2.07 0-2.86zM5.41 20L4 18.59l7.72-7.72 1.47 1.35L5.41 20z\"/>\n",
              "  </svg>\n",
              "      </button>\n",
              "      \n",
              "  <style>\n",
              "    .colab-df-container {\n",
              "      display:flex;\n",
              "      flex-wrap:wrap;\n",
              "      gap: 12px;\n",
              "    }\n",
              "\n",
              "    .colab-df-convert {\n",
              "      background-color: #E8F0FE;\n",
              "      border: none;\n",
              "      border-radius: 50%;\n",
              "      cursor: pointer;\n",
              "      display: none;\n",
              "      fill: #1967D2;\n",
              "      height: 32px;\n",
              "      padding: 0 0 0 0;\n",
              "      width: 32px;\n",
              "    }\n",
              "\n",
              "    .colab-df-convert:hover {\n",
              "      background-color: #E2EBFA;\n",
              "      box-shadow: 0px 1px 2px rgba(60, 64, 67, 0.3), 0px 1px 3px 1px rgba(60, 64, 67, 0.15);\n",
              "      fill: #174EA6;\n",
              "    }\n",
              "\n",
              "    [theme=dark] .colab-df-convert {\n",
              "      background-color: #3B4455;\n",
              "      fill: #D2E3FC;\n",
              "    }\n",
              "\n",
              "    [theme=dark] .colab-df-convert:hover {\n",
              "      background-color: #434B5C;\n",
              "      box-shadow: 0px 1px 3px 1px rgba(0, 0, 0, 0.15);\n",
              "      filter: drop-shadow(0px 1px 2px rgba(0, 0, 0, 0.3));\n",
              "      fill: #FFFFFF;\n",
              "    }\n",
              "  </style>\n",
              "\n",
              "      <script>\n",
              "        const buttonEl =\n",
              "          document.querySelector('#df-edef6dc5-cb6b-4b58-ae62-aa2fe20e0055 button.colab-df-convert');\n",
              "        buttonEl.style.display =\n",
              "          google.colab.kernel.accessAllowed ? 'block' : 'none';\n",
              "\n",
              "        async function convertToInteractive(key) {\n",
              "          const element = document.querySelector('#df-edef6dc5-cb6b-4b58-ae62-aa2fe20e0055');\n",
              "          const dataTable =\n",
              "            await google.colab.kernel.invokeFunction('convertToInteractive',\n",
              "                                                     [key], {});\n",
              "          if (!dataTable) return;\n",
              "\n",
              "          const docLinkHtml = 'Like what you see? Visit the ' +\n",
              "            '<a target=\"_blank\" href=https://colab.research.google.com/notebooks/data_table.ipynb>data table notebook</a>'\n",
              "            + ' to learn more about interactive tables.';\n",
              "          element.innerHTML = '';\n",
              "          dataTable['output_type'] = 'display_data';\n",
              "          await google.colab.output.renderOutput(dataTable, element);\n",
              "          const docLink = document.createElement('div');\n",
              "          docLink.innerHTML = docLinkHtml;\n",
              "          element.appendChild(docLink);\n",
              "        }\n",
              "      </script>\n",
              "    </div>\n",
              "  </div>\n",
              "  "
            ]
          },
          "metadata": {},
          "execution_count": 41
        }
      ],
      "source": [
        "# Calculating average ratings\n",
        "average_rating = df_rating.groupby('book_id').mean()['rating']\n",
        "\n",
        "# Calculating the count of ratings\n",
        "rating_count = df_rating.groupby('book_id').count()['rating']\n",
        "# Updating the final_rating dataframe with the new encoded book_id count\n",
        "# and average of ratings based on the new dataframe\n",
        "final_rating = pd.DataFrame({'avg_rating':average_rating,\n",
        "                             'rating_count':rating_count})\n",
        "final_rating.head()"
      ]
    },
    {
      "cell_type": "markdown",
      "id": "gfLimBYByEMT",
      "metadata": {
        "id": "gfLimBYByEMT"
      },
      "source": [
        "Let's load the `data` dataset into `surprise.dataset.DatasetAutoFolds` format which is required for this library."
      ]
    },
    {
      "cell_type": "markdown",
      "id": "i4AuGT6GyHP5",
      "metadata": {
        "id": "i4AuGT6GyHP5"
      },
      "source": [
        "**Making the dataset into surprise dataset and splitting it into train and test set**"
      ]
    },
    {
      "cell_type": "code",
      "execution_count": 42,
      "id": "9c5yM50jxND1",
      "metadata": {
        "id": "9c5yM50jxND1"
      },
      "outputs": [],
      "source": [
        "# Instantiating Reader scale with expected rating scale\n",
        "reader = Reader(rating_scale=(1, 10))\n",
        "\n",
        "# Loading the rating dataset\n",
        "data = Dataset.load_from_df(df_rating[['user_id', 'book_id', 'rating']], reader)\n",
        "\n",
        "# Splitting the data into train and test dataset\n",
        "trainset, testset = train_test_split(data, test_size=0.3, random_state=42)"
      ]
    },
    {
      "cell_type": "markdown",
      "id": "4jUGdQ67ya00",
      "metadata": {
        "id": "4jUGdQ67ya00"
      },
      "source": [
        "### **User-Based Collaborative Filtering Recommendation System**"
      ]
    },
    {
      "cell_type": "code",
      "execution_count": 43,
      "id": "iplcJx5CyTyQ",
      "metadata": {
        "id": "iplcJx5CyTyQ",
        "colab": {
          "base_uri": "https://localhost:8080/"
        },
        "outputId": "aa602417-5a56-44d6-fce3-d4858362d0fb"
      },
      "outputs": [
        {
          "output_type": "stream",
          "name": "stdout",
          "text": [
            "RMSE: 1.8455\n",
            "Precision:  0.816\n",
            "Recall:  0.812\n",
            "F_1 score:  0.814\n"
          ]
        }
      ],
      "source": [
        "# Let's define similarity options\n",
        "sim_options = {'name': 'cosine',\n",
        "              'user_based':True}\n",
        "\n",
        "algo_knn_user = KNNBasic(sim_options=sim_options, verbose=False)\n",
        "\n",
        "# Fitting the trainset\n",
        "algo_knn_user.fit(trainset)\n",
        "\n",
        "# Let us compute precision@k, recall@k, and f_1 score with k =10 and threshold=7.\n",
        "precision_recall_at_k(algo_knn_user)"
      ]
    },
    {
      "cell_type": "markdown",
      "id": "QRbp24smyjY4",
      "metadata": {
        "id": "QRbp24smyjY4"
      },
      "source": [
        "**Observations:**\n",
        "\n",
        "-  We get very decent and balanced Precision and Recall and as the result F1 Score on the test dataset."
      ]
    },
    {
      "cell_type": "markdown",
      "id": "6Kth-x7Y2jf1",
      "metadata": {
        "id": "6Kth-x7Y2jf1"
      },
      "source": [
        "### **Improving similarity based recommendation system by tuning its hyperparameters**\n",
        "\n",
        "Hyperparameters for KNN_Basic to tune.\n",
        "\n",
        "- **k** (int) – The (max) number of neighbors to take into account for aggregation (see this note). Default is 40.\n",
        "- **min_k** (int) – The minimum number of neighbors to take into account for aggregation. If there are not enough neighbors, the prediction is set to the global mean of all ratings. Default is 1.\n",
        "- **sim_options** (dict) – A dictionary of options for the similarity measure. And there are four similarity measures available in surprise - \n",
        "    - cosine\n",
        "    - msd (default)\n",
        "    - pearson\n",
        "    - pearson baseline"
      ]
    },
    {
      "cell_type": "code",
      "execution_count": 44,
      "id": "sK7kuHGn2OEo",
      "metadata": {
        "id": "sK7kuHGn2OEo",
        "colab": {
          "base_uri": "https://localhost:8080/"
        },
        "outputId": "592c5a35-7c0c-43f5-b429-e4793bae9ea0"
      },
      "outputs": [
        {
          "output_type": "stream",
          "name": "stdout",
          "text": [
            "1.705247310886887\n",
            "{'k': 20, 'min_k': 6, 'sim_options': {'name': 'msd', 'user_based': True}}\n"
          ]
        }
      ],
      "source": [
        "# Let's set up the parameter grid for tuning\n",
        "param_grid = {'k': [20, 30, 40], 'min_k': [3, 6, 9],\n",
        "              'sim_options': {'name': ['msd', 'cosine','pearson','pearson_baseline'],\n",
        "                              'user_based': [True]}\n",
        "              }\n",
        "\n",
        "# And perform 3-fold cross validation\n",
        "gs = GridSearchCV(KNNBasic, param_grid, measures=['rmse'], cv=3, n_jobs=-1)\n",
        "\n",
        "# Fitting the data\n",
        "gs.fit(data)\n",
        "\n",
        "# Best RMSE score\n",
        "print(gs.best_score['rmse'])\n",
        "\n",
        "# Combination of parameters that gave the best RMSE score\n",
        "print(gs.best_params['rmse'])"
      ]
    },
    {
      "cell_type": "markdown",
      "id": "cX0ZInD64Rfi",
      "metadata": {
        "id": "cX0ZInD64Rfi"
      },
      "source": [
        "Now, let's build the **final model by using tuned values of the hyperparameters**, which we received by using **grid search cross-validation**."
      ]
    },
    {
      "cell_type": "code",
      "execution_count": 45,
      "id": "ORddNoEF4UTz",
      "metadata": {
        "id": "ORddNoEF4UTz",
        "colab": {
          "base_uri": "https://localhost:8080/"
        },
        "outputId": "8b6fb8bb-566b-40c9-e72a-75299d2b396d"
      },
      "outputs": [
        {
          "output_type": "stream",
          "name": "stdout",
          "text": [
            "RMSE: 1.6866\n",
            "Precision:  0.834\n",
            "Recall:  0.891\n",
            "F_1 score:  0.862\n"
          ]
        }
      ],
      "source": [
        "# Using the optimal similarity measure for user-based collaborative filtering\n",
        "sim_options = {'name': 'msd','user_based': True}\n",
        "\n",
        "# Creating an instance of KNNBasic with optimal hyperparameter values\n",
        "similarity_algo_optimized = KNNBasic(sim_options=sim_options,\n",
        "                                      k=20,\n",
        "                                      min_k=6,\n",
        "                                      verbose=False)\n",
        "\n",
        "# Training the algorithm on the train set\n",
        "similarity_algo_optimized.fit(trainset)\n",
        "\n",
        "# Let us compute precision@k and recall@k with k=10.\n",
        "precision_recall_at_k(similarity_algo_optimized)"
      ]
    },
    {
      "cell_type": "markdown",
      "id": "OzJ2YK6N4h89",
      "metadata": {
        "id": "OzJ2YK6N4h89"
      },
      "source": [
        "**Observations:**\n",
        "\n",
        "- We managed to sufficiently improve all the metrics.\n",
        "- At the same time there is some disbalance between the Precision and Recall."
      ]
    },
    {
      "cell_type": "markdown",
      "id": "DNgN6NvbCEIm",
      "metadata": {
        "id": "DNgN6NvbCEIm"
      },
      "source": [
        "### **Implementing the recommendation algorithm based on optimized KNNBasic model**\n",
        "\n",
        "Let's build a function to implement the Optimized KNNBasic Algoritm. The parameters are:\n",
        "\n",
        "- data: a rating dataset\n",
        "- user_id:  user_id against which we want the recommendations\n",
        "- top_n: the number of items we want to recommend\n",
        "- algo: the algorithm we want to use to predict the ratings\n",
        "- The output of the function is a **set of top_n items** recommended for the given user_id based on the given algorithm"
      ]
    },
    {
      "cell_type": "code",
      "execution_count": 46,
      "id": "IdzEUe5bCAd8",
      "metadata": {
        "id": "IdzEUe5bCAd8"
      },
      "outputs": [],
      "source": [
        "def get_recommendations(data, user_id, top_n, algo):\n",
        "    \n",
        "    # An empty list to store the recommended book ids\n",
        "    recommendations = []\n",
        "    \n",
        "    #  User item interactions matrix \n",
        "    user_item_interactions_matrix = data.pivot(index='user_id', columns='book_id', values='rating')\n",
        "    \n",
        "    # Extracting those book ids which the user_id has not interacted with yet\n",
        "    non_interacted_items = user_item_interactions_matrix.loc[user_id][user_item_interactions_matrix.loc[user_id].isnull()].index.tolist()\n",
        "    \n",
        "    # Looping through each of the book id which user_id has not interacted with yet\n",
        "    for book_id in non_interacted_items:\n",
        "        \n",
        "        # Predicting the ratings for those non interacted book ids by this user\n",
        "        est = algo.predict(user_id, book_id).est\n",
        "        \n",
        "        # Appending the predicted ratings\n",
        "        recommendations.append((book_id, est))\n",
        "\n",
        "    # Sorting the predicted ratings in descending order\n",
        "    recommendations.sort(key=lambda x: x[1], reverse=True)\n",
        "\n",
        "    return recommendations[:top_n] # Returning top n predicted rating items for this user"
      ]
    },
    {
      "cell_type": "code",
      "execution_count": 47,
      "id": "KZA83Q06CHXt",
      "metadata": {
        "id": "KZA83Q06CHXt"
      },
      "outputs": [],
      "source": [
        "df_rating=df_rating.drop_duplicates()"
      ]
    },
    {
      "cell_type": "markdown",
      "id": "guT2JNkPEtYQ",
      "metadata": {
        "id": "guT2JNkPEtYQ"
      },
      "source": [
        "**Let's predict the top 5 items for userId=1 using the user similarity-based recommendation system built.**"
      ]
    },
    {
      "cell_type": "code",
      "execution_count": 48,
      "id": "NC_rcSmCEp_0",
      "metadata": {
        "id": "NC_rcSmCEp_0"
      },
      "outputs": [],
      "source": [
        "recommendations = get_recommendations(df_rating,1, 5,similarity_algo_optimized)"
      ]
    },
    {
      "cell_type": "code",
      "execution_count": 49,
      "id": "DRGySEPsExCn",
      "metadata": {
        "id": "DRGySEPsExCn",
        "colab": {
          "base_uri": "https://localhost:8080/",
          "height": 206
        },
        "outputId": "f1378055-cef8-49f0-d872-3a11933f303a"
      },
      "outputs": [
        {
          "output_type": "execute_result",
          "data": {
            "text/plain": [
              "   book_Id  predicted_ratings\n",
              "0      259          10.000000\n",
              "1     1297           9.884446\n",
              "2      658           9.870802\n",
              "3      639           9.764398\n",
              "4      451           9.702661"
            ],
            "text/html": [
              "\n",
              "  <div id=\"df-05fc47f0-9053-409f-9b8d-6f7548202ebc\">\n",
              "    <div class=\"colab-df-container\">\n",
              "      <div>\n",
              "<style scoped>\n",
              "    .dataframe tbody tr th:only-of-type {\n",
              "        vertical-align: middle;\n",
              "    }\n",
              "\n",
              "    .dataframe tbody tr th {\n",
              "        vertical-align: top;\n",
              "    }\n",
              "\n",
              "    .dataframe thead th {\n",
              "        text-align: right;\n",
              "    }\n",
              "</style>\n",
              "<table border=\"1\" class=\"dataframe\">\n",
              "  <thead>\n",
              "    <tr style=\"text-align: right;\">\n",
              "      <th></th>\n",
              "      <th>book_Id</th>\n",
              "      <th>predicted_ratings</th>\n",
              "    </tr>\n",
              "  </thead>\n",
              "  <tbody>\n",
              "    <tr>\n",
              "      <th>0</th>\n",
              "      <td>259</td>\n",
              "      <td>10.000000</td>\n",
              "    </tr>\n",
              "    <tr>\n",
              "      <th>1</th>\n",
              "      <td>1297</td>\n",
              "      <td>9.884446</td>\n",
              "    </tr>\n",
              "    <tr>\n",
              "      <th>2</th>\n",
              "      <td>658</td>\n",
              "      <td>9.870802</td>\n",
              "    </tr>\n",
              "    <tr>\n",
              "      <th>3</th>\n",
              "      <td>639</td>\n",
              "      <td>9.764398</td>\n",
              "    </tr>\n",
              "    <tr>\n",
              "      <th>4</th>\n",
              "      <td>451</td>\n",
              "      <td>9.702661</td>\n",
              "    </tr>\n",
              "  </tbody>\n",
              "</table>\n",
              "</div>\n",
              "      <button class=\"colab-df-convert\" onclick=\"convertToInteractive('df-05fc47f0-9053-409f-9b8d-6f7548202ebc')\"\n",
              "              title=\"Convert this dataframe to an interactive table.\"\n",
              "              style=\"display:none;\">\n",
              "        \n",
              "  <svg xmlns=\"http://www.w3.org/2000/svg\" height=\"24px\"viewBox=\"0 0 24 24\"\n",
              "       width=\"24px\">\n",
              "    <path d=\"M0 0h24v24H0V0z\" fill=\"none\"/>\n",
              "    <path d=\"M18.56 5.44l.94 2.06.94-2.06 2.06-.94-2.06-.94-.94-2.06-.94 2.06-2.06.94zm-11 1L8.5 8.5l.94-2.06 2.06-.94-2.06-.94L8.5 2.5l-.94 2.06-2.06.94zm10 10l.94 2.06.94-2.06 2.06-.94-2.06-.94-.94-2.06-.94 2.06-2.06.94z\"/><path d=\"M17.41 7.96l-1.37-1.37c-.4-.4-.92-.59-1.43-.59-.52 0-1.04.2-1.43.59L10.3 9.45l-7.72 7.72c-.78.78-.78 2.05 0 2.83L4 21.41c.39.39.9.59 1.41.59.51 0 1.02-.2 1.41-.59l7.78-7.78 2.81-2.81c.8-.78.8-2.07 0-2.86zM5.41 20L4 18.59l7.72-7.72 1.47 1.35L5.41 20z\"/>\n",
              "  </svg>\n",
              "      </button>\n",
              "      \n",
              "  <style>\n",
              "    .colab-df-container {\n",
              "      display:flex;\n",
              "      flex-wrap:wrap;\n",
              "      gap: 12px;\n",
              "    }\n",
              "\n",
              "    .colab-df-convert {\n",
              "      background-color: #E8F0FE;\n",
              "      border: none;\n",
              "      border-radius: 50%;\n",
              "      cursor: pointer;\n",
              "      display: none;\n",
              "      fill: #1967D2;\n",
              "      height: 32px;\n",
              "      padding: 0 0 0 0;\n",
              "      width: 32px;\n",
              "    }\n",
              "\n",
              "    .colab-df-convert:hover {\n",
              "      background-color: #E2EBFA;\n",
              "      box-shadow: 0px 1px 2px rgba(60, 64, 67, 0.3), 0px 1px 3px 1px rgba(60, 64, 67, 0.15);\n",
              "      fill: #174EA6;\n",
              "    }\n",
              "\n",
              "    [theme=dark] .colab-df-convert {\n",
              "      background-color: #3B4455;\n",
              "      fill: #D2E3FC;\n",
              "    }\n",
              "\n",
              "    [theme=dark] .colab-df-convert:hover {\n",
              "      background-color: #434B5C;\n",
              "      box-shadow: 0px 1px 3px 1px rgba(0, 0, 0, 0.15);\n",
              "      filter: drop-shadow(0px 1px 2px rgba(0, 0, 0, 0.3));\n",
              "      fill: #FFFFFF;\n",
              "    }\n",
              "  </style>\n",
              "\n",
              "      <script>\n",
              "        const buttonEl =\n",
              "          document.querySelector('#df-05fc47f0-9053-409f-9b8d-6f7548202ebc button.colab-df-convert');\n",
              "        buttonEl.style.display =\n",
              "          google.colab.kernel.accessAllowed ? 'block' : 'none';\n",
              "\n",
              "        async function convertToInteractive(key) {\n",
              "          const element = document.querySelector('#df-05fc47f0-9053-409f-9b8d-6f7548202ebc');\n",
              "          const dataTable =\n",
              "            await google.colab.kernel.invokeFunction('convertToInteractive',\n",
              "                                                     [key], {});\n",
              "          if (!dataTable) return;\n",
              "\n",
              "          const docLinkHtml = 'Like what you see? Visit the ' +\n",
              "            '<a target=\"_blank\" href=https://colab.research.google.com/notebooks/data_table.ipynb>data table notebook</a>'\n",
              "            + ' to learn more about interactive tables.';\n",
              "          element.innerHTML = '';\n",
              "          dataTable['output_type'] = 'display_data';\n",
              "          await google.colab.output.renderOutput(dataTable, element);\n",
              "          const docLink = document.createElement('div');\n",
              "          docLink.innerHTML = docLinkHtml;\n",
              "          element.appendChild(docLink);\n",
              "        }\n",
              "      </script>\n",
              "    </div>\n",
              "  </div>\n",
              "  "
            ]
          },
          "metadata": {},
          "execution_count": 49
        }
      ],
      "source": [
        "# Building the dataframe for above recommendations with columns \"book_id\" and \"predicted_ratings\"\n",
        "pd.DataFrame(recommendations, columns=['book_Id', 'predicted_ratings'])"
      ]
    },
    {
      "cell_type": "markdown",
      "metadata": {
        "id": "ebJXqOfU3T6z"
      },
      "source": [
        "### **Correcting the Ratings and Ranking of the above books**"
      ],
      "id": "ebJXqOfU3T6z"
    },
    {
      "cell_type": "markdown",
      "metadata": {
        "id": "Xp_Z5PwX3X2C"
      },
      "source": [
        "While comparing the ratings of two books, it is not only the **ratings** that describe the **likelihood of the user to that book**. Along with the rating the **number of users who have read that book** also becomes a important point to consider. So let's calculate the **\"corrected_ratings\"** for each book. Commonly higher the **\"rating_count\" of a book more reliable the rating is**. To interpret the above concept, a **book rated 8 with rating_count 5 is less liked in comparison to a book rated 7 with a rating count of 50**. It has been **empirically found that the likelihood of the book can be corrected by adding of subtracting the inverse of the square root of the rating_count of the book**."
      ],
      "id": "Xp_Z5PwX3X2C"
    },
    {
      "cell_type": "code",
      "execution_count": 50,
      "metadata": {
        "id": "nqpj9QVy3-uE"
      },
      "outputs": [],
      "source": [
        "# Let's build a function to correct ratings\n",
        "def ranking_books(recommendations, final_rating):\n",
        "  # Sort the books based on ratings count\n",
        "  ranked_books = final_rating.loc[[items[0] for items in recommendations]].sort_values('rating_count', ascending=False)[['rating_count']].reset_index()\n",
        "\n",
        "  # Merge with the recommended books to get predicted ratings\n",
        "  ranked_books = ranked_books.merge(pd.DataFrame(recommendations, columns=['book_id', 'predicted_ratings']), on='book_id', how='inner')\n",
        "\n",
        "  # Rank the books based on corrected ratings\n",
        "  ranked_books['corrected_ratings'] = ranked_books['predicted_ratings'] - 1 / np.sqrt(ranked_books['rating_count'])\n",
        "\n",
        "  # Sort the books based on corrected ratings\n",
        "  ranked_books = ranked_books.sort_values('corrected_ratings', ascending=False)\n",
        "  \n",
        "  return ranked_books"
      ],
      "id": "nqpj9QVy3-uE"
    },
    {
      "cell_type": "markdown",
      "metadata": {
        "id": "kGNeUmuv49o4"
      },
      "source": [
        "**Note:** In the **above-corrected rating formula**, we can add the **quantity `1/np.sqrt(n)` instead of subtracting it to get more optimistic predictions**. But here we are **subtracting this quantity**, as there are some books with ratings 10 and **we can't have a rating more than 10 for a book**."
      ],
      "id": "kGNeUmuv49o4"
    },
    {
      "cell_type": "code",
      "execution_count": 51,
      "metadata": {
        "id": "6_0a4d6e44uR",
        "colab": {
          "base_uri": "https://localhost:8080/",
          "height": 206
        },
        "outputId": "e3f14718-2101-4cc7-9c5c-75067548396e"
      },
      "outputs": [
        {
          "output_type": "execute_result",
          "data": {
            "text/plain": [
              "   book_id  rating_count  predicted_ratings  corrected_ratings\n",
              "3      259            31          10.000000           9.820395\n",
              "0      658            53           9.870802           9.733441\n",
              "2     1297            35           9.884446           9.715415\n",
              "1      639            43           9.764398           9.611899\n",
              "4      451            18           9.702661           9.466959"
            ],
            "text/html": [
              "\n",
              "  <div id=\"df-ae73add3-a407-4034-b098-140f6510d702\">\n",
              "    <div class=\"colab-df-container\">\n",
              "      <div>\n",
              "<style scoped>\n",
              "    .dataframe tbody tr th:only-of-type {\n",
              "        vertical-align: middle;\n",
              "    }\n",
              "\n",
              "    .dataframe tbody tr th {\n",
              "        vertical-align: top;\n",
              "    }\n",
              "\n",
              "    .dataframe thead th {\n",
              "        text-align: right;\n",
              "    }\n",
              "</style>\n",
              "<table border=\"1\" class=\"dataframe\">\n",
              "  <thead>\n",
              "    <tr style=\"text-align: right;\">\n",
              "      <th></th>\n",
              "      <th>book_id</th>\n",
              "      <th>rating_count</th>\n",
              "      <th>predicted_ratings</th>\n",
              "      <th>corrected_ratings</th>\n",
              "    </tr>\n",
              "  </thead>\n",
              "  <tbody>\n",
              "    <tr>\n",
              "      <th>3</th>\n",
              "      <td>259</td>\n",
              "      <td>31</td>\n",
              "      <td>10.000000</td>\n",
              "      <td>9.820395</td>\n",
              "    </tr>\n",
              "    <tr>\n",
              "      <th>0</th>\n",
              "      <td>658</td>\n",
              "      <td>53</td>\n",
              "      <td>9.870802</td>\n",
              "      <td>9.733441</td>\n",
              "    </tr>\n",
              "    <tr>\n",
              "      <th>2</th>\n",
              "      <td>1297</td>\n",
              "      <td>35</td>\n",
              "      <td>9.884446</td>\n",
              "      <td>9.715415</td>\n",
              "    </tr>\n",
              "    <tr>\n",
              "      <th>1</th>\n",
              "      <td>639</td>\n",
              "      <td>43</td>\n",
              "      <td>9.764398</td>\n",
              "      <td>9.611899</td>\n",
              "    </tr>\n",
              "    <tr>\n",
              "      <th>4</th>\n",
              "      <td>451</td>\n",
              "      <td>18</td>\n",
              "      <td>9.702661</td>\n",
              "      <td>9.466959</td>\n",
              "    </tr>\n",
              "  </tbody>\n",
              "</table>\n",
              "</div>\n",
              "      <button class=\"colab-df-convert\" onclick=\"convertToInteractive('df-ae73add3-a407-4034-b098-140f6510d702')\"\n",
              "              title=\"Convert this dataframe to an interactive table.\"\n",
              "              style=\"display:none;\">\n",
              "        \n",
              "  <svg xmlns=\"http://www.w3.org/2000/svg\" height=\"24px\"viewBox=\"0 0 24 24\"\n",
              "       width=\"24px\">\n",
              "    <path d=\"M0 0h24v24H0V0z\" fill=\"none\"/>\n",
              "    <path d=\"M18.56 5.44l.94 2.06.94-2.06 2.06-.94-2.06-.94-.94-2.06-.94 2.06-2.06.94zm-11 1L8.5 8.5l.94-2.06 2.06-.94-2.06-.94L8.5 2.5l-.94 2.06-2.06.94zm10 10l.94 2.06.94-2.06 2.06-.94-2.06-.94-.94-2.06-.94 2.06-2.06.94z\"/><path d=\"M17.41 7.96l-1.37-1.37c-.4-.4-.92-.59-1.43-.59-.52 0-1.04.2-1.43.59L10.3 9.45l-7.72 7.72c-.78.78-.78 2.05 0 2.83L4 21.41c.39.39.9.59 1.41.59.51 0 1.02-.2 1.41-.59l7.78-7.78 2.81-2.81c.8-.78.8-2.07 0-2.86zM5.41 20L4 18.59l7.72-7.72 1.47 1.35L5.41 20z\"/>\n",
              "  </svg>\n",
              "      </button>\n",
              "      \n",
              "  <style>\n",
              "    .colab-df-container {\n",
              "      display:flex;\n",
              "      flex-wrap:wrap;\n",
              "      gap: 12px;\n",
              "    }\n",
              "\n",
              "    .colab-df-convert {\n",
              "      background-color: #E8F0FE;\n",
              "      border: none;\n",
              "      border-radius: 50%;\n",
              "      cursor: pointer;\n",
              "      display: none;\n",
              "      fill: #1967D2;\n",
              "      height: 32px;\n",
              "      padding: 0 0 0 0;\n",
              "      width: 32px;\n",
              "    }\n",
              "\n",
              "    .colab-df-convert:hover {\n",
              "      background-color: #E2EBFA;\n",
              "      box-shadow: 0px 1px 2px rgba(60, 64, 67, 0.3), 0px 1px 3px 1px rgba(60, 64, 67, 0.15);\n",
              "      fill: #174EA6;\n",
              "    }\n",
              "\n",
              "    [theme=dark] .colab-df-convert {\n",
              "      background-color: #3B4455;\n",
              "      fill: #D2E3FC;\n",
              "    }\n",
              "\n",
              "    [theme=dark] .colab-df-convert:hover {\n",
              "      background-color: #434B5C;\n",
              "      box-shadow: 0px 1px 3px 1px rgba(0, 0, 0, 0.15);\n",
              "      filter: drop-shadow(0px 1px 2px rgba(0, 0, 0, 0.3));\n",
              "      fill: #FFFFFF;\n",
              "    }\n",
              "  </style>\n",
              "\n",
              "      <script>\n",
              "        const buttonEl =\n",
              "          document.querySelector('#df-ae73add3-a407-4034-b098-140f6510d702 button.colab-df-convert');\n",
              "        buttonEl.style.display =\n",
              "          google.colab.kernel.accessAllowed ? 'block' : 'none';\n",
              "\n",
              "        async function convertToInteractive(key) {\n",
              "          const element = document.querySelector('#df-ae73add3-a407-4034-b098-140f6510d702');\n",
              "          const dataTable =\n",
              "            await google.colab.kernel.invokeFunction('convertToInteractive',\n",
              "                                                     [key], {});\n",
              "          if (!dataTable) return;\n",
              "\n",
              "          const docLinkHtml = 'Like what you see? Visit the ' +\n",
              "            '<a target=\"_blank\" href=https://colab.research.google.com/notebooks/data_table.ipynb>data table notebook</a>'\n",
              "            + ' to learn more about interactive tables.';\n",
              "          element.innerHTML = '';\n",
              "          dataTable['output_type'] = 'display_data';\n",
              "          await google.colab.output.renderOutput(dataTable, element);\n",
              "          const docLink = document.createElement('div');\n",
              "          docLink.innerHTML = docLinkHtml;\n",
              "          element.appendChild(docLink);\n",
              "        }\n",
              "      </script>\n",
              "    </div>\n",
              "  </div>\n",
              "  "
            ]
          },
          "metadata": {},
          "execution_count": 51
        }
      ],
      "source": [
        "# Applying the ranking_books function and sorting it based on corrected ratings\n",
        "ranking_books(recommendations, final_rating)"
      ],
      "id": "6_0a4d6e44uR"
    },
    {
      "cell_type": "markdown",
      "id": "t3k3J1OvT1so",
      "metadata": {
        "id": "t3k3J1OvT1so"
      },
      "source": [
        "### **Model 3: Item based Collaborative Filtering Recommendation System**\n",
        "\n",
        "* We built **user-user similarity-based collaborative filtering**. Now, let's look into item-item similarity-based collaborative filtering. "
      ]
    },
    {
      "cell_type": "code",
      "execution_count": 52,
      "id": "QQZMJ4gdEzvk",
      "metadata": {
        "id": "QQZMJ4gdEzvk",
        "colab": {
          "base_uri": "https://localhost:8080/"
        },
        "outputId": "2691a7cf-1582-4fc2-f987-d5bc417ff87b"
      },
      "outputs": [
        {
          "output_type": "stream",
          "name": "stdout",
          "text": [
            "RMSE: 1.6210\n",
            "Precision:  0.802\n",
            "Recall:  0.8\n",
            "F_1 score:  0.801\n"
          ]
        }
      ],
      "source": [
        "# Defining similarity measure\n",
        "sim_options = {'name': 'cosine',\n",
        "               'user_based': False}\n",
        "\n",
        "# Defining nearest neighbour algorithm\n",
        "algo_knn_item = KNNBasic(sim_options=sim_options,verbose=False)\n",
        "\n",
        "# Train the algorithm on the train set \n",
        "algo_knn_item.fit(trainset)\n",
        "\n",
        "# Let's compute the precision@k, recall@k, and f_1 score with k=10\n",
        "precision_recall_at_k(algo_knn_item)"
      ]
    },
    {
      "cell_type": "markdown",
      "id": "leLh-NaVUDEN",
      "metadata": {
        "id": "leLh-NaVUDEN"
      },
      "source": [
        "**Observations:**\n",
        "\n",
        "- The RMSE is lower on the testset compared to the same algoritm based built on user-user similarity. \n",
        "- At the same time Presicion, Recall and F_1 score are a bit lower, but still very balanced."
      ]
    },
    {
      "cell_type": "markdown",
      "id": "ogoclhUOYVyR",
      "metadata": {
        "id": "ogoclhUOYVyR"
      },
      "source": [
        "**Let's tune the hyperparameters of the model.**"
      ]
    },
    {
      "cell_type": "code",
      "execution_count": 53,
      "id": "SgwHzd-BYDL1",
      "metadata": {
        "id": "SgwHzd-BYDL1",
        "colab": {
          "base_uri": "https://localhost:8080/"
        },
        "outputId": "8d6f1ed6-3497-4bd1-c70e-941d64bc9176"
      },
      "outputs": [
        {
          "output_type": "stream",
          "name": "stdout",
          "text": [
            "1.5950520510905648\n",
            "{'k': 40, 'min_k': 3, 'sim_options': {'name': 'cosine', 'user_based': False}}\n"
          ]
        }
      ],
      "source": [
        "# Setting up parameter grid to tune the hyperparameters\n",
        "param_grid = {'k': [20,30,40], 'min_k': [3,6,9],\n",
        "              'sim_options': {'name': ['msd','cosine','pearson','pearson_baseline'],\n",
        "                              'user_based':[False]}\n",
        "              }\n",
        "\n",
        "# Performing 3-fold cross validation to tune the hyperparameters\n",
        "grid_obj = GridSearchCV(KNNBasic,param_grid,measures=['rmse'],cv=3,n_jobs=-1)\n",
        "\n",
        "# Fitting the data\n",
        "grid_obj.fit(data)\n",
        "\n",
        "# Best RMSE score\n",
        "print(grid_obj.best_score['rmse'])\n",
        "\n",
        "# Combination of parameters that gave the best RMSE score\n",
        "print(grid_obj.best_params['rmse'])"
      ]
    },
    {
      "cell_type": "markdown",
      "id": "bKaNx5o3Dkdj",
      "metadata": {
        "id": "bKaNx5o3Dkdj"
      },
      "source": [
        "Now, let's build the **final model** by using **optimal values of the hyperparameters** which we received by using grid search cross-validation."
      ]
    },
    {
      "cell_type": "code",
      "execution_count": 54,
      "id": "XngftF5hYndx",
      "metadata": {
        "id": "XngftF5hYndx",
        "colab": {
          "base_uri": "https://localhost:8080/"
        },
        "outputId": "f81e1891-d8e2-498e-e757-135fd1d9619d"
      },
      "outputs": [
        {
          "output_type": "stream",
          "name": "stdout",
          "text": [
            "RMSE: 1.5872\n",
            "Precision:  0.818\n",
            "Recall:  0.836\n",
            "F_1 score:  0.827\n"
          ]
        }
      ],
      "source": [
        "# Creating an instance of KNNBasic with optimal hyperparameter values\n",
        "similarity_algo_optimized_item = KNNBasic(k=40,\n",
        "                                          min_k=3,\n",
        "                                          sim_options={'name': 'cosine',\n",
        "                                                       'user_based': False},\n",
        "                                          verbose=False)\n",
        "\n",
        "# Training the algorithm on the train set\n",
        "similarity_algo_optimized_item.fit(trainset)\n",
        "\n",
        "# Let us compute precision@k and recall@k with k=10\n",
        "precision_recall_at_k(similarity_algo_optimized_item)"
      ]
    },
    {
      "cell_type": "markdown",
      "id": "43aeMyoKYrCH",
      "metadata": {
        "id": "43aeMyoKYrCH"
      },
      "source": [
        "**Observations:**\n",
        "\n",
        "- We managed to improve all the metrics on the testset\n",
        "- Precision and Recall are still quite balanced \n",
        "- At the same time overall performance is lower than we managed to achieve with user-user colaborative filtering."
      ]
    },
    {
      "cell_type": "markdown",
      "id": "rECVFIlsaF51",
      "metadata": {
        "id": "rECVFIlsaF51"
      },
      "source": [
        "#### Predicted top 5 books for user_id=1 with the item similarity based recommendation system built."
      ]
    },
    {
      "cell_type": "code",
      "execution_count": 55,
      "id": "F3qBa9TnaC6M",
      "metadata": {
        "id": "F3qBa9TnaC6M"
      },
      "outputs": [],
      "source": [
        "recommendations = get_recommendations(df_rating,1, 5,similarity_algo_optimized_item)"
      ]
    },
    {
      "cell_type": "code",
      "execution_count": 56,
      "id": "Cdub3MKBaLsG",
      "metadata": {
        "id": "Cdub3MKBaLsG",
        "colab": {
          "base_uri": "https://localhost:8080/",
          "height": 206
        },
        "outputId": "d0243e92-3127-4a11-c039-0e5228a8b1c6"
      },
      "outputs": [
        {
          "output_type": "execute_result",
          "data": {
            "text/plain": [
              "   book_Id  predicted_ratings\n",
              "0        1                 10\n",
              "1       15                 10\n",
              "2       16                 10\n",
              "3       17                 10\n",
              "4       30                 10"
            ],
            "text/html": [
              "\n",
              "  <div id=\"df-9620700f-1c66-48bb-8b60-8591361855b1\">\n",
              "    <div class=\"colab-df-container\">\n",
              "      <div>\n",
              "<style scoped>\n",
              "    .dataframe tbody tr th:only-of-type {\n",
              "        vertical-align: middle;\n",
              "    }\n",
              "\n",
              "    .dataframe tbody tr th {\n",
              "        vertical-align: top;\n",
              "    }\n",
              "\n",
              "    .dataframe thead th {\n",
              "        text-align: right;\n",
              "    }\n",
              "</style>\n",
              "<table border=\"1\" class=\"dataframe\">\n",
              "  <thead>\n",
              "    <tr style=\"text-align: right;\">\n",
              "      <th></th>\n",
              "      <th>book_Id</th>\n",
              "      <th>predicted_ratings</th>\n",
              "    </tr>\n",
              "  </thead>\n",
              "  <tbody>\n",
              "    <tr>\n",
              "      <th>0</th>\n",
              "      <td>1</td>\n",
              "      <td>10</td>\n",
              "    </tr>\n",
              "    <tr>\n",
              "      <th>1</th>\n",
              "      <td>15</td>\n",
              "      <td>10</td>\n",
              "    </tr>\n",
              "    <tr>\n",
              "      <th>2</th>\n",
              "      <td>16</td>\n",
              "      <td>10</td>\n",
              "    </tr>\n",
              "    <tr>\n",
              "      <th>3</th>\n",
              "      <td>17</td>\n",
              "      <td>10</td>\n",
              "    </tr>\n",
              "    <tr>\n",
              "      <th>4</th>\n",
              "      <td>30</td>\n",
              "      <td>10</td>\n",
              "    </tr>\n",
              "  </tbody>\n",
              "</table>\n",
              "</div>\n",
              "      <button class=\"colab-df-convert\" onclick=\"convertToInteractive('df-9620700f-1c66-48bb-8b60-8591361855b1')\"\n",
              "              title=\"Convert this dataframe to an interactive table.\"\n",
              "              style=\"display:none;\">\n",
              "        \n",
              "  <svg xmlns=\"http://www.w3.org/2000/svg\" height=\"24px\"viewBox=\"0 0 24 24\"\n",
              "       width=\"24px\">\n",
              "    <path d=\"M0 0h24v24H0V0z\" fill=\"none\"/>\n",
              "    <path d=\"M18.56 5.44l.94 2.06.94-2.06 2.06-.94-2.06-.94-.94-2.06-.94 2.06-2.06.94zm-11 1L8.5 8.5l.94-2.06 2.06-.94-2.06-.94L8.5 2.5l-.94 2.06-2.06.94zm10 10l.94 2.06.94-2.06 2.06-.94-2.06-.94-.94-2.06-.94 2.06-2.06.94z\"/><path d=\"M17.41 7.96l-1.37-1.37c-.4-.4-.92-.59-1.43-.59-.52 0-1.04.2-1.43.59L10.3 9.45l-7.72 7.72c-.78.78-.78 2.05 0 2.83L4 21.41c.39.39.9.59 1.41.59.51 0 1.02-.2 1.41-.59l7.78-7.78 2.81-2.81c.8-.78.8-2.07 0-2.86zM5.41 20L4 18.59l7.72-7.72 1.47 1.35L5.41 20z\"/>\n",
              "  </svg>\n",
              "      </button>\n",
              "      \n",
              "  <style>\n",
              "    .colab-df-container {\n",
              "      display:flex;\n",
              "      flex-wrap:wrap;\n",
              "      gap: 12px;\n",
              "    }\n",
              "\n",
              "    .colab-df-convert {\n",
              "      background-color: #E8F0FE;\n",
              "      border: none;\n",
              "      border-radius: 50%;\n",
              "      cursor: pointer;\n",
              "      display: none;\n",
              "      fill: #1967D2;\n",
              "      height: 32px;\n",
              "      padding: 0 0 0 0;\n",
              "      width: 32px;\n",
              "    }\n",
              "\n",
              "    .colab-df-convert:hover {\n",
              "      background-color: #E2EBFA;\n",
              "      box-shadow: 0px 1px 2px rgba(60, 64, 67, 0.3), 0px 1px 3px 1px rgba(60, 64, 67, 0.15);\n",
              "      fill: #174EA6;\n",
              "    }\n",
              "\n",
              "    [theme=dark] .colab-df-convert {\n",
              "      background-color: #3B4455;\n",
              "      fill: #D2E3FC;\n",
              "    }\n",
              "\n",
              "    [theme=dark] .colab-df-convert:hover {\n",
              "      background-color: #434B5C;\n",
              "      box-shadow: 0px 1px 3px 1px rgba(0, 0, 0, 0.15);\n",
              "      filter: drop-shadow(0px 1px 2px rgba(0, 0, 0, 0.3));\n",
              "      fill: #FFFFFF;\n",
              "    }\n",
              "  </style>\n",
              "\n",
              "      <script>\n",
              "        const buttonEl =\n",
              "          document.querySelector('#df-9620700f-1c66-48bb-8b60-8591361855b1 button.colab-df-convert');\n",
              "        buttonEl.style.display =\n",
              "          google.colab.kernel.accessAllowed ? 'block' : 'none';\n",
              "\n",
              "        async function convertToInteractive(key) {\n",
              "          const element = document.querySelector('#df-9620700f-1c66-48bb-8b60-8591361855b1');\n",
              "          const dataTable =\n",
              "            await google.colab.kernel.invokeFunction('convertToInteractive',\n",
              "                                                     [key], {});\n",
              "          if (!dataTable) return;\n",
              "\n",
              "          const docLinkHtml = 'Like what you see? Visit the ' +\n",
              "            '<a target=\"_blank\" href=https://colab.research.google.com/notebooks/data_table.ipynb>data table notebook</a>'\n",
              "            + ' to learn more about interactive tables.';\n",
              "          element.innerHTML = '';\n",
              "          dataTable['output_type'] = 'display_data';\n",
              "          await google.colab.output.renderOutput(dataTable, element);\n",
              "          const docLink = document.createElement('div');\n",
              "          docLink.innerHTML = docLinkHtml;\n",
              "          element.appendChild(docLink);\n",
              "        }\n",
              "      </script>\n",
              "    </div>\n",
              "  </div>\n",
              "  "
            ]
          },
          "metadata": {},
          "execution_count": 56
        }
      ],
      "source": [
        "# Building the dataframe for above recommendations with columns \"book_id\" and \"predicted_ratings\"\n",
        "pd.DataFrame(recommendations, columns=['book_Id', 'predicted_ratings'])"
      ]
    },
    {
      "cell_type": "code",
      "execution_count": 57,
      "id": "91f90df9",
      "metadata": {
        "id": "91f90df9",
        "colab": {
          "base_uri": "https://localhost:8080/",
          "height": 206
        },
        "outputId": "d867e265-c612-49a8-c0a3-35820ed48a67"
      },
      "outputs": [
        {
          "output_type": "execute_result",
          "data": {
            "text/plain": [
              "   book_id  rating_count  predicted_ratings  corrected_ratings\n",
              "0        1            28                 10           9.811018\n",
              "1       15            13                 10           9.722650\n",
              "2       16            13                 10           9.722650\n",
              "3       17            12                 10           9.711325\n",
              "4       30            10                 10           9.683772"
            ],
            "text/html": [
              "\n",
              "  <div id=\"df-f14820f6-e92b-4701-ac44-8f9e3f1463fa\">\n",
              "    <div class=\"colab-df-container\">\n",
              "      <div>\n",
              "<style scoped>\n",
              "    .dataframe tbody tr th:only-of-type {\n",
              "        vertical-align: middle;\n",
              "    }\n",
              "\n",
              "    .dataframe tbody tr th {\n",
              "        vertical-align: top;\n",
              "    }\n",
              "\n",
              "    .dataframe thead th {\n",
              "        text-align: right;\n",
              "    }\n",
              "</style>\n",
              "<table border=\"1\" class=\"dataframe\">\n",
              "  <thead>\n",
              "    <tr style=\"text-align: right;\">\n",
              "      <th></th>\n",
              "      <th>book_id</th>\n",
              "      <th>rating_count</th>\n",
              "      <th>predicted_ratings</th>\n",
              "      <th>corrected_ratings</th>\n",
              "    </tr>\n",
              "  </thead>\n",
              "  <tbody>\n",
              "    <tr>\n",
              "      <th>0</th>\n",
              "      <td>1</td>\n",
              "      <td>28</td>\n",
              "      <td>10</td>\n",
              "      <td>9.811018</td>\n",
              "    </tr>\n",
              "    <tr>\n",
              "      <th>1</th>\n",
              "      <td>15</td>\n",
              "      <td>13</td>\n",
              "      <td>10</td>\n",
              "      <td>9.722650</td>\n",
              "    </tr>\n",
              "    <tr>\n",
              "      <th>2</th>\n",
              "      <td>16</td>\n",
              "      <td>13</td>\n",
              "      <td>10</td>\n",
              "      <td>9.722650</td>\n",
              "    </tr>\n",
              "    <tr>\n",
              "      <th>3</th>\n",
              "      <td>17</td>\n",
              "      <td>12</td>\n",
              "      <td>10</td>\n",
              "      <td>9.711325</td>\n",
              "    </tr>\n",
              "    <tr>\n",
              "      <th>4</th>\n",
              "      <td>30</td>\n",
              "      <td>10</td>\n",
              "      <td>10</td>\n",
              "      <td>9.683772</td>\n",
              "    </tr>\n",
              "  </tbody>\n",
              "</table>\n",
              "</div>\n",
              "      <button class=\"colab-df-convert\" onclick=\"convertToInteractive('df-f14820f6-e92b-4701-ac44-8f9e3f1463fa')\"\n",
              "              title=\"Convert this dataframe to an interactive table.\"\n",
              "              style=\"display:none;\">\n",
              "        \n",
              "  <svg xmlns=\"http://www.w3.org/2000/svg\" height=\"24px\"viewBox=\"0 0 24 24\"\n",
              "       width=\"24px\">\n",
              "    <path d=\"M0 0h24v24H0V0z\" fill=\"none\"/>\n",
              "    <path d=\"M18.56 5.44l.94 2.06.94-2.06 2.06-.94-2.06-.94-.94-2.06-.94 2.06-2.06.94zm-11 1L8.5 8.5l.94-2.06 2.06-.94-2.06-.94L8.5 2.5l-.94 2.06-2.06.94zm10 10l.94 2.06.94-2.06 2.06-.94-2.06-.94-.94-2.06-.94 2.06-2.06.94z\"/><path d=\"M17.41 7.96l-1.37-1.37c-.4-.4-.92-.59-1.43-.59-.52 0-1.04.2-1.43.59L10.3 9.45l-7.72 7.72c-.78.78-.78 2.05 0 2.83L4 21.41c.39.39.9.59 1.41.59.51 0 1.02-.2 1.41-.59l7.78-7.78 2.81-2.81c.8-.78.8-2.07 0-2.86zM5.41 20L4 18.59l7.72-7.72 1.47 1.35L5.41 20z\"/>\n",
              "  </svg>\n",
              "      </button>\n",
              "      \n",
              "  <style>\n",
              "    .colab-df-container {\n",
              "      display:flex;\n",
              "      flex-wrap:wrap;\n",
              "      gap: 12px;\n",
              "    }\n",
              "\n",
              "    .colab-df-convert {\n",
              "      background-color: #E8F0FE;\n",
              "      border: none;\n",
              "      border-radius: 50%;\n",
              "      cursor: pointer;\n",
              "      display: none;\n",
              "      fill: #1967D2;\n",
              "      height: 32px;\n",
              "      padding: 0 0 0 0;\n",
              "      width: 32px;\n",
              "    }\n",
              "\n",
              "    .colab-df-convert:hover {\n",
              "      background-color: #E2EBFA;\n",
              "      box-shadow: 0px 1px 2px rgba(60, 64, 67, 0.3), 0px 1px 3px 1px rgba(60, 64, 67, 0.15);\n",
              "      fill: #174EA6;\n",
              "    }\n",
              "\n",
              "    [theme=dark] .colab-df-convert {\n",
              "      background-color: #3B4455;\n",
              "      fill: #D2E3FC;\n",
              "    }\n",
              "\n",
              "    [theme=dark] .colab-df-convert:hover {\n",
              "      background-color: #434B5C;\n",
              "      box-shadow: 0px 1px 3px 1px rgba(0, 0, 0, 0.15);\n",
              "      filter: drop-shadow(0px 1px 2px rgba(0, 0, 0, 0.3));\n",
              "      fill: #FFFFFF;\n",
              "    }\n",
              "  </style>\n",
              "\n",
              "      <script>\n",
              "        const buttonEl =\n",
              "          document.querySelector('#df-f14820f6-e92b-4701-ac44-8f9e3f1463fa button.colab-df-convert');\n",
              "        buttonEl.style.display =\n",
              "          google.colab.kernel.accessAllowed ? 'block' : 'none';\n",
              "\n",
              "        async function convertToInteractive(key) {\n",
              "          const element = document.querySelector('#df-f14820f6-e92b-4701-ac44-8f9e3f1463fa');\n",
              "          const dataTable =\n",
              "            await google.colab.kernel.invokeFunction('convertToInteractive',\n",
              "                                                     [key], {});\n",
              "          if (!dataTable) return;\n",
              "\n",
              "          const docLinkHtml = 'Like what you see? Visit the ' +\n",
              "            '<a target=\"_blank\" href=https://colab.research.google.com/notebooks/data_table.ipynb>data table notebook</a>'\n",
              "            + ' to learn more about interactive tables.';\n",
              "          element.innerHTML = '';\n",
              "          dataTable['output_type'] = 'display_data';\n",
              "          await google.colab.output.renderOutput(dataTable, element);\n",
              "          const docLink = document.createElement('div');\n",
              "          docLink.innerHTML = docLinkHtml;\n",
              "          element.appendChild(docLink);\n",
              "        }\n",
              "      </script>\n",
              "    </div>\n",
              "  </div>\n",
              "  "
            ]
          },
          "metadata": {},
          "execution_count": 57
        }
      ],
      "source": [
        "# Corrected ratings\n",
        "ranking_books(recommendations, final_rating)"
      ]
    },
    {
      "cell_type": "markdown",
      "id": "vg-ZeK9tFEs0",
      "metadata": {
        "id": "vg-ZeK9tFEs0"
      },
      "source": [
        "## **Model 4: Matrix Factorization**"
      ]
    },
    {
      "cell_type": "markdown",
      "source": [
        "**Let's build a model based on SVD to used so-called personalized clustering approach with latent features.**"
      ],
      "metadata": {
        "id": "3ZqoteY9JhcY"
      },
      "id": "3ZqoteY9JhcY"
    },
    {
      "cell_type": "markdown",
      "id": "gwRE4P5EUZ5s",
      "metadata": {
        "id": "gwRE4P5EUZ5s"
      },
      "source": [
        "#### **Building a baseline matrix factorization recommendation system**"
      ]
    },
    {
      "cell_type": "code",
      "execution_count": 60,
      "id": "49s7qJDDEuI6",
      "metadata": {
        "id": "49s7qJDDEuI6",
        "colab": {
          "base_uri": "https://localhost:8080/"
        },
        "outputId": "b91f9668-dc67-4f56-f9ff-6b3a1311195f"
      },
      "outputs": [
        {
          "output_type": "stream",
          "name": "stdout",
          "text": [
            "RMSE: 1.5106\n",
            "Precision:  0.827\n",
            "Recall:  0.86\n",
            "F_1 score:  0.843\n"
          ]
        }
      ],
      "source": [
        "# SVD matrix factorization\n",
        "svd = SVD(random_state=1)\n",
        "\n",
        "# Training the algorithm on the train set\n",
        "svd.fit(trainset)\n",
        "\n",
        "# Let's compute precision@k and recall@k with k=10\n",
        "precision_recall_at_k(svd)"
      ]
    },
    {
      "cell_type": "markdown",
      "id": "h7Dv6qZrau-Z",
      "metadata": {
        "id": "h7Dv6qZrau-Z"
      },
      "source": [
        "**Observations:**\n",
        "\n",
        "- The svd approach shows the best results so far. \n",
        "- The Precision and Recall are quite balanced. "
      ]
    },
    {
      "cell_type": "markdown",
      "id": "nJCPOs6Icv2-",
      "metadata": {
        "id": "nJCPOs6Icv2-"
      },
      "source": [
        "### **Improving matrix factorization based recommendation system by tuning its hyperparameters**"
      ]
    },
    {
      "cell_type": "markdown",
      "id": "PG489i0bcxBZ",
      "metadata": {
        "id": "PG489i0bcxBZ"
      },
      "source": [
        "In SVD, rating is predicted as: "
      ]
    },
    {
      "cell_type": "markdown",
      "id": "oKQ7Ph5Ic0UR",
      "metadata": {
        "id": "oKQ7Ph5Ic0UR"
      },
      "source": [
        "$$\\hat{r}_{u i}=\\mu+b_{u}+b_{i}+q_{i}^{T} p_{u}$$"
      ]
    },
    {
      "cell_type": "markdown",
      "id": "dxTSTeNPc6xB",
      "metadata": {
        "id": "dxTSTeNPc6xB"
      },
      "source": [
        "If user $u$ is unknown, then the bias $b_{u}$ and the factors $p_{u}$ are assumed to be zero. The same applies for item $i$ with $b_{i}$ and $q_{i}$."
      ]
    },
    {
      "cell_type": "markdown",
      "id": "n0WBOxxmc99M",
      "metadata": {
        "id": "n0WBOxxmc99M"
      },
      "source": [
        "To estimate all the unknown, we minimize the following regularized squared error:"
      ]
    },
    {
      "cell_type": "markdown",
      "id": "AnCcV1gmc_A9",
      "metadata": {
        "id": "AnCcV1gmc_A9"
      },
      "source": [
        "$$\\sum_{r_{u i} \\in R_{\\text {train }}}\\left(r_{u i}-\\hat{r}_{u i}\\right)^{2}+\\lambda\\left(b_{i}^{2}+b_{u}^{2}+\\left\\|q_{i}\\right\\|^{2}+\\left\\|p_{u}\\right\\|^{2}\\right)$$"
      ]
    },
    {
      "cell_type": "markdown",
      "id": "cNM8qlB1dEQl",
      "metadata": {
        "id": "cNM8qlB1dEQl"
      },
      "source": [
        "The minimization is performed by a very straightforward **stochastic gradient descent**:"
      ]
    },
    {
      "cell_type": "markdown",
      "id": "lS0b4MhedG3P",
      "metadata": {
        "id": "lS0b4MhedG3P"
      },
      "source": [
        "$$\\begin{aligned} b_{u} & \\leftarrow b_{u}+\\gamma\\left(e_{u i}-\\lambda b_{u}\\right) \\\\ b_{i} & \\leftarrow b_{i}+\\gamma\\left(e_{u i}-\\lambda b_{i}\\right) \\\\ p_{u} & \\leftarrow p_{u}+\\gamma\\left(e_{u i} \\cdot q_{i}-\\lambda p_{u}\\right) \\\\ q_{i} & \\leftarrow q_{i}+\\gamma\\left(e_{u i} \\cdot p_{u}-\\lambda q_{i}\\right) \\end{aligned}$$"
      ]
    },
    {
      "cell_type": "markdown",
      "id": "eg2iehvSdLDP",
      "metadata": {
        "id": "eg2iehvSdLDP"
      },
      "source": [
        "Let's try to fine-tune these hyperparameters:\n",
        "\n",
        "- **n_factors**: The number of factors used for SVD\n",
        "- **biased (bool)**: Whether to use baselines (or biases).\n",
        "- **n_epochs**: The number of iteration of the SGD algorithm\n",
        "- **lr_all**: The learning rate for all parameters\n",
        "- **reg_all**: The regularization term for all parameters"
      ]
    },
    {
      "cell_type": "code",
      "execution_count": 62,
      "id": "qWyGhAtWcXe_",
      "metadata": {
        "id": "qWyGhAtWcXe_",
        "colab": {
          "base_uri": "https://localhost:8080/"
        },
        "outputId": "771acef1-00fc-430f-cb35-11cbc102ff7a"
      },
      "outputs": [
        {
          "output_type": "stream",
          "name": "stdout",
          "text": [
            "1.505641086120077\n",
            "{'n_factors': 80, 'biased': True, 'n_epochs': 30, 'lr_all': 0.005, 'reg_all': 0.2}\n"
          ]
        }
      ],
      "source": [
        "# Set the parameter space to tune\n",
        "param_grid = {'n_factors' : [80,90,100,120,140,160,180,200],\n",
        "              'biased' : [True,False],\n",
        "              'n_epochs': [10,20,30],\n",
        "              'lr_all': [0.001, 0.005, 0.01],\n",
        "              'reg_all': [0.2, 0.4, 0.6]}\n",
        "\n",
        "# Performing 3-fold gridsearch cross validation\n",
        "gs_ = GridSearchCV(SVD,\n",
        "                   param_grid,measures=['rmse'],\n",
        "                   return_train_measures=True,\n",
        "                   cv=3,\n",
        "                   n_jobs=-1)\n",
        "\n",
        "# Fitting data\n",
        "gs_.fit(data)\n",
        "\n",
        "# Best RMSE score\n",
        "print(gs_.best_score['rmse'])\n",
        "\n",
        "# Combination of parameters that gave the best RMSE score\n",
        "print(gs_.best_params['rmse'])"
      ]
    },
    {
      "cell_type": "markdown",
      "id": "qEASIxD7dZT_",
      "metadata": {
        "id": "qEASIxD7dZT_"
      },
      "source": [
        "Now, let's **build the final model** by using **optimal values** of the hyperparameters which we received by using grid search cross-validation."
      ]
    },
    {
      "cell_type": "code",
      "execution_count": 63,
      "id": "W_dL_jrhdS9a",
      "metadata": {
        "id": "W_dL_jrhdS9a",
        "colab": {
          "base_uri": "https://localhost:8080/"
        },
        "outputId": "7be1aa1a-3214-49cc-d1f0-dc24d4ba2243"
      },
      "outputs": [
        {
          "output_type": "stream",
          "name": "stdout",
          "text": [
            "RMSE: 1.5000\n",
            "Precision:  0.828\n",
            "Recall:  0.855\n",
            "F_1 score:  0.841\n"
          ]
        }
      ],
      "source": [
        "# Building the optimized SVD modelh\n",
        "svd_optimized = SVD(n_factors=80,\n",
        "                    biased=True,\n",
        "                    n_epochs=30,\n",
        "                    lr_all=0.005,\n",
        "                    reg_all=0.2)\n",
        "\n",
        "# Training the algorithm on the train set\n",
        "svd_optimized=svd_optimized.fit(trainset)\n",
        "\n",
        "# Let us compute precision@k and recall@k with k=10\n",
        "precision_recall_at_k(svd_optimized)"
      ]
    },
    {
      "cell_type": "markdown",
      "id": "Smd7zhi-fsBt",
      "metadata": {
        "id": "Smd7zhi-fsBt"
      },
      "source": [
        "**Observations:**\n",
        "- We managed to slightly improve the model performance. "
      ]
    },
    {
      "cell_type": "markdown",
      "id": "jNRxiE4Fg1SH",
      "metadata": {
        "id": "jNRxiE4Fg1SH"
      },
      "source": [
        "**Now, let's recommend the books using the optimized svd model**"
      ]
    },
    {
      "cell_type": "code",
      "execution_count": 64,
      "id": "dbLn0VJ4gRpL",
      "metadata": {
        "id": "dbLn0VJ4gRpL"
      },
      "outputs": [],
      "source": [
        "# Getting top 5 recommendations for user_id 1 using \"svd_optimized\" algorithm.\n",
        "svd_recommendations = get_recommendations(df_rating, 1, 5, svd_optimized)"
      ]
    },
    {
      "cell_type": "code",
      "execution_count": 65,
      "id": "exAPgE4-hIA_",
      "metadata": {
        "id": "exAPgE4-hIA_",
        "colab": {
          "base_uri": "https://localhost:8080/",
          "height": 206
        },
        "outputId": "d2cf597c-6290-4e3f-db9f-0cc248f59a65"
      },
      "outputs": [
        {
          "output_type": "execute_result",
          "data": {
            "text/plain": [
              "   book_id  rating_count  predicted_ratings  corrected_ratings\n",
              "0      102            16                 10           9.750000\n",
              "1       73            14                 10           9.732739\n",
              "2       17            12                 10           9.711325\n",
              "3       34            12                 10           9.711325\n",
              "4       84            10                 10           9.683772"
            ],
            "text/html": [
              "\n",
              "  <div id=\"df-77992832-02cb-48f6-be5c-883e9f3f51cf\">\n",
              "    <div class=\"colab-df-container\">\n",
              "      <div>\n",
              "<style scoped>\n",
              "    .dataframe tbody tr th:only-of-type {\n",
              "        vertical-align: middle;\n",
              "    }\n",
              "\n",
              "    .dataframe tbody tr th {\n",
              "        vertical-align: top;\n",
              "    }\n",
              "\n",
              "    .dataframe thead th {\n",
              "        text-align: right;\n",
              "    }\n",
              "</style>\n",
              "<table border=\"1\" class=\"dataframe\">\n",
              "  <thead>\n",
              "    <tr style=\"text-align: right;\">\n",
              "      <th></th>\n",
              "      <th>book_id</th>\n",
              "      <th>rating_count</th>\n",
              "      <th>predicted_ratings</th>\n",
              "      <th>corrected_ratings</th>\n",
              "    </tr>\n",
              "  </thead>\n",
              "  <tbody>\n",
              "    <tr>\n",
              "      <th>0</th>\n",
              "      <td>102</td>\n",
              "      <td>16</td>\n",
              "      <td>10</td>\n",
              "      <td>9.750000</td>\n",
              "    </tr>\n",
              "    <tr>\n",
              "      <th>1</th>\n",
              "      <td>73</td>\n",
              "      <td>14</td>\n",
              "      <td>10</td>\n",
              "      <td>9.732739</td>\n",
              "    </tr>\n",
              "    <tr>\n",
              "      <th>2</th>\n",
              "      <td>17</td>\n",
              "      <td>12</td>\n",
              "      <td>10</td>\n",
              "      <td>9.711325</td>\n",
              "    </tr>\n",
              "    <tr>\n",
              "      <th>3</th>\n",
              "      <td>34</td>\n",
              "      <td>12</td>\n",
              "      <td>10</td>\n",
              "      <td>9.711325</td>\n",
              "    </tr>\n",
              "    <tr>\n",
              "      <th>4</th>\n",
              "      <td>84</td>\n",
              "      <td>10</td>\n",
              "      <td>10</td>\n",
              "      <td>9.683772</td>\n",
              "    </tr>\n",
              "  </tbody>\n",
              "</table>\n",
              "</div>\n",
              "      <button class=\"colab-df-convert\" onclick=\"convertToInteractive('df-77992832-02cb-48f6-be5c-883e9f3f51cf')\"\n",
              "              title=\"Convert this dataframe to an interactive table.\"\n",
              "              style=\"display:none;\">\n",
              "        \n",
              "  <svg xmlns=\"http://www.w3.org/2000/svg\" height=\"24px\"viewBox=\"0 0 24 24\"\n",
              "       width=\"24px\">\n",
              "    <path d=\"M0 0h24v24H0V0z\" fill=\"none\"/>\n",
              "    <path d=\"M18.56 5.44l.94 2.06.94-2.06 2.06-.94-2.06-.94-.94-2.06-.94 2.06-2.06.94zm-11 1L8.5 8.5l.94-2.06 2.06-.94-2.06-.94L8.5 2.5l-.94 2.06-2.06.94zm10 10l.94 2.06.94-2.06 2.06-.94-2.06-.94-.94-2.06-.94 2.06-2.06.94z\"/><path d=\"M17.41 7.96l-1.37-1.37c-.4-.4-.92-.59-1.43-.59-.52 0-1.04.2-1.43.59L10.3 9.45l-7.72 7.72c-.78.78-.78 2.05 0 2.83L4 21.41c.39.39.9.59 1.41.59.51 0 1.02-.2 1.41-.59l7.78-7.78 2.81-2.81c.8-.78.8-2.07 0-2.86zM5.41 20L4 18.59l7.72-7.72 1.47 1.35L5.41 20z\"/>\n",
              "  </svg>\n",
              "      </button>\n",
              "      \n",
              "  <style>\n",
              "    .colab-df-container {\n",
              "      display:flex;\n",
              "      flex-wrap:wrap;\n",
              "      gap: 12px;\n",
              "    }\n",
              "\n",
              "    .colab-df-convert {\n",
              "      background-color: #E8F0FE;\n",
              "      border: none;\n",
              "      border-radius: 50%;\n",
              "      cursor: pointer;\n",
              "      display: none;\n",
              "      fill: #1967D2;\n",
              "      height: 32px;\n",
              "      padding: 0 0 0 0;\n",
              "      width: 32px;\n",
              "    }\n",
              "\n",
              "    .colab-df-convert:hover {\n",
              "      background-color: #E2EBFA;\n",
              "      box-shadow: 0px 1px 2px rgba(60, 64, 67, 0.3), 0px 1px 3px 1px rgba(60, 64, 67, 0.15);\n",
              "      fill: #174EA6;\n",
              "    }\n",
              "\n",
              "    [theme=dark] .colab-df-convert {\n",
              "      background-color: #3B4455;\n",
              "      fill: #D2E3FC;\n",
              "    }\n",
              "\n",
              "    [theme=dark] .colab-df-convert:hover {\n",
              "      background-color: #434B5C;\n",
              "      box-shadow: 0px 1px 3px 1px rgba(0, 0, 0, 0.15);\n",
              "      filter: drop-shadow(0px 1px 2px rgba(0, 0, 0, 0.3));\n",
              "      fill: #FFFFFF;\n",
              "    }\n",
              "  </style>\n",
              "\n",
              "      <script>\n",
              "        const buttonEl =\n",
              "          document.querySelector('#df-77992832-02cb-48f6-be5c-883e9f3f51cf button.colab-df-convert');\n",
              "        buttonEl.style.display =\n",
              "          google.colab.kernel.accessAllowed ? 'block' : 'none';\n",
              "\n",
              "        async function convertToInteractive(key) {\n",
              "          const element = document.querySelector('#df-77992832-02cb-48f6-be5c-883e9f3f51cf');\n",
              "          const dataTable =\n",
              "            await google.colab.kernel.invokeFunction('convertToInteractive',\n",
              "                                                     [key], {});\n",
              "          if (!dataTable) return;\n",
              "\n",
              "          const docLinkHtml = 'Like what you see? Visit the ' +\n",
              "            '<a target=\"_blank\" href=https://colab.research.google.com/notebooks/data_table.ipynb>data table notebook</a>'\n",
              "            + ' to learn more about interactive tables.';\n",
              "          element.innerHTML = '';\n",
              "          dataTable['output_type'] = 'display_data';\n",
              "          await google.colab.output.renderOutput(dataTable, element);\n",
              "          const docLink = document.createElement('div');\n",
              "          docLink.innerHTML = docLinkHtml;\n",
              "          element.appendChild(docLink);\n",
              "        }\n",
              "      </script>\n",
              "    </div>\n",
              "  </div>\n",
              "  "
            ]
          },
          "metadata": {},
          "execution_count": 65
        }
      ],
      "source": [
        "# Ranking book based on above recommendations.\n",
        "ranking_books(svd_recommendations, final_rating)"
      ]
    },
    {
      "cell_type": "markdown",
      "id": "1RDDp5cbhR3I",
      "metadata": {
        "id": "1RDDp5cbhR3I"
      },
      "source": [
        "## **Conclusions:**\n",
        "\n",
        "- The best performance was achieved with optimised KNNBasic model based on user-user similarities, F1 Score = 86.2%\n",
        "- Matrix Factorization has lower RMSE (1.50 vs 1.6866) because this method assumes that both books and users are present in some low dimensional latent space describing their properties and recommends a book based on its proximity to the user in the latent space.\n",
        "- We recommend to use optimised KNNBasic model at this stage as it gives the best results. "
      ]
    },
    {
      "cell_type": "markdown",
      "source": [
        "## **Future Development:**\n",
        "\n",
        "For future development we propose to consider hybrid recommendation system as it has potential to push the performance even further. "
      ],
      "metadata": {
        "id": "dMQ5tOY7UZQs"
      },
      "id": "dMQ5tOY7UZQs"
    }
  ],
  "metadata": {
    "colab": {
      "provenance": [],
      "machine_shape": "hm"
    },
    "gpuClass": "standard",
    "kernelspec": {
      "display_name": "Python 3 (ipykernel)",
      "language": "python",
      "name": "python3"
    },
    "language_info": {
      "codemirror_mode": {
        "name": "ipython",
        "version": 3
      },
      "file_extension": ".py",
      "mimetype": "text/x-python",
      "name": "python",
      "nbconvert_exporter": "python",
      "pygments_lexer": "ipython3",
      "version": "3.9.7"
    }
  },
  "nbformat": 4,
  "nbformat_minor": 5
}